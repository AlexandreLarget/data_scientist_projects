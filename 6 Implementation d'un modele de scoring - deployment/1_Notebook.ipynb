{
 "cells": [
  {
   "cell_type": "code",
   "execution_count": 1,
   "id": "1a381bd5",
   "metadata": {},
   "outputs": [],
   "source": [
    "import numpy as np\n",
    "import pandas as pd\n",
    "from sklearn.metrics import roc_auc_score, roc_curve\n",
    "from sklearn.model_selection import KFold, StratifiedKFold\n",
    "import matplotlib.pyplot as plt\n",
    "import seaborn as sns"
   ]
  },
  {
   "cell_type": "markdown",
   "id": "3bae1acf",
   "metadata": {},
   "source": [
    "# Sommaire <a class='anchor' id='S'></a>\n",
    "\n",
    "## [I, Preprocessing des datas](#I)\n",
    "\n",
    "### [A, DF train et test](#IA)\n",
    "### [B, Bureau and balances](#IB)\n",
    "### [C, Previous application](#IC)\n",
    "### [D, POS_cash_balance](#ID)\n",
    "### [E, installments payment](#IE)\n",
    "### [F, credit_card_balance](#IF)\n",
    "### [G, Jonction des datas](#IG)\n",
    "\n",
    "## [II, Recherche d'un modèle de prédiction](#II)\n",
    "\n",
    "### [A, Mise en place d'un jeu d'entrainement et de test équilibré avec SMOTE](#IIA)\n",
    "### [B, Recherche d'un algorithme pertinent](#IIB)\n",
    "#### [Regression logistic](#IIB1)\n",
    "#### [Random forest](#IIB2)\n",
    "#### [LIght BMC](#IIB3)\n",
    "\n",
    "### [C, Amélioration de l'algorithme](#IIC)\n",
    "#### [Recherche d'hyperparamètres avec HalvingSearchCV](#IIC1)\n",
    "#### [Recherche du threshold pertinent](#IIC2)\n",
    "\n",
    "### [D, Analyse de l'importance des features locales](#IID) \n",
    "#### [Avec LIME](#IID1)\n",
    "#### [Avec SHAP](#IID2)\n",
    "\n",
    "## [III, Export du modèle de prediction](#III)\n",
    "\n",
    "##### [fin de page](#fdp)\n"
   ]
  },
  {
   "cell_type": "code",
   "execution_count": null,
   "id": "9367ee12",
   "metadata": {},
   "outputs": [],
   "source": []
  },
  {
   "cell_type": "markdown",
   "id": "b0e69ddd",
   "metadata": {},
   "source": [
    "#### [checkpoint](#C)"
   ]
  },
  {
   "cell_type": "markdown",
   "id": "413a206e",
   "metadata": {},
   "source": [
    "# I, Preprocessing des datas <a class='anchor' id='I'></a>"
   ]
  },
  {
   "cell_type": "code",
   "execution_count": 2,
   "id": "5f707bb0",
   "metadata": {},
   "outputs": [],
   "source": [
    "# One-hot encoding for categorical columns with get_dummies\n",
    "def one_hot_encoder(df, nan_as_category = True):\n",
    "    original_columns = list(df.columns)    \n",
    "    categorical_columns = [col for col in df.columns if df[col].dtype == 'object']\n",
    "    df = pd.get_dummies(df, columns= categorical_columns, dummy_na= nan_as_category)\n",
    "    new_columns = [c for c in df.columns if c not in original_columns]\n",
    "    return df, new_columns"
   ]
  },
  {
   "cell_type": "code",
   "execution_count": 3,
   "id": "422ac3cb",
   "metadata": {},
   "outputs": [],
   "source": [
    "def binary_encoder(df, nan_as_category = True):\n",
    "    for c in df.columns:\n",
    "        if len(df[c].unique()) == 2:\n",
    "            df[c], uniques = pd.factorize(df[c])"
   ]
  },
  {
   "cell_type": "markdown",
   "id": "be724a59",
   "metadata": {},
   "source": [
    "## A, DF train et test <a class='anchor' id='IA'></a>"
   ]
  },
  {
   "cell_type": "code",
   "execution_count": 4,
   "id": "76f5a253",
   "metadata": {},
   "outputs": [],
   "source": [
    "train = pd.read_csv('data/application_train.csv')\n",
    "test = pd.read_csv('data/application_test.csv')"
   ]
  },
  {
   "cell_type": "code",
   "execution_count": 5,
   "id": "b2a62263",
   "metadata": {},
   "outputs": [
    {
     "data": {
      "text/plain": [
       "((307511, 122), (48744, 121))"
      ]
     },
     "execution_count": 5,
     "metadata": {},
     "output_type": "execute_result"
    }
   ],
   "source": [
    "train.shape, test.shape"
   ]
  },
  {
   "cell_type": "code",
   "execution_count": 6,
   "id": "24d775d0",
   "metadata": {},
   "outputs": [],
   "source": [
    "df = pd.concat([train, test], axis=0)"
   ]
  },
  {
   "cell_type": "code",
   "execution_count": 7,
   "id": "86908581",
   "metadata": {},
   "outputs": [
    {
     "data": {
      "text/html": [
       "<div>\n",
       "<style scoped>\n",
       "    .dataframe tbody tr th:only-of-type {\n",
       "        vertical-align: middle;\n",
       "    }\n",
       "\n",
       "    .dataframe tbody tr th {\n",
       "        vertical-align: top;\n",
       "    }\n",
       "\n",
       "    .dataframe thead th {\n",
       "        text-align: right;\n",
       "    }\n",
       "</style>\n",
       "<table border=\"1\" class=\"dataframe\">\n",
       "  <thead>\n",
       "    <tr style=\"text-align: right;\">\n",
       "      <th></th>\n",
       "      <th>SK_ID_CURR</th>\n",
       "      <th>TARGET</th>\n",
       "      <th>NAME_CONTRACT_TYPE</th>\n",
       "      <th>CODE_GENDER</th>\n",
       "      <th>FLAG_OWN_CAR</th>\n",
       "      <th>FLAG_OWN_REALTY</th>\n",
       "      <th>CNT_CHILDREN</th>\n",
       "      <th>AMT_INCOME_TOTAL</th>\n",
       "      <th>AMT_CREDIT</th>\n",
       "      <th>AMT_ANNUITY</th>\n",
       "      <th>...</th>\n",
       "      <th>FLAG_DOCUMENT_18</th>\n",
       "      <th>FLAG_DOCUMENT_19</th>\n",
       "      <th>FLAG_DOCUMENT_20</th>\n",
       "      <th>FLAG_DOCUMENT_21</th>\n",
       "      <th>AMT_REQ_CREDIT_BUREAU_HOUR</th>\n",
       "      <th>AMT_REQ_CREDIT_BUREAU_DAY</th>\n",
       "      <th>AMT_REQ_CREDIT_BUREAU_WEEK</th>\n",
       "      <th>AMT_REQ_CREDIT_BUREAU_MON</th>\n",
       "      <th>AMT_REQ_CREDIT_BUREAU_QRT</th>\n",
       "      <th>AMT_REQ_CREDIT_BUREAU_YEAR</th>\n",
       "    </tr>\n",
       "  </thead>\n",
       "  <tbody>\n",
       "    <tr>\n",
       "      <th>20038</th>\n",
       "      <td>245577</td>\n",
       "      <td>NaN</td>\n",
       "      <td>Cash loans</td>\n",
       "      <td>F</td>\n",
       "      <td>Y</td>\n",
       "      <td>N</td>\n",
       "      <td>0</td>\n",
       "      <td>90000.0</td>\n",
       "      <td>729792.0</td>\n",
       "      <td>30919.5</td>\n",
       "      <td>...</td>\n",
       "      <td>0</td>\n",
       "      <td>0</td>\n",
       "      <td>0</td>\n",
       "      <td>0</td>\n",
       "      <td>0.0</td>\n",
       "      <td>0.0</td>\n",
       "      <td>0.0</td>\n",
       "      <td>0.0</td>\n",
       "      <td>0.0</td>\n",
       "      <td>5.0</td>\n",
       "    </tr>\n",
       "    <tr>\n",
       "      <th>284540</th>\n",
       "      <td>429535</td>\n",
       "      <td>0.0</td>\n",
       "      <td>Cash loans</td>\n",
       "      <td>M</td>\n",
       "      <td>N</td>\n",
       "      <td>Y</td>\n",
       "      <td>0</td>\n",
       "      <td>180000.0</td>\n",
       "      <td>254700.0</td>\n",
       "      <td>24808.5</td>\n",
       "      <td>...</td>\n",
       "      <td>0</td>\n",
       "      <td>0</td>\n",
       "      <td>0</td>\n",
       "      <td>0</td>\n",
       "      <td>NaN</td>\n",
       "      <td>NaN</td>\n",
       "      <td>NaN</td>\n",
       "      <td>NaN</td>\n",
       "      <td>NaN</td>\n",
       "      <td>NaN</td>\n",
       "    </tr>\n",
       "    <tr>\n",
       "      <th>85314</th>\n",
       "      <td>198982</td>\n",
       "      <td>1.0</td>\n",
       "      <td>Cash loans</td>\n",
       "      <td>M</td>\n",
       "      <td>N</td>\n",
       "      <td>Y</td>\n",
       "      <td>0</td>\n",
       "      <td>180000.0</td>\n",
       "      <td>450000.0</td>\n",
       "      <td>36081.0</td>\n",
       "      <td>...</td>\n",
       "      <td>0</td>\n",
       "      <td>0</td>\n",
       "      <td>0</td>\n",
       "      <td>0</td>\n",
       "      <td>NaN</td>\n",
       "      <td>NaN</td>\n",
       "      <td>NaN</td>\n",
       "      <td>NaN</td>\n",
       "      <td>NaN</td>\n",
       "      <td>NaN</td>\n",
       "    </tr>\n",
       "  </tbody>\n",
       "</table>\n",
       "<p>3 rows × 122 columns</p>\n",
       "</div>"
      ],
      "text/plain": [
       "        SK_ID_CURR  TARGET NAME_CONTRACT_TYPE CODE_GENDER FLAG_OWN_CAR  \\\n",
       "20038       245577     NaN         Cash loans           F            Y   \n",
       "284540      429535     0.0         Cash loans           M            N   \n",
       "85314       198982     1.0         Cash loans           M            N   \n",
       "\n",
       "       FLAG_OWN_REALTY  CNT_CHILDREN  AMT_INCOME_TOTAL  AMT_CREDIT  \\\n",
       "20038                N             0           90000.0    729792.0   \n",
       "284540               Y             0          180000.0    254700.0   \n",
       "85314                Y             0          180000.0    450000.0   \n",
       "\n",
       "        AMT_ANNUITY  ...  FLAG_DOCUMENT_18 FLAG_DOCUMENT_19 FLAG_DOCUMENT_20  \\\n",
       "20038       30919.5  ...                 0                0                0   \n",
       "284540      24808.5  ...                 0                0                0   \n",
       "85314       36081.0  ...                 0                0                0   \n",
       "\n",
       "       FLAG_DOCUMENT_21 AMT_REQ_CREDIT_BUREAU_HOUR AMT_REQ_CREDIT_BUREAU_DAY  \\\n",
       "20038                 0                        0.0                       0.0   \n",
       "284540                0                        NaN                       NaN   \n",
       "85314                 0                        NaN                       NaN   \n",
       "\n",
       "        AMT_REQ_CREDIT_BUREAU_WEEK  AMT_REQ_CREDIT_BUREAU_MON  \\\n",
       "20038                          0.0                        0.0   \n",
       "284540                         NaN                        NaN   \n",
       "85314                          NaN                        NaN   \n",
       "\n",
       "        AMT_REQ_CREDIT_BUREAU_QRT  AMT_REQ_CREDIT_BUREAU_YEAR  \n",
       "20038                         0.0                         5.0  \n",
       "284540                        NaN                         NaN  \n",
       "85314                         NaN                         NaN  \n",
       "\n",
       "[3 rows x 122 columns]"
      ]
     },
     "execution_count": 7,
     "metadata": {},
     "output_type": "execute_result"
    }
   ],
   "source": [
    "df.sample(3)"
   ]
  },
  {
   "cell_type": "code",
   "execution_count": 8,
   "id": "ddca2db6",
   "metadata": {},
   "outputs": [
    {
     "data": {
      "text/plain": [
       "F      235126\n",
       "M      121125\n",
       "XNA         4\n",
       "Name: CODE_GENDER, dtype: int64"
      ]
     },
     "execution_count": 8,
     "metadata": {},
     "output_type": "execute_result"
    }
   ],
   "source": [
    "df.CODE_GENDER.value_counts()"
   ]
  },
  {
   "cell_type": "code",
   "execution_count": 9,
   "id": "cb2b4de1",
   "metadata": {},
   "outputs": [],
   "source": [
    "df = df[df.CODE_GENDER != 'XNA']"
   ]
  },
  {
   "cell_type": "code",
   "execution_count": 10,
   "id": "385ca12c",
   "metadata": {},
   "outputs": [
    {
     "data": {
      "text/plain": [
       "2"
      ]
     },
     "execution_count": 10,
     "metadata": {},
     "output_type": "execute_result"
    }
   ],
   "source": [
    "len(df.CODE_GENDER.unique())"
   ]
  },
  {
   "cell_type": "code",
   "execution_count": 11,
   "id": "f530d4b1",
   "metadata": {},
   "outputs": [],
   "source": [
    "#Categorical features binary and one hot encoder\n",
    "binary_encoder(df)\n",
    "df, cat_cols = one_hot_encoder(df)"
   ]
  },
  {
   "cell_type": "code",
   "execution_count": 12,
   "id": "c82504a2",
   "metadata": {},
   "outputs": [
    {
     "data": {
      "text/plain": [
       "(356251, 253)"
      ]
     },
     "execution_count": 12,
     "metadata": {},
     "output_type": "execute_result"
    }
   ],
   "source": [
    "df.shape"
   ]
  },
  {
   "cell_type": "code",
   "execution_count": 13,
   "id": "b234e61a",
   "metadata": {},
   "outputs": [
    {
     "data": {
      "text/plain": [
       " 365243    64648\n",
       "-200         175\n",
       "-199         171\n",
       "-212         165\n",
       "-224         163\n",
       "Name: DAYS_EMPLOYED, dtype: int64"
      ]
     },
     "execution_count": 13,
     "metadata": {},
     "output_type": "execute_result"
    }
   ],
   "source": [
    "df['DAYS_EMPLOYED'].value_counts()[:5]"
   ]
  },
  {
   "cell_type": "code",
   "execution_count": 14,
   "id": "26322084",
   "metadata": {},
   "outputs": [],
   "source": [
    "df['DAYS_EMPLOYED'].replace(365243, np.nan, inplace=True)"
   ]
  },
  {
   "cell_type": "code",
   "execution_count": 15,
   "id": "ffd131b7",
   "metadata": {},
   "outputs": [],
   "source": [
    "# new features :\n",
    "df['DAYS_EMPLOYED_PERC'] = df['DAYS_EMPLOYED'] / df['DAYS_BIRTH']\n",
    "df['INCOME_CREDIT_PERC'] = df['AMT_INCOME_TOTAL'] / df['AMT_CREDIT']\n",
    "df['INCOME_PER_PERSON'] = df['AMT_INCOME_TOTAL'] / df['CNT_FAM_MEMBERS']\n",
    "df['ANNUITY_INCOME_PERC'] = df['AMT_ANNUITY'] / df['AMT_INCOME_TOTAL']\n",
    "df['PAYMENT_RATE'] = df['AMT_ANNUITY'] / df['AMT_CREDIT']"
   ]
  },
  {
   "cell_type": "code",
   "execution_count": 16,
   "id": "35d7c8be",
   "metadata": {},
   "outputs": [
    {
     "data": {
      "text/plain": [
       "(356251, 258)"
      ]
     },
     "execution_count": 16,
     "metadata": {},
     "output_type": "execute_result"
    }
   ],
   "source": [
    "df.shape"
   ]
  },
  {
   "cell_type": "code",
   "execution_count": 17,
   "id": "b87bf895",
   "metadata": {
    "scrolled": true
   },
   "outputs": [
    {
     "data": {
      "text/html": [
       "<div>\n",
       "<style scoped>\n",
       "    .dataframe tbody tr th:only-of-type {\n",
       "        vertical-align: middle;\n",
       "    }\n",
       "\n",
       "    .dataframe tbody tr th {\n",
       "        vertical-align: top;\n",
       "    }\n",
       "\n",
       "    .dataframe thead th {\n",
       "        text-align: right;\n",
       "    }\n",
       "</style>\n",
       "<table border=\"1\" class=\"dataframe\">\n",
       "  <thead>\n",
       "    <tr style=\"text-align: right;\">\n",
       "      <th></th>\n",
       "      <th>SK_ID_CURR</th>\n",
       "      <th>TARGET</th>\n",
       "      <th>NAME_CONTRACT_TYPE</th>\n",
       "      <th>CODE_GENDER</th>\n",
       "      <th>FLAG_OWN_CAR</th>\n",
       "      <th>FLAG_OWN_REALTY</th>\n",
       "      <th>CNT_CHILDREN</th>\n",
       "      <th>AMT_INCOME_TOTAL</th>\n",
       "      <th>AMT_CREDIT</th>\n",
       "      <th>AMT_ANNUITY</th>\n",
       "      <th>...</th>\n",
       "      <th>WALLSMATERIAL_MODE_Wooden</th>\n",
       "      <th>WALLSMATERIAL_MODE_nan</th>\n",
       "      <th>EMERGENCYSTATE_MODE_No</th>\n",
       "      <th>EMERGENCYSTATE_MODE_Yes</th>\n",
       "      <th>EMERGENCYSTATE_MODE_nan</th>\n",
       "      <th>DAYS_EMPLOYED_PERC</th>\n",
       "      <th>INCOME_CREDIT_PERC</th>\n",
       "      <th>INCOME_PER_PERSON</th>\n",
       "      <th>ANNUITY_INCOME_PERC</th>\n",
       "      <th>PAYMENT_RATE</th>\n",
       "    </tr>\n",
       "  </thead>\n",
       "  <tbody>\n",
       "    <tr>\n",
       "      <th>163781</th>\n",
       "      <td>289860</td>\n",
       "      <td>0.0</td>\n",
       "      <td>0</td>\n",
       "      <td>0</td>\n",
       "      <td>0</td>\n",
       "      <td>0</td>\n",
       "      <td>0</td>\n",
       "      <td>180000.0</td>\n",
       "      <td>755190.0</td>\n",
       "      <td>38686.5</td>\n",
       "      <td>...</td>\n",
       "      <td>0</td>\n",
       "      <td>0</td>\n",
       "      <td>1</td>\n",
       "      <td>0</td>\n",
       "      <td>0</td>\n",
       "      <td>0.044211</td>\n",
       "      <td>0.238351</td>\n",
       "      <td>90000.0</td>\n",
       "      <td>0.214925</td>\n",
       "      <td>0.051228</td>\n",
       "    </tr>\n",
       "    <tr>\n",
       "      <th>294400</th>\n",
       "      <td>441071</td>\n",
       "      <td>0.0</td>\n",
       "      <td>0</td>\n",
       "      <td>1</td>\n",
       "      <td>1</td>\n",
       "      <td>0</td>\n",
       "      <td>3</td>\n",
       "      <td>112500.0</td>\n",
       "      <td>206059.5</td>\n",
       "      <td>17815.5</td>\n",
       "      <td>...</td>\n",
       "      <td>0</td>\n",
       "      <td>1</td>\n",
       "      <td>0</td>\n",
       "      <td>0</td>\n",
       "      <td>1</td>\n",
       "      <td>0.140709</td>\n",
       "      <td>0.545959</td>\n",
       "      <td>22500.0</td>\n",
       "      <td>0.158360</td>\n",
       "      <td>0.086458</td>\n",
       "    </tr>\n",
       "    <tr>\n",
       "      <th>105146</th>\n",
       "      <td>222008</td>\n",
       "      <td>0.0</td>\n",
       "      <td>0</td>\n",
       "      <td>1</td>\n",
       "      <td>0</td>\n",
       "      <td>1</td>\n",
       "      <td>0</td>\n",
       "      <td>180000.0</td>\n",
       "      <td>640080.0</td>\n",
       "      <td>23121.0</td>\n",
       "      <td>...</td>\n",
       "      <td>0</td>\n",
       "      <td>0</td>\n",
       "      <td>1</td>\n",
       "      <td>0</td>\n",
       "      <td>0</td>\n",
       "      <td>0.307441</td>\n",
       "      <td>0.281215</td>\n",
       "      <td>180000.0</td>\n",
       "      <td>0.128450</td>\n",
       "      <td>0.036122</td>\n",
       "    </tr>\n",
       "  </tbody>\n",
       "</table>\n",
       "<p>3 rows × 258 columns</p>\n",
       "</div>"
      ],
      "text/plain": [
       "        SK_ID_CURR  TARGET  NAME_CONTRACT_TYPE  CODE_GENDER  FLAG_OWN_CAR  \\\n",
       "163781      289860     0.0                   0            0             0   \n",
       "294400      441071     0.0                   0            1             1   \n",
       "105146      222008     0.0                   0            1             0   \n",
       "\n",
       "        FLAG_OWN_REALTY  CNT_CHILDREN  AMT_INCOME_TOTAL  AMT_CREDIT  \\\n",
       "163781                0             0          180000.0    755190.0   \n",
       "294400                0             3          112500.0    206059.5   \n",
       "105146                1             0          180000.0    640080.0   \n",
       "\n",
       "        AMT_ANNUITY  ...  WALLSMATERIAL_MODE_Wooden  WALLSMATERIAL_MODE_nan  \\\n",
       "163781      38686.5  ...                          0                       0   \n",
       "294400      17815.5  ...                          0                       1   \n",
       "105146      23121.0  ...                          0                       0   \n",
       "\n",
       "        EMERGENCYSTATE_MODE_No  EMERGENCYSTATE_MODE_Yes  \\\n",
       "163781                       1                        0   \n",
       "294400                       0                        0   \n",
       "105146                       1                        0   \n",
       "\n",
       "        EMERGENCYSTATE_MODE_nan  DAYS_EMPLOYED_PERC  INCOME_CREDIT_PERC  \\\n",
       "163781                        0            0.044211            0.238351   \n",
       "294400                        1            0.140709            0.545959   \n",
       "105146                        0            0.307441            0.281215   \n",
       "\n",
       "        INCOME_PER_PERSON  ANNUITY_INCOME_PERC  PAYMENT_RATE  \n",
       "163781            90000.0             0.214925      0.051228  \n",
       "294400            22500.0             0.158360      0.086458  \n",
       "105146           180000.0             0.128450      0.036122  \n",
       "\n",
       "[3 rows x 258 columns]"
      ]
     },
     "execution_count": 17,
     "metadata": {},
     "output_type": "execute_result"
    }
   ],
   "source": [
    "df.sample(3)"
   ]
  },
  {
   "cell_type": "markdown",
   "id": "be58248f",
   "metadata": {},
   "source": [
    "##### [sommaire](#S)"
   ]
  },
  {
   "cell_type": "markdown",
   "id": "c9d4b26e",
   "metadata": {},
   "source": [
    "## B, Bureau and balances <a class='anchor' id='IB'></a>"
   ]
  },
  {
   "cell_type": "code",
   "execution_count": 18,
   "id": "a2072b73",
   "metadata": {},
   "outputs": [],
   "source": [
    "bureau = pd.read_csv('data/bureau.csv')\n",
    "bb = pd.read_csv('data/bureau_balance.csv')"
   ]
  },
  {
   "cell_type": "code",
   "execution_count": 19,
   "id": "a03fd239",
   "metadata": {
    "scrolled": true
   },
   "outputs": [
    {
     "data": {
      "text/plain": [
       "((1716428, 17), (27299925, 3))"
      ]
     },
     "execution_count": 19,
     "metadata": {},
     "output_type": "execute_result"
    }
   ],
   "source": [
    "bureau.shape, bb.shape"
   ]
  },
  {
   "cell_type": "code",
   "execution_count": 20,
   "id": "2059bf9d",
   "metadata": {},
   "outputs": [
    {
     "data": {
      "text/html": [
       "<div>\n",
       "<style scoped>\n",
       "    .dataframe tbody tr th:only-of-type {\n",
       "        vertical-align: middle;\n",
       "    }\n",
       "\n",
       "    .dataframe tbody tr th {\n",
       "        vertical-align: top;\n",
       "    }\n",
       "\n",
       "    .dataframe thead th {\n",
       "        text-align: right;\n",
       "    }\n",
       "</style>\n",
       "<table border=\"1\" class=\"dataframe\">\n",
       "  <thead>\n",
       "    <tr style=\"text-align: right;\">\n",
       "      <th></th>\n",
       "      <th>SK_ID_CURR</th>\n",
       "      <th>SK_ID_BUREAU</th>\n",
       "      <th>CREDIT_ACTIVE</th>\n",
       "      <th>CREDIT_CURRENCY</th>\n",
       "      <th>DAYS_CREDIT</th>\n",
       "      <th>CREDIT_DAY_OVERDUE</th>\n",
       "      <th>DAYS_CREDIT_ENDDATE</th>\n",
       "      <th>DAYS_ENDDATE_FACT</th>\n",
       "      <th>AMT_CREDIT_MAX_OVERDUE</th>\n",
       "      <th>CNT_CREDIT_PROLONG</th>\n",
       "      <th>AMT_CREDIT_SUM</th>\n",
       "      <th>AMT_CREDIT_SUM_DEBT</th>\n",
       "      <th>AMT_CREDIT_SUM_LIMIT</th>\n",
       "      <th>AMT_CREDIT_SUM_OVERDUE</th>\n",
       "      <th>CREDIT_TYPE</th>\n",
       "      <th>DAYS_CREDIT_UPDATE</th>\n",
       "      <th>AMT_ANNUITY</th>\n",
       "    </tr>\n",
       "  </thead>\n",
       "  <tbody>\n",
       "    <tr>\n",
       "      <th>926562</th>\n",
       "      <td>426194</td>\n",
       "      <td>5119741</td>\n",
       "      <td>Active</td>\n",
       "      <td>currency 1</td>\n",
       "      <td>-335</td>\n",
       "      <td>0</td>\n",
       "      <td>761.0</td>\n",
       "      <td>NaN</td>\n",
       "      <td>0.0</td>\n",
       "      <td>0</td>\n",
       "      <td>363793.5</td>\n",
       "      <td>294439.5</td>\n",
       "      <td>0.0</td>\n",
       "      <td>0.0</td>\n",
       "      <td>Consumer credit</td>\n",
       "      <td>-32</td>\n",
       "      <td>NaN</td>\n",
       "    </tr>\n",
       "    <tr>\n",
       "      <th>475769</th>\n",
       "      <td>256311</td>\n",
       "      <td>5108355</td>\n",
       "      <td>Closed</td>\n",
       "      <td>currency 1</td>\n",
       "      <td>-1006</td>\n",
       "      <td>0</td>\n",
       "      <td>-889.0</td>\n",
       "      <td>-889.0</td>\n",
       "      <td>NaN</td>\n",
       "      <td>0</td>\n",
       "      <td>1125000.0</td>\n",
       "      <td>0.0</td>\n",
       "      <td>0.0</td>\n",
       "      <td>0.0</td>\n",
       "      <td>Consumer credit</td>\n",
       "      <td>-602</td>\n",
       "      <td>NaN</td>\n",
       "    </tr>\n",
       "    <tr>\n",
       "      <th>565118</th>\n",
       "      <td>398546</td>\n",
       "      <td>5672183</td>\n",
       "      <td>Closed</td>\n",
       "      <td>currency 1</td>\n",
       "      <td>-500</td>\n",
       "      <td>0</td>\n",
       "      <td>-316.0</td>\n",
       "      <td>-347.0</td>\n",
       "      <td>0.0</td>\n",
       "      <td>0</td>\n",
       "      <td>25285.5</td>\n",
       "      <td>0.0</td>\n",
       "      <td>0.0</td>\n",
       "      <td>0.0</td>\n",
       "      <td>Consumer credit</td>\n",
       "      <td>-347</td>\n",
       "      <td>NaN</td>\n",
       "    </tr>\n",
       "  </tbody>\n",
       "</table>\n",
       "</div>"
      ],
      "text/plain": [
       "        SK_ID_CURR  SK_ID_BUREAU CREDIT_ACTIVE CREDIT_CURRENCY  DAYS_CREDIT  \\\n",
       "926562      426194       5119741        Active      currency 1         -335   \n",
       "475769      256311       5108355        Closed      currency 1        -1006   \n",
       "565118      398546       5672183        Closed      currency 1         -500   \n",
       "\n",
       "        CREDIT_DAY_OVERDUE  DAYS_CREDIT_ENDDATE  DAYS_ENDDATE_FACT  \\\n",
       "926562                   0                761.0                NaN   \n",
       "475769                   0               -889.0             -889.0   \n",
       "565118                   0               -316.0             -347.0   \n",
       "\n",
       "        AMT_CREDIT_MAX_OVERDUE  CNT_CREDIT_PROLONG  AMT_CREDIT_SUM  \\\n",
       "926562                     0.0                   0        363793.5   \n",
       "475769                     NaN                   0       1125000.0   \n",
       "565118                     0.0                   0         25285.5   \n",
       "\n",
       "        AMT_CREDIT_SUM_DEBT  AMT_CREDIT_SUM_LIMIT  AMT_CREDIT_SUM_OVERDUE  \\\n",
       "926562             294439.5                   0.0                     0.0   \n",
       "475769                  0.0                   0.0                     0.0   \n",
       "565118                  0.0                   0.0                     0.0   \n",
       "\n",
       "            CREDIT_TYPE  DAYS_CREDIT_UPDATE  AMT_ANNUITY  \n",
       "926562  Consumer credit                 -32          NaN  \n",
       "475769  Consumer credit                -602          NaN  \n",
       "565118  Consumer credit                -347          NaN  "
      ]
     },
     "execution_count": 20,
     "metadata": {},
     "output_type": "execute_result"
    }
   ],
   "source": [
    "bureau.sample(3)"
   ]
  },
  {
   "cell_type": "code",
   "execution_count": 21,
   "id": "470f27ad",
   "metadata": {},
   "outputs": [],
   "source": [
    "bb, bb_cat = one_hot_encoder(bb, nan_as_category=True)\n",
    "bureau, bureau_cat = one_hot_encoder(bureau, nan_as_category=True)"
   ]
  },
  {
   "cell_type": "code",
   "execution_count": 22,
   "id": "1b29d1ce",
   "metadata": {},
   "outputs": [],
   "source": [
    "# Bureau balance: Perform aggregations and merge with bureau.csv\n",
    "bb_aggregations = {'MONTHS_BALANCE': ['min', 'max', 'size']}\n",
    "for col in bb_cat:\n",
    "    bb_aggregations[col] = ['mean']\n",
    "bb_agg = bb.groupby('SK_ID_BUREAU').agg(bb_aggregations)\n",
    "bb_agg.columns = pd.Index([e[0] + \"_\" + e[1].upper() for e in bb_agg.columns.tolist()])\n",
    "bureau = bureau.join(bb_agg, how='left', on='SK_ID_BUREAU')\n",
    "bureau.drop(['SK_ID_BUREAU'], axis=1, inplace= True)\n",
    "del bb, bb_agg"
   ]
  },
  {
   "cell_type": "code",
   "execution_count": 23,
   "id": "e78af8f9",
   "metadata": {},
   "outputs": [
    {
     "data": {
      "text/plain": [
       "(1716428, 51)"
      ]
     },
     "execution_count": 23,
     "metadata": {},
     "output_type": "execute_result"
    }
   ],
   "source": [
    "bureau.shape"
   ]
  },
  {
   "cell_type": "code",
   "execution_count": 24,
   "id": "672e2a52",
   "metadata": {},
   "outputs": [],
   "source": [
    "# Bureau and bureau_balance numeric features\n",
    "num_aggregations = {\n",
    "    'DAYS_CREDIT': ['min', 'max', 'mean', 'var'],\n",
    "    'DAYS_CREDIT_ENDDATE': ['min', 'max', 'mean'],\n",
    "    'DAYS_CREDIT_UPDATE': ['mean'],\n",
    "    'CREDIT_DAY_OVERDUE': ['max', 'mean'],\n",
    "    'AMT_CREDIT_MAX_OVERDUE': ['mean'],\n",
    "    'AMT_CREDIT_SUM': ['max', 'mean', 'sum'],\n",
    "    'AMT_CREDIT_SUM_DEBT': ['max', 'mean', 'sum'],\n",
    "    'AMT_CREDIT_SUM_OVERDUE': ['mean'],\n",
    "    'AMT_CREDIT_SUM_LIMIT': ['mean', 'sum'],\n",
    "    'AMT_ANNUITY': ['max', 'mean'],\n",
    "    'CNT_CREDIT_PROLONG': ['sum'],\n",
    "    'MONTHS_BALANCE_MIN': ['min'],\n",
    "    'MONTHS_BALANCE_MAX': ['max'],\n",
    "    'MONTHS_BALANCE_SIZE': ['mean', 'sum']\n",
    "}"
   ]
  },
  {
   "cell_type": "code",
   "execution_count": 25,
   "id": "56edf8df",
   "metadata": {},
   "outputs": [],
   "source": [
    "# Bureau and bureau_balance categorical features\n",
    "cat_aggregations = {}\n",
    "for cat in bureau_cat: cat_aggregations[cat] = ['mean']\n",
    "for cat in bb_cat: cat_aggregations[cat + \"_MEAN\"] = ['mean']\n",
    "\n",
    "bureau_agg = bureau.groupby('SK_ID_CURR').agg({**num_aggregations, **cat_aggregations})\n",
    "bureau_agg.columns = pd.Index(['BURO_' + e[0] + \"_\" + e[1].upper() for e in bureau_agg.columns.tolist()])"
   ]
  },
  {
   "cell_type": "code",
   "execution_count": 26,
   "id": "0163b782",
   "metadata": {},
   "outputs": [
    {
     "data": {
      "text/plain": [
       "(1716428, 51)"
      ]
     },
     "execution_count": 26,
     "metadata": {},
     "output_type": "execute_result"
    }
   ],
   "source": [
    "bureau.shape"
   ]
  },
  {
   "cell_type": "code",
   "execution_count": 27,
   "id": "86c829e3",
   "metadata": {},
   "outputs": [
    {
     "data": {
      "text/html": [
       "<div>\n",
       "<style scoped>\n",
       "    .dataframe tbody tr th:only-of-type {\n",
       "        vertical-align: middle;\n",
       "    }\n",
       "\n",
       "    .dataframe tbody tr th {\n",
       "        vertical-align: top;\n",
       "    }\n",
       "\n",
       "    .dataframe thead th {\n",
       "        text-align: right;\n",
       "    }\n",
       "</style>\n",
       "<table border=\"1\" class=\"dataframe\">\n",
       "  <thead>\n",
       "    <tr style=\"text-align: right;\">\n",
       "      <th></th>\n",
       "      <th>SK_ID_CURR</th>\n",
       "      <th>DAYS_CREDIT</th>\n",
       "      <th>CREDIT_DAY_OVERDUE</th>\n",
       "      <th>DAYS_CREDIT_ENDDATE</th>\n",
       "      <th>DAYS_ENDDATE_FACT</th>\n",
       "      <th>AMT_CREDIT_MAX_OVERDUE</th>\n",
       "      <th>CNT_CREDIT_PROLONG</th>\n",
       "      <th>AMT_CREDIT_SUM</th>\n",
       "      <th>AMT_CREDIT_SUM_DEBT</th>\n",
       "      <th>AMT_CREDIT_SUM_LIMIT</th>\n",
       "      <th>...</th>\n",
       "      <th>MONTHS_BALANCE_SIZE</th>\n",
       "      <th>STATUS_0_MEAN</th>\n",
       "      <th>STATUS_1_MEAN</th>\n",
       "      <th>STATUS_2_MEAN</th>\n",
       "      <th>STATUS_3_MEAN</th>\n",
       "      <th>STATUS_4_MEAN</th>\n",
       "      <th>STATUS_5_MEAN</th>\n",
       "      <th>STATUS_C_MEAN</th>\n",
       "      <th>STATUS_X_MEAN</th>\n",
       "      <th>STATUS_nan_MEAN</th>\n",
       "    </tr>\n",
       "  </thead>\n",
       "  <tbody>\n",
       "    <tr>\n",
       "      <th>1002728</th>\n",
       "      <td>313212</td>\n",
       "      <td>-447</td>\n",
       "      <td>0</td>\n",
       "      <td>283.0</td>\n",
       "      <td>NaN</td>\n",
       "      <td>NaN</td>\n",
       "      <td>0</td>\n",
       "      <td>585859.5</td>\n",
       "      <td>274234.5</td>\n",
       "      <td>0.0</td>\n",
       "      <td>...</td>\n",
       "      <td>NaN</td>\n",
       "      <td>NaN</td>\n",
       "      <td>NaN</td>\n",
       "      <td>NaN</td>\n",
       "      <td>NaN</td>\n",
       "      <td>NaN</td>\n",
       "      <td>NaN</td>\n",
       "      <td>NaN</td>\n",
       "      <td>NaN</td>\n",
       "      <td>NaN</td>\n",
       "    </tr>\n",
       "    <tr>\n",
       "      <th>961897</th>\n",
       "      <td>392810</td>\n",
       "      <td>-788</td>\n",
       "      <td>0</td>\n",
       "      <td>-423.0</td>\n",
       "      <td>-423.0</td>\n",
       "      <td>NaN</td>\n",
       "      <td>0</td>\n",
       "      <td>72796.5</td>\n",
       "      <td>0.0</td>\n",
       "      <td>0.0</td>\n",
       "      <td>...</td>\n",
       "      <td>NaN</td>\n",
       "      <td>NaN</td>\n",
       "      <td>NaN</td>\n",
       "      <td>NaN</td>\n",
       "      <td>NaN</td>\n",
       "      <td>NaN</td>\n",
       "      <td>NaN</td>\n",
       "      <td>NaN</td>\n",
       "      <td>NaN</td>\n",
       "      <td>NaN</td>\n",
       "    </tr>\n",
       "    <tr>\n",
       "      <th>216855</th>\n",
       "      <td>430227</td>\n",
       "      <td>-782</td>\n",
       "      <td>0</td>\n",
       "      <td>-52.0</td>\n",
       "      <td>-51.0</td>\n",
       "      <td>NaN</td>\n",
       "      <td>0</td>\n",
       "      <td>675000.0</td>\n",
       "      <td>0.0</td>\n",
       "      <td>0.0</td>\n",
       "      <td>...</td>\n",
       "      <td>26.0</td>\n",
       "      <td>0.923077</td>\n",
       "      <td>0.0</td>\n",
       "      <td>0.0</td>\n",
       "      <td>0.0</td>\n",
       "      <td>0.0</td>\n",
       "      <td>0.0</td>\n",
       "      <td>0.076923</td>\n",
       "      <td>0.0</td>\n",
       "      <td>0.0</td>\n",
       "    </tr>\n",
       "  </tbody>\n",
       "</table>\n",
       "<p>3 rows × 51 columns</p>\n",
       "</div>"
      ],
      "text/plain": [
       "         SK_ID_CURR  DAYS_CREDIT  CREDIT_DAY_OVERDUE  DAYS_CREDIT_ENDDATE  \\\n",
       "1002728      313212         -447                   0                283.0   \n",
       "961897       392810         -788                   0               -423.0   \n",
       "216855       430227         -782                   0                -52.0   \n",
       "\n",
       "         DAYS_ENDDATE_FACT  AMT_CREDIT_MAX_OVERDUE  CNT_CREDIT_PROLONG  \\\n",
       "1002728                NaN                     NaN                   0   \n",
       "961897              -423.0                     NaN                   0   \n",
       "216855               -51.0                     NaN                   0   \n",
       "\n",
       "         AMT_CREDIT_SUM  AMT_CREDIT_SUM_DEBT  AMT_CREDIT_SUM_LIMIT  ...  \\\n",
       "1002728        585859.5             274234.5                   0.0  ...   \n",
       "961897          72796.5                  0.0                   0.0  ...   \n",
       "216855         675000.0                  0.0                   0.0  ...   \n",
       "\n",
       "         MONTHS_BALANCE_SIZE  STATUS_0_MEAN  STATUS_1_MEAN  STATUS_2_MEAN  \\\n",
       "1002728                  NaN            NaN            NaN            NaN   \n",
       "961897                   NaN            NaN            NaN            NaN   \n",
       "216855                  26.0       0.923077            0.0            0.0   \n",
       "\n",
       "         STATUS_3_MEAN  STATUS_4_MEAN  STATUS_5_MEAN  STATUS_C_MEAN  \\\n",
       "1002728            NaN            NaN            NaN            NaN   \n",
       "961897             NaN            NaN            NaN            NaN   \n",
       "216855             0.0            0.0            0.0       0.076923   \n",
       "\n",
       "         STATUS_X_MEAN  STATUS_nan_MEAN  \n",
       "1002728            NaN              NaN  \n",
       "961897             NaN              NaN  \n",
       "216855             0.0              0.0  \n",
       "\n",
       "[3 rows x 51 columns]"
      ]
     },
     "execution_count": 27,
     "metadata": {},
     "output_type": "execute_result"
    }
   ],
   "source": [
    "bureau.sample(3)"
   ]
  },
  {
   "cell_type": "code",
   "execution_count": 28,
   "id": "8568a70f",
   "metadata": {},
   "outputs": [],
   "source": [
    "# Bureau: Active credits - using only numerical aggregations\n",
    "active = bureau[bureau['CREDIT_ACTIVE_Active'] == 1]\n",
    "active_agg = active.groupby('SK_ID_CURR').agg(num_aggregations)\n",
    "active_agg.columns = pd.Index(['ACTIVE_' + e[0] + \"_\" + e[1].upper() for e in active_agg.columns.tolist()])\n",
    "bureau_agg = bureau_agg.join(active_agg, how='left', on='SK_ID_CURR')\n",
    "del active, active_agg"
   ]
  },
  {
   "cell_type": "code",
   "execution_count": 29,
   "id": "ea34b961",
   "metadata": {},
   "outputs": [
    {
     "data": {
      "text/plain": [
       "(305811, 89)"
      ]
     },
     "execution_count": 29,
     "metadata": {},
     "output_type": "execute_result"
    }
   ],
   "source": [
    "bureau_agg.shape"
   ]
  },
  {
   "cell_type": "code",
   "execution_count": 30,
   "id": "22658186",
   "metadata": {},
   "outputs": [
    {
     "data": {
      "text/html": [
       "<div>\n",
       "<style scoped>\n",
       "    .dataframe tbody tr th:only-of-type {\n",
       "        vertical-align: middle;\n",
       "    }\n",
       "\n",
       "    .dataframe tbody tr th {\n",
       "        vertical-align: top;\n",
       "    }\n",
       "\n",
       "    .dataframe thead th {\n",
       "        text-align: right;\n",
       "    }\n",
       "</style>\n",
       "<table border=\"1\" class=\"dataframe\">\n",
       "  <thead>\n",
       "    <tr style=\"text-align: right;\">\n",
       "      <th></th>\n",
       "      <th>BURO_DAYS_CREDIT_MIN</th>\n",
       "      <th>BURO_DAYS_CREDIT_MAX</th>\n",
       "      <th>BURO_DAYS_CREDIT_MEAN</th>\n",
       "      <th>BURO_DAYS_CREDIT_VAR</th>\n",
       "      <th>BURO_DAYS_CREDIT_ENDDATE_MIN</th>\n",
       "      <th>BURO_DAYS_CREDIT_ENDDATE_MAX</th>\n",
       "      <th>BURO_DAYS_CREDIT_ENDDATE_MEAN</th>\n",
       "      <th>BURO_DAYS_CREDIT_UPDATE_MEAN</th>\n",
       "      <th>BURO_CREDIT_DAY_OVERDUE_MAX</th>\n",
       "      <th>BURO_CREDIT_DAY_OVERDUE_MEAN</th>\n",
       "      <th>...</th>\n",
       "      <th>ACTIVE_AMT_CREDIT_SUM_OVERDUE_MEAN</th>\n",
       "      <th>ACTIVE_AMT_CREDIT_SUM_LIMIT_MEAN</th>\n",
       "      <th>ACTIVE_AMT_CREDIT_SUM_LIMIT_SUM</th>\n",
       "      <th>ACTIVE_AMT_ANNUITY_MAX</th>\n",
       "      <th>ACTIVE_AMT_ANNUITY_MEAN</th>\n",
       "      <th>ACTIVE_CNT_CREDIT_PROLONG_SUM</th>\n",
       "      <th>ACTIVE_MONTHS_BALANCE_MIN_MIN</th>\n",
       "      <th>ACTIVE_MONTHS_BALANCE_MAX_MAX</th>\n",
       "      <th>ACTIVE_MONTHS_BALANCE_SIZE_MEAN</th>\n",
       "      <th>ACTIVE_MONTHS_BALANCE_SIZE_SUM</th>\n",
       "    </tr>\n",
       "    <tr>\n",
       "      <th>SK_ID_CURR</th>\n",
       "      <th></th>\n",
       "      <th></th>\n",
       "      <th></th>\n",
       "      <th></th>\n",
       "      <th></th>\n",
       "      <th></th>\n",
       "      <th></th>\n",
       "      <th></th>\n",
       "      <th></th>\n",
       "      <th></th>\n",
       "      <th></th>\n",
       "      <th></th>\n",
       "      <th></th>\n",
       "      <th></th>\n",
       "      <th></th>\n",
       "      <th></th>\n",
       "      <th></th>\n",
       "      <th></th>\n",
       "      <th></th>\n",
       "      <th></th>\n",
       "      <th></th>\n",
       "    </tr>\n",
       "  </thead>\n",
       "  <tbody>\n",
       "    <tr>\n",
       "      <th>373191</th>\n",
       "      <td>-1669</td>\n",
       "      <td>-1078</td>\n",
       "      <td>-1422.000000</td>\n",
       "      <td>94377.000000</td>\n",
       "      <td>-1394.0</td>\n",
       "      <td>307.0</td>\n",
       "      <td>-660.666667</td>\n",
       "      <td>-769.666667</td>\n",
       "      <td>0</td>\n",
       "      <td>0.0</td>\n",
       "      <td>...</td>\n",
       "      <td>0.0</td>\n",
       "      <td>0.0</td>\n",
       "      <td>0.0</td>\n",
       "      <td>NaN</td>\n",
       "      <td>NaN</td>\n",
       "      <td>0.0</td>\n",
       "      <td>NaN</td>\n",
       "      <td>NaN</td>\n",
       "      <td>NaN</td>\n",
       "      <td>0.0</td>\n",
       "    </tr>\n",
       "    <tr>\n",
       "      <th>142470</th>\n",
       "      <td>-1450</td>\n",
       "      <td>-1450</td>\n",
       "      <td>-1450.000000</td>\n",
       "      <td>NaN</td>\n",
       "      <td>-1238.0</td>\n",
       "      <td>-1238.0</td>\n",
       "      <td>-1238.000000</td>\n",
       "      <td>-1267.000000</td>\n",
       "      <td>0</td>\n",
       "      <td>0.0</td>\n",
       "      <td>...</td>\n",
       "      <td>NaN</td>\n",
       "      <td>NaN</td>\n",
       "      <td>NaN</td>\n",
       "      <td>NaN</td>\n",
       "      <td>NaN</td>\n",
       "      <td>NaN</td>\n",
       "      <td>NaN</td>\n",
       "      <td>NaN</td>\n",
       "      <td>NaN</td>\n",
       "      <td>NaN</td>\n",
       "    </tr>\n",
       "    <tr>\n",
       "      <th>225026</th>\n",
       "      <td>-1871</td>\n",
       "      <td>-1162</td>\n",
       "      <td>-1429.666667</td>\n",
       "      <td>148290.333333</td>\n",
       "      <td>-1070.0</td>\n",
       "      <td>-775.0</td>\n",
       "      <td>-932.000000</td>\n",
       "      <td>-794.000000</td>\n",
       "      <td>0</td>\n",
       "      <td>0.0</td>\n",
       "      <td>...</td>\n",
       "      <td>NaN</td>\n",
       "      <td>NaN</td>\n",
       "      <td>NaN</td>\n",
       "      <td>NaN</td>\n",
       "      <td>NaN</td>\n",
       "      <td>NaN</td>\n",
       "      <td>NaN</td>\n",
       "      <td>NaN</td>\n",
       "      <td>NaN</td>\n",
       "      <td>NaN</td>\n",
       "    </tr>\n",
       "  </tbody>\n",
       "</table>\n",
       "<p>3 rows × 89 columns</p>\n",
       "</div>"
      ],
      "text/plain": [
       "            BURO_DAYS_CREDIT_MIN  BURO_DAYS_CREDIT_MAX  BURO_DAYS_CREDIT_MEAN  \\\n",
       "SK_ID_CURR                                                                      \n",
       "373191                     -1669                 -1078           -1422.000000   \n",
       "142470                     -1450                 -1450           -1450.000000   \n",
       "225026                     -1871                 -1162           -1429.666667   \n",
       "\n",
       "            BURO_DAYS_CREDIT_VAR  BURO_DAYS_CREDIT_ENDDATE_MIN  \\\n",
       "SK_ID_CURR                                                       \n",
       "373191              94377.000000                       -1394.0   \n",
       "142470                       NaN                       -1238.0   \n",
       "225026             148290.333333                       -1070.0   \n",
       "\n",
       "            BURO_DAYS_CREDIT_ENDDATE_MAX  BURO_DAYS_CREDIT_ENDDATE_MEAN  \\\n",
       "SK_ID_CURR                                                                \n",
       "373191                             307.0                    -660.666667   \n",
       "142470                           -1238.0                   -1238.000000   \n",
       "225026                            -775.0                    -932.000000   \n",
       "\n",
       "            BURO_DAYS_CREDIT_UPDATE_MEAN  BURO_CREDIT_DAY_OVERDUE_MAX  \\\n",
       "SK_ID_CURR                                                              \n",
       "373191                       -769.666667                            0   \n",
       "142470                      -1267.000000                            0   \n",
       "225026                       -794.000000                            0   \n",
       "\n",
       "            BURO_CREDIT_DAY_OVERDUE_MEAN  ...  \\\n",
       "SK_ID_CURR                                ...   \n",
       "373191                               0.0  ...   \n",
       "142470                               0.0  ...   \n",
       "225026                               0.0  ...   \n",
       "\n",
       "            ACTIVE_AMT_CREDIT_SUM_OVERDUE_MEAN  \\\n",
       "SK_ID_CURR                                       \n",
       "373191                                     0.0   \n",
       "142470                                     NaN   \n",
       "225026                                     NaN   \n",
       "\n",
       "            ACTIVE_AMT_CREDIT_SUM_LIMIT_MEAN  ACTIVE_AMT_CREDIT_SUM_LIMIT_SUM  \\\n",
       "SK_ID_CURR                                                                      \n",
       "373191                                   0.0                              0.0   \n",
       "142470                                   NaN                              NaN   \n",
       "225026                                   NaN                              NaN   \n",
       "\n",
       "            ACTIVE_AMT_ANNUITY_MAX  ACTIVE_AMT_ANNUITY_MEAN  \\\n",
       "SK_ID_CURR                                                    \n",
       "373191                         NaN                      NaN   \n",
       "142470                         NaN                      NaN   \n",
       "225026                         NaN                      NaN   \n",
       "\n",
       "            ACTIVE_CNT_CREDIT_PROLONG_SUM  ACTIVE_MONTHS_BALANCE_MIN_MIN  \\\n",
       "SK_ID_CURR                                                                 \n",
       "373191                                0.0                            NaN   \n",
       "142470                                NaN                            NaN   \n",
       "225026                                NaN                            NaN   \n",
       "\n",
       "            ACTIVE_MONTHS_BALANCE_MAX_MAX  ACTIVE_MONTHS_BALANCE_SIZE_MEAN  \\\n",
       "SK_ID_CURR                                                                   \n",
       "373191                                NaN                              NaN   \n",
       "142470                                NaN                              NaN   \n",
       "225026                                NaN                              NaN   \n",
       "\n",
       "            ACTIVE_MONTHS_BALANCE_SIZE_SUM  \n",
       "SK_ID_CURR                                  \n",
       "373191                                 0.0  \n",
       "142470                                 NaN  \n",
       "225026                                 NaN  \n",
       "\n",
       "[3 rows x 89 columns]"
      ]
     },
     "execution_count": 30,
     "metadata": {},
     "output_type": "execute_result"
    }
   ],
   "source": [
    "bureau_agg.sample(3)"
   ]
  },
  {
   "cell_type": "code",
   "execution_count": 31,
   "id": "90eb288d",
   "metadata": {},
   "outputs": [],
   "source": [
    "# Bureau: Closed credits - using only numerical aggregations\n",
    "closed = bureau[bureau['CREDIT_ACTIVE_Closed'] == 1]\n",
    "closed_agg = closed.groupby('SK_ID_CURR').agg(num_aggregations)\n",
    "closed_agg.columns = pd.Index(['CLOSED_' + e[0] + \"_\" + e[1].upper() for e in closed_agg.columns.tolist()])\n",
    "bureau_agg = bureau_agg.join(closed_agg, how='left', on='SK_ID_CURR')\n",
    "del closed, closed_agg, bureau"
   ]
  },
  {
   "cell_type": "code",
   "execution_count": 32,
   "id": "315c374b",
   "metadata": {},
   "outputs": [
    {
     "data": {
      "text/plain": [
       "(305811, 116)"
      ]
     },
     "execution_count": 32,
     "metadata": {},
     "output_type": "execute_result"
    }
   ],
   "source": [
    "bureau_agg.shape"
   ]
  },
  {
   "cell_type": "code",
   "execution_count": 33,
   "id": "ce052b78",
   "metadata": {
    "scrolled": true
   },
   "outputs": [
    {
     "data": {
      "text/html": [
       "<div>\n",
       "<style scoped>\n",
       "    .dataframe tbody tr th:only-of-type {\n",
       "        vertical-align: middle;\n",
       "    }\n",
       "\n",
       "    .dataframe tbody tr th {\n",
       "        vertical-align: top;\n",
       "    }\n",
       "\n",
       "    .dataframe thead th {\n",
       "        text-align: right;\n",
       "    }\n",
       "</style>\n",
       "<table border=\"1\" class=\"dataframe\">\n",
       "  <thead>\n",
       "    <tr style=\"text-align: right;\">\n",
       "      <th></th>\n",
       "      <th>BURO_DAYS_CREDIT_MIN</th>\n",
       "      <th>BURO_DAYS_CREDIT_MAX</th>\n",
       "      <th>BURO_DAYS_CREDIT_MEAN</th>\n",
       "      <th>BURO_DAYS_CREDIT_VAR</th>\n",
       "      <th>BURO_DAYS_CREDIT_ENDDATE_MIN</th>\n",
       "      <th>BURO_DAYS_CREDIT_ENDDATE_MAX</th>\n",
       "      <th>BURO_DAYS_CREDIT_ENDDATE_MEAN</th>\n",
       "      <th>BURO_DAYS_CREDIT_UPDATE_MEAN</th>\n",
       "      <th>BURO_CREDIT_DAY_OVERDUE_MAX</th>\n",
       "      <th>BURO_CREDIT_DAY_OVERDUE_MEAN</th>\n",
       "      <th>...</th>\n",
       "      <th>CLOSED_AMT_CREDIT_SUM_OVERDUE_MEAN</th>\n",
       "      <th>CLOSED_AMT_CREDIT_SUM_LIMIT_MEAN</th>\n",
       "      <th>CLOSED_AMT_CREDIT_SUM_LIMIT_SUM</th>\n",
       "      <th>CLOSED_AMT_ANNUITY_MAX</th>\n",
       "      <th>CLOSED_AMT_ANNUITY_MEAN</th>\n",
       "      <th>CLOSED_CNT_CREDIT_PROLONG_SUM</th>\n",
       "      <th>CLOSED_MONTHS_BALANCE_MIN_MIN</th>\n",
       "      <th>CLOSED_MONTHS_BALANCE_MAX_MAX</th>\n",
       "      <th>CLOSED_MONTHS_BALANCE_SIZE_MEAN</th>\n",
       "      <th>CLOSED_MONTHS_BALANCE_SIZE_SUM</th>\n",
       "    </tr>\n",
       "    <tr>\n",
       "      <th>SK_ID_CURR</th>\n",
       "      <th></th>\n",
       "      <th></th>\n",
       "      <th></th>\n",
       "      <th></th>\n",
       "      <th></th>\n",
       "      <th></th>\n",
       "      <th></th>\n",
       "      <th></th>\n",
       "      <th></th>\n",
       "      <th></th>\n",
       "      <th></th>\n",
       "      <th></th>\n",
       "      <th></th>\n",
       "      <th></th>\n",
       "      <th></th>\n",
       "      <th></th>\n",
       "      <th></th>\n",
       "      <th></th>\n",
       "      <th></th>\n",
       "      <th></th>\n",
       "      <th></th>\n",
       "    </tr>\n",
       "  </thead>\n",
       "  <tbody>\n",
       "    <tr>\n",
       "      <th>252856</th>\n",
       "      <td>-520</td>\n",
       "      <td>-324</td>\n",
       "      <td>-422.000000</td>\n",
       "      <td>19208.000000</td>\n",
       "      <td>-155.0</td>\n",
       "      <td>1502.0</td>\n",
       "      <td>673.500000</td>\n",
       "      <td>-83.5</td>\n",
       "      <td>0</td>\n",
       "      <td>0.0</td>\n",
       "      <td>...</td>\n",
       "      <td>0.0</td>\n",
       "      <td>0.0</td>\n",
       "      <td>0.0</td>\n",
       "      <td>NaN</td>\n",
       "      <td>NaN</td>\n",
       "      <td>0.0</td>\n",
       "      <td>NaN</td>\n",
       "      <td>NaN</td>\n",
       "      <td>NaN</td>\n",
       "      <td>0.0</td>\n",
       "    </tr>\n",
       "    <tr>\n",
       "      <th>189953</th>\n",
       "      <td>-2406</td>\n",
       "      <td>-343</td>\n",
       "      <td>-1524.666667</td>\n",
       "      <td>540373.066667</td>\n",
       "      <td>-580.0</td>\n",
       "      <td>1483.0</td>\n",
       "      <td>123.166667</td>\n",
       "      <td>-682.5</td>\n",
       "      <td>0</td>\n",
       "      <td>0.0</td>\n",
       "      <td>...</td>\n",
       "      <td>0.0</td>\n",
       "      <td>0.0</td>\n",
       "      <td>0.0</td>\n",
       "      <td>NaN</td>\n",
       "      <td>NaN</td>\n",
       "      <td>0.0</td>\n",
       "      <td>NaN</td>\n",
       "      <td>NaN</td>\n",
       "      <td>NaN</td>\n",
       "      <td>0.0</td>\n",
       "    </tr>\n",
       "    <tr>\n",
       "      <th>183996</th>\n",
       "      <td>-1779</td>\n",
       "      <td>-1779</td>\n",
       "      <td>-1779.000000</td>\n",
       "      <td>NaN</td>\n",
       "      <td>-1424.0</td>\n",
       "      <td>-1424.0</td>\n",
       "      <td>-1424.000000</td>\n",
       "      <td>-1037.0</td>\n",
       "      <td>0</td>\n",
       "      <td>0.0</td>\n",
       "      <td>...</td>\n",
       "      <td>0.0</td>\n",
       "      <td>NaN</td>\n",
       "      <td>0.0</td>\n",
       "      <td>NaN</td>\n",
       "      <td>NaN</td>\n",
       "      <td>0.0</td>\n",
       "      <td>NaN</td>\n",
       "      <td>NaN</td>\n",
       "      <td>NaN</td>\n",
       "      <td>0.0</td>\n",
       "    </tr>\n",
       "  </tbody>\n",
       "</table>\n",
       "<p>3 rows × 116 columns</p>\n",
       "</div>"
      ],
      "text/plain": [
       "            BURO_DAYS_CREDIT_MIN  BURO_DAYS_CREDIT_MAX  BURO_DAYS_CREDIT_MEAN  \\\n",
       "SK_ID_CURR                                                                      \n",
       "252856                      -520                  -324            -422.000000   \n",
       "189953                     -2406                  -343           -1524.666667   \n",
       "183996                     -1779                 -1779           -1779.000000   \n",
       "\n",
       "            BURO_DAYS_CREDIT_VAR  BURO_DAYS_CREDIT_ENDDATE_MIN  \\\n",
       "SK_ID_CURR                                                       \n",
       "252856              19208.000000                        -155.0   \n",
       "189953             540373.066667                        -580.0   \n",
       "183996                       NaN                       -1424.0   \n",
       "\n",
       "            BURO_DAYS_CREDIT_ENDDATE_MAX  BURO_DAYS_CREDIT_ENDDATE_MEAN  \\\n",
       "SK_ID_CURR                                                                \n",
       "252856                            1502.0                     673.500000   \n",
       "189953                            1483.0                     123.166667   \n",
       "183996                           -1424.0                   -1424.000000   \n",
       "\n",
       "            BURO_DAYS_CREDIT_UPDATE_MEAN  BURO_CREDIT_DAY_OVERDUE_MAX  \\\n",
       "SK_ID_CURR                                                              \n",
       "252856                             -83.5                            0   \n",
       "189953                            -682.5                            0   \n",
       "183996                           -1037.0                            0   \n",
       "\n",
       "            BURO_CREDIT_DAY_OVERDUE_MEAN  ...  \\\n",
       "SK_ID_CURR                                ...   \n",
       "252856                               0.0  ...   \n",
       "189953                               0.0  ...   \n",
       "183996                               0.0  ...   \n",
       "\n",
       "            CLOSED_AMT_CREDIT_SUM_OVERDUE_MEAN  \\\n",
       "SK_ID_CURR                                       \n",
       "252856                                     0.0   \n",
       "189953                                     0.0   \n",
       "183996                                     0.0   \n",
       "\n",
       "            CLOSED_AMT_CREDIT_SUM_LIMIT_MEAN  CLOSED_AMT_CREDIT_SUM_LIMIT_SUM  \\\n",
       "SK_ID_CURR                                                                      \n",
       "252856                                   0.0                              0.0   \n",
       "189953                                   0.0                              0.0   \n",
       "183996                                   NaN                              0.0   \n",
       "\n",
       "            CLOSED_AMT_ANNUITY_MAX  CLOSED_AMT_ANNUITY_MEAN  \\\n",
       "SK_ID_CURR                                                    \n",
       "252856                         NaN                      NaN   \n",
       "189953                         NaN                      NaN   \n",
       "183996                         NaN                      NaN   \n",
       "\n",
       "            CLOSED_CNT_CREDIT_PROLONG_SUM  CLOSED_MONTHS_BALANCE_MIN_MIN  \\\n",
       "SK_ID_CURR                                                                 \n",
       "252856                                0.0                            NaN   \n",
       "189953                                0.0                            NaN   \n",
       "183996                                0.0                            NaN   \n",
       "\n",
       "            CLOSED_MONTHS_BALANCE_MAX_MAX  CLOSED_MONTHS_BALANCE_SIZE_MEAN  \\\n",
       "SK_ID_CURR                                                                   \n",
       "252856                                NaN                              NaN   \n",
       "189953                                NaN                              NaN   \n",
       "183996                                NaN                              NaN   \n",
       "\n",
       "            CLOSED_MONTHS_BALANCE_SIZE_SUM  \n",
       "SK_ID_CURR                                  \n",
       "252856                                 0.0  \n",
       "189953                                 0.0  \n",
       "183996                                 0.0  \n",
       "\n",
       "[3 rows x 116 columns]"
      ]
     },
     "execution_count": 33,
     "metadata": {},
     "output_type": "execute_result"
    }
   ],
   "source": [
    "bureau_agg.sample(3)"
   ]
  },
  {
   "cell_type": "markdown",
   "id": "bf26793c",
   "metadata": {},
   "source": [
    "##### [sommaire](#S)"
   ]
  },
  {
   "cell_type": "markdown",
   "id": "83b85750",
   "metadata": {},
   "source": [
    "## C, Previous application <a class='anchor' id='IC'></a>"
   ]
  },
  {
   "cell_type": "code",
   "execution_count": 34,
   "id": "79ead265",
   "metadata": {},
   "outputs": [],
   "source": [
    "prev = pd.read_csv('data/previous_application.csv')"
   ]
  },
  {
   "cell_type": "code",
   "execution_count": 35,
   "id": "ac05719e",
   "metadata": {},
   "outputs": [
    {
     "data": {
      "text/plain": [
       "(1670214, 37)"
      ]
     },
     "execution_count": 35,
     "metadata": {},
     "output_type": "execute_result"
    }
   ],
   "source": [
    "prev.shape"
   ]
  },
  {
   "cell_type": "code",
   "execution_count": 36,
   "id": "83f82267",
   "metadata": {},
   "outputs": [
    {
     "data": {
      "text/html": [
       "<div>\n",
       "<style scoped>\n",
       "    .dataframe tbody tr th:only-of-type {\n",
       "        vertical-align: middle;\n",
       "    }\n",
       "\n",
       "    .dataframe tbody tr th {\n",
       "        vertical-align: top;\n",
       "    }\n",
       "\n",
       "    .dataframe thead th {\n",
       "        text-align: right;\n",
       "    }\n",
       "</style>\n",
       "<table border=\"1\" class=\"dataframe\">\n",
       "  <thead>\n",
       "    <tr style=\"text-align: right;\">\n",
       "      <th></th>\n",
       "      <th>SK_ID_PREV</th>\n",
       "      <th>SK_ID_CURR</th>\n",
       "      <th>NAME_CONTRACT_TYPE</th>\n",
       "      <th>AMT_ANNUITY</th>\n",
       "      <th>AMT_APPLICATION</th>\n",
       "      <th>AMT_CREDIT</th>\n",
       "      <th>AMT_DOWN_PAYMENT</th>\n",
       "      <th>AMT_GOODS_PRICE</th>\n",
       "      <th>WEEKDAY_APPR_PROCESS_START</th>\n",
       "      <th>HOUR_APPR_PROCESS_START</th>\n",
       "      <th>...</th>\n",
       "      <th>NAME_SELLER_INDUSTRY</th>\n",
       "      <th>CNT_PAYMENT</th>\n",
       "      <th>NAME_YIELD_GROUP</th>\n",
       "      <th>PRODUCT_COMBINATION</th>\n",
       "      <th>DAYS_FIRST_DRAWING</th>\n",
       "      <th>DAYS_FIRST_DUE</th>\n",
       "      <th>DAYS_LAST_DUE_1ST_VERSION</th>\n",
       "      <th>DAYS_LAST_DUE</th>\n",
       "      <th>DAYS_TERMINATION</th>\n",
       "      <th>NFLAG_INSURED_ON_APPROVAL</th>\n",
       "    </tr>\n",
       "  </thead>\n",
       "  <tbody>\n",
       "    <tr>\n",
       "      <th>1534365</th>\n",
       "      <td>1312218</td>\n",
       "      <td>426016</td>\n",
       "      <td>Consumer loans</td>\n",
       "      <td>11089.80</td>\n",
       "      <td>58500.0</td>\n",
       "      <td>55255.5</td>\n",
       "      <td>5850.0</td>\n",
       "      <td>58500.0</td>\n",
       "      <td>TUESDAY</td>\n",
       "      <td>6</td>\n",
       "      <td>...</td>\n",
       "      <td>Connectivity</td>\n",
       "      <td>6.0</td>\n",
       "      <td>high</td>\n",
       "      <td>POS mobile with interest</td>\n",
       "      <td>365243.0</td>\n",
       "      <td>-2505.0</td>\n",
       "      <td>-2355.0</td>\n",
       "      <td>-2355.0</td>\n",
       "      <td>-2348.0</td>\n",
       "      <td>1.0</td>\n",
       "    </tr>\n",
       "    <tr>\n",
       "      <th>219924</th>\n",
       "      <td>1671236</td>\n",
       "      <td>257921</td>\n",
       "      <td>Cash loans</td>\n",
       "      <td>NaN</td>\n",
       "      <td>0.0</td>\n",
       "      <td>0.0</td>\n",
       "      <td>NaN</td>\n",
       "      <td>NaN</td>\n",
       "      <td>FRIDAY</td>\n",
       "      <td>15</td>\n",
       "      <td>...</td>\n",
       "      <td>XNA</td>\n",
       "      <td>NaN</td>\n",
       "      <td>XNA</td>\n",
       "      <td>Cash</td>\n",
       "      <td>NaN</td>\n",
       "      <td>NaN</td>\n",
       "      <td>NaN</td>\n",
       "      <td>NaN</td>\n",
       "      <td>NaN</td>\n",
       "      <td>NaN</td>\n",
       "    </tr>\n",
       "    <tr>\n",
       "      <th>1524727</th>\n",
       "      <td>1642042</td>\n",
       "      <td>239232</td>\n",
       "      <td>Consumer loans</td>\n",
       "      <td>9004.59</td>\n",
       "      <td>88933.5</td>\n",
       "      <td>98325.0</td>\n",
       "      <td>0.0</td>\n",
       "      <td>88933.5</td>\n",
       "      <td>SUNDAY</td>\n",
       "      <td>14</td>\n",
       "      <td>...</td>\n",
       "      <td>Jewelry</td>\n",
       "      <td>12.0</td>\n",
       "      <td>low_action</td>\n",
       "      <td>POS others without interest</td>\n",
       "      <td>365243.0</td>\n",
       "      <td>-121.0</td>\n",
       "      <td>209.0</td>\n",
       "      <td>365243.0</td>\n",
       "      <td>365243.0</td>\n",
       "      <td>0.0</td>\n",
       "    </tr>\n",
       "  </tbody>\n",
       "</table>\n",
       "<p>3 rows × 37 columns</p>\n",
       "</div>"
      ],
      "text/plain": [
       "         SK_ID_PREV  SK_ID_CURR NAME_CONTRACT_TYPE  AMT_ANNUITY  \\\n",
       "1534365     1312218      426016     Consumer loans     11089.80   \n",
       "219924      1671236      257921         Cash loans          NaN   \n",
       "1524727     1642042      239232     Consumer loans      9004.59   \n",
       "\n",
       "         AMT_APPLICATION  AMT_CREDIT  AMT_DOWN_PAYMENT  AMT_GOODS_PRICE  \\\n",
       "1534365          58500.0     55255.5            5850.0          58500.0   \n",
       "219924               0.0         0.0               NaN              NaN   \n",
       "1524727          88933.5     98325.0               0.0          88933.5   \n",
       "\n",
       "        WEEKDAY_APPR_PROCESS_START  HOUR_APPR_PROCESS_START  ...  \\\n",
       "1534365                    TUESDAY                        6  ...   \n",
       "219924                      FRIDAY                       15  ...   \n",
       "1524727                     SUNDAY                       14  ...   \n",
       "\n",
       "        NAME_SELLER_INDUSTRY  CNT_PAYMENT  NAME_YIELD_GROUP  \\\n",
       "1534365         Connectivity          6.0              high   \n",
       "219924                   XNA          NaN               XNA   \n",
       "1524727              Jewelry         12.0        low_action   \n",
       "\n",
       "                 PRODUCT_COMBINATION  DAYS_FIRST_DRAWING DAYS_FIRST_DUE  \\\n",
       "1534365     POS mobile with interest            365243.0        -2505.0   \n",
       "219924                          Cash                 NaN            NaN   \n",
       "1524727  POS others without interest            365243.0         -121.0   \n",
       "\n",
       "        DAYS_LAST_DUE_1ST_VERSION  DAYS_LAST_DUE DAYS_TERMINATION  \\\n",
       "1534365                   -2355.0        -2355.0          -2348.0   \n",
       "219924                        NaN            NaN              NaN   \n",
       "1524727                     209.0       365243.0         365243.0   \n",
       "\n",
       "        NFLAG_INSURED_ON_APPROVAL  \n",
       "1534365                       1.0  \n",
       "219924                        NaN  \n",
       "1524727                       0.0  \n",
       "\n",
       "[3 rows x 37 columns]"
      ]
     },
     "execution_count": 36,
     "metadata": {},
     "output_type": "execute_result"
    }
   ],
   "source": [
    "prev.sample(3)"
   ]
  },
  {
   "cell_type": "code",
   "execution_count": 37,
   "id": "6577b092",
   "metadata": {},
   "outputs": [],
   "source": [
    "prev, cat_cols = one_hot_encoder(prev, nan_as_category= True)"
   ]
  },
  {
   "cell_type": "code",
   "execution_count": 38,
   "id": "0ea7d967",
   "metadata": {},
   "outputs": [],
   "source": [
    "# Days 365.243 values -> nan\n",
    "prev['DAYS_FIRST_DRAWING'].replace(365243, np.nan, inplace= True)\n",
    "prev['DAYS_FIRST_DUE'].replace(365243, np.nan, inplace= True)\n",
    "prev['DAYS_LAST_DUE_1ST_VERSION'].replace(365243, np.nan, inplace= True)\n",
    "prev['DAYS_LAST_DUE'].replace(365243, np.nan, inplace= True)\n",
    "prev['DAYS_TERMINATION'].replace(365243, np.nan, inplace= True)"
   ]
  },
  {
   "cell_type": "code",
   "execution_count": 39,
   "id": "340e2416",
   "metadata": {},
   "outputs": [],
   "source": [
    "# Add feature: value ask / value received percentage\n",
    "prev['APP_CREDIT_PERC'] = prev['AMT_APPLICATION'] / prev['AMT_CREDIT']"
   ]
  },
  {
   "cell_type": "code",
   "execution_count": 40,
   "id": "25bae7f2",
   "metadata": {},
   "outputs": [],
   "source": [
    "# Previous applications numeric features\n",
    "num_aggregations = {\n",
    "    'AMT_ANNUITY': ['min', 'max', 'mean'],\n",
    "    'AMT_APPLICATION': ['min', 'max', 'mean'],\n",
    "    'AMT_CREDIT': ['min', 'max', 'mean'],\n",
    "    'APP_CREDIT_PERC': ['min', 'max', 'mean', 'var'],\n",
    "    'AMT_DOWN_PAYMENT': ['min', 'max', 'mean'],\n",
    "    'AMT_GOODS_PRICE': ['min', 'max', 'mean'],\n",
    "    'HOUR_APPR_PROCESS_START': ['min', 'max', 'mean'],\n",
    "    'RATE_DOWN_PAYMENT': ['min', 'max', 'mean'],\n",
    "    'DAYS_DECISION': ['min', 'max', 'mean'],\n",
    "    'CNT_PAYMENT': ['mean', 'sum'],\n",
    "}"
   ]
  },
  {
   "cell_type": "code",
   "execution_count": 41,
   "id": "43bbdbfa",
   "metadata": {},
   "outputs": [],
   "source": [
    "# Previous applications categorical features\n",
    "cat_aggregations = {}\n",
    "for cat in cat_cols:\n",
    "    cat_aggregations[cat] = ['mean']\n",
    "\n",
    "prev_agg = prev.groupby('SK_ID_CURR').agg({**num_aggregations, **cat_aggregations})\n",
    "prev_agg.columns = pd.Index(['PREV_' + e[0] + \"_\" + e[1].upper() for e in prev_agg.columns.tolist()])"
   ]
  },
  {
   "cell_type": "code",
   "execution_count": 42,
   "id": "4cdcb35e",
   "metadata": {},
   "outputs": [
    {
     "data": {
      "text/plain": [
       "(338857, 189)"
      ]
     },
     "execution_count": 42,
     "metadata": {},
     "output_type": "execute_result"
    }
   ],
   "source": [
    "prev_agg.shape"
   ]
  },
  {
   "cell_type": "code",
   "execution_count": 43,
   "id": "4de060cd",
   "metadata": {},
   "outputs": [
    {
     "data": {
      "text/html": [
       "<div>\n",
       "<style scoped>\n",
       "    .dataframe tbody tr th:only-of-type {\n",
       "        vertical-align: middle;\n",
       "    }\n",
       "\n",
       "    .dataframe tbody tr th {\n",
       "        vertical-align: top;\n",
       "    }\n",
       "\n",
       "    .dataframe thead th {\n",
       "        text-align: right;\n",
       "    }\n",
       "</style>\n",
       "<table border=\"1\" class=\"dataframe\">\n",
       "  <thead>\n",
       "    <tr style=\"text-align: right;\">\n",
       "      <th></th>\n",
       "      <th>PREV_AMT_ANNUITY_MIN</th>\n",
       "      <th>PREV_AMT_ANNUITY_MAX</th>\n",
       "      <th>PREV_AMT_ANNUITY_MEAN</th>\n",
       "      <th>PREV_AMT_APPLICATION_MIN</th>\n",
       "      <th>PREV_AMT_APPLICATION_MAX</th>\n",
       "      <th>PREV_AMT_APPLICATION_MEAN</th>\n",
       "      <th>PREV_AMT_CREDIT_MIN</th>\n",
       "      <th>PREV_AMT_CREDIT_MAX</th>\n",
       "      <th>PREV_AMT_CREDIT_MEAN</th>\n",
       "      <th>PREV_APP_CREDIT_PERC_MIN</th>\n",
       "      <th>...</th>\n",
       "      <th>PREV_PRODUCT_COMBINATION_Cash X-Sell: middle_MEAN</th>\n",
       "      <th>PREV_PRODUCT_COMBINATION_POS household with interest_MEAN</th>\n",
       "      <th>PREV_PRODUCT_COMBINATION_POS household without interest_MEAN</th>\n",
       "      <th>PREV_PRODUCT_COMBINATION_POS industry with interest_MEAN</th>\n",
       "      <th>PREV_PRODUCT_COMBINATION_POS industry without interest_MEAN</th>\n",
       "      <th>PREV_PRODUCT_COMBINATION_POS mobile with interest_MEAN</th>\n",
       "      <th>PREV_PRODUCT_COMBINATION_POS mobile without interest_MEAN</th>\n",
       "      <th>PREV_PRODUCT_COMBINATION_POS other with interest_MEAN</th>\n",
       "      <th>PREV_PRODUCT_COMBINATION_POS others without interest_MEAN</th>\n",
       "      <th>PREV_PRODUCT_COMBINATION_nan_MEAN</th>\n",
       "    </tr>\n",
       "    <tr>\n",
       "      <th>SK_ID_CURR</th>\n",
       "      <th></th>\n",
       "      <th></th>\n",
       "      <th></th>\n",
       "      <th></th>\n",
       "      <th></th>\n",
       "      <th></th>\n",
       "      <th></th>\n",
       "      <th></th>\n",
       "      <th></th>\n",
       "      <th></th>\n",
       "      <th></th>\n",
       "      <th></th>\n",
       "      <th></th>\n",
       "      <th></th>\n",
       "      <th></th>\n",
       "      <th></th>\n",
       "      <th></th>\n",
       "      <th></th>\n",
       "      <th></th>\n",
       "      <th></th>\n",
       "      <th></th>\n",
       "    </tr>\n",
       "  </thead>\n",
       "  <tbody>\n",
       "    <tr>\n",
       "      <th>306638</th>\n",
       "      <td>16047.945</td>\n",
       "      <td>49461.210</td>\n",
       "      <td>25895.007000</td>\n",
       "      <td>0.0</td>\n",
       "      <td>450000.0</td>\n",
       "      <td>158901.000000</td>\n",
       "      <td>0.0</td>\n",
       "      <td>470790.0</td>\n",
       "      <td>235922.250000</td>\n",
       "      <td>0.000000</td>\n",
       "      <td>...</td>\n",
       "      <td>0.166667</td>\n",
       "      <td>0.166667</td>\n",
       "      <td>0.166667</td>\n",
       "      <td>0.00</td>\n",
       "      <td>0.0</td>\n",
       "      <td>0.166667</td>\n",
       "      <td>0.0</td>\n",
       "      <td>0.0</td>\n",
       "      <td>0.0</td>\n",
       "      <td>0.0</td>\n",
       "    </tr>\n",
       "    <tr>\n",
       "      <th>281901</th>\n",
       "      <td>16663.455</td>\n",
       "      <td>36868.815</td>\n",
       "      <td>26877.072857</td>\n",
       "      <td>0.0</td>\n",
       "      <td>1269000.0</td>\n",
       "      <td>410727.272727</td>\n",
       "      <td>0.0</td>\n",
       "      <td>1453257.0</td>\n",
       "      <td>452722.909091</td>\n",
       "      <td>0.834725</td>\n",
       "      <td>...</td>\n",
       "      <td>0.363636</td>\n",
       "      <td>0.000000</td>\n",
       "      <td>0.000000</td>\n",
       "      <td>0.00</td>\n",
       "      <td>0.0</td>\n",
       "      <td>0.000000</td>\n",
       "      <td>0.0</td>\n",
       "      <td>0.0</td>\n",
       "      <td>0.0</td>\n",
       "      <td>0.0</td>\n",
       "    </tr>\n",
       "    <tr>\n",
       "      <th>387067</th>\n",
       "      <td>10489.500</td>\n",
       "      <td>15001.155</td>\n",
       "      <td>12745.327500</td>\n",
       "      <td>0.0</td>\n",
       "      <td>225000.0</td>\n",
       "      <td>76413.375000</td>\n",
       "      <td>0.0</td>\n",
       "      <td>225000.0</td>\n",
       "      <td>77477.625000</td>\n",
       "      <td>0.949865</td>\n",
       "      <td>...</td>\n",
       "      <td>0.250000</td>\n",
       "      <td>0.000000</td>\n",
       "      <td>0.000000</td>\n",
       "      <td>0.25</td>\n",
       "      <td>0.0</td>\n",
       "      <td>0.000000</td>\n",
       "      <td>0.0</td>\n",
       "      <td>0.0</td>\n",
       "      <td>0.0</td>\n",
       "      <td>0.0</td>\n",
       "    </tr>\n",
       "  </tbody>\n",
       "</table>\n",
       "<p>3 rows × 189 columns</p>\n",
       "</div>"
      ],
      "text/plain": [
       "            PREV_AMT_ANNUITY_MIN  PREV_AMT_ANNUITY_MAX  PREV_AMT_ANNUITY_MEAN  \\\n",
       "SK_ID_CURR                                                                      \n",
       "306638                 16047.945             49461.210           25895.007000   \n",
       "281901                 16663.455             36868.815           26877.072857   \n",
       "387067                 10489.500             15001.155           12745.327500   \n",
       "\n",
       "            PREV_AMT_APPLICATION_MIN  PREV_AMT_APPLICATION_MAX  \\\n",
       "SK_ID_CURR                                                       \n",
       "306638                           0.0                  450000.0   \n",
       "281901                           0.0                 1269000.0   \n",
       "387067                           0.0                  225000.0   \n",
       "\n",
       "            PREV_AMT_APPLICATION_MEAN  PREV_AMT_CREDIT_MIN  \\\n",
       "SK_ID_CURR                                                   \n",
       "306638                  158901.000000                  0.0   \n",
       "281901                  410727.272727                  0.0   \n",
       "387067                   76413.375000                  0.0   \n",
       "\n",
       "            PREV_AMT_CREDIT_MAX  PREV_AMT_CREDIT_MEAN  \\\n",
       "SK_ID_CURR                                              \n",
       "306638                 470790.0         235922.250000   \n",
       "281901                1453257.0         452722.909091   \n",
       "387067                 225000.0          77477.625000   \n",
       "\n",
       "            PREV_APP_CREDIT_PERC_MIN  ...  \\\n",
       "SK_ID_CURR                            ...   \n",
       "306638                      0.000000  ...   \n",
       "281901                      0.834725  ...   \n",
       "387067                      0.949865  ...   \n",
       "\n",
       "            PREV_PRODUCT_COMBINATION_Cash X-Sell: middle_MEAN  \\\n",
       "SK_ID_CURR                                                      \n",
       "306638                                               0.166667   \n",
       "281901                                               0.363636   \n",
       "387067                                               0.250000   \n",
       "\n",
       "            PREV_PRODUCT_COMBINATION_POS household with interest_MEAN  \\\n",
       "SK_ID_CURR                                                              \n",
       "306638                                               0.166667           \n",
       "281901                                               0.000000           \n",
       "387067                                               0.000000           \n",
       "\n",
       "            PREV_PRODUCT_COMBINATION_POS household without interest_MEAN  \\\n",
       "SK_ID_CURR                                                                 \n",
       "306638                                               0.166667              \n",
       "281901                                               0.000000              \n",
       "387067                                               0.000000              \n",
       "\n",
       "            PREV_PRODUCT_COMBINATION_POS industry with interest_MEAN  \\\n",
       "SK_ID_CURR                                                             \n",
       "306638                                                   0.00          \n",
       "281901                                                   0.00          \n",
       "387067                                                   0.25          \n",
       "\n",
       "            PREV_PRODUCT_COMBINATION_POS industry without interest_MEAN  \\\n",
       "SK_ID_CURR                                                                \n",
       "306638                                                    0.0             \n",
       "281901                                                    0.0             \n",
       "387067                                                    0.0             \n",
       "\n",
       "            PREV_PRODUCT_COMBINATION_POS mobile with interest_MEAN  \\\n",
       "SK_ID_CURR                                                           \n",
       "306638                                               0.166667        \n",
       "281901                                               0.000000        \n",
       "387067                                               0.000000        \n",
       "\n",
       "            PREV_PRODUCT_COMBINATION_POS mobile without interest_MEAN  \\\n",
       "SK_ID_CURR                                                              \n",
       "306638                                                    0.0           \n",
       "281901                                                    0.0           \n",
       "387067                                                    0.0           \n",
       "\n",
       "            PREV_PRODUCT_COMBINATION_POS other with interest_MEAN  \\\n",
       "SK_ID_CURR                                                          \n",
       "306638                                                    0.0       \n",
       "281901                                                    0.0       \n",
       "387067                                                    0.0       \n",
       "\n",
       "            PREV_PRODUCT_COMBINATION_POS others without interest_MEAN  \\\n",
       "SK_ID_CURR                                                              \n",
       "306638                                                    0.0           \n",
       "281901                                                    0.0           \n",
       "387067                                                    0.0           \n",
       "\n",
       "            PREV_PRODUCT_COMBINATION_nan_MEAN  \n",
       "SK_ID_CURR                                     \n",
       "306638                                    0.0  \n",
       "281901                                    0.0  \n",
       "387067                                    0.0  \n",
       "\n",
       "[3 rows x 189 columns]"
      ]
     },
     "execution_count": 43,
     "metadata": {},
     "output_type": "execute_result"
    }
   ],
   "source": [
    "prev_agg.sample(3)"
   ]
  },
  {
   "cell_type": "code",
   "execution_count": 44,
   "id": "b9625da1",
   "metadata": {},
   "outputs": [],
   "source": [
    "# Previous Applications: Approved Applications - only numerical features\n",
    "approved = prev[prev['NAME_CONTRACT_STATUS_Approved'] == 1]\n",
    "approved_agg = approved.groupby('SK_ID_CURR').agg(num_aggregations)\n",
    "approved_agg.columns = pd.Index(['APPROVED_' + e[0] + \"_\" + e[1].upper() for e in approved_agg.columns.tolist()])\n",
    "prev_agg = prev_agg.join(approved_agg, how='left', on='SK_ID_CURR')"
   ]
  },
  {
   "cell_type": "code",
   "execution_count": 45,
   "id": "a02673b6",
   "metadata": {},
   "outputs": [],
   "source": [
    "# Previous Applications: Refused Applications - only numerical features\n",
    "refused = prev[prev['NAME_CONTRACT_STATUS_Refused'] == 1]\n",
    "refused_agg = refused.groupby('SK_ID_CURR').agg(num_aggregations)\n",
    "refused_agg.columns = pd.Index(['REFUSED_' + e[0] + \"_\" + e[1].upper() for e in refused_agg.columns.tolist()])\n",
    "prev_agg = prev_agg.join(refused_agg, how='left', on='SK_ID_CURR')\n",
    "del refused, refused_agg, approved, approved_agg, prev"
   ]
  },
  {
   "cell_type": "code",
   "execution_count": 46,
   "id": "e5f6686d",
   "metadata": {},
   "outputs": [
    {
     "data": {
      "text/plain": [
       "(338857, 249)"
      ]
     },
     "execution_count": 46,
     "metadata": {},
     "output_type": "execute_result"
    }
   ],
   "source": [
    "prev_agg.shape"
   ]
  },
  {
   "cell_type": "code",
   "execution_count": 47,
   "id": "6641193d",
   "metadata": {},
   "outputs": [
    {
     "data": {
      "text/html": [
       "<div>\n",
       "<style scoped>\n",
       "    .dataframe tbody tr th:only-of-type {\n",
       "        vertical-align: middle;\n",
       "    }\n",
       "\n",
       "    .dataframe tbody tr th {\n",
       "        vertical-align: top;\n",
       "    }\n",
       "\n",
       "    .dataframe thead th {\n",
       "        text-align: right;\n",
       "    }\n",
       "</style>\n",
       "<table border=\"1\" class=\"dataframe\">\n",
       "  <thead>\n",
       "    <tr style=\"text-align: right;\">\n",
       "      <th></th>\n",
       "      <th>PREV_AMT_ANNUITY_MIN</th>\n",
       "      <th>PREV_AMT_ANNUITY_MAX</th>\n",
       "      <th>PREV_AMT_ANNUITY_MEAN</th>\n",
       "      <th>PREV_AMT_APPLICATION_MIN</th>\n",
       "      <th>PREV_AMT_APPLICATION_MAX</th>\n",
       "      <th>PREV_AMT_APPLICATION_MEAN</th>\n",
       "      <th>PREV_AMT_CREDIT_MIN</th>\n",
       "      <th>PREV_AMT_CREDIT_MAX</th>\n",
       "      <th>PREV_AMT_CREDIT_MEAN</th>\n",
       "      <th>PREV_APP_CREDIT_PERC_MIN</th>\n",
       "      <th>...</th>\n",
       "      <th>REFUSED_HOUR_APPR_PROCESS_START_MAX</th>\n",
       "      <th>REFUSED_HOUR_APPR_PROCESS_START_MEAN</th>\n",
       "      <th>REFUSED_RATE_DOWN_PAYMENT_MIN</th>\n",
       "      <th>REFUSED_RATE_DOWN_PAYMENT_MAX</th>\n",
       "      <th>REFUSED_RATE_DOWN_PAYMENT_MEAN</th>\n",
       "      <th>REFUSED_DAYS_DECISION_MIN</th>\n",
       "      <th>REFUSED_DAYS_DECISION_MAX</th>\n",
       "      <th>REFUSED_DAYS_DECISION_MEAN</th>\n",
       "      <th>REFUSED_CNT_PAYMENT_MEAN</th>\n",
       "      <th>REFUSED_CNT_PAYMENT_SUM</th>\n",
       "    </tr>\n",
       "    <tr>\n",
       "      <th>SK_ID_CURR</th>\n",
       "      <th></th>\n",
       "      <th></th>\n",
       "      <th></th>\n",
       "      <th></th>\n",
       "      <th></th>\n",
       "      <th></th>\n",
       "      <th></th>\n",
       "      <th></th>\n",
       "      <th></th>\n",
       "      <th></th>\n",
       "      <th></th>\n",
       "      <th></th>\n",
       "      <th></th>\n",
       "      <th></th>\n",
       "      <th></th>\n",
       "      <th></th>\n",
       "      <th></th>\n",
       "      <th></th>\n",
       "      <th></th>\n",
       "      <th></th>\n",
       "      <th></th>\n",
       "    </tr>\n",
       "  </thead>\n",
       "  <tbody>\n",
       "    <tr>\n",
       "      <th>126543</th>\n",
       "      <td>5801.085</td>\n",
       "      <td>13232.34</td>\n",
       "      <td>8744.7825</td>\n",
       "      <td>0.000</td>\n",
       "      <td>225000.000</td>\n",
       "      <td>62306.070</td>\n",
       "      <td>0.0</td>\n",
       "      <td>312304.5</td>\n",
       "      <td>76523.25</td>\n",
       "      <td>0.720451</td>\n",
       "      <td>...</td>\n",
       "      <td>13.0</td>\n",
       "      <td>13.0</td>\n",
       "      <td>NaN</td>\n",
       "      <td>NaN</td>\n",
       "      <td>NaN</td>\n",
       "      <td>-292.0</td>\n",
       "      <td>-292.0</td>\n",
       "      <td>-292.0</td>\n",
       "      <td>NaN</td>\n",
       "      <td>0.0</td>\n",
       "    </tr>\n",
       "    <tr>\n",
       "      <th>105560</th>\n",
       "      <td>4099.275</td>\n",
       "      <td>11906.19</td>\n",
       "      <td>8002.7325</td>\n",
       "      <td>38826.000</td>\n",
       "      <td>176575.500</td>\n",
       "      <td>107700.750</td>\n",
       "      <td>34213.5</td>\n",
       "      <td>199300.5</td>\n",
       "      <td>116757.00</td>\n",
       "      <td>0.885976</td>\n",
       "      <td>...</td>\n",
       "      <td>NaN</td>\n",
       "      <td>NaN</td>\n",
       "      <td>NaN</td>\n",
       "      <td>NaN</td>\n",
       "      <td>NaN</td>\n",
       "      <td>NaN</td>\n",
       "      <td>NaN</td>\n",
       "      <td>NaN</td>\n",
       "      <td>NaN</td>\n",
       "      <td>NaN</td>\n",
       "    </tr>\n",
       "    <tr>\n",
       "      <th>445679</th>\n",
       "      <td>10042.470</td>\n",
       "      <td>10042.47</td>\n",
       "      <td>10042.4700</td>\n",
       "      <td>97959.375</td>\n",
       "      <td>97959.375</td>\n",
       "      <td>97959.375</td>\n",
       "      <td>97956.0</td>\n",
       "      <td>97956.0</td>\n",
       "      <td>97956.00</td>\n",
       "      <td>1.000034</td>\n",
       "      <td>...</td>\n",
       "      <td>NaN</td>\n",
       "      <td>NaN</td>\n",
       "      <td>NaN</td>\n",
       "      <td>NaN</td>\n",
       "      <td>NaN</td>\n",
       "      <td>NaN</td>\n",
       "      <td>NaN</td>\n",
       "      <td>NaN</td>\n",
       "      <td>NaN</td>\n",
       "      <td>NaN</td>\n",
       "    </tr>\n",
       "  </tbody>\n",
       "</table>\n",
       "<p>3 rows × 249 columns</p>\n",
       "</div>"
      ],
      "text/plain": [
       "            PREV_AMT_ANNUITY_MIN  PREV_AMT_ANNUITY_MAX  PREV_AMT_ANNUITY_MEAN  \\\n",
       "SK_ID_CURR                                                                      \n",
       "126543                  5801.085              13232.34              8744.7825   \n",
       "105560                  4099.275              11906.19              8002.7325   \n",
       "445679                 10042.470              10042.47             10042.4700   \n",
       "\n",
       "            PREV_AMT_APPLICATION_MIN  PREV_AMT_APPLICATION_MAX  \\\n",
       "SK_ID_CURR                                                       \n",
       "126543                         0.000                225000.000   \n",
       "105560                     38826.000                176575.500   \n",
       "445679                     97959.375                 97959.375   \n",
       "\n",
       "            PREV_AMT_APPLICATION_MEAN  PREV_AMT_CREDIT_MIN  \\\n",
       "SK_ID_CURR                                                   \n",
       "126543                      62306.070                  0.0   \n",
       "105560                     107700.750              34213.5   \n",
       "445679                      97959.375              97956.0   \n",
       "\n",
       "            PREV_AMT_CREDIT_MAX  PREV_AMT_CREDIT_MEAN  \\\n",
       "SK_ID_CURR                                              \n",
       "126543                 312304.5              76523.25   \n",
       "105560                 199300.5             116757.00   \n",
       "445679                  97956.0              97956.00   \n",
       "\n",
       "            PREV_APP_CREDIT_PERC_MIN  ...  \\\n",
       "SK_ID_CURR                            ...   \n",
       "126543                      0.720451  ...   \n",
       "105560                      0.885976  ...   \n",
       "445679                      1.000034  ...   \n",
       "\n",
       "            REFUSED_HOUR_APPR_PROCESS_START_MAX  \\\n",
       "SK_ID_CURR                                        \n",
       "126543                                     13.0   \n",
       "105560                                      NaN   \n",
       "445679                                      NaN   \n",
       "\n",
       "            REFUSED_HOUR_APPR_PROCESS_START_MEAN  \\\n",
       "SK_ID_CURR                                         \n",
       "126543                                      13.0   \n",
       "105560                                       NaN   \n",
       "445679                                       NaN   \n",
       "\n",
       "            REFUSED_RATE_DOWN_PAYMENT_MIN  REFUSED_RATE_DOWN_PAYMENT_MAX  \\\n",
       "SK_ID_CURR                                                                 \n",
       "126543                                NaN                            NaN   \n",
       "105560                                NaN                            NaN   \n",
       "445679                                NaN                            NaN   \n",
       "\n",
       "            REFUSED_RATE_DOWN_PAYMENT_MEAN  REFUSED_DAYS_DECISION_MIN  \\\n",
       "SK_ID_CURR                                                              \n",
       "126543                                 NaN                     -292.0   \n",
       "105560                                 NaN                        NaN   \n",
       "445679                                 NaN                        NaN   \n",
       "\n",
       "            REFUSED_DAYS_DECISION_MAX  REFUSED_DAYS_DECISION_MEAN  \\\n",
       "SK_ID_CURR                                                          \n",
       "126543                         -292.0                      -292.0   \n",
       "105560                            NaN                         NaN   \n",
       "445679                            NaN                         NaN   \n",
       "\n",
       "            REFUSED_CNT_PAYMENT_MEAN  REFUSED_CNT_PAYMENT_SUM  \n",
       "SK_ID_CURR                                                     \n",
       "126543                           NaN                      0.0  \n",
       "105560                           NaN                      NaN  \n",
       "445679                           NaN                      NaN  \n",
       "\n",
       "[3 rows x 249 columns]"
      ]
     },
     "execution_count": 47,
     "metadata": {},
     "output_type": "execute_result"
    }
   ],
   "source": [
    "prev_agg.sample(3)"
   ]
  },
  {
   "cell_type": "markdown",
   "id": "697c06e5",
   "metadata": {},
   "source": [
    "##### [sommaire](#S)"
   ]
  },
  {
   "cell_type": "markdown",
   "id": "e223ed2d",
   "metadata": {},
   "source": [
    "### D, POS_cash_balance <a class='anchor' id='ID'></a>"
   ]
  },
  {
   "cell_type": "code",
   "execution_count": 48,
   "id": "e1bfa750",
   "metadata": {},
   "outputs": [],
   "source": [
    "pos = pd.read_csv('data/POS_CASH_balance.csv')"
   ]
  },
  {
   "cell_type": "code",
   "execution_count": 49,
   "id": "225734a6",
   "metadata": {},
   "outputs": [
    {
     "data": {
      "text/plain": [
       "(10001358, 8)"
      ]
     },
     "execution_count": 49,
     "metadata": {},
     "output_type": "execute_result"
    }
   ],
   "source": [
    "pos.shape"
   ]
  },
  {
   "cell_type": "code",
   "execution_count": 50,
   "id": "7c21522a",
   "metadata": {},
   "outputs": [
    {
     "data": {
      "text/html": [
       "<div>\n",
       "<style scoped>\n",
       "    .dataframe tbody tr th:only-of-type {\n",
       "        vertical-align: middle;\n",
       "    }\n",
       "\n",
       "    .dataframe tbody tr th {\n",
       "        vertical-align: top;\n",
       "    }\n",
       "\n",
       "    .dataframe thead th {\n",
       "        text-align: right;\n",
       "    }\n",
       "</style>\n",
       "<table border=\"1\" class=\"dataframe\">\n",
       "  <thead>\n",
       "    <tr style=\"text-align: right;\">\n",
       "      <th></th>\n",
       "      <th>SK_ID_PREV</th>\n",
       "      <th>SK_ID_CURR</th>\n",
       "      <th>MONTHS_BALANCE</th>\n",
       "      <th>CNT_INSTALMENT</th>\n",
       "      <th>CNT_INSTALMENT_FUTURE</th>\n",
       "      <th>NAME_CONTRACT_STATUS</th>\n",
       "      <th>SK_DPD</th>\n",
       "      <th>SK_DPD_DEF</th>\n",
       "    </tr>\n",
       "  </thead>\n",
       "  <tbody>\n",
       "    <tr>\n",
       "      <th>5115957</th>\n",
       "      <td>2208369</td>\n",
       "      <td>283054</td>\n",
       "      <td>-1</td>\n",
       "      <td>36.0</td>\n",
       "      <td>4.0</td>\n",
       "      <td>Active</td>\n",
       "      <td>0</td>\n",
       "      <td>0</td>\n",
       "    </tr>\n",
       "    <tr>\n",
       "      <th>7751394</th>\n",
       "      <td>2552170</td>\n",
       "      <td>372441</td>\n",
       "      <td>-69</td>\n",
       "      <td>21.0</td>\n",
       "      <td>3.0</td>\n",
       "      <td>Active</td>\n",
       "      <td>0</td>\n",
       "      <td>0</td>\n",
       "    </tr>\n",
       "    <tr>\n",
       "      <th>754925</th>\n",
       "      <td>1849694</td>\n",
       "      <td>434879</td>\n",
       "      <td>-31</td>\n",
       "      <td>24.0</td>\n",
       "      <td>24.0</td>\n",
       "      <td>Active</td>\n",
       "      <td>0</td>\n",
       "      <td>0</td>\n",
       "    </tr>\n",
       "  </tbody>\n",
       "</table>\n",
       "</div>"
      ],
      "text/plain": [
       "         SK_ID_PREV  SK_ID_CURR  MONTHS_BALANCE  CNT_INSTALMENT  \\\n",
       "5115957     2208369      283054              -1            36.0   \n",
       "7751394     2552170      372441             -69            21.0   \n",
       "754925      1849694      434879             -31            24.0   \n",
       "\n",
       "         CNT_INSTALMENT_FUTURE NAME_CONTRACT_STATUS  SK_DPD  SK_DPD_DEF  \n",
       "5115957                    4.0               Active       0           0  \n",
       "7751394                    3.0               Active       0           0  \n",
       "754925                    24.0               Active       0           0  "
      ]
     },
     "execution_count": 50,
     "metadata": {},
     "output_type": "execute_result"
    }
   ],
   "source": [
    "pos.sample(3)"
   ]
  },
  {
   "cell_type": "code",
   "execution_count": 51,
   "id": "dca30f97",
   "metadata": {},
   "outputs": [],
   "source": [
    "pos, cat_cols = one_hot_encoder(pos, nan_as_category= True)"
   ]
  },
  {
   "cell_type": "code",
   "execution_count": 52,
   "id": "77ed30d2",
   "metadata": {},
   "outputs": [],
   "source": [
    "# Features\n",
    "aggregations = {\n",
    "    'MONTHS_BALANCE': ['max', 'mean', 'size'],\n",
    "    'SK_DPD': ['max', 'mean'],\n",
    "    'SK_DPD_DEF': ['max', 'mean']\n",
    "}"
   ]
  },
  {
   "cell_type": "code",
   "execution_count": 53,
   "id": "f6b50a0b",
   "metadata": {},
   "outputs": [],
   "source": [
    "for cat in cat_cols:\n",
    "    aggregations[cat] = ['mean']\n",
    "\n",
    "pos_agg = pos.groupby('SK_ID_CURR').agg(aggregations)\n",
    "pos_agg.columns = pd.Index(['POS_' + e[0] + \"_\" + e[1].upper() for e in pos_agg.columns.tolist()])"
   ]
  },
  {
   "cell_type": "code",
   "execution_count": 54,
   "id": "e2a16c47",
   "metadata": {},
   "outputs": [],
   "source": [
    "# Count pos cash accounts\n",
    "pos_agg['POS_COUNT'] = pos.groupby('SK_ID_CURR').size()\n",
    "del pos"
   ]
  },
  {
   "cell_type": "code",
   "execution_count": 55,
   "id": "359ff9bd",
   "metadata": {},
   "outputs": [
    {
     "data": {
      "text/plain": [
       "(337252, 18)"
      ]
     },
     "execution_count": 55,
     "metadata": {},
     "output_type": "execute_result"
    }
   ],
   "source": [
    "pos_agg.shape"
   ]
  },
  {
   "cell_type": "code",
   "execution_count": 56,
   "id": "b3febe88",
   "metadata": {},
   "outputs": [
    {
     "data": {
      "text/html": [
       "<div>\n",
       "<style scoped>\n",
       "    .dataframe tbody tr th:only-of-type {\n",
       "        vertical-align: middle;\n",
       "    }\n",
       "\n",
       "    .dataframe tbody tr th {\n",
       "        vertical-align: top;\n",
       "    }\n",
       "\n",
       "    .dataframe thead th {\n",
       "        text-align: right;\n",
       "    }\n",
       "</style>\n",
       "<table border=\"1\" class=\"dataframe\">\n",
       "  <thead>\n",
       "    <tr style=\"text-align: right;\">\n",
       "      <th></th>\n",
       "      <th>POS_MONTHS_BALANCE_MAX</th>\n",
       "      <th>POS_MONTHS_BALANCE_MEAN</th>\n",
       "      <th>POS_MONTHS_BALANCE_SIZE</th>\n",
       "      <th>POS_SK_DPD_MAX</th>\n",
       "      <th>POS_SK_DPD_MEAN</th>\n",
       "      <th>POS_SK_DPD_DEF_MAX</th>\n",
       "      <th>POS_SK_DPD_DEF_MEAN</th>\n",
       "      <th>POS_NAME_CONTRACT_STATUS_Active_MEAN</th>\n",
       "      <th>POS_NAME_CONTRACT_STATUS_Amortized debt_MEAN</th>\n",
       "      <th>POS_NAME_CONTRACT_STATUS_Approved_MEAN</th>\n",
       "      <th>POS_NAME_CONTRACT_STATUS_Canceled_MEAN</th>\n",
       "      <th>POS_NAME_CONTRACT_STATUS_Completed_MEAN</th>\n",
       "      <th>POS_NAME_CONTRACT_STATUS_Demand_MEAN</th>\n",
       "      <th>POS_NAME_CONTRACT_STATUS_Returned to the store_MEAN</th>\n",
       "      <th>POS_NAME_CONTRACT_STATUS_Signed_MEAN</th>\n",
       "      <th>POS_NAME_CONTRACT_STATUS_XNA_MEAN</th>\n",
       "      <th>POS_NAME_CONTRACT_STATUS_nan_MEAN</th>\n",
       "      <th>POS_COUNT</th>\n",
       "    </tr>\n",
       "    <tr>\n",
       "      <th>SK_ID_CURR</th>\n",
       "      <th></th>\n",
       "      <th></th>\n",
       "      <th></th>\n",
       "      <th></th>\n",
       "      <th></th>\n",
       "      <th></th>\n",
       "      <th></th>\n",
       "      <th></th>\n",
       "      <th></th>\n",
       "      <th></th>\n",
       "      <th></th>\n",
       "      <th></th>\n",
       "      <th></th>\n",
       "      <th></th>\n",
       "      <th></th>\n",
       "      <th></th>\n",
       "      <th></th>\n",
       "      <th></th>\n",
       "    </tr>\n",
       "  </thead>\n",
       "  <tbody>\n",
       "    <tr>\n",
       "      <th>295003</th>\n",
       "      <td>-1</td>\n",
       "      <td>-12.500000</td>\n",
       "      <td>24</td>\n",
       "      <td>0</td>\n",
       "      <td>0.000000</td>\n",
       "      <td>0</td>\n",
       "      <td>0.000000</td>\n",
       "      <td>0.958333</td>\n",
       "      <td>0.0</td>\n",
       "      <td>0.0</td>\n",
       "      <td>0.0</td>\n",
       "      <td>0.041667</td>\n",
       "      <td>0.0</td>\n",
       "      <td>0.0</td>\n",
       "      <td>0.0</td>\n",
       "      <td>0.0</td>\n",
       "      <td>0.0</td>\n",
       "      <td>24</td>\n",
       "    </tr>\n",
       "    <tr>\n",
       "      <th>190558</th>\n",
       "      <td>-44</td>\n",
       "      <td>-60.378378</td>\n",
       "      <td>37</td>\n",
       "      <td>0</td>\n",
       "      <td>0.000000</td>\n",
       "      <td>0</td>\n",
       "      <td>0.000000</td>\n",
       "      <td>0.972973</td>\n",
       "      <td>0.0</td>\n",
       "      <td>0.0</td>\n",
       "      <td>0.0</td>\n",
       "      <td>0.027027</td>\n",
       "      <td>0.0</td>\n",
       "      <td>0.0</td>\n",
       "      <td>0.0</td>\n",
       "      <td>0.0</td>\n",
       "      <td>0.0</td>\n",
       "      <td>37</td>\n",
       "    </tr>\n",
       "    <tr>\n",
       "      <th>290888</th>\n",
       "      <td>-1</td>\n",
       "      <td>-13.500000</td>\n",
       "      <td>26</td>\n",
       "      <td>1</td>\n",
       "      <td>0.076923</td>\n",
       "      <td>1</td>\n",
       "      <td>0.076923</td>\n",
       "      <td>1.000000</td>\n",
       "      <td>0.0</td>\n",
       "      <td>0.0</td>\n",
       "      <td>0.0</td>\n",
       "      <td>0.000000</td>\n",
       "      <td>0.0</td>\n",
       "      <td>0.0</td>\n",
       "      <td>0.0</td>\n",
       "      <td>0.0</td>\n",
       "      <td>0.0</td>\n",
       "      <td>26</td>\n",
       "    </tr>\n",
       "  </tbody>\n",
       "</table>\n",
       "</div>"
      ],
      "text/plain": [
       "            POS_MONTHS_BALANCE_MAX  POS_MONTHS_BALANCE_MEAN  \\\n",
       "SK_ID_CURR                                                    \n",
       "295003                          -1               -12.500000   \n",
       "190558                         -44               -60.378378   \n",
       "290888                          -1               -13.500000   \n",
       "\n",
       "            POS_MONTHS_BALANCE_SIZE  POS_SK_DPD_MAX  POS_SK_DPD_MEAN  \\\n",
       "SK_ID_CURR                                                             \n",
       "295003                           24               0         0.000000   \n",
       "190558                           37               0         0.000000   \n",
       "290888                           26               1         0.076923   \n",
       "\n",
       "            POS_SK_DPD_DEF_MAX  POS_SK_DPD_DEF_MEAN  \\\n",
       "SK_ID_CURR                                            \n",
       "295003                       0             0.000000   \n",
       "190558                       0             0.000000   \n",
       "290888                       1             0.076923   \n",
       "\n",
       "            POS_NAME_CONTRACT_STATUS_Active_MEAN  \\\n",
       "SK_ID_CURR                                         \n",
       "295003                                  0.958333   \n",
       "190558                                  0.972973   \n",
       "290888                                  1.000000   \n",
       "\n",
       "            POS_NAME_CONTRACT_STATUS_Amortized debt_MEAN  \\\n",
       "SK_ID_CURR                                                 \n",
       "295003                                               0.0   \n",
       "190558                                               0.0   \n",
       "290888                                               0.0   \n",
       "\n",
       "            POS_NAME_CONTRACT_STATUS_Approved_MEAN  \\\n",
       "SK_ID_CURR                                           \n",
       "295003                                         0.0   \n",
       "190558                                         0.0   \n",
       "290888                                         0.0   \n",
       "\n",
       "            POS_NAME_CONTRACT_STATUS_Canceled_MEAN  \\\n",
       "SK_ID_CURR                                           \n",
       "295003                                         0.0   \n",
       "190558                                         0.0   \n",
       "290888                                         0.0   \n",
       "\n",
       "            POS_NAME_CONTRACT_STATUS_Completed_MEAN  \\\n",
       "SK_ID_CURR                                            \n",
       "295003                                     0.041667   \n",
       "190558                                     0.027027   \n",
       "290888                                     0.000000   \n",
       "\n",
       "            POS_NAME_CONTRACT_STATUS_Demand_MEAN  \\\n",
       "SK_ID_CURR                                         \n",
       "295003                                       0.0   \n",
       "190558                                       0.0   \n",
       "290888                                       0.0   \n",
       "\n",
       "            POS_NAME_CONTRACT_STATUS_Returned to the store_MEAN  \\\n",
       "SK_ID_CURR                                                        \n",
       "295003                                                    0.0     \n",
       "190558                                                    0.0     \n",
       "290888                                                    0.0     \n",
       "\n",
       "            POS_NAME_CONTRACT_STATUS_Signed_MEAN  \\\n",
       "SK_ID_CURR                                         \n",
       "295003                                       0.0   \n",
       "190558                                       0.0   \n",
       "290888                                       0.0   \n",
       "\n",
       "            POS_NAME_CONTRACT_STATUS_XNA_MEAN  \\\n",
       "SK_ID_CURR                                      \n",
       "295003                                    0.0   \n",
       "190558                                    0.0   \n",
       "290888                                    0.0   \n",
       "\n",
       "            POS_NAME_CONTRACT_STATUS_nan_MEAN  POS_COUNT  \n",
       "SK_ID_CURR                                                \n",
       "295003                                    0.0         24  \n",
       "190558                                    0.0         37  \n",
       "290888                                    0.0         26  "
      ]
     },
     "execution_count": 56,
     "metadata": {},
     "output_type": "execute_result"
    }
   ],
   "source": [
    "pos_agg.sample(3)"
   ]
  },
  {
   "cell_type": "markdown",
   "id": "29055632",
   "metadata": {},
   "source": [
    "##### [sommaire](#S)"
   ]
  },
  {
   "cell_type": "markdown",
   "id": "79a59f78",
   "metadata": {},
   "source": [
    "### E, installments payment <a class='anchor' id='IE'></a>"
   ]
  },
  {
   "cell_type": "code",
   "execution_count": 57,
   "id": "dbce0c3d",
   "metadata": {},
   "outputs": [],
   "source": [
    "ins = pd.read_csv('data/installments_payments.csv')"
   ]
  },
  {
   "cell_type": "code",
   "execution_count": 58,
   "id": "86077eee",
   "metadata": {},
   "outputs": [
    {
     "data": {
      "text/plain": [
       "(13605401, 8)"
      ]
     },
     "execution_count": 58,
     "metadata": {},
     "output_type": "execute_result"
    }
   ],
   "source": [
    "ins.shape"
   ]
  },
  {
   "cell_type": "code",
   "execution_count": 59,
   "id": "1986c7de",
   "metadata": {
    "scrolled": true
   },
   "outputs": [
    {
     "data": {
      "text/html": [
       "<div>\n",
       "<style scoped>\n",
       "    .dataframe tbody tr th:only-of-type {\n",
       "        vertical-align: middle;\n",
       "    }\n",
       "\n",
       "    .dataframe tbody tr th {\n",
       "        vertical-align: top;\n",
       "    }\n",
       "\n",
       "    .dataframe thead th {\n",
       "        text-align: right;\n",
       "    }\n",
       "</style>\n",
       "<table border=\"1\" class=\"dataframe\">\n",
       "  <thead>\n",
       "    <tr style=\"text-align: right;\">\n",
       "      <th></th>\n",
       "      <th>SK_ID_PREV</th>\n",
       "      <th>SK_ID_CURR</th>\n",
       "      <th>NUM_INSTALMENT_VERSION</th>\n",
       "      <th>NUM_INSTALMENT_NUMBER</th>\n",
       "      <th>DAYS_INSTALMENT</th>\n",
       "      <th>DAYS_ENTRY_PAYMENT</th>\n",
       "      <th>AMT_INSTALMENT</th>\n",
       "      <th>AMT_PAYMENT</th>\n",
       "    </tr>\n",
       "  </thead>\n",
       "  <tbody>\n",
       "    <tr>\n",
       "      <th>5190748</th>\n",
       "      <td>2074774</td>\n",
       "      <td>279233</td>\n",
       "      <td>1.0</td>\n",
       "      <td>4</td>\n",
       "      <td>-525.0</td>\n",
       "      <td>-531.0</td>\n",
       "      <td>9892.080</td>\n",
       "      <td>9892.080</td>\n",
       "    </tr>\n",
       "    <tr>\n",
       "      <th>6173835</th>\n",
       "      <td>1277362</td>\n",
       "      <td>282150</td>\n",
       "      <td>2.0</td>\n",
       "      <td>24</td>\n",
       "      <td>-371.0</td>\n",
       "      <td>-402.0</td>\n",
       "      <td>17974.575</td>\n",
       "      <td>632.565</td>\n",
       "    </tr>\n",
       "    <tr>\n",
       "      <th>19413</th>\n",
       "      <td>2287931</td>\n",
       "      <td>150056</td>\n",
       "      <td>0.0</td>\n",
       "      <td>27</td>\n",
       "      <td>-761.0</td>\n",
       "      <td>-756.0</td>\n",
       "      <td>19599.975</td>\n",
       "      <td>19599.975</td>\n",
       "    </tr>\n",
       "  </tbody>\n",
       "</table>\n",
       "</div>"
      ],
      "text/plain": [
       "         SK_ID_PREV  SK_ID_CURR  NUM_INSTALMENT_VERSION  \\\n",
       "5190748     2074774      279233                     1.0   \n",
       "6173835     1277362      282150                     2.0   \n",
       "19413       2287931      150056                     0.0   \n",
       "\n",
       "         NUM_INSTALMENT_NUMBER  DAYS_INSTALMENT  DAYS_ENTRY_PAYMENT  \\\n",
       "5190748                      4           -525.0              -531.0   \n",
       "6173835                     24           -371.0              -402.0   \n",
       "19413                       27           -761.0              -756.0   \n",
       "\n",
       "         AMT_INSTALMENT  AMT_PAYMENT  \n",
       "5190748        9892.080     9892.080  \n",
       "6173835       17974.575      632.565  \n",
       "19413         19599.975    19599.975  "
      ]
     },
     "execution_count": 59,
     "metadata": {},
     "output_type": "execute_result"
    }
   ],
   "source": [
    "ins.sample(3)"
   ]
  },
  {
   "cell_type": "code",
   "execution_count": 60,
   "id": "26a716e0",
   "metadata": {},
   "outputs": [],
   "source": [
    "ins, cat_cols = one_hot_encoder(ins, nan_as_category= True)"
   ]
  },
  {
   "cell_type": "code",
   "execution_count": 61,
   "id": "8ac907a0",
   "metadata": {},
   "outputs": [],
   "source": [
    "# Percentage and difference paid in each installment (amount paid and installment value)\n",
    "ins['PAYMENT_PERC'] = ins['AMT_PAYMENT'] / ins['AMT_INSTALMENT']\n",
    "ins['PAYMENT_DIFF'] = ins['AMT_INSTALMENT'] - ins['AMT_PAYMENT']"
   ]
  },
  {
   "cell_type": "code",
   "execution_count": 62,
   "id": "3b6f4f0d",
   "metadata": {},
   "outputs": [],
   "source": [
    "# Days past due and days before due (no negative values)\n",
    "ins['DPD'] = ins['DAYS_ENTRY_PAYMENT'] - ins['DAYS_INSTALMENT']\n",
    "ins['DBD'] = ins['DAYS_INSTALMENT'] - ins['DAYS_ENTRY_PAYMENT']\n",
    "ins['DPD'] = ins['DPD'].apply(lambda x: x if x > 0 else 0)\n",
    "ins['DBD'] = ins['DBD'].apply(lambda x: x if x > 0 else 0)"
   ]
  },
  {
   "cell_type": "code",
   "execution_count": 63,
   "id": "8ad56eaa",
   "metadata": {},
   "outputs": [],
   "source": [
    "# Features: Perform aggregations\n",
    "aggregations = {\n",
    "    'NUM_INSTALMENT_VERSION': ['nunique'],\n",
    "    'DPD': ['max', 'mean', 'sum'],\n",
    "    'DBD': ['max', 'mean', 'sum'],\n",
    "    'PAYMENT_PERC': ['max', 'mean', 'sum', 'var'],\n",
    "    'PAYMENT_DIFF': ['max', 'mean', 'sum', 'var'],\n",
    "    'AMT_INSTALMENT': ['max', 'mean', 'sum'],\n",
    "    'AMT_PAYMENT': ['min', 'max', 'mean', 'sum'],\n",
    "    'DAYS_ENTRY_PAYMENT': ['max', 'mean', 'sum']\n",
    "}"
   ]
  },
  {
   "cell_type": "code",
   "execution_count": 64,
   "id": "e848e814",
   "metadata": {},
   "outputs": [],
   "source": [
    "for cat in cat_cols:\n",
    "    aggregations[cat] = ['mean']\n",
    "ins_agg = ins.groupby('SK_ID_CURR').agg(aggregations)\n",
    "ins_agg.columns = pd.Index(['INSTAL_' + e[0] + \"_\" + e[1].upper() for e in ins_agg.columns.tolist()])"
   ]
  },
  {
   "cell_type": "code",
   "execution_count": 65,
   "id": "4a1b99ab",
   "metadata": {},
   "outputs": [
    {
     "data": {
      "text/plain": [
       "(339587, 25)"
      ]
     },
     "execution_count": 65,
     "metadata": {},
     "output_type": "execute_result"
    }
   ],
   "source": [
    "ins_agg.shape"
   ]
  },
  {
   "cell_type": "code",
   "execution_count": 66,
   "id": "49786647",
   "metadata": {},
   "outputs": [
    {
     "data": {
      "text/html": [
       "<div>\n",
       "<style scoped>\n",
       "    .dataframe tbody tr th:only-of-type {\n",
       "        vertical-align: middle;\n",
       "    }\n",
       "\n",
       "    .dataframe tbody tr th {\n",
       "        vertical-align: top;\n",
       "    }\n",
       "\n",
       "    .dataframe thead th {\n",
       "        text-align: right;\n",
       "    }\n",
       "</style>\n",
       "<table border=\"1\" class=\"dataframe\">\n",
       "  <thead>\n",
       "    <tr style=\"text-align: right;\">\n",
       "      <th></th>\n",
       "      <th>INSTAL_NUM_INSTALMENT_VERSION_NUNIQUE</th>\n",
       "      <th>INSTAL_DPD_MAX</th>\n",
       "      <th>INSTAL_DPD_MEAN</th>\n",
       "      <th>INSTAL_DPD_SUM</th>\n",
       "      <th>INSTAL_DBD_MAX</th>\n",
       "      <th>INSTAL_DBD_MEAN</th>\n",
       "      <th>INSTAL_DBD_SUM</th>\n",
       "      <th>INSTAL_PAYMENT_PERC_MAX</th>\n",
       "      <th>INSTAL_PAYMENT_PERC_MEAN</th>\n",
       "      <th>INSTAL_PAYMENT_PERC_SUM</th>\n",
       "      <th>...</th>\n",
       "      <th>INSTAL_AMT_INSTALMENT_MAX</th>\n",
       "      <th>INSTAL_AMT_INSTALMENT_MEAN</th>\n",
       "      <th>INSTAL_AMT_INSTALMENT_SUM</th>\n",
       "      <th>INSTAL_AMT_PAYMENT_MIN</th>\n",
       "      <th>INSTAL_AMT_PAYMENT_MAX</th>\n",
       "      <th>INSTAL_AMT_PAYMENT_MEAN</th>\n",
       "      <th>INSTAL_AMT_PAYMENT_SUM</th>\n",
       "      <th>INSTAL_DAYS_ENTRY_PAYMENT_MAX</th>\n",
       "      <th>INSTAL_DAYS_ENTRY_PAYMENT_MEAN</th>\n",
       "      <th>INSTAL_DAYS_ENTRY_PAYMENT_SUM</th>\n",
       "    </tr>\n",
       "    <tr>\n",
       "      <th>SK_ID_CURR</th>\n",
       "      <th></th>\n",
       "      <th></th>\n",
       "      <th></th>\n",
       "      <th></th>\n",
       "      <th></th>\n",
       "      <th></th>\n",
       "      <th></th>\n",
       "      <th></th>\n",
       "      <th></th>\n",
       "      <th></th>\n",
       "      <th></th>\n",
       "      <th></th>\n",
       "      <th></th>\n",
       "      <th></th>\n",
       "      <th></th>\n",
       "      <th></th>\n",
       "      <th></th>\n",
       "      <th></th>\n",
       "      <th></th>\n",
       "      <th></th>\n",
       "      <th></th>\n",
       "    </tr>\n",
       "  </thead>\n",
       "  <tbody>\n",
       "    <tr>\n",
       "      <th>146101</th>\n",
       "      <td>3</td>\n",
       "      <td>12.0</td>\n",
       "      <td>0.514286</td>\n",
       "      <td>18.0</td>\n",
       "      <td>46.0</td>\n",
       "      <td>16.257143</td>\n",
       "      <td>569.0</td>\n",
       "      <td>1.0</td>\n",
       "      <td>0.914286</td>\n",
       "      <td>32.0</td>\n",
       "      <td>...</td>\n",
       "      <td>14890.95</td>\n",
       "      <td>5402.076429</td>\n",
       "      <td>189072.675</td>\n",
       "      <td>60.030</td>\n",
       "      <td>14890.95</td>\n",
       "      <td>4907.985429</td>\n",
       "      <td>171779.49</td>\n",
       "      <td>-36.0</td>\n",
       "      <td>-231.657143</td>\n",
       "      <td>-8108.0</td>\n",
       "    </tr>\n",
       "    <tr>\n",
       "      <th>184662</th>\n",
       "      <td>2</td>\n",
       "      <td>0.0</td>\n",
       "      <td>0.000000</td>\n",
       "      <td>0.0</td>\n",
       "      <td>10.0</td>\n",
       "      <td>7.142857</td>\n",
       "      <td>50.0</td>\n",
       "      <td>1.0</td>\n",
       "      <td>1.000000</td>\n",
       "      <td>7.0</td>\n",
       "      <td>...</td>\n",
       "      <td>24177.87</td>\n",
       "      <td>14029.572857</td>\n",
       "      <td>98207.010</td>\n",
       "      <td>12338.190</td>\n",
       "      <td>24177.87</td>\n",
       "      <td>14029.572857</td>\n",
       "      <td>98207.01</td>\n",
       "      <td>-83.0</td>\n",
       "      <td>-176.142857</td>\n",
       "      <td>-1233.0</td>\n",
       "    </tr>\n",
       "    <tr>\n",
       "      <th>447820</th>\n",
       "      <td>2</td>\n",
       "      <td>15.0</td>\n",
       "      <td>1.633333</td>\n",
       "      <td>49.0</td>\n",
       "      <td>182.0</td>\n",
       "      <td>31.066667</td>\n",
       "      <td>932.0</td>\n",
       "      <td>1.0</td>\n",
       "      <td>0.800000</td>\n",
       "      <td>24.0</td>\n",
       "      <td>...</td>\n",
       "      <td>9039.87</td>\n",
       "      <td>6636.567000</td>\n",
       "      <td>199097.010</td>\n",
       "      <td>294.885</td>\n",
       "      <td>9039.87</td>\n",
       "      <td>4999.608000</td>\n",
       "      <td>149988.24</td>\n",
       "      <td>-30.0</td>\n",
       "      <td>-1301.100000</td>\n",
       "      <td>-39033.0</td>\n",
       "    </tr>\n",
       "  </tbody>\n",
       "</table>\n",
       "<p>3 rows × 25 columns</p>\n",
       "</div>"
      ],
      "text/plain": [
       "            INSTAL_NUM_INSTALMENT_VERSION_NUNIQUE  INSTAL_DPD_MAX  \\\n",
       "SK_ID_CURR                                                          \n",
       "146101                                          3            12.0   \n",
       "184662                                          2             0.0   \n",
       "447820                                          2            15.0   \n",
       "\n",
       "            INSTAL_DPD_MEAN  INSTAL_DPD_SUM  INSTAL_DBD_MAX  INSTAL_DBD_MEAN  \\\n",
       "SK_ID_CURR                                                                     \n",
       "146101             0.514286            18.0            46.0        16.257143   \n",
       "184662             0.000000             0.0            10.0         7.142857   \n",
       "447820             1.633333            49.0           182.0        31.066667   \n",
       "\n",
       "            INSTAL_DBD_SUM  INSTAL_PAYMENT_PERC_MAX  INSTAL_PAYMENT_PERC_MEAN  \\\n",
       "SK_ID_CURR                                                                      \n",
       "146101               569.0                      1.0                  0.914286   \n",
       "184662                50.0                      1.0                  1.000000   \n",
       "447820               932.0                      1.0                  0.800000   \n",
       "\n",
       "            INSTAL_PAYMENT_PERC_SUM  ...  INSTAL_AMT_INSTALMENT_MAX  \\\n",
       "SK_ID_CURR                           ...                              \n",
       "146101                         32.0  ...                   14890.95   \n",
       "184662                          7.0  ...                   24177.87   \n",
       "447820                         24.0  ...                    9039.87   \n",
       "\n",
       "            INSTAL_AMT_INSTALMENT_MEAN  INSTAL_AMT_INSTALMENT_SUM  \\\n",
       "SK_ID_CURR                                                          \n",
       "146101                     5402.076429                 189072.675   \n",
       "184662                    14029.572857                  98207.010   \n",
       "447820                     6636.567000                 199097.010   \n",
       "\n",
       "            INSTAL_AMT_PAYMENT_MIN  INSTAL_AMT_PAYMENT_MAX  \\\n",
       "SK_ID_CURR                                                   \n",
       "146101                      60.030                14890.95   \n",
       "184662                   12338.190                24177.87   \n",
       "447820                     294.885                 9039.87   \n",
       "\n",
       "            INSTAL_AMT_PAYMENT_MEAN  INSTAL_AMT_PAYMENT_SUM  \\\n",
       "SK_ID_CURR                                                    \n",
       "146101                  4907.985429               171779.49   \n",
       "184662                 14029.572857                98207.01   \n",
       "447820                  4999.608000               149988.24   \n",
       "\n",
       "            INSTAL_DAYS_ENTRY_PAYMENT_MAX  INSTAL_DAYS_ENTRY_PAYMENT_MEAN  \\\n",
       "SK_ID_CURR                                                                  \n",
       "146101                              -36.0                     -231.657143   \n",
       "184662                              -83.0                     -176.142857   \n",
       "447820                              -30.0                    -1301.100000   \n",
       "\n",
       "            INSTAL_DAYS_ENTRY_PAYMENT_SUM  \n",
       "SK_ID_CURR                                 \n",
       "146101                            -8108.0  \n",
       "184662                            -1233.0  \n",
       "447820                           -39033.0  \n",
       "\n",
       "[3 rows x 25 columns]"
      ]
     },
     "execution_count": 66,
     "metadata": {},
     "output_type": "execute_result"
    }
   ],
   "source": [
    "ins_agg.sample(3)"
   ]
  },
  {
   "cell_type": "markdown",
   "id": "7c6fb14a",
   "metadata": {},
   "source": [
    "##### [sommaire](#S)"
   ]
  },
  {
   "cell_type": "markdown",
   "id": "04141860",
   "metadata": {},
   "source": [
    "### F, credit_card_balance <a class='anchor' id='IF'></a>"
   ]
  },
  {
   "cell_type": "code",
   "execution_count": 67,
   "id": "0f9c692e",
   "metadata": {},
   "outputs": [],
   "source": [
    "cc = pd.read_csv('data/credit_card_balance.csv')"
   ]
  },
  {
   "cell_type": "code",
   "execution_count": 68,
   "id": "f4fede0f",
   "metadata": {},
   "outputs": [
    {
     "data": {
      "text/plain": [
       "(3840312, 23)"
      ]
     },
     "execution_count": 68,
     "metadata": {},
     "output_type": "execute_result"
    }
   ],
   "source": [
    "cc.shape"
   ]
  },
  {
   "cell_type": "code",
   "execution_count": 69,
   "id": "fd0ecb05",
   "metadata": {},
   "outputs": [
    {
     "data": {
      "text/html": [
       "<div>\n",
       "<style scoped>\n",
       "    .dataframe tbody tr th:only-of-type {\n",
       "        vertical-align: middle;\n",
       "    }\n",
       "\n",
       "    .dataframe tbody tr th {\n",
       "        vertical-align: top;\n",
       "    }\n",
       "\n",
       "    .dataframe thead th {\n",
       "        text-align: right;\n",
       "    }\n",
       "</style>\n",
       "<table border=\"1\" class=\"dataframe\">\n",
       "  <thead>\n",
       "    <tr style=\"text-align: right;\">\n",
       "      <th></th>\n",
       "      <th>SK_ID_PREV</th>\n",
       "      <th>SK_ID_CURR</th>\n",
       "      <th>MONTHS_BALANCE</th>\n",
       "      <th>AMT_BALANCE</th>\n",
       "      <th>AMT_CREDIT_LIMIT_ACTUAL</th>\n",
       "      <th>AMT_DRAWINGS_ATM_CURRENT</th>\n",
       "      <th>AMT_DRAWINGS_CURRENT</th>\n",
       "      <th>AMT_DRAWINGS_OTHER_CURRENT</th>\n",
       "      <th>AMT_DRAWINGS_POS_CURRENT</th>\n",
       "      <th>AMT_INST_MIN_REGULARITY</th>\n",
       "      <th>...</th>\n",
       "      <th>AMT_RECIVABLE</th>\n",
       "      <th>AMT_TOTAL_RECEIVABLE</th>\n",
       "      <th>CNT_DRAWINGS_ATM_CURRENT</th>\n",
       "      <th>CNT_DRAWINGS_CURRENT</th>\n",
       "      <th>CNT_DRAWINGS_OTHER_CURRENT</th>\n",
       "      <th>CNT_DRAWINGS_POS_CURRENT</th>\n",
       "      <th>CNT_INSTALMENT_MATURE_CUM</th>\n",
       "      <th>NAME_CONTRACT_STATUS</th>\n",
       "      <th>SK_DPD</th>\n",
       "      <th>SK_DPD_DEF</th>\n",
       "    </tr>\n",
       "  </thead>\n",
       "  <tbody>\n",
       "    <tr>\n",
       "      <th>2024478</th>\n",
       "      <td>2439032</td>\n",
       "      <td>278606</td>\n",
       "      <td>-4</td>\n",
       "      <td>143485.380</td>\n",
       "      <td>225000</td>\n",
       "      <td>0.0</td>\n",
       "      <td>22185.0</td>\n",
       "      <td>0.0</td>\n",
       "      <td>22185.0</td>\n",
       "      <td>7577.775</td>\n",
       "      <td>...</td>\n",
       "      <td>143485.380</td>\n",
       "      <td>143485.380</td>\n",
       "      <td>0.0</td>\n",
       "      <td>1</td>\n",
       "      <td>0.0</td>\n",
       "      <td>1.0</td>\n",
       "      <td>6.0</td>\n",
       "      <td>Active</td>\n",
       "      <td>0</td>\n",
       "      <td>0</td>\n",
       "    </tr>\n",
       "    <tr>\n",
       "      <th>1214833</th>\n",
       "      <td>2347769</td>\n",
       "      <td>406197</td>\n",
       "      <td>-8</td>\n",
       "      <td>347019.255</td>\n",
       "      <td>337500</td>\n",
       "      <td>3150.0</td>\n",
       "      <td>3870.0</td>\n",
       "      <td>0.0</td>\n",
       "      <td>720.0</td>\n",
       "      <td>17593.245</td>\n",
       "      <td>...</td>\n",
       "      <td>345673.755</td>\n",
       "      <td>345673.755</td>\n",
       "      <td>1.0</td>\n",
       "      <td>2</td>\n",
       "      <td>0.0</td>\n",
       "      <td>1.0</td>\n",
       "      <td>14.0</td>\n",
       "      <td>Active</td>\n",
       "      <td>0</td>\n",
       "      <td>0</td>\n",
       "    </tr>\n",
       "    <tr>\n",
       "      <th>1245765</th>\n",
       "      <td>1444466</td>\n",
       "      <td>215657</td>\n",
       "      <td>-84</td>\n",
       "      <td>73693.530</td>\n",
       "      <td>180000</td>\n",
       "      <td>2250.0</td>\n",
       "      <td>2250.0</td>\n",
       "      <td>0.0</td>\n",
       "      <td>0.0</td>\n",
       "      <td>4500.000</td>\n",
       "      <td>...</td>\n",
       "      <td>73693.530</td>\n",
       "      <td>73693.530</td>\n",
       "      <td>1.0</td>\n",
       "      <td>1</td>\n",
       "      <td>0.0</td>\n",
       "      <td>0.0</td>\n",
       "      <td>11.0</td>\n",
       "      <td>Active</td>\n",
       "      <td>0</td>\n",
       "      <td>0</td>\n",
       "    </tr>\n",
       "  </tbody>\n",
       "</table>\n",
       "<p>3 rows × 23 columns</p>\n",
       "</div>"
      ],
      "text/plain": [
       "         SK_ID_PREV  SK_ID_CURR  MONTHS_BALANCE  AMT_BALANCE  \\\n",
       "2024478     2439032      278606              -4   143485.380   \n",
       "1214833     2347769      406197              -8   347019.255   \n",
       "1245765     1444466      215657             -84    73693.530   \n",
       "\n",
       "         AMT_CREDIT_LIMIT_ACTUAL  AMT_DRAWINGS_ATM_CURRENT  \\\n",
       "2024478                   225000                       0.0   \n",
       "1214833                   337500                    3150.0   \n",
       "1245765                   180000                    2250.0   \n",
       "\n",
       "         AMT_DRAWINGS_CURRENT  AMT_DRAWINGS_OTHER_CURRENT  \\\n",
       "2024478               22185.0                         0.0   \n",
       "1214833                3870.0                         0.0   \n",
       "1245765                2250.0                         0.0   \n",
       "\n",
       "         AMT_DRAWINGS_POS_CURRENT  AMT_INST_MIN_REGULARITY  ...  \\\n",
       "2024478                   22185.0                 7577.775  ...   \n",
       "1214833                     720.0                17593.245  ...   \n",
       "1245765                       0.0                 4500.000  ...   \n",
       "\n",
       "         AMT_RECIVABLE  AMT_TOTAL_RECEIVABLE  CNT_DRAWINGS_ATM_CURRENT  \\\n",
       "2024478     143485.380            143485.380                       0.0   \n",
       "1214833     345673.755            345673.755                       1.0   \n",
       "1245765      73693.530             73693.530                       1.0   \n",
       "\n",
       "         CNT_DRAWINGS_CURRENT  CNT_DRAWINGS_OTHER_CURRENT  \\\n",
       "2024478                     1                         0.0   \n",
       "1214833                     2                         0.0   \n",
       "1245765                     1                         0.0   \n",
       "\n",
       "         CNT_DRAWINGS_POS_CURRENT  CNT_INSTALMENT_MATURE_CUM  \\\n",
       "2024478                       1.0                        6.0   \n",
       "1214833                       1.0                       14.0   \n",
       "1245765                       0.0                       11.0   \n",
       "\n",
       "         NAME_CONTRACT_STATUS  SK_DPD  SK_DPD_DEF  \n",
       "2024478                Active       0           0  \n",
       "1214833                Active       0           0  \n",
       "1245765                Active       0           0  \n",
       "\n",
       "[3 rows x 23 columns]"
      ]
     },
     "execution_count": 69,
     "metadata": {},
     "output_type": "execute_result"
    }
   ],
   "source": [
    "cc.sample(3)"
   ]
  },
  {
   "cell_type": "code",
   "execution_count": 70,
   "id": "ffef97cf",
   "metadata": {},
   "outputs": [],
   "source": [
    "cc, cat_cols = one_hot_encoder(cc, nan_as_category= True)"
   ]
  },
  {
   "cell_type": "code",
   "execution_count": 71,
   "id": "aee56bc6",
   "metadata": {},
   "outputs": [],
   "source": [
    "# General aggregations\n",
    "cc.drop(['SK_ID_PREV'], axis= 1, inplace = True)\n",
    "cc_agg = cc.groupby('SK_ID_CURR').agg(['min', 'max', 'mean', 'sum', 'var'])\n",
    "cc_agg.columns = pd.Index(['CC_' + e[0] + \"_\" + e[1].upper() for e in cc_agg.columns.tolist()])"
   ]
  },
  {
   "cell_type": "code",
   "execution_count": 72,
   "id": "1066a730",
   "metadata": {},
   "outputs": [],
   "source": [
    "# Count credit card lines\n",
    "cc_agg['CC_COUNT'] = cc.groupby('SK_ID_CURR').size()\n",
    "del cc"
   ]
  },
  {
   "cell_type": "code",
   "execution_count": 73,
   "id": "d9db95d1",
   "metadata": {},
   "outputs": [
    {
     "data": {
      "text/plain": [
       "(103558, 141)"
      ]
     },
     "execution_count": 73,
     "metadata": {},
     "output_type": "execute_result"
    }
   ],
   "source": [
    "cc_agg.shape"
   ]
  },
  {
   "cell_type": "code",
   "execution_count": 74,
   "id": "c104e667",
   "metadata": {},
   "outputs": [
    {
     "data": {
      "text/html": [
       "<div>\n",
       "<style scoped>\n",
       "    .dataframe tbody tr th:only-of-type {\n",
       "        vertical-align: middle;\n",
       "    }\n",
       "\n",
       "    .dataframe tbody tr th {\n",
       "        vertical-align: top;\n",
       "    }\n",
       "\n",
       "    .dataframe thead th {\n",
       "        text-align: right;\n",
       "    }\n",
       "</style>\n",
       "<table border=\"1\" class=\"dataframe\">\n",
       "  <thead>\n",
       "    <tr style=\"text-align: right;\">\n",
       "      <th></th>\n",
       "      <th>CC_MONTHS_BALANCE_MIN</th>\n",
       "      <th>CC_MONTHS_BALANCE_MAX</th>\n",
       "      <th>CC_MONTHS_BALANCE_MEAN</th>\n",
       "      <th>CC_MONTHS_BALANCE_SUM</th>\n",
       "      <th>CC_MONTHS_BALANCE_VAR</th>\n",
       "      <th>CC_AMT_BALANCE_MIN</th>\n",
       "      <th>CC_AMT_BALANCE_MAX</th>\n",
       "      <th>CC_AMT_BALANCE_MEAN</th>\n",
       "      <th>CC_AMT_BALANCE_SUM</th>\n",
       "      <th>CC_AMT_BALANCE_VAR</th>\n",
       "      <th>...</th>\n",
       "      <th>CC_NAME_CONTRACT_STATUS_Signed_MAX</th>\n",
       "      <th>CC_NAME_CONTRACT_STATUS_Signed_MEAN</th>\n",
       "      <th>CC_NAME_CONTRACT_STATUS_Signed_SUM</th>\n",
       "      <th>CC_NAME_CONTRACT_STATUS_Signed_VAR</th>\n",
       "      <th>CC_NAME_CONTRACT_STATUS_nan_MIN</th>\n",
       "      <th>CC_NAME_CONTRACT_STATUS_nan_MAX</th>\n",
       "      <th>CC_NAME_CONTRACT_STATUS_nan_MEAN</th>\n",
       "      <th>CC_NAME_CONTRACT_STATUS_nan_SUM</th>\n",
       "      <th>CC_NAME_CONTRACT_STATUS_nan_VAR</th>\n",
       "      <th>CC_COUNT</th>\n",
       "    </tr>\n",
       "    <tr>\n",
       "      <th>SK_ID_CURR</th>\n",
       "      <th></th>\n",
       "      <th></th>\n",
       "      <th></th>\n",
       "      <th></th>\n",
       "      <th></th>\n",
       "      <th></th>\n",
       "      <th></th>\n",
       "      <th></th>\n",
       "      <th></th>\n",
       "      <th></th>\n",
       "      <th></th>\n",
       "      <th></th>\n",
       "      <th></th>\n",
       "      <th></th>\n",
       "      <th></th>\n",
       "      <th></th>\n",
       "      <th></th>\n",
       "      <th></th>\n",
       "      <th></th>\n",
       "      <th></th>\n",
       "      <th></th>\n",
       "    </tr>\n",
       "  </thead>\n",
       "  <tbody>\n",
       "    <tr>\n",
       "      <th>191567</th>\n",
       "      <td>-39</td>\n",
       "      <td>-2</td>\n",
       "      <td>-20.5</td>\n",
       "      <td>-779</td>\n",
       "      <td>123.500000</td>\n",
       "      <td>0.0</td>\n",
       "      <td>0.0</td>\n",
       "      <td>0.000000</td>\n",
       "      <td>0.000</td>\n",
       "      <td>0.000000e+00</td>\n",
       "      <td>...</td>\n",
       "      <td>0</td>\n",
       "      <td>0.0000</td>\n",
       "      <td>0</td>\n",
       "      <td>0.0000</td>\n",
       "      <td>0</td>\n",
       "      <td>0</td>\n",
       "      <td>0.0</td>\n",
       "      <td>0</td>\n",
       "      <td>0.0</td>\n",
       "      <td>38</td>\n",
       "    </tr>\n",
       "    <tr>\n",
       "      <th>350237</th>\n",
       "      <td>-17</td>\n",
       "      <td>-2</td>\n",
       "      <td>-9.5</td>\n",
       "      <td>-152</td>\n",
       "      <td>22.666667</td>\n",
       "      <td>0.0</td>\n",
       "      <td>11699.1</td>\n",
       "      <td>785.202188</td>\n",
       "      <td>12563.235</td>\n",
       "      <td>8.495590e+06</td>\n",
       "      <td>...</td>\n",
       "      <td>1</td>\n",
       "      <td>0.0625</td>\n",
       "      <td>1</td>\n",
       "      <td>0.0625</td>\n",
       "      <td>0</td>\n",
       "      <td>0</td>\n",
       "      <td>0.0</td>\n",
       "      <td>0</td>\n",
       "      <td>0.0</td>\n",
       "      <td>16</td>\n",
       "    </tr>\n",
       "    <tr>\n",
       "      <th>310384</th>\n",
       "      <td>-10</td>\n",
       "      <td>-2</td>\n",
       "      <td>-6.0</td>\n",
       "      <td>-54</td>\n",
       "      <td>7.500000</td>\n",
       "      <td>0.0</td>\n",
       "      <td>0.0</td>\n",
       "      <td>0.000000</td>\n",
       "      <td>0.000</td>\n",
       "      <td>0.000000e+00</td>\n",
       "      <td>...</td>\n",
       "      <td>0</td>\n",
       "      <td>0.0000</td>\n",
       "      <td>0</td>\n",
       "      <td>0.0000</td>\n",
       "      <td>0</td>\n",
       "      <td>0</td>\n",
       "      <td>0.0</td>\n",
       "      <td>0</td>\n",
       "      <td>0.0</td>\n",
       "      <td>9</td>\n",
       "    </tr>\n",
       "  </tbody>\n",
       "</table>\n",
       "<p>3 rows × 141 columns</p>\n",
       "</div>"
      ],
      "text/plain": [
       "            CC_MONTHS_BALANCE_MIN  CC_MONTHS_BALANCE_MAX  \\\n",
       "SK_ID_CURR                                                 \n",
       "191567                        -39                     -2   \n",
       "350237                        -17                     -2   \n",
       "310384                        -10                     -2   \n",
       "\n",
       "            CC_MONTHS_BALANCE_MEAN  CC_MONTHS_BALANCE_SUM  \\\n",
       "SK_ID_CURR                                                  \n",
       "191567                       -20.5                   -779   \n",
       "350237                        -9.5                   -152   \n",
       "310384                        -6.0                    -54   \n",
       "\n",
       "            CC_MONTHS_BALANCE_VAR  CC_AMT_BALANCE_MIN  CC_AMT_BALANCE_MAX  \\\n",
       "SK_ID_CURR                                                                  \n",
       "191567                 123.500000                 0.0                 0.0   \n",
       "350237                  22.666667                 0.0             11699.1   \n",
       "310384                   7.500000                 0.0                 0.0   \n",
       "\n",
       "            CC_AMT_BALANCE_MEAN  CC_AMT_BALANCE_SUM  CC_AMT_BALANCE_VAR  ...  \\\n",
       "SK_ID_CURR                                                               ...   \n",
       "191567                 0.000000               0.000        0.000000e+00  ...   \n",
       "350237               785.202188           12563.235        8.495590e+06  ...   \n",
       "310384                 0.000000               0.000        0.000000e+00  ...   \n",
       "\n",
       "            CC_NAME_CONTRACT_STATUS_Signed_MAX  \\\n",
       "SK_ID_CURR                                       \n",
       "191567                                       0   \n",
       "350237                                       1   \n",
       "310384                                       0   \n",
       "\n",
       "            CC_NAME_CONTRACT_STATUS_Signed_MEAN  \\\n",
       "SK_ID_CURR                                        \n",
       "191567                                   0.0000   \n",
       "350237                                   0.0625   \n",
       "310384                                   0.0000   \n",
       "\n",
       "            CC_NAME_CONTRACT_STATUS_Signed_SUM  \\\n",
       "SK_ID_CURR                                       \n",
       "191567                                       0   \n",
       "350237                                       1   \n",
       "310384                                       0   \n",
       "\n",
       "            CC_NAME_CONTRACT_STATUS_Signed_VAR  \\\n",
       "SK_ID_CURR                                       \n",
       "191567                                  0.0000   \n",
       "350237                                  0.0625   \n",
       "310384                                  0.0000   \n",
       "\n",
       "            CC_NAME_CONTRACT_STATUS_nan_MIN  CC_NAME_CONTRACT_STATUS_nan_MAX  \\\n",
       "SK_ID_CURR                                                                     \n",
       "191567                                    0                                0   \n",
       "350237                                    0                                0   \n",
       "310384                                    0                                0   \n",
       "\n",
       "            CC_NAME_CONTRACT_STATUS_nan_MEAN  CC_NAME_CONTRACT_STATUS_nan_SUM  \\\n",
       "SK_ID_CURR                                                                      \n",
       "191567                                   0.0                                0   \n",
       "350237                                   0.0                                0   \n",
       "310384                                   0.0                                0   \n",
       "\n",
       "            CC_NAME_CONTRACT_STATUS_nan_VAR  CC_COUNT  \n",
       "SK_ID_CURR                                             \n",
       "191567                                  0.0        38  \n",
       "350237                                  0.0        16  \n",
       "310384                                  0.0         9  \n",
       "\n",
       "[3 rows x 141 columns]"
      ]
     },
     "execution_count": 74,
     "metadata": {},
     "output_type": "execute_result"
    }
   ],
   "source": [
    "cc_agg.sample(3)"
   ]
  },
  {
   "cell_type": "markdown",
   "id": "5f7cf565",
   "metadata": {},
   "source": [
    "##### [sommaire](#S)"
   ]
  },
  {
   "cell_type": "markdown",
   "id": "fe4498cd",
   "metadata": {},
   "source": [
    "### G, Jonction des datas <a class='anchor' id='IG'></a>"
   ]
  },
  {
   "cell_type": "code",
   "execution_count": 75,
   "id": "651ac076",
   "metadata": {},
   "outputs": [],
   "source": [
    "data = df.merge(bureau_agg, how='left', on='SK_ID_CURR')\n",
    "data = data.merge(prev_agg, how='left', on='SK_ID_CURR')\n",
    "data = data.merge(pos_agg, how='left', on='SK_ID_CURR')\n",
    "data = df.merge(ins_agg, how='left', on='SK_ID_CURR')\n",
    "data = df.merge(cc_agg, how='left', on='SK_ID_CURR')"
   ]
  },
  {
   "cell_type": "code",
   "execution_count": 76,
   "id": "fba01a61",
   "metadata": {},
   "outputs": [
    {
     "data": {
      "text/plain": [
       "(356251, 399)"
      ]
     },
     "execution_count": 76,
     "metadata": {},
     "output_type": "execute_result"
    }
   ],
   "source": [
    "data.shape"
   ]
  },
  {
   "cell_type": "code",
   "execution_count": 77,
   "id": "a9b79a49",
   "metadata": {},
   "outputs": [
    {
     "data": {
      "text/html": [
       "<div>\n",
       "<style scoped>\n",
       "    .dataframe tbody tr th:only-of-type {\n",
       "        vertical-align: middle;\n",
       "    }\n",
       "\n",
       "    .dataframe tbody tr th {\n",
       "        vertical-align: top;\n",
       "    }\n",
       "\n",
       "    .dataframe thead th {\n",
       "        text-align: right;\n",
       "    }\n",
       "</style>\n",
       "<table border=\"1\" class=\"dataframe\">\n",
       "  <thead>\n",
       "    <tr style=\"text-align: right;\">\n",
       "      <th></th>\n",
       "      <th>SK_ID_CURR</th>\n",
       "      <th>TARGET</th>\n",
       "      <th>NAME_CONTRACT_TYPE</th>\n",
       "      <th>CODE_GENDER</th>\n",
       "      <th>FLAG_OWN_CAR</th>\n",
       "      <th>FLAG_OWN_REALTY</th>\n",
       "      <th>CNT_CHILDREN</th>\n",
       "      <th>AMT_INCOME_TOTAL</th>\n",
       "      <th>AMT_CREDIT</th>\n",
       "      <th>AMT_ANNUITY</th>\n",
       "      <th>...</th>\n",
       "      <th>CC_NAME_CONTRACT_STATUS_Signed_MAX</th>\n",
       "      <th>CC_NAME_CONTRACT_STATUS_Signed_MEAN</th>\n",
       "      <th>CC_NAME_CONTRACT_STATUS_Signed_SUM</th>\n",
       "      <th>CC_NAME_CONTRACT_STATUS_Signed_VAR</th>\n",
       "      <th>CC_NAME_CONTRACT_STATUS_nan_MIN</th>\n",
       "      <th>CC_NAME_CONTRACT_STATUS_nan_MAX</th>\n",
       "      <th>CC_NAME_CONTRACT_STATUS_nan_MEAN</th>\n",
       "      <th>CC_NAME_CONTRACT_STATUS_nan_SUM</th>\n",
       "      <th>CC_NAME_CONTRACT_STATUS_nan_VAR</th>\n",
       "      <th>CC_COUNT</th>\n",
       "    </tr>\n",
       "  </thead>\n",
       "  <tbody>\n",
       "    <tr>\n",
       "      <th>188327</th>\n",
       "      <td>318340</td>\n",
       "      <td>0.0</td>\n",
       "      <td>1</td>\n",
       "      <td>1</td>\n",
       "      <td>0</td>\n",
       "      <td>1</td>\n",
       "      <td>0</td>\n",
       "      <td>135000.0</td>\n",
       "      <td>337500.0</td>\n",
       "      <td>16875.0</td>\n",
       "      <td>...</td>\n",
       "      <td>NaN</td>\n",
       "      <td>NaN</td>\n",
       "      <td>NaN</td>\n",
       "      <td>NaN</td>\n",
       "      <td>NaN</td>\n",
       "      <td>NaN</td>\n",
       "      <td>NaN</td>\n",
       "      <td>NaN</td>\n",
       "      <td>NaN</td>\n",
       "      <td>NaN</td>\n",
       "    </tr>\n",
       "    <tr>\n",
       "      <th>215259</th>\n",
       "      <td>349438</td>\n",
       "      <td>0.0</td>\n",
       "      <td>0</td>\n",
       "      <td>1</td>\n",
       "      <td>0</td>\n",
       "      <td>1</td>\n",
       "      <td>0</td>\n",
       "      <td>135000.0</td>\n",
       "      <td>213948.0</td>\n",
       "      <td>12411.0</td>\n",
       "      <td>...</td>\n",
       "      <td>NaN</td>\n",
       "      <td>NaN</td>\n",
       "      <td>NaN</td>\n",
       "      <td>NaN</td>\n",
       "      <td>NaN</td>\n",
       "      <td>NaN</td>\n",
       "      <td>NaN</td>\n",
       "      <td>NaN</td>\n",
       "      <td>NaN</td>\n",
       "      <td>NaN</td>\n",
       "    </tr>\n",
       "    <tr>\n",
       "      <th>310941</th>\n",
       "      <td>124195</td>\n",
       "      <td>NaN</td>\n",
       "      <td>0</td>\n",
       "      <td>1</td>\n",
       "      <td>0</td>\n",
       "      <td>0</td>\n",
       "      <td>1</td>\n",
       "      <td>67500.0</td>\n",
       "      <td>49500.0</td>\n",
       "      <td>5202.0</td>\n",
       "      <td>...</td>\n",
       "      <td>1.0</td>\n",
       "      <td>0.071429</td>\n",
       "      <td>1.0</td>\n",
       "      <td>0.071429</td>\n",
       "      <td>0.0</td>\n",
       "      <td>0.0</td>\n",
       "      <td>0.0</td>\n",
       "      <td>0.0</td>\n",
       "      <td>0.0</td>\n",
       "      <td>14.0</td>\n",
       "    </tr>\n",
       "  </tbody>\n",
       "</table>\n",
       "<p>3 rows × 399 columns</p>\n",
       "</div>"
      ],
      "text/plain": [
       "        SK_ID_CURR  TARGET  NAME_CONTRACT_TYPE  CODE_GENDER  FLAG_OWN_CAR  \\\n",
       "188327      318340     0.0                   1            1             0   \n",
       "215259      349438     0.0                   0            1             0   \n",
       "310941      124195     NaN                   0            1             0   \n",
       "\n",
       "        FLAG_OWN_REALTY  CNT_CHILDREN  AMT_INCOME_TOTAL  AMT_CREDIT  \\\n",
       "188327                1             0          135000.0    337500.0   \n",
       "215259                1             0          135000.0    213948.0   \n",
       "310941                0             1           67500.0     49500.0   \n",
       "\n",
       "        AMT_ANNUITY  ...  CC_NAME_CONTRACT_STATUS_Signed_MAX  \\\n",
       "188327      16875.0  ...                                 NaN   \n",
       "215259      12411.0  ...                                 NaN   \n",
       "310941       5202.0  ...                                 1.0   \n",
       "\n",
       "        CC_NAME_CONTRACT_STATUS_Signed_MEAN  \\\n",
       "188327                                  NaN   \n",
       "215259                                  NaN   \n",
       "310941                             0.071429   \n",
       "\n",
       "        CC_NAME_CONTRACT_STATUS_Signed_SUM  \\\n",
       "188327                                 NaN   \n",
       "215259                                 NaN   \n",
       "310941                                 1.0   \n",
       "\n",
       "        CC_NAME_CONTRACT_STATUS_Signed_VAR  CC_NAME_CONTRACT_STATUS_nan_MIN  \\\n",
       "188327                                 NaN                              NaN   \n",
       "215259                                 NaN                              NaN   \n",
       "310941                            0.071429                              0.0   \n",
       "\n",
       "        CC_NAME_CONTRACT_STATUS_nan_MAX  CC_NAME_CONTRACT_STATUS_nan_MEAN  \\\n",
       "188327                              NaN                               NaN   \n",
       "215259                              NaN                               NaN   \n",
       "310941                              0.0                               0.0   \n",
       "\n",
       "        CC_NAME_CONTRACT_STATUS_nan_SUM  CC_NAME_CONTRACT_STATUS_nan_VAR  \\\n",
       "188327                              NaN                              NaN   \n",
       "215259                              NaN                              NaN   \n",
       "310941                              0.0                              0.0   \n",
       "\n",
       "        CC_COUNT  \n",
       "188327       NaN  \n",
       "215259       NaN  \n",
       "310941      14.0  \n",
       "\n",
       "[3 rows x 399 columns]"
      ]
     },
     "execution_count": 77,
     "metadata": {},
     "output_type": "execute_result"
    }
   ],
   "source": [
    "data.sample(3)"
   ]
  },
  {
   "cell_type": "code",
   "execution_count": 78,
   "id": "8017118f",
   "metadata": {},
   "outputs": [
    {
     "data": {
      "text/html": [
       "<div>\n",
       "<style scoped>\n",
       "    .dataframe tbody tr th:only-of-type {\n",
       "        vertical-align: middle;\n",
       "    }\n",
       "\n",
       "    .dataframe tbody tr th {\n",
       "        vertical-align: top;\n",
       "    }\n",
       "\n",
       "    .dataframe thead th {\n",
       "        text-align: right;\n",
       "    }\n",
       "</style>\n",
       "<table border=\"1\" class=\"dataframe\">\n",
       "  <thead>\n",
       "    <tr style=\"text-align: right;\">\n",
       "      <th></th>\n",
       "      <th>SK_ID_CURR</th>\n",
       "      <th>TARGET</th>\n",
       "      <th>NAME_CONTRACT_TYPE</th>\n",
       "      <th>CODE_GENDER</th>\n",
       "      <th>FLAG_OWN_CAR</th>\n",
       "      <th>FLAG_OWN_REALTY</th>\n",
       "      <th>CNT_CHILDREN</th>\n",
       "      <th>AMT_INCOME_TOTAL</th>\n",
       "      <th>AMT_CREDIT</th>\n",
       "      <th>AMT_ANNUITY</th>\n",
       "      <th>...</th>\n",
       "      <th>CC_NAME_CONTRACT_STATUS_Signed_MAX</th>\n",
       "      <th>CC_NAME_CONTRACT_STATUS_Signed_MEAN</th>\n",
       "      <th>CC_NAME_CONTRACT_STATUS_Signed_SUM</th>\n",
       "      <th>CC_NAME_CONTRACT_STATUS_Signed_VAR</th>\n",
       "      <th>CC_NAME_CONTRACT_STATUS_nan_MIN</th>\n",
       "      <th>CC_NAME_CONTRACT_STATUS_nan_MAX</th>\n",
       "      <th>CC_NAME_CONTRACT_STATUS_nan_MEAN</th>\n",
       "      <th>CC_NAME_CONTRACT_STATUS_nan_SUM</th>\n",
       "      <th>CC_NAME_CONTRACT_STATUS_nan_VAR</th>\n",
       "      <th>CC_COUNT</th>\n",
       "    </tr>\n",
       "  </thead>\n",
       "  <tbody>\n",
       "    <tr>\n",
       "      <th>179664</th>\n",
       "      <td>308207</td>\n",
       "      <td>0.0</td>\n",
       "      <td>0</td>\n",
       "      <td>1</td>\n",
       "      <td>0</td>\n",
       "      <td>0</td>\n",
       "      <td>0</td>\n",
       "      <td>157500.0</td>\n",
       "      <td>668304.0</td>\n",
       "      <td>29565.0</td>\n",
       "      <td>...</td>\n",
       "      <td>NaN</td>\n",
       "      <td>NaN</td>\n",
       "      <td>NaN</td>\n",
       "      <td>NaN</td>\n",
       "      <td>NaN</td>\n",
       "      <td>NaN</td>\n",
       "      <td>NaN</td>\n",
       "      <td>NaN</td>\n",
       "      <td>NaN</td>\n",
       "      <td>NaN</td>\n",
       "    </tr>\n",
       "    <tr>\n",
       "      <th>299739</th>\n",
       "      <td>447254</td>\n",
       "      <td>0.0</td>\n",
       "      <td>0</td>\n",
       "      <td>1</td>\n",
       "      <td>0</td>\n",
       "      <td>1</td>\n",
       "      <td>0</td>\n",
       "      <td>99000.0</td>\n",
       "      <td>552555.0</td>\n",
       "      <td>16879.5</td>\n",
       "      <td>...</td>\n",
       "      <td>NaN</td>\n",
       "      <td>NaN</td>\n",
       "      <td>NaN</td>\n",
       "      <td>NaN</td>\n",
       "      <td>NaN</td>\n",
       "      <td>NaN</td>\n",
       "      <td>NaN</td>\n",
       "      <td>NaN</td>\n",
       "      <td>NaN</td>\n",
       "      <td>NaN</td>\n",
       "    </tr>\n",
       "    <tr>\n",
       "      <th>318332</th>\n",
       "      <td>178620</td>\n",
       "      <td>NaN</td>\n",
       "      <td>0</td>\n",
       "      <td>0</td>\n",
       "      <td>1</td>\n",
       "      <td>0</td>\n",
       "      <td>0</td>\n",
       "      <td>157500.0</td>\n",
       "      <td>286704.0</td>\n",
       "      <td>22779.0</td>\n",
       "      <td>...</td>\n",
       "      <td>NaN</td>\n",
       "      <td>NaN</td>\n",
       "      <td>NaN</td>\n",
       "      <td>NaN</td>\n",
       "      <td>NaN</td>\n",
       "      <td>NaN</td>\n",
       "      <td>NaN</td>\n",
       "      <td>NaN</td>\n",
       "      <td>NaN</td>\n",
       "      <td>NaN</td>\n",
       "    </tr>\n",
       "  </tbody>\n",
       "</table>\n",
       "<p>3 rows × 399 columns</p>\n",
       "</div>"
      ],
      "text/plain": [
       "        SK_ID_CURR  TARGET  NAME_CONTRACT_TYPE  CODE_GENDER  FLAG_OWN_CAR  \\\n",
       "179664      308207     0.0                   0            1             0   \n",
       "299739      447254     0.0                   0            1             0   \n",
       "318332      178620     NaN                   0            0             1   \n",
       "\n",
       "        FLAG_OWN_REALTY  CNT_CHILDREN  AMT_INCOME_TOTAL  AMT_CREDIT  \\\n",
       "179664                0             0          157500.0    668304.0   \n",
       "299739                1             0           99000.0    552555.0   \n",
       "318332                0             0          157500.0    286704.0   \n",
       "\n",
       "        AMT_ANNUITY  ...  CC_NAME_CONTRACT_STATUS_Signed_MAX  \\\n",
       "179664      29565.0  ...                                 NaN   \n",
       "299739      16879.5  ...                                 NaN   \n",
       "318332      22779.0  ...                                 NaN   \n",
       "\n",
       "        CC_NAME_CONTRACT_STATUS_Signed_MEAN  \\\n",
       "179664                                  NaN   \n",
       "299739                                  NaN   \n",
       "318332                                  NaN   \n",
       "\n",
       "        CC_NAME_CONTRACT_STATUS_Signed_SUM  \\\n",
       "179664                                 NaN   \n",
       "299739                                 NaN   \n",
       "318332                                 NaN   \n",
       "\n",
       "        CC_NAME_CONTRACT_STATUS_Signed_VAR  CC_NAME_CONTRACT_STATUS_nan_MIN  \\\n",
       "179664                                 NaN                              NaN   \n",
       "299739                                 NaN                              NaN   \n",
       "318332                                 NaN                              NaN   \n",
       "\n",
       "        CC_NAME_CONTRACT_STATUS_nan_MAX  CC_NAME_CONTRACT_STATUS_nan_MEAN  \\\n",
       "179664                              NaN                               NaN   \n",
       "299739                              NaN                               NaN   \n",
       "318332                              NaN                               NaN   \n",
       "\n",
       "        CC_NAME_CONTRACT_STATUS_nan_SUM  CC_NAME_CONTRACT_STATUS_nan_VAR  \\\n",
       "179664                              NaN                              NaN   \n",
       "299739                              NaN                              NaN   \n",
       "318332                              NaN                              NaN   \n",
       "\n",
       "        CC_COUNT  \n",
       "179664       NaN  \n",
       "299739       NaN  \n",
       "318332       NaN  \n",
       "\n",
       "[3 rows x 399 columns]"
      ]
     },
     "execution_count": 78,
     "metadata": {},
     "output_type": "execute_result"
    }
   ],
   "source": [
    "data.sample(3)"
   ]
  },
  {
   "cell_type": "code",
   "execution_count": 79,
   "id": "9b495bb1",
   "metadata": {},
   "outputs": [
    {
     "data": {
      "text/plain": [
       "SK_ID_CURR                               0\n",
       "TARGET                               48744\n",
       "NAME_CONTRACT_TYPE                       0\n",
       "CODE_GENDER                              0\n",
       "FLAG_OWN_CAR                             0\n",
       "                                     ...  \n",
       "CC_NAME_CONTRACT_STATUS_nan_MAX     252693\n",
       "CC_NAME_CONTRACT_STATUS_nan_MEAN    252693\n",
       "CC_NAME_CONTRACT_STATUS_nan_SUM     252693\n",
       "CC_NAME_CONTRACT_STATUS_nan_VAR     253385\n",
       "CC_COUNT                            252693\n",
       "Length: 399, dtype: int64"
      ]
     },
     "execution_count": 79,
     "metadata": {},
     "output_type": "execute_result"
    }
   ],
   "source": [
    "data.isna().sum()"
   ]
  },
  {
   "cell_type": "code",
   "execution_count": 80,
   "id": "8ac0f25e",
   "metadata": {},
   "outputs": [
    {
     "data": {
      "text/plain": [
       "(46377785, 32.627290905938025)"
      ]
     },
     "execution_count": 80,
     "metadata": {},
     "output_type": "execute_result"
    }
   ],
   "source": [
    "data.isna().sum().sum(), (data.isna().sum().sum() / (data.shape[0]*data.shape[1]))*100"
   ]
  },
  {
   "cell_type": "code",
   "execution_count": 81,
   "id": "0d66c232",
   "metadata": {
    "scrolled": true
   },
   "outputs": [
    {
     "data": {
      "text/plain": [
       "array([nan,  0.])"
      ]
     },
     "execution_count": 81,
     "metadata": {},
     "output_type": "execute_result"
    }
   ],
   "source": [
    "data.CC_NAME_CONTRACT_STATUS_nan_MAX.unique()"
   ]
  },
  {
   "cell_type": "code",
   "execution_count": 82,
   "id": "4f1733d6",
   "metadata": {
    "scrolled": false
   },
   "outputs": [
    {
     "name": "stdout",
     "output_type": "stream",
     "text": [
      "TARGET\n",
      "[ 1.  0. nan]\n",
      "-----------------------------------------\n",
      "CC_CNT_DRAWINGS_OTHER_CURRENT_MIN\n",
      "[nan  0.  2.  1.]\n",
      "-----------------------------------------\n",
      "CC_SK_DPD_MIN\n",
      "[ nan   0. 458.]\n",
      "-----------------------------------------\n",
      "CC_SK_DPD_DEF_MIN\n",
      "[ nan   0. 458.]\n",
      "-----------------------------------------\n",
      "CC_NAME_CONTRACT_STATUS_Active_MIN\n",
      "[nan  1.  0.]\n",
      "-----------------------------------------\n",
      "CC_NAME_CONTRACT_STATUS_Active_MAX\n",
      "[nan  1.  0.]\n",
      "-----------------------------------------\n",
      "CC_NAME_CONTRACT_STATUS_Approved_MIN\n",
      "[nan  0.]\n",
      "-----------------------------------------\n",
      "CC_NAME_CONTRACT_STATUS_Approved_MAX\n",
      "[nan  0.  1.]\n",
      "-----------------------------------------\n",
      "CC_NAME_CONTRACT_STATUS_Approved_SUM\n",
      "[nan  0.  1.]\n",
      "-----------------------------------------\n",
      "CC_NAME_CONTRACT_STATUS_Completed_MIN\n",
      "[nan  0.  1.]\n",
      "-----------------------------------------\n",
      "CC_NAME_CONTRACT_STATUS_Completed_MAX\n",
      "[nan  0.  1.]\n",
      "-----------------------------------------\n",
      "CC_NAME_CONTRACT_STATUS_Demand_MIN\n",
      "[nan  0.  1.]\n",
      "-----------------------------------------\n",
      "CC_NAME_CONTRACT_STATUS_Demand_MAX\n",
      "[nan  0.  1.]\n",
      "-----------------------------------------\n",
      "CC_NAME_CONTRACT_STATUS_Refused_MIN\n",
      "[nan  0.]\n",
      "-----------------------------------------\n",
      "CC_NAME_CONTRACT_STATUS_Refused_MAX\n",
      "[nan  0.  1.]\n",
      "-----------------------------------------\n",
      "CC_NAME_CONTRACT_STATUS_Refused_SUM\n",
      "[nan  0.  1.]\n",
      "-----------------------------------------\n",
      "CC_NAME_CONTRACT_STATUS_Sent proposal_MIN\n",
      "[nan  0.]\n",
      "-----------------------------------------\n",
      "CC_NAME_CONTRACT_STATUS_Sent proposal_MAX\n",
      "[nan  0.  1.]\n",
      "-----------------------------------------\n",
      "CC_NAME_CONTRACT_STATUS_Sent proposal_SUM\n",
      "[nan  0.  1.]\n",
      "-----------------------------------------\n",
      "CC_NAME_CONTRACT_STATUS_Signed_MIN\n",
      "[nan  0.  1.]\n",
      "-----------------------------------------\n",
      "CC_NAME_CONTRACT_STATUS_Signed_MAX\n",
      "[nan  0.  1.]\n",
      "-----------------------------------------\n",
      "CC_NAME_CONTRACT_STATUS_nan_MIN\n",
      "[nan  0.]\n",
      "-----------------------------------------\n",
      "CC_NAME_CONTRACT_STATUS_nan_MAX\n",
      "[nan  0.]\n",
      "-----------------------------------------\n",
      "CC_NAME_CONTRACT_STATUS_nan_MEAN\n",
      "[nan  0.]\n",
      "-----------------------------------------\n",
      "CC_NAME_CONTRACT_STATUS_nan_SUM\n",
      "[nan  0.]\n",
      "-----------------------------------------\n",
      "CC_NAME_CONTRACT_STATUS_nan_VAR\n",
      "[nan  0.]\n",
      "-----------------------------------------\n"
     ]
    }
   ],
   "source": [
    "for c in data.columns:\n",
    "    if (len(data[c].unique()) < 5) & (data[c].isna().sum() > 0):\n",
    "        print(c)\n",
    "        print(data[c].unique())\n",
    "        print('-----------------------------------------')"
   ]
  },
  {
   "cell_type": "code",
   "execution_count": 83,
   "id": "3c66b80f",
   "metadata": {
    "scrolled": true
   },
   "outputs": [
    {
     "data": {
      "text/html": [
       "<div>\n",
       "<style scoped>\n",
       "    .dataframe tbody tr th:only-of-type {\n",
       "        vertical-align: middle;\n",
       "    }\n",
       "\n",
       "    .dataframe tbody tr th {\n",
       "        vertical-align: top;\n",
       "    }\n",
       "\n",
       "    .dataframe thead th {\n",
       "        text-align: right;\n",
       "    }\n",
       "</style>\n",
       "<table border=\"1\" class=\"dataframe\">\n",
       "  <thead>\n",
       "    <tr style=\"text-align: right;\">\n",
       "      <th></th>\n",
       "      <th>SK_ID_CURR</th>\n",
       "      <th>TARGET</th>\n",
       "      <th>NAME_CONTRACT_TYPE</th>\n",
       "      <th>CODE_GENDER</th>\n",
       "      <th>FLAG_OWN_CAR</th>\n",
       "      <th>FLAG_OWN_REALTY</th>\n",
       "      <th>CNT_CHILDREN</th>\n",
       "      <th>AMT_INCOME_TOTAL</th>\n",
       "      <th>AMT_CREDIT</th>\n",
       "      <th>AMT_ANNUITY</th>\n",
       "      <th>...</th>\n",
       "      <th>CC_NAME_CONTRACT_STATUS_Signed_MAX</th>\n",
       "      <th>CC_NAME_CONTRACT_STATUS_Signed_MEAN</th>\n",
       "      <th>CC_NAME_CONTRACT_STATUS_Signed_SUM</th>\n",
       "      <th>CC_NAME_CONTRACT_STATUS_Signed_VAR</th>\n",
       "      <th>CC_NAME_CONTRACT_STATUS_nan_MIN</th>\n",
       "      <th>CC_NAME_CONTRACT_STATUS_nan_MAX</th>\n",
       "      <th>CC_NAME_CONTRACT_STATUS_nan_MEAN</th>\n",
       "      <th>CC_NAME_CONTRACT_STATUS_nan_SUM</th>\n",
       "      <th>CC_NAME_CONTRACT_STATUS_nan_VAR</th>\n",
       "      <th>CC_COUNT</th>\n",
       "    </tr>\n",
       "  </thead>\n",
       "  <tbody>\n",
       "  </tbody>\n",
       "</table>\n",
       "<p>0 rows × 399 columns</p>\n",
       "</div>"
      ],
      "text/plain": [
       "Empty DataFrame\n",
       "Columns: [SK_ID_CURR, TARGET, NAME_CONTRACT_TYPE, CODE_GENDER, FLAG_OWN_CAR, FLAG_OWN_REALTY, CNT_CHILDREN, AMT_INCOME_TOTAL, AMT_CREDIT, AMT_ANNUITY, AMT_GOODS_PRICE, REGION_POPULATION_RELATIVE, DAYS_BIRTH, DAYS_EMPLOYED, DAYS_REGISTRATION, DAYS_ID_PUBLISH, OWN_CAR_AGE, FLAG_MOBIL, FLAG_EMP_PHONE, FLAG_WORK_PHONE, FLAG_CONT_MOBILE, FLAG_PHONE, FLAG_EMAIL, CNT_FAM_MEMBERS, REGION_RATING_CLIENT, REGION_RATING_CLIENT_W_CITY, HOUR_APPR_PROCESS_START, REG_REGION_NOT_LIVE_REGION, REG_REGION_NOT_WORK_REGION, LIVE_REGION_NOT_WORK_REGION, REG_CITY_NOT_LIVE_CITY, REG_CITY_NOT_WORK_CITY, LIVE_CITY_NOT_WORK_CITY, EXT_SOURCE_1, EXT_SOURCE_2, EXT_SOURCE_3, APARTMENTS_AVG, BASEMENTAREA_AVG, YEARS_BEGINEXPLUATATION_AVG, YEARS_BUILD_AVG, COMMONAREA_AVG, ELEVATORS_AVG, ENTRANCES_AVG, FLOORSMAX_AVG, FLOORSMIN_AVG, LANDAREA_AVG, LIVINGAPARTMENTS_AVG, LIVINGAREA_AVG, NONLIVINGAPARTMENTS_AVG, NONLIVINGAREA_AVG, APARTMENTS_MODE, BASEMENTAREA_MODE, YEARS_BEGINEXPLUATATION_MODE, YEARS_BUILD_MODE, COMMONAREA_MODE, ELEVATORS_MODE, ENTRANCES_MODE, FLOORSMAX_MODE, FLOORSMIN_MODE, LANDAREA_MODE, LIVINGAPARTMENTS_MODE, LIVINGAREA_MODE, NONLIVINGAPARTMENTS_MODE, NONLIVINGAREA_MODE, APARTMENTS_MEDI, BASEMENTAREA_MEDI, YEARS_BEGINEXPLUATATION_MEDI, YEARS_BUILD_MEDI, COMMONAREA_MEDI, ELEVATORS_MEDI, ENTRANCES_MEDI, FLOORSMAX_MEDI, FLOORSMIN_MEDI, LANDAREA_MEDI, LIVINGAPARTMENTS_MEDI, LIVINGAREA_MEDI, NONLIVINGAPARTMENTS_MEDI, NONLIVINGAREA_MEDI, TOTALAREA_MODE, OBS_30_CNT_SOCIAL_CIRCLE, DEF_30_CNT_SOCIAL_CIRCLE, OBS_60_CNT_SOCIAL_CIRCLE, DEF_60_CNT_SOCIAL_CIRCLE, DAYS_LAST_PHONE_CHANGE, FLAG_DOCUMENT_2, FLAG_DOCUMENT_3, FLAG_DOCUMENT_4, FLAG_DOCUMENT_5, FLAG_DOCUMENT_6, FLAG_DOCUMENT_7, FLAG_DOCUMENT_8, FLAG_DOCUMENT_9, FLAG_DOCUMENT_10, FLAG_DOCUMENT_11, FLAG_DOCUMENT_12, FLAG_DOCUMENT_13, FLAG_DOCUMENT_14, FLAG_DOCUMENT_15, FLAG_DOCUMENT_16, FLAG_DOCUMENT_17, ...]\n",
       "Index: []\n",
       "\n",
       "[0 rows x 399 columns]"
      ]
     },
     "execution_count": 83,
     "metadata": {},
     "output_type": "execute_result"
    }
   ],
   "source": [
    "data[data.duplicated('SK_ID_CURR')]"
   ]
  },
  {
   "cell_type": "code",
   "execution_count": 84,
   "id": "14a0ec40",
   "metadata": {},
   "outputs": [
    {
     "data": {
      "text/plain": [
       "0.0    282682\n",
       "NaN     48744\n",
       "1.0     24825\n",
       "Name: TARGET, dtype: int64"
      ]
     },
     "execution_count": 84,
     "metadata": {},
     "output_type": "execute_result"
    }
   ],
   "source": [
    "data.TARGET.value_counts(dropna=False)"
   ]
  },
  {
   "cell_type": "code",
   "execution_count": 85,
   "id": "9ed5cd1b",
   "metadata": {},
   "outputs": [],
   "source": [
    "data = data[data.TARGET.notna()]"
   ]
  },
  {
   "cell_type": "code",
   "execution_count": 86,
   "id": "4fca14d5",
   "metadata": {},
   "outputs": [],
   "source": [
    "data = data.set_index('SK_ID_CURR', drop=True)"
   ]
  },
  {
   "cell_type": "code",
   "execution_count": 87,
   "id": "d5bdab5a",
   "metadata": {},
   "outputs": [],
   "source": [
    "data_x = data.drop('TARGET', axis=1)"
   ]
  },
  {
   "cell_type": "code",
   "execution_count": 88,
   "id": "b893f170",
   "metadata": {},
   "outputs": [],
   "source": [
    "def supp_nan(df):\n",
    "    for c in df.columns:\n",
    "        if len(df[c].unique()) < 5:\n",
    "            df[c], uniques = pd.factorize(df[c])\n",
    "        elif (len(df[c].unique()) >= 5) & (df[c].isna().sum() > 0):\n",
    "            df[c].fillna(df[c].mean(), inplace=True)\n",
    "    return df"
   ]
  },
  {
   "cell_type": "code",
   "execution_count": 89,
   "id": "478f5ab4",
   "metadata": {},
   "outputs": [],
   "source": [
    "data_x = supp_nan(data_x)"
   ]
  },
  {
   "cell_type": "code",
   "execution_count": 90,
   "id": "5c8c7a5b",
   "metadata": {},
   "outputs": [],
   "source": [
    "from sklearn.preprocessing import MinMaxScaler\n",
    "\n",
    "mms = MinMaxScaler()\n",
    "\n",
    "data_scaled = mms.fit_transform(data_x)"
   ]
  },
  {
   "cell_type": "code",
   "execution_count": 91,
   "id": "94f3f1a4",
   "metadata": {},
   "outputs": [],
   "source": [
    "data_scaled = pd.DataFrame(data_scaled, index=data_x.index, columns=data_x.columns)"
   ]
  },
  {
   "cell_type": "code",
   "execution_count": 92,
   "id": "209c1009",
   "metadata": {},
   "outputs": [],
   "source": [
    "data_scaled['TARGET'] = data['TARGET']"
   ]
  },
  {
   "cell_type": "code",
   "execution_count": 93,
   "id": "6df2eb2f",
   "metadata": {},
   "outputs": [
    {
     "name": "stdout",
     "output_type": "stream",
     "text": [
      "NAME_INCOME_TYPE_nan\n",
      "[0.]\n",
      "NAME_EDUCATION_TYPE_nan\n",
      "[0.]\n",
      "NAME_FAMILY_STATUS_nan\n",
      "[0.]\n",
      "NAME_HOUSING_TYPE_nan\n",
      "[0.]\n",
      "WEEKDAY_APPR_PROCESS_START_nan\n",
      "[0.]\n",
      "ORGANIZATION_TYPE_nan\n",
      "[0.]\n"
     ]
    }
   ],
   "source": [
    "colonnes = []\n",
    "for i in data_scaled.columns:\n",
    "    if len(data_scaled[i].unique()) == 1:\n",
    "        print(i)\n",
    "        print(data_scaled[i].unique())\n",
    "        colonnes.append(i)"
   ]
  },
  {
   "cell_type": "code",
   "execution_count": 94,
   "id": "d6a2dce9",
   "metadata": {},
   "outputs": [],
   "source": [
    "data_scaled = data_scaled.loc[:,~data_scaled.columns.isin(colonnes)]"
   ]
  },
  {
   "cell_type": "code",
   "execution_count": 95,
   "id": "3e60ef34",
   "metadata": {},
   "outputs": [
    {
     "name": "stdout",
     "output_type": "stream",
     "text": [
      "NAME_TYPE_SUITE\n",
      "OCCUPATION_TYPE\n",
      "FONDKAPREMONT_MODE\n",
      "HOUSETYPE_MODE\n",
      "WALLSMATERIAL_MODE\n",
      "EMERGENCYSTATE_MODE\n",
      "CC_NAME_CONTRACT_STATUS_MIN\n",
      "CC_NAME_CONTRACT_STATUS_MAX\n",
      "CC_NAME_CONTRACT_STATUS_MEAN\n",
      "CC_NAME_CONTRACT_STATUS_SUM\n",
      "CC_NAME_CONTRACT_STATUS_VAR\n"
     ]
    }
   ],
   "source": [
    "for i in data_scaled.columns:\n",
    "    if '_nan' in i:\n",
    "        new_i = i.replace('_nan', '')\n",
    "        print(new_i)\n",
    "        data_scaled.rename(columns={i: new_i},inplace=True)"
   ]
  },
  {
   "cell_type": "code",
   "execution_count": 96,
   "id": "e1610726",
   "metadata": {
    "scrolled": true
   },
   "outputs": [
    {
     "data": {
      "text/html": [
       "<div>\n",
       "<style scoped>\n",
       "    .dataframe tbody tr th:only-of-type {\n",
       "        vertical-align: middle;\n",
       "    }\n",
       "\n",
       "    .dataframe tbody tr th {\n",
       "        vertical-align: top;\n",
       "    }\n",
       "\n",
       "    .dataframe thead th {\n",
       "        text-align: right;\n",
       "    }\n",
       "</style>\n",
       "<table border=\"1\" class=\"dataframe\">\n",
       "  <thead>\n",
       "    <tr style=\"text-align: right;\">\n",
       "      <th></th>\n",
       "      <th>NAME_CONTRACT_TYPE</th>\n",
       "      <th>CODE_GENDER</th>\n",
       "      <th>FLAG_OWN_CAR</th>\n",
       "      <th>FLAG_OWN_REALTY</th>\n",
       "      <th>CNT_CHILDREN</th>\n",
       "      <th>AMT_INCOME_TOTAL</th>\n",
       "      <th>AMT_CREDIT</th>\n",
       "      <th>AMT_ANNUITY</th>\n",
       "      <th>AMT_GOODS_PRICE</th>\n",
       "      <th>REGION_POPULATION_RELATIVE</th>\n",
       "      <th>...</th>\n",
       "      <th>CC_NAME_CONTRACT_STATUS_Signed_MEAN</th>\n",
       "      <th>CC_NAME_CONTRACT_STATUS_Signed_SUM</th>\n",
       "      <th>CC_NAME_CONTRACT_STATUS_Signed_VAR</th>\n",
       "      <th>CC_NAME_CONTRACT_STATUS_MIN</th>\n",
       "      <th>CC_NAME_CONTRACT_STATUS_MAX</th>\n",
       "      <th>CC_NAME_CONTRACT_STATUS_MEAN</th>\n",
       "      <th>CC_NAME_CONTRACT_STATUS_SUM</th>\n",
       "      <th>CC_NAME_CONTRACT_STATUS_VAR</th>\n",
       "      <th>CC_COUNT</th>\n",
       "      <th>TARGET</th>\n",
       "    </tr>\n",
       "    <tr>\n",
       "      <th>SK_ID_CURR</th>\n",
       "      <th></th>\n",
       "      <th></th>\n",
       "      <th></th>\n",
       "      <th></th>\n",
       "      <th></th>\n",
       "      <th></th>\n",
       "      <th></th>\n",
       "      <th></th>\n",
       "      <th></th>\n",
       "      <th></th>\n",
       "      <th></th>\n",
       "      <th></th>\n",
       "      <th></th>\n",
       "      <th></th>\n",
       "      <th></th>\n",
       "      <th></th>\n",
       "      <th></th>\n",
       "      <th></th>\n",
       "      <th></th>\n",
       "      <th></th>\n",
       "      <th></th>\n",
       "    </tr>\n",
       "  </thead>\n",
       "  <tbody>\n",
       "    <tr>\n",
       "      <th>337610</th>\n",
       "      <td>0.0</td>\n",
       "      <td>1.0</td>\n",
       "      <td>0.0</td>\n",
       "      <td>0.0</td>\n",
       "      <td>0.052632</td>\n",
       "      <td>0.000819</td>\n",
       "      <td>0.314607</td>\n",
       "      <td>0.138698</td>\n",
       "      <td>0.315376</td>\n",
       "      <td>0.063128</td>\n",
       "      <td>...</td>\n",
       "      <td>0.000000</td>\n",
       "      <td>0.000000</td>\n",
       "      <td>0.000000</td>\n",
       "      <td>1.0</td>\n",
       "      <td>1.0</td>\n",
       "      <td>1.0</td>\n",
       "      <td>1.0</td>\n",
       "      <td>1.0</td>\n",
       "      <td>0.078534</td>\n",
       "      <td>1.0</td>\n",
       "    </tr>\n",
       "    <tr>\n",
       "      <th>392394</th>\n",
       "      <td>1.0</td>\n",
       "      <td>1.0</td>\n",
       "      <td>0.0</td>\n",
       "      <td>0.0</td>\n",
       "      <td>0.000000</td>\n",
       "      <td>0.000935</td>\n",
       "      <td>0.084270</td>\n",
       "      <td>0.068287</td>\n",
       "      <td>0.085297</td>\n",
       "      <td>0.421848</td>\n",
       "      <td>...</td>\n",
       "      <td>0.003738</td>\n",
       "      <td>0.001845</td>\n",
       "      <td>0.006139</td>\n",
       "      <td>0.0</td>\n",
       "      <td>0.0</td>\n",
       "      <td>0.0</td>\n",
       "      <td>0.0</td>\n",
       "      <td>0.0</td>\n",
       "      <td>0.189234</td>\n",
       "      <td>0.0</td>\n",
       "    </tr>\n",
       "    <tr>\n",
       "      <th>138452</th>\n",
       "      <td>0.0</td>\n",
       "      <td>1.0</td>\n",
       "      <td>0.0</td>\n",
       "      <td>0.0</td>\n",
       "      <td>0.000000</td>\n",
       "      <td>0.001320</td>\n",
       "      <td>0.023596</td>\n",
       "      <td>0.032889</td>\n",
       "      <td>0.024691</td>\n",
       "      <td>0.118752</td>\n",
       "      <td>...</td>\n",
       "      <td>0.003738</td>\n",
       "      <td>0.001845</td>\n",
       "      <td>0.006139</td>\n",
       "      <td>0.0</td>\n",
       "      <td>0.0</td>\n",
       "      <td>0.0</td>\n",
       "      <td>0.0</td>\n",
       "      <td>0.0</td>\n",
       "      <td>0.189234</td>\n",
       "      <td>0.0</td>\n",
       "    </tr>\n",
       "  </tbody>\n",
       "</table>\n",
       "<p>3 rows × 392 columns</p>\n",
       "</div>"
      ],
      "text/plain": [
       "            NAME_CONTRACT_TYPE  CODE_GENDER  FLAG_OWN_CAR  FLAG_OWN_REALTY  \\\n",
       "SK_ID_CURR                                                                   \n",
       "337610                     0.0          1.0           0.0              0.0   \n",
       "392394                     1.0          1.0           0.0              0.0   \n",
       "138452                     0.0          1.0           0.0              0.0   \n",
       "\n",
       "            CNT_CHILDREN  AMT_INCOME_TOTAL  AMT_CREDIT  AMT_ANNUITY  \\\n",
       "SK_ID_CURR                                                            \n",
       "337610          0.052632          0.000819    0.314607     0.138698   \n",
       "392394          0.000000          0.000935    0.084270     0.068287   \n",
       "138452          0.000000          0.001320    0.023596     0.032889   \n",
       "\n",
       "            AMT_GOODS_PRICE  REGION_POPULATION_RELATIVE  ...  \\\n",
       "SK_ID_CURR                                               ...   \n",
       "337610             0.315376                    0.063128  ...   \n",
       "392394             0.085297                    0.421848  ...   \n",
       "138452             0.024691                    0.118752  ...   \n",
       "\n",
       "            CC_NAME_CONTRACT_STATUS_Signed_MEAN  \\\n",
       "SK_ID_CURR                                        \n",
       "337610                                 0.000000   \n",
       "392394                                 0.003738   \n",
       "138452                                 0.003738   \n",
       "\n",
       "            CC_NAME_CONTRACT_STATUS_Signed_SUM  \\\n",
       "SK_ID_CURR                                       \n",
       "337610                                0.000000   \n",
       "392394                                0.001845   \n",
       "138452                                0.001845   \n",
       "\n",
       "            CC_NAME_CONTRACT_STATUS_Signed_VAR  CC_NAME_CONTRACT_STATUS_MIN  \\\n",
       "SK_ID_CURR                                                                    \n",
       "337610                                0.000000                          1.0   \n",
       "392394                                0.006139                          0.0   \n",
       "138452                                0.006139                          0.0   \n",
       "\n",
       "            CC_NAME_CONTRACT_STATUS_MAX  CC_NAME_CONTRACT_STATUS_MEAN  \\\n",
       "SK_ID_CURR                                                              \n",
       "337610                              1.0                           1.0   \n",
       "392394                              0.0                           0.0   \n",
       "138452                              0.0                           0.0   \n",
       "\n",
       "            CC_NAME_CONTRACT_STATUS_SUM  CC_NAME_CONTRACT_STATUS_VAR  \\\n",
       "SK_ID_CURR                                                             \n",
       "337610                              1.0                          1.0   \n",
       "392394                              0.0                          0.0   \n",
       "138452                              0.0                          0.0   \n",
       "\n",
       "            CC_COUNT  TARGET  \n",
       "SK_ID_CURR                    \n",
       "337610      0.078534     1.0  \n",
       "392394      0.189234     0.0  \n",
       "138452      0.189234     0.0  \n",
       "\n",
       "[3 rows x 392 columns]"
      ]
     },
     "execution_count": 96,
     "metadata": {},
     "output_type": "execute_result"
    }
   ],
   "source": [
    "data_scaled.sample(3)"
   ]
  },
  {
   "cell_type": "code",
   "execution_count": 97,
   "id": "d8456960",
   "metadata": {},
   "outputs": [],
   "source": [
    "import re\n",
    "data_scaled = data_scaled.rename(columns = lambda x:re.sub('[^A-Za-z0-9_]+', '', x))"
   ]
  },
  {
   "cell_type": "code",
   "execution_count": 98,
   "id": "f15fcbe1",
   "metadata": {},
   "outputs": [
    {
     "data": {
      "text/plain": [
       "0.0    282682\n",
       "1.0     24825\n",
       "Name: TARGET, dtype: int64"
      ]
     },
     "execution_count": 98,
     "metadata": {},
     "output_type": "execute_result"
    }
   ],
   "source": [
    "data_scaled.TARGET.value_counts(dropna=False)"
   ]
  },
  {
   "cell_type": "code",
   "execution_count": 99,
   "id": "26177e10",
   "metadata": {},
   "outputs": [
    {
     "data": {
      "text/html": [
       "<div>\n",
       "<style scoped>\n",
       "    .dataframe tbody tr th:only-of-type {\n",
       "        vertical-align: middle;\n",
       "    }\n",
       "\n",
       "    .dataframe tbody tr th {\n",
       "        vertical-align: top;\n",
       "    }\n",
       "\n",
       "    .dataframe thead th {\n",
       "        text-align: right;\n",
       "    }\n",
       "</style>\n",
       "<table border=\"1\" class=\"dataframe\">\n",
       "  <thead>\n",
       "    <tr style=\"text-align: right;\">\n",
       "      <th></th>\n",
       "      <th>NAME_CONTRACT_TYPE</th>\n",
       "      <th>CODE_GENDER</th>\n",
       "      <th>FLAG_OWN_CAR</th>\n",
       "      <th>FLAG_OWN_REALTY</th>\n",
       "      <th>CNT_CHILDREN</th>\n",
       "      <th>AMT_INCOME_TOTAL</th>\n",
       "      <th>AMT_CREDIT</th>\n",
       "      <th>AMT_ANNUITY</th>\n",
       "      <th>AMT_GOODS_PRICE</th>\n",
       "      <th>REGION_POPULATION_RELATIVE</th>\n",
       "      <th>...</th>\n",
       "      <th>CC_NAME_CONTRACT_STATUS_Signed_MEAN</th>\n",
       "      <th>CC_NAME_CONTRACT_STATUS_Signed_SUM</th>\n",
       "      <th>CC_NAME_CONTRACT_STATUS_Signed_VAR</th>\n",
       "      <th>CC_NAME_CONTRACT_STATUS_MIN</th>\n",
       "      <th>CC_NAME_CONTRACT_STATUS_MAX</th>\n",
       "      <th>CC_NAME_CONTRACT_STATUS_MEAN</th>\n",
       "      <th>CC_NAME_CONTRACT_STATUS_SUM</th>\n",
       "      <th>CC_NAME_CONTRACT_STATUS_VAR</th>\n",
       "      <th>CC_COUNT</th>\n",
       "      <th>TARGET</th>\n",
       "    </tr>\n",
       "    <tr>\n",
       "      <th>SK_ID_CURR</th>\n",
       "      <th></th>\n",
       "      <th></th>\n",
       "      <th></th>\n",
       "      <th></th>\n",
       "      <th></th>\n",
       "      <th></th>\n",
       "      <th></th>\n",
       "      <th></th>\n",
       "      <th></th>\n",
       "      <th></th>\n",
       "      <th></th>\n",
       "      <th></th>\n",
       "      <th></th>\n",
       "      <th></th>\n",
       "      <th></th>\n",
       "      <th></th>\n",
       "      <th></th>\n",
       "      <th></th>\n",
       "      <th></th>\n",
       "      <th></th>\n",
       "      <th></th>\n",
       "    </tr>\n",
       "  </thead>\n",
       "  <tbody>\n",
       "  </tbody>\n",
       "</table>\n",
       "<p>0 rows × 392 columns</p>\n",
       "</div>"
      ],
      "text/plain": [
       "Empty DataFrame\n",
       "Columns: [NAME_CONTRACT_TYPE, CODE_GENDER, FLAG_OWN_CAR, FLAG_OWN_REALTY, CNT_CHILDREN, AMT_INCOME_TOTAL, AMT_CREDIT, AMT_ANNUITY, AMT_GOODS_PRICE, REGION_POPULATION_RELATIVE, DAYS_BIRTH, DAYS_EMPLOYED, DAYS_REGISTRATION, DAYS_ID_PUBLISH, OWN_CAR_AGE, FLAG_MOBIL, FLAG_EMP_PHONE, FLAG_WORK_PHONE, FLAG_CONT_MOBILE, FLAG_PHONE, FLAG_EMAIL, CNT_FAM_MEMBERS, REGION_RATING_CLIENT, REGION_RATING_CLIENT_W_CITY, HOUR_APPR_PROCESS_START, REG_REGION_NOT_LIVE_REGION, REG_REGION_NOT_WORK_REGION, LIVE_REGION_NOT_WORK_REGION, REG_CITY_NOT_LIVE_CITY, REG_CITY_NOT_WORK_CITY, LIVE_CITY_NOT_WORK_CITY, EXT_SOURCE_1, EXT_SOURCE_2, EXT_SOURCE_3, APARTMENTS_AVG, BASEMENTAREA_AVG, YEARS_BEGINEXPLUATATION_AVG, YEARS_BUILD_AVG, COMMONAREA_AVG, ELEVATORS_AVG, ENTRANCES_AVG, FLOORSMAX_AVG, FLOORSMIN_AVG, LANDAREA_AVG, LIVINGAPARTMENTS_AVG, LIVINGAREA_AVG, NONLIVINGAPARTMENTS_AVG, NONLIVINGAREA_AVG, APARTMENTS_MODE, BASEMENTAREA_MODE, YEARS_BEGINEXPLUATATION_MODE, YEARS_BUILD_MODE, COMMONAREA_MODE, ELEVATORS_MODE, ENTRANCES_MODE, FLOORSMAX_MODE, FLOORSMIN_MODE, LANDAREA_MODE, LIVINGAPARTMENTS_MODE, LIVINGAREA_MODE, NONLIVINGAPARTMENTS_MODE, NONLIVINGAREA_MODE, APARTMENTS_MEDI, BASEMENTAREA_MEDI, YEARS_BEGINEXPLUATATION_MEDI, YEARS_BUILD_MEDI, COMMONAREA_MEDI, ELEVATORS_MEDI, ENTRANCES_MEDI, FLOORSMAX_MEDI, FLOORSMIN_MEDI, LANDAREA_MEDI, LIVINGAPARTMENTS_MEDI, LIVINGAREA_MEDI, NONLIVINGAPARTMENTS_MEDI, NONLIVINGAREA_MEDI, TOTALAREA_MODE, OBS_30_CNT_SOCIAL_CIRCLE, DEF_30_CNT_SOCIAL_CIRCLE, OBS_60_CNT_SOCIAL_CIRCLE, DEF_60_CNT_SOCIAL_CIRCLE, DAYS_LAST_PHONE_CHANGE, FLAG_DOCUMENT_2, FLAG_DOCUMENT_3, FLAG_DOCUMENT_4, FLAG_DOCUMENT_5, FLAG_DOCUMENT_6, FLAG_DOCUMENT_7, FLAG_DOCUMENT_8, FLAG_DOCUMENT_9, FLAG_DOCUMENT_10, FLAG_DOCUMENT_11, FLAG_DOCUMENT_12, FLAG_DOCUMENT_13, FLAG_DOCUMENT_14, FLAG_DOCUMENT_15, FLAG_DOCUMENT_16, FLAG_DOCUMENT_17, FLAG_DOCUMENT_18, FLAG_DOCUMENT_19, ...]\n",
       "Index: []\n",
       "\n",
       "[0 rows x 392 columns]"
      ]
     },
     "execution_count": 99,
     "metadata": {},
     "output_type": "execute_result"
    }
   ],
   "source": [
    "data_scaled[data_scaled.TARGET.isna()]"
   ]
  },
  {
   "cell_type": "code",
   "execution_count": 100,
   "id": "97fa42f8",
   "metadata": {},
   "outputs": [],
   "source": [
    "#data_scaled.to_csv('data_scaled.csv')"
   ]
  },
  {
   "cell_type": "markdown",
   "id": "3012e7d2",
   "metadata": {},
   "source": [
    "# Checkpoint <a class='anchor' id='C'></a>"
   ]
  },
  {
   "cell_type": "code",
   "execution_count": 1,
   "id": "2d0cc933",
   "metadata": {},
   "outputs": [],
   "source": [
    "import numpy as np\n",
    "import pandas as pd\n",
    "from sklearn.metrics import roc_auc_score, roc_curve\n",
    "import matplotlib.pyplot as plt\n",
    "import seaborn as sns"
   ]
  },
  {
   "cell_type": "code",
   "execution_count": 2,
   "id": "206a2223",
   "metadata": {},
   "outputs": [],
   "source": [
    "data_scaled = pd.read_csv('data_scaled.csv', index_col=0)"
   ]
  },
  {
   "cell_type": "code",
   "execution_count": null,
   "id": "90ce2f8d",
   "metadata": {},
   "outputs": [],
   "source": []
  },
  {
   "cell_type": "markdown",
   "id": "37e9de3a",
   "metadata": {},
   "source": [
    "###### [sommaire](#S)"
   ]
  },
  {
   "cell_type": "markdown",
   "id": "69547ec9",
   "metadata": {},
   "source": [
    "# II, Recherche d'un modèle de prédiction <a class='anchor' id='II'></a>"
   ]
  },
  {
   "cell_type": "markdown",
   "id": "4bf09abb",
   "metadata": {},
   "source": [
    "## A, Mise en place d'un jeu d'entrainement et de test équilibré avec SMOTE <a class='anchor' id='IIA'></a>"
   ]
  },
  {
   "cell_type": "code",
   "execution_count": 3,
   "id": "d5b8ba99",
   "metadata": {},
   "outputs": [],
   "source": [
    "data_trainable = data_scaled[data_scaled.TARGET.notnull()]\n",
    "X = data_trainable.drop('TARGET', axis=1)\n",
    "y = data_trainable.TARGET"
   ]
  },
  {
   "cell_type": "code",
   "execution_count": 4,
   "id": "597de8f8",
   "metadata": {},
   "outputs": [],
   "source": [
    "from sklearn.model_selection import train_test_split\n",
    "\n",
    "X_train, X_test, y_train, y_test = train_test_split(X, y, test_size=0.2, stratify=y)"
   ]
  },
  {
   "cell_type": "code",
   "execution_count": 5,
   "id": "5331171f",
   "metadata": {},
   "outputs": [
    {
     "data": {
      "text/plain": [
       "((246005, 391), (246005,), (61502, 391), (61502,))"
      ]
     },
     "execution_count": 5,
     "metadata": {},
     "output_type": "execute_result"
    }
   ],
   "source": [
    "X_train.shape, y_train.shape, X_test.shape, y_test.shape"
   ]
  },
  {
   "cell_type": "code",
   "execution_count": 6,
   "id": "2745a27d",
   "metadata": {},
   "outputs": [
    {
     "data": {
      "text/plain": [
       "(0.0    226145\n",
       " 1.0     19860\n",
       " Name: TARGET, dtype: int64,\n",
       " 0.0    56537\n",
       " 1.0     4965\n",
       " Name: TARGET, dtype: int64)"
      ]
     },
     "execution_count": 6,
     "metadata": {},
     "output_type": "execute_result"
    }
   ],
   "source": [
    "y_train.value_counts(), y_test.value_counts()"
   ]
  },
  {
   "cell_type": "code",
   "execution_count": 7,
   "id": "04f76c3c",
   "metadata": {},
   "outputs": [],
   "source": [
    "from imblearn.over_sampling import SMOTE\n",
    "\n",
    "smote = SMOTE(sampling_strategy='minority')\n",
    "X_train, y_train = smote.fit_resample(X_train, y_train)"
   ]
  },
  {
   "cell_type": "code",
   "execution_count": 8,
   "id": "4e873fc7",
   "metadata": {
    "scrolled": true
   },
   "outputs": [
    {
     "data": {
      "text/plain": [
       "0.0    226145\n",
       "1.0    226145\n",
       "Name: TARGET, dtype: int64"
      ]
     },
     "execution_count": 8,
     "metadata": {},
     "output_type": "execute_result"
    }
   ],
   "source": [
    "y_train.value_counts()"
   ]
  },
  {
   "cell_type": "markdown",
   "id": "88bf0376",
   "metadata": {},
   "source": [
    "##### [sommaire](#S)"
   ]
  },
  {
   "cell_type": "markdown",
   "id": "aaeae627",
   "metadata": {},
   "source": [
    "## B, Recherche d'un algorithme pertinent <a class='anchor' id='IIB'></a>"
   ]
  },
  {
   "cell_type": "code",
   "execution_count": 9,
   "id": "afa90a63",
   "metadata": {},
   "outputs": [],
   "source": [
    "from sklearn.linear_model import LogisticRegression\n",
    "from sklearn.ensemble import RandomForestClassifier\n",
    "from lightgbm import LGBMClassifier\n",
    "\n",
    "from sklearn.metrics import confusion_matrix, adjusted_rand_score, precision_recall_fscore_support, fbeta_score, make_scorer, recall_score, roc_curve, roc_auc_score"
   ]
  },
  {
   "cell_type": "code",
   "execution_count": 122,
   "id": "489283ee",
   "metadata": {},
   "outputs": [],
   "source": [
    "def scoring_perso(y_test, y_pred):\n",
    "    cm = confusion_matrix(y_test, y_pred)\n",
    "    tn, fp, fn, tp = confusion_matrix(y_test, y_pred).ravel()\n",
    "    score2 = 1 - ((10*fp + fn - 5*tp) / cm.sum())\n",
    "    return score2"
   ]
  },
  {
   "cell_type": "code",
   "execution_count": 123,
   "id": "94be4143",
   "metadata": {},
   "outputs": [],
   "source": [
    "score_beta = make_scorer(scoring_perso, greater_is_better=True)"
   ]
  },
  {
   "cell_type": "markdown",
   "id": "c3f28994",
   "metadata": {},
   "source": [
    "##### [sommaire](#S)"
   ]
  },
  {
   "cell_type": "markdown",
   "id": "3a9e5484",
   "metadata": {},
   "source": [
    "### Logistic Regression <a class='anchor' id='IIB1'></a>"
   ]
  },
  {
   "cell_type": "code",
   "execution_count": 12,
   "id": "4dc7582f",
   "metadata": {},
   "outputs": [],
   "source": [
    "lr = LogisticRegression(max_iter=500)"
   ]
  },
  {
   "cell_type": "code",
   "execution_count": 13,
   "id": "f5d1e947",
   "metadata": {},
   "outputs": [
    {
     "name": "stdout",
     "output_type": "stream",
     "text": [
      "Wall time: 1min 27s\n"
     ]
    },
    {
     "name": "stderr",
     "output_type": "stream",
     "text": [
      "C:\\Users\\Alex\\anaconda3\\lib\\site-packages\\sklearn\\linear_model\\_logistic.py:763: ConvergenceWarning: lbfgs failed to converge (status=1):\n",
      "STOP: TOTAL NO. of ITERATIONS REACHED LIMIT.\n",
      "\n",
      "Increase the number of iterations (max_iter) or scale the data as shown in:\n",
      "    https://scikit-learn.org/stable/modules/preprocessing.html\n",
      "Please also refer to the documentation for alternative solver options:\n",
      "    https://scikit-learn.org/stable/modules/linear_model.html#logistic-regression\n",
      "  n_iter_i = _check_optimize_result(\n"
     ]
    },
    {
     "data": {
      "text/plain": [
       "LogisticRegression(max_iter=500)"
      ]
     },
     "execution_count": 13,
     "metadata": {},
     "output_type": "execute_result"
    }
   ],
   "source": [
    "%%time\n",
    "lr.fit(X_train, y_train)"
   ]
  },
  {
   "cell_type": "code",
   "execution_count": 14,
   "id": "d6c49c38",
   "metadata": {},
   "outputs": [
    {
     "data": {
      "image/png": "[encoded data removed]",
      "text/plain": [
       "<Figure size 576x720 with 1 Axes>"
      ]
     },
     "metadata": {
      "needs_background": "light"
     },
     "output_type": "display_data"
    }
   ],
   "source": [
    "coefficients = pd.DataFrame(lr.coef_, columns=X.columns, index=['logistic_regression']).T\n",
    "coefficients = coefficients.sort_values(by='logistic_regression', ascending=False)[:30]\n",
    "\n",
    "plt.figure(figsize=(8,10))\n",
    "sns.barplot(y=coefficients.index, x='logistic_regression', data=coefficients)\n",
    "plt.title('Logistic regression features')\n",
    "plt.tight_layout()\n",
    "#plt.savefig(\"lr_features.png\", bbox_inches='tight', transparent=True)\n",
    "plt.show()"
   ]
  },
  {
   "cell_type": "code",
   "execution_count": 15,
   "id": "523d62d4",
   "metadata": {},
   "outputs": [],
   "source": [
    "y_pred_lr = lr.predict(X_test)"
   ]
  },
  {
   "cell_type": "code",
   "execution_count": 16,
   "id": "d96e9b4f",
   "metadata": {
    "scrolled": false
   },
   "outputs": [
    {
     "data": {
      "image/png": "[encoded data removed]",
      "text/plain": [
       "<Figure size 576x432 with 2 Axes>"
      ]
     },
     "metadata": {
      "needs_background": "light"
     },
     "output_type": "display_data"
    },
    {
     "name": "stdout",
     "output_type": "stream",
     "text": [
      "Sensitivity : 65.76 % des personnes pouvant contracter un crédit sont bien classifiées\n",
      "Specificity : 70.88 % des personnes ne pouvant pas contracter de crédit sont bien classifiées\n",
      "Precision : 16.55 % des personnes pouvant obtenir un crédit qui sont correctement classifiées\n",
      "Scoring perso : -0.31\n"
     ]
    }
   ],
   "source": [
    "cm = confusion_matrix(y_test, y_pred_lr)\n",
    "\n",
    "cm = confusion_matrix(y_test, y_pred_lr)\n",
    "tn, fp, fn, tp = confusion_matrix(y_test, y_pred_lr).ravel()\n",
    "sensitivity = tp / (tp + fn)\n",
    "specificity = tn / (tn + fp)\n",
    "precision = tp / (tp + fp)\n",
    "\n",
    "plt.figure(figsize=(8,6))\n",
    "sns.heatmap(cm, annot=True, fmt='d')\n",
    "plt.xlabel('Predicted values', fontsize=18)\n",
    "plt.ylabel('Actual values', fontsize=18)\n",
    "plt.yticks(ticks=[0.5,1.5], labels=['Negative', 'Positive'], rotation=0, fontsize=15)\n",
    "plt.xticks(ticks=[0.5,1.5], labels=['Negative', 'Positive'], rotation=0, fontsize=15)\n",
    "plt.tight_layout()\n",
    "#plt.savefig(\"lr_matrix.png\", bbox_inches='tight', transparent=True)\n",
    "plt.show()\n",
    "\n",
    "print(\"Sensitivity :\", format(sensitivity * 100,\".2f\"), \"% des personnes pouvant contracter un crédit sont bien classifiées\")\n",
    "print(\"Specificity :\", format(specificity * 100,\".2f\"), \"% des personnes ne pouvant pas contracter de crédit sont bien classifiées\")\n",
    "print(\"Precision :\", format(precision * 100,\".2f\"), \"% des personnes pouvant obtenir un crédit qui sont correctement classifiées\")\n",
    "print(\"Scoring perso :\", format(scoring_perso(y_test, y_pred_lr), \".2f\"))"
   ]
  },
  {
   "cell_type": "code",
   "execution_count": 17,
   "id": "2c67746f",
   "metadata": {
    "scrolled": false
   },
   "outputs": [
    {
     "data": {
      "image/png": "[encoded data removed]",
      "text/plain": [
       "<Figure size 432x432 with 1 Axes>"
      ]
     },
     "metadata": {
      "needs_background": "light"
     },
     "output_type": "display_data"
    }
   ],
   "source": [
    "fpr, tpr, thresholds = roc_curve(y_test, y_pred_lr)\n",
    "score = roc_auc_score(y_test, y_pred_lr)\n",
    "\n",
    "plt.figure(figsize=(6,6))\n",
    "plt.plot(fpr, tpr, lw=1, alpha=0.3, label=\"ROC fold%d (AUC = %0.4f)\" %(1, score))\n",
    "plt.plot([0, 1], [0, 1], linestyle='--', lw=2, color='r', label='Luck', alpha=.8)\n",
    "plt.xlim([-0.05, 1.05])\n",
    "plt.ylim([-0.05, 1.05])\n",
    "plt.xlabel('False Positive Rate')\n",
    "plt.ylabel('True Positive Rate')\n",
    "plt.title('Logestic Regression ROC Curve')\n",
    "plt.legend(loc=\"lower right\")\n",
    "plt.tight_layout()\n",
    "#plt.savefig(\"lr_auc.png\", bbox_inches='tight', transparent=True)\n",
    "plt.show()"
   ]
  },
  {
   "cell_type": "code",
   "execution_count": 18,
   "id": "2a7ba4e7",
   "metadata": {},
   "outputs": [
    {
     "data": {
      "image/png": "[encoded data removed]",
      "text/plain": [
       "<Figure size 432x432 with 1 Axes>"
      ]
     },
     "metadata": {
      "needs_background": "light"
     },
     "output_type": "display_data"
    }
   ],
   "source": [
    "from sklearn.metrics import precision_recall_curve, PrecisionRecallDisplay\n",
    "\n",
    "precision, sensitivity, thresholds = precision_recall_curve(y_test, y_pred_lr)\n",
    "\n",
    "plt.figure(figsize=(6,6))\n",
    "plt.plot(precision, sensitivity)\n",
    "plt.xlabel('Sensitivity')\n",
    "plt.ylabel('Precision')\n",
    "#plt.savefig(\"lr_precision_recall.png\", bbox_inches='tight', transparent=True)\n",
    "plt.show()"
   ]
  },
  {
   "cell_type": "markdown",
   "id": "375c92f0",
   "metadata": {},
   "source": [
    "##### [sommaire](#S)"
   ]
  },
  {
   "cell_type": "markdown",
   "id": "77126a3e",
   "metadata": {},
   "source": [
    "### Random Forest <a class='anchor' id='IIB2'></a>"
   ]
  },
  {
   "cell_type": "code",
   "execution_count": 19,
   "id": "960ed365",
   "metadata": {},
   "outputs": [],
   "source": [
    "rf = RandomForestClassifier(n_estimators=100)"
   ]
  },
  {
   "cell_type": "code",
   "execution_count": 20,
   "id": "a41455a9",
   "metadata": {},
   "outputs": [
    {
     "name": "stdout",
     "output_type": "stream",
     "text": [
      "Wall time: 6min 10s\n"
     ]
    },
    {
     "data": {
      "text/plain": [
       "RandomForestClassifier()"
      ]
     },
     "execution_count": 20,
     "metadata": {},
     "output_type": "execute_result"
    }
   ],
   "source": [
    "%%time\n",
    "rf.fit(X_train, y_train)"
   ]
  },
  {
   "cell_type": "code",
   "execution_count": 21,
   "id": "6cf1d36c",
   "metadata": {
    "scrolled": false
   },
   "outputs": [
    {
     "data": {
      "image/png": "[encoded data removed]",
      "text/plain": [
       "<Figure size 576x720 with 1 Axes>"
      ]
     },
     "metadata": {
      "needs_background": "light"
     },
     "output_type": "display_data"
    }
   ],
   "source": [
    "coefficients = pd.DataFrame(rf.feature_importances_, index=X.columns, columns=['random_forest'])\n",
    "coefficients = coefficients.sort_values(by='random_forest', ascending=False)[:30]\n",
    "\n",
    "plt.figure(figsize=(8,10))\n",
    "sns.barplot(y=coefficients.index, x='random_forest', data=coefficients)\n",
    "plt.title('Random forest features')\n",
    "plt.tight_layout()\n",
    "#plt.savefig(\"rf_features.png\", bbox_inches='tight', transparent=True)\n",
    "plt.show()"
   ]
  },
  {
   "cell_type": "code",
   "execution_count": 22,
   "id": "0baef192",
   "metadata": {},
   "outputs": [],
   "source": [
    "y_pred_rf_p = rf.predict_proba(X_test)[:,1]\n",
    "y_pred_rf_b = rf.predict(X_test)"
   ]
  },
  {
   "cell_type": "code",
   "execution_count": 23,
   "id": "8a730788",
   "metadata": {},
   "outputs": [
    {
     "data": {
      "image/png": "[encoded data removed]",
      "text/plain": [
       "<Figure size 576x432 with 2 Axes>"
      ]
     },
     "metadata": {
      "needs_background": "light"
     },
     "output_type": "display_data"
    },
    {
     "name": "stdout",
     "output_type": "stream",
     "text": [
      "Sensitivity : 2.03 % des personnes pouvant contracter un crédit sont bien classifiées\n",
      "Specificity : 99.64 % des personnes ne pouvant pas contracter de crédit sont bien classifiées\n",
      "Precision : 33.44 % des personnes pouvant obtenir un crédit qui sont correctement classifiées\n",
      "Scoring perso : 0.91\n"
     ]
    }
   ],
   "source": [
    "cm = confusion_matrix(y_test, y_pred_rf_b)\n",
    "\n",
    "cm = confusion_matrix(y_test, y_pred_rf_b)\n",
    "tn, fp, fn, tp = confusion_matrix(y_test, y_pred_rf_b).ravel()\n",
    "sensitivity = tp / (tp + fn)\n",
    "specificity = tn / (tn + fp)\n",
    "precision = tp / (tp + fp)\n",
    "\n",
    "plt.figure(figsize=(8,6))\n",
    "sns.heatmap(cm, annot=True, fmt='d')\n",
    "plt.xlabel('Predicted values', fontsize=18)\n",
    "plt.ylabel('Actual values', fontsize=18)\n",
    "plt.yticks(ticks=[0.5,1.5], labels=['Negative', 'Positive'], rotation=0, fontsize=15)\n",
    "plt.xticks(ticks=[0.5,1.5], labels=['Negative', 'Positive'], rotation=0, fontsize=15)\n",
    "plt.tight_layout()\n",
    "#plt.savefig(\"rf_matrix.png\", bbox_inches='tight', transparent=True)\n",
    "plt.show()\n",
    "\n",
    "print(\"Sensitivity :\", format(sensitivity * 100,\".2f\"), \"% des personnes pouvant contracter un crédit sont bien classifiées\")\n",
    "print(\"Specificity :\", format(specificity * 100,\".2f\"), \"% des personnes ne pouvant pas contracter de crédit sont bien classifiées\")\n",
    "print(\"Precision :\", format(precision * 100,\".2f\"), \"% des personnes pouvant obtenir un crédit qui sont correctement classifiées\")\n",
    "print(\"Scoring perso :\", format(scoring_perso(y_test, y_pred_rf_b), \".2f\"))"
   ]
  },
  {
   "cell_type": "code",
   "execution_count": 24,
   "id": "cff1886b",
   "metadata": {
    "scrolled": false
   },
   "outputs": [
    {
     "data": {
      "image/png": "[encoded data removed]",
      "text/plain": [
       "<Figure size 432x432 with 1 Axes>"
      ]
     },
     "metadata": {
      "needs_background": "light"
     },
     "output_type": "display_data"
    }
   ],
   "source": [
    "fpr, tpr, thresholds = roc_curve(y_test, y_pred_rf_p)\n",
    "score_rf = roc_auc_score(y_test, y_pred_rf_p)\n",
    "\n",
    "plt.figure(figsize=(6,6))\n",
    "plt.plot(fpr, tpr, lw=1, alpha=0.3, label=\"ROC fold%d (AUC = %0.4f)\" %(1, score_rf))\n",
    "plt.plot([0, 1], [0, 1], linestyle='--', lw=2, color='r', label='Luck', alpha=.8)\n",
    "plt.xlim([-0.05, 1.05])\n",
    "plt.ylim([-0.05, 1.05])\n",
    "plt.xlabel('False Positive Rate')\n",
    "plt.ylabel('True Positive Rate')\n",
    "plt.title('Random forest ROC Curve')\n",
    "plt.legend(loc=\"lower right\")\n",
    "plt.tight_layout()\n",
    "#plt.savefig(\"rf_auc.png\", bbox_inches='tight', transparent=True)\n",
    "plt.show()"
   ]
  },
  {
   "cell_type": "code",
   "execution_count": 25,
   "id": "c5ff99ba",
   "metadata": {},
   "outputs": [
    {
     "data": {
      "image/png": "[encoded data removed]",
      "text/plain": [
       "<Figure size 432x432 with 1 Axes>"
      ]
     },
     "metadata": {
      "needs_background": "light"
     },
     "output_type": "display_data"
    }
   ],
   "source": [
    "precision, sensitivity, thresholds = precision_recall_curve(y_test, y_pred_rf_p)\n",
    "\n",
    "plt.figure(figsize=(6,6))\n",
    "plt.plot(precision, sensitivity)\n",
    "plt.xlabel('Sensitivity')\n",
    "plt.ylabel('Precision')\n",
    "#plt.savefig(\"rf_precision_recall.png\", bbox_inches='tight', transparent=True)\n",
    "plt.show()"
   ]
  },
  {
   "cell_type": "markdown",
   "id": "a1beb172",
   "metadata": {},
   "source": [
    "##### [sommaire](#S)"
   ]
  },
  {
   "cell_type": "markdown",
   "id": "5f3546cc",
   "metadata": {},
   "source": [
    "### LightGBM <a class='anchor' id='IIB3'></a>"
   ]
  },
  {
   "cell_type": "code",
   "execution_count": 26,
   "id": "9ad9c9dc",
   "metadata": {},
   "outputs": [],
   "source": [
    "lg = LGBMClassifier(n_estimators=500)"
   ]
  },
  {
   "cell_type": "code",
   "execution_count": 27,
   "id": "d6f7e1fe",
   "metadata": {},
   "outputs": [
    {
     "name": "stdout",
     "output_type": "stream",
     "text": [
      "Wall time: 49.8 s\n"
     ]
    },
    {
     "data": {
      "text/plain": [
       "LGBMClassifier(n_estimators=500)"
      ]
     },
     "execution_count": 27,
     "metadata": {},
     "output_type": "execute_result"
    }
   ],
   "source": [
    "%%time\n",
    "lg.fit(X_train, y_train)"
   ]
  },
  {
   "cell_type": "code",
   "execution_count": 28,
   "id": "0a5c847b",
   "metadata": {
    "scrolled": false
   },
   "outputs": [
    {
     "data": {
      "image/png": "[encoded data removed]",
      "text/plain": [
       "<Figure size 576x720 with 1 Axes>"
      ]
     },
     "metadata": {
      "needs_background": "light"
     },
     "output_type": "display_data"
    }
   ],
   "source": [
    "coefficients = pd.DataFrame(lg.feature_importances_, index=X.columns, columns=['lightBC'])\n",
    "coefficients = coefficients.sort_values(by='lightBC', ascending=False)[:30]\n",
    "\n",
    "plt.figure(figsize=(8,10))\n",
    "sns.barplot(y=coefficients.index, x='lightBC', data=coefficients)\n",
    "plt.title('Light GBM features')\n",
    "plt.tight_layout()\n",
    "#plt.savefig(\"lg_features.png\", bbox_inches='tight', transparent=True)\n",
    "plt.show()"
   ]
  },
  {
   "cell_type": "code",
   "execution_count": 29,
   "id": "f967dc1a",
   "metadata": {},
   "outputs": [
    {
     "data": {
      "text/plain": [
       "8458"
      ]
     },
     "execution_count": 29,
     "metadata": {},
     "output_type": "execute_result"
    }
   ],
   "source": [
    "coefficients.lightBC.sum()"
   ]
  },
  {
   "cell_type": "code",
   "execution_count": 30,
   "id": "444c0e9b",
   "metadata": {},
   "outputs": [],
   "source": [
    "y_pred_lg_p = lg.predict_proba(X_test)[:,1]\n",
    "y_pred_lg_b = lg.predict(X_test)"
   ]
  },
  {
   "cell_type": "code",
   "execution_count": 31,
   "id": "e8eaa933",
   "metadata": {
    "scrolled": false
   },
   "outputs": [
    {
     "data": {
      "image/png": "[encoded data removed]",
      "text/plain": [
       "<Figure size 576x432 with 2 Axes>"
      ]
     },
     "metadata": {
      "needs_background": "light"
     },
     "output_type": "display_data"
    },
    {
     "name": "stdout",
     "output_type": "stream",
     "text": [
      "Sensitivity : 4.09 % des personnes pouvant contracter un crédit sont bien classifiées\n",
      "Specificity : 99.69 % des personnes ne pouvant pas contracter de crédit sont bien classifiées\n",
      "Precision : 53.85 % des personnes pouvant obtenir un crédit qui sont correctement classifiées\n",
      "Scoring perso : 0.91\n"
     ]
    }
   ],
   "source": [
    "cm = confusion_matrix(y_test, y_pred_lg_b)\n",
    "\n",
    "cm = confusion_matrix(y_test, y_pred_lg_b)\n",
    "tn, fp, fn, tp = confusion_matrix(y_test, y_pred_lg_b).ravel()\n",
    "sensitivity = tp / (tp + fn)\n",
    "specificity = tn / (tn + fp)\n",
    "precision = tp / (tp + fp)\n",
    "\n",
    "plt.figure(figsize=(8,6))\n",
    "sns.heatmap(cm, annot=True, fmt='d')\n",
    "plt.xlabel('Predicted values', fontsize=18)\n",
    "plt.ylabel('Actual values', fontsize=18)\n",
    "plt.yticks(ticks=[0.5,1.5], labels=['Negative', 'Positive'], rotation=0, fontsize=15)\n",
    "plt.xticks(ticks=[0.5,1.5], labels=['Negative', 'Positive'], rotation=0, fontsize=15)\n",
    "plt.tight_layout()\n",
    "#plt.savefig(\"lg_matrix.png\", bbox_inches='tight', transparent=True)\n",
    "plt.show()\n",
    "\n",
    "print(\"Sensitivity :\", format(sensitivity * 100,\".2f\"), \"% des personnes pouvant contracter un crédit sont bien classifiées\")\n",
    "print(\"Specificity :\", format(specificity * 100,\".2f\"), \"% des personnes ne pouvant pas contracter de crédit sont bien classifiées\")\n",
    "print(\"Precision :\", format(precision * 100,\".2f\"), \"% des personnes pouvant obtenir un crédit qui sont correctement classifiées\")\n",
    "print(\"Scoring perso :\", format(scoring_perso(y_test, y_pred_lg_b), \".2f\"))"
   ]
  },
  {
   "cell_type": "code",
   "execution_count": 32,
   "id": "0c4f1074",
   "metadata": {
    "scrolled": false
   },
   "outputs": [
    {
     "data": {
      "image/png": "[encoded data removed]",
      "text/plain": [
       "<Figure size 432x432 with 1 Axes>"
      ]
     },
     "metadata": {
      "needs_background": "light"
     },
     "output_type": "display_data"
    }
   ],
   "source": [
    "fpr, tpr, thresholds = roc_curve(y_test, y_pred_lg_p)\n",
    "score = roc_auc_score(y_test, y_pred_lg_p)\n",
    "\n",
    "plt.figure(figsize=(6,6))\n",
    "plt.plot(fpr, tpr, lw=1, alpha=0.3, label=\"ROC fold%d (AUC = %0.4f)\" %(1, score))\n",
    "plt.plot([0, 1], [0, 1], linestyle='--', lw=2, color='r', label='Luck', alpha=.8)\n",
    "plt.xlim([-0.05, 1.05])\n",
    "plt.ylim([-0.05, 1.05])\n",
    "plt.xlabel('False Positive Rate')\n",
    "plt.ylabel('True Positive Rate')\n",
    "plt.title('Light GBM ROC Curve')\n",
    "plt.legend(loc=\"lower right\")\n",
    "plt.tight_layout()\n",
    "#plt.savefig(\"lg_auc.png\", bbox_inches='tight', transparent=True)\n",
    "plt.show()"
   ]
  },
  {
   "cell_type": "code",
   "execution_count": 33,
   "id": "28d422bd",
   "metadata": {},
   "outputs": [
    {
     "data": {
      "image/png": "[encoded data removed]",
      "text/plain": [
       "<Figure size 720x432 with 1 Axes>"
      ]
     },
     "metadata": {
      "needs_background": "light"
     },
     "output_type": "display_data"
    }
   ],
   "source": [
    "precision, sensitivity, thresholds = precision_recall_curve(y_test, y_pred_lg_p)\n",
    "\n",
    "plt.figure(figsize=(10,6))\n",
    "plt.plot(precision, sensitivity)\n",
    "plt.xlabel('Sensitivity')\n",
    "plt.ylabel('Precision')\n",
    "#plt.savefig(\"lg_precision_recall.png\", bbox_inches='tight', transparent=True)\n",
    "plt.show()"
   ]
  },
  {
   "cell_type": "markdown",
   "id": "ae6424e6",
   "metadata": {},
   "source": [
    "##### [sommaire](#S)"
   ]
  },
  {
   "cell_type": "markdown",
   "id": "cee460f3",
   "metadata": {},
   "source": [
    "## C, Amélioration de l'algorithme <a class='anchor' id='IIC'></a>"
   ]
  },
  {
   "cell_type": "markdown",
   "id": "1d305af4",
   "metadata": {},
   "source": [
    "### Recherche d'hyperparamètres par HalvingSearchCV <a class='anchor' id='IIC1'></a>"
   ]
  },
  {
   "cell_type": "code",
   "execution_count": 94,
   "id": "de0162e5",
   "metadata": {},
   "outputs": [],
   "source": [
    "params_lgBMC ={\n",
    "    'objective' : ['binary'],\n",
    "    'learning_rate' : (0.05, 0.1),\n",
    "    'num_leaves' : (50, 60),\n",
    "    'n_estimators' : [1000]\n",
    "}"
   ]
  },
  {
   "cell_type": "code",
   "execution_count": 95,
   "id": "8a6fa355",
   "metadata": {},
   "outputs": [],
   "source": [
    "from sklearn.experimental import enable_halving_search_cv\n",
    "from sklearn.model_selection import HalvingGridSearchCV"
   ]
  },
  {
   "cell_type": "code",
   "execution_count": 98,
   "id": "52792846",
   "metadata": {},
   "outputs": [],
   "source": [
    "hlf = HalvingGridSearchCV(estimator=LGBMClassifier(), param_grid=params_lgBMC, scoring=score_beta, cv=3, verbose=5, factor=5)"
   ]
  },
  {
   "cell_type": "code",
   "execution_count": 99,
   "id": "3ca78e65",
   "metadata": {
    "scrolled": false
   },
   "outputs": [
    {
     "name": "stdout",
     "output_type": "stream",
     "text": [
      "n_iterations: 1\n",
      "n_required_iterations: 1\n",
      "n_possible_iterations: 1\n",
      "min_resources_: 452290\n",
      "max_resources_: 452290\n",
      "aggressive_elimination: False\n",
      "factor: 5\n",
      "----------\n",
      "iter: 0\n",
      "n_candidates: 4\n",
      "n_resources: 452290\n",
      "Fitting 3 folds for each of 4 candidates, totalling 12 fits\n",
      "[CV 1/3] END learning_rate=0.05, n_estimators=1000, num_leaves=50, objective=binary;, score=(train=3.500, test=2.710) total time= 2.3min\n",
      "[CV 2/3] END learning_rate=0.05, n_estimators=1000, num_leaves=50, objective=binary;, score=(train=3.192, test=3.448) total time= 1.4min\n",
      "[CV 3/3] END learning_rate=0.05, n_estimators=1000, num_leaves=50, objective=binary;, score=(train=3.194, test=3.450) total time= 1.4min\n",
      "[CV 1/3] END learning_rate=0.05, n_estimators=1000, num_leaves=60, objective=binary;, score=(train=3.500, test=2.710) total time= 2.7min\n",
      "[CV 2/3] END learning_rate=0.05, n_estimators=1000, num_leaves=60, objective=binary;, score=(train=3.216, test=3.451) total time= 1.6min\n",
      "[CV 3/3] END learning_rate=0.05, n_estimators=1000, num_leaves=60, objective=binary;, score=(train=3.216, test=3.452) total time= 1.5min\n",
      "[CV 1/3] END learning_rate=0.1, n_estimators=1000, num_leaves=50, objective=binary;, score=(train=3.500, test=2.710) total time= 2.0min\n",
      "[CV 2/3] END learning_rate=0.1, n_estimators=1000, num_leaves=50, objective=binary;, score=(train=3.301, test=3.438) total time= 1.3min\n",
      "[CV 3/3] END learning_rate=0.1, n_estimators=1000, num_leaves=50, objective=binary;, score=(train=3.304, test=3.441) total time= 1.3min\n",
      "[CV 1/3] END learning_rate=0.1, n_estimators=1000, num_leaves=60, objective=binary;, score=(train=3.500, test=2.710) total time= 2.0min\n",
      "[CV 2/3] END learning_rate=0.1, n_estimators=1000, num_leaves=60, objective=binary;, score=(train=3.339, test=3.440) total time= 1.5min\n",
      "[CV 3/3] END learning_rate=0.1, n_estimators=1000, num_leaves=60, objective=binary;, score=(train=3.338, test=3.440) total time= 1.6min\n"
     ]
    },
    {
     "data": {
      "text/plain": [
       "HalvingGridSearchCV(cv=3, estimator=LGBMClassifier(), factor=5,\n",
       "                    param_grid={'learning_rate': (0.05, 0.1),\n",
       "                                'n_estimators': [1000], 'num_leaves': (50, 60),\n",
       "                                'objective': ['binary']},\n",
       "                    refit=<function _refit_callable at 0x000002A4710053A0>,\n",
       "                    scoring=make_scorer(scoring_perso), verbose=5)"
      ]
     },
     "execution_count": 99,
     "metadata": {},
     "output_type": "execute_result"
    }
   ],
   "source": [
    "hlf.fit(X_train, y_train)"
   ]
  },
  {
   "cell_type": "code",
   "execution_count": 100,
   "id": "aa35eb5a",
   "metadata": {},
   "outputs": [],
   "source": [
    "clf = hlf"
   ]
  },
  {
   "cell_type": "code",
   "execution_count": 101,
   "id": "7d39ac5d",
   "metadata": {},
   "outputs": [
    {
     "data": {
      "text/html": [
       "<div>\n",
       "<style scoped>\n",
       "    .dataframe tbody tr th:only-of-type {\n",
       "        vertical-align: middle;\n",
       "    }\n",
       "\n",
       "    .dataframe tbody tr th {\n",
       "        vertical-align: top;\n",
       "    }\n",
       "\n",
       "    .dataframe thead th {\n",
       "        text-align: right;\n",
       "    }\n",
       "</style>\n",
       "<table border=\"1\" class=\"dataframe\">\n",
       "  <thead>\n",
       "    <tr style=\"text-align: right;\">\n",
       "      <th></th>\n",
       "      <th>iter</th>\n",
       "      <th>n_resources</th>\n",
       "      <th>mean_fit_time</th>\n",
       "      <th>std_fit_time</th>\n",
       "      <th>mean_score_time</th>\n",
       "      <th>std_score_time</th>\n",
       "      <th>param_learning_rate</th>\n",
       "      <th>param_n_estimators</th>\n",
       "      <th>param_num_leaves</th>\n",
       "      <th>param_objective</th>\n",
       "      <th>...</th>\n",
       "      <th>split1_test_score</th>\n",
       "      <th>split2_test_score</th>\n",
       "      <th>mean_test_score</th>\n",
       "      <th>std_test_score</th>\n",
       "      <th>rank_test_score</th>\n",
       "      <th>split0_train_score</th>\n",
       "      <th>split1_train_score</th>\n",
       "      <th>split2_train_score</th>\n",
       "      <th>mean_train_score</th>\n",
       "      <th>std_train_score</th>\n",
       "    </tr>\n",
       "  </thead>\n",
       "  <tbody>\n",
       "    <tr>\n",
       "      <th>0</th>\n",
       "      <td>0</td>\n",
       "      <td>452290</td>\n",
       "      <td>97.664837</td>\n",
       "      <td>23.338356</td>\n",
       "      <td>4.201541</td>\n",
       "      <td>0.649967</td>\n",
       "      <td>0.05</td>\n",
       "      <td>1000</td>\n",
       "      <td>50</td>\n",
       "      <td>binary</td>\n",
       "      <td>...</td>\n",
       "      <td>3.448379</td>\n",
       "      <td>3.450349</td>\n",
       "      <td>3.202798</td>\n",
       "      <td>0.348698</td>\n",
       "      <td>2</td>\n",
       "      <td>3.5</td>\n",
       "      <td>3.192328</td>\n",
       "      <td>3.193684</td>\n",
       "      <td>3.295337</td>\n",
       "      <td>0.144719</td>\n",
       "    </tr>\n",
       "    <tr>\n",
       "      <th>1</th>\n",
       "      <td>0</td>\n",
       "      <td>452290</td>\n",
       "      <td>112.241711</td>\n",
       "      <td>32.401953</td>\n",
       "      <td>4.580205</td>\n",
       "      <td>0.671124</td>\n",
       "      <td>0.05</td>\n",
       "      <td>1000</td>\n",
       "      <td>60</td>\n",
       "      <td>binary</td>\n",
       "      <td>...</td>\n",
       "      <td>3.450993</td>\n",
       "      <td>3.451623</td>\n",
       "      <td>3.204094</td>\n",
       "      <td>0.349614</td>\n",
       "      <td>1</td>\n",
       "      <td>3.5</td>\n",
       "      <td>3.215861</td>\n",
       "      <td>3.216209</td>\n",
       "      <td>3.310690</td>\n",
       "      <td>0.133862</td>\n",
       "    </tr>\n",
       "    <tr>\n",
       "      <th>2</th>\n",
       "      <td>0</td>\n",
       "      <td>452290</td>\n",
       "      <td>87.856687</td>\n",
       "      <td>17.336152</td>\n",
       "      <td>4.434055</td>\n",
       "      <td>0.811914</td>\n",
       "      <td>0.1</td>\n",
       "      <td>1000</td>\n",
       "      <td>50</td>\n",
       "      <td>binary</td>\n",
       "      <td>...</td>\n",
       "      <td>3.437793</td>\n",
       "      <td>3.441395</td>\n",
       "      <td>3.196311</td>\n",
       "      <td>0.344057</td>\n",
       "      <td>4</td>\n",
       "      <td>3.5</td>\n",
       "      <td>3.301028</td>\n",
       "      <td>3.303691</td>\n",
       "      <td>3.368240</td>\n",
       "      <td>0.093175</td>\n",
       "    </tr>\n",
       "    <tr>\n",
       "      <th>3</th>\n",
       "      <td>0</td>\n",
       "      <td>452290</td>\n",
       "      <td>96.748492</td>\n",
       "      <td>12.566738</td>\n",
       "      <td>4.338969</td>\n",
       "      <td>0.610362</td>\n",
       "      <td>0.1</td>\n",
       "      <td>1000</td>\n",
       "      <td>60</td>\n",
       "      <td>binary</td>\n",
       "      <td>...</td>\n",
       "      <td>3.440221</td>\n",
       "      <td>3.440479</td>\n",
       "      <td>3.196789</td>\n",
       "      <td>0.344448</td>\n",
       "      <td>3</td>\n",
       "      <td>3.5</td>\n",
       "      <td>3.339386</td>\n",
       "      <td>3.337777</td>\n",
       "      <td>3.392388</td>\n",
       "      <td>0.076096</td>\n",
       "    </tr>\n",
       "  </tbody>\n",
       "</table>\n",
       "<p>4 rows × 22 columns</p>\n",
       "</div>"
      ],
      "text/plain": [
       "   iter  n_resources  mean_fit_time  std_fit_time  mean_score_time  \\\n",
       "0     0       452290      97.664837     23.338356         4.201541   \n",
       "1     0       452290     112.241711     32.401953         4.580205   \n",
       "2     0       452290      87.856687     17.336152         4.434055   \n",
       "3     0       452290      96.748492     12.566738         4.338969   \n",
       "\n",
       "   std_score_time param_learning_rate param_n_estimators param_num_leaves  \\\n",
       "0        0.649967                0.05               1000               50   \n",
       "1        0.671124                0.05               1000               60   \n",
       "2        0.811914                 0.1               1000               50   \n",
       "3        0.610362                 0.1               1000               60   \n",
       "\n",
       "  param_objective  ... split1_test_score  split2_test_score  mean_test_score  \\\n",
       "0          binary  ...          3.448379           3.450349         3.202798   \n",
       "1          binary  ...          3.450993           3.451623         3.204094   \n",
       "2          binary  ...          3.437793           3.441395         3.196311   \n",
       "3          binary  ...          3.440221           3.440479         3.196789   \n",
       "\n",
       "   std_test_score  rank_test_score  split0_train_score  split1_train_score  \\\n",
       "0        0.348698                2                 3.5            3.192328   \n",
       "1        0.349614                1                 3.5            3.215861   \n",
       "2        0.344057                4                 3.5            3.301028   \n",
       "3        0.344448                3                 3.5            3.339386   \n",
       "\n",
       "   split2_train_score  mean_train_score  std_train_score  \n",
       "0            3.193684          3.295337         0.144719  \n",
       "1            3.216209          3.310690         0.133862  \n",
       "2            3.303691          3.368240         0.093175  \n",
       "3            3.337777          3.392388         0.076096  \n",
       "\n",
       "[4 rows x 22 columns]"
      ]
     },
     "execution_count": 101,
     "metadata": {},
     "output_type": "execute_result"
    }
   ],
   "source": [
    "pd.DataFrame(clf.cv_results_)"
   ]
  },
  {
   "cell_type": "code",
   "execution_count": 102,
   "id": "e1f7d32b",
   "metadata": {},
   "outputs": [],
   "source": [
    "params = dict(clf.best_params_)"
   ]
  },
  {
   "cell_type": "code",
   "execution_count": 103,
   "id": "363f6aad",
   "metadata": {},
   "outputs": [],
   "source": [
    "lg = LGBMClassifier(learning_rate=params['learning_rate'], \n",
    "                    n_estimators=params['n_estimators'], \n",
    "                    num_leaves=params['num_leaves'], \n",
    "                    objective='binary')"
   ]
  },
  {
   "cell_type": "code",
   "execution_count": 42,
   "id": "7776a306",
   "metadata": {},
   "outputs": [],
   "source": [
    "#lg = LGBMClassifier(n_estimators=1000, learning_rate=0.1, num_leaves=50, objective='binary')"
   ]
  },
  {
   "cell_type": "code",
   "execution_count": 106,
   "id": "a6f159c1",
   "metadata": {},
   "outputs": [
    {
     "name": "stdout",
     "output_type": "stream",
     "text": [
      "Wall time: 1min 28s\n"
     ]
    },
    {
     "data": {
      "text/plain": [
       "LGBMClassifier(learning_rate=0.05, n_estimators=1000, num_leaves=60,\n",
       "               objective='binary')"
      ]
     },
     "execution_count": 106,
     "metadata": {},
     "output_type": "execute_result"
    }
   ],
   "source": [
    "%%time\n",
    "lg.fit(X_train, y_train)"
   ]
  },
  {
   "cell_type": "code",
   "execution_count": 107,
   "id": "fcdfb353",
   "metadata": {},
   "outputs": [],
   "source": [
    "y_pred_p = lg.predict_proba(X_test)[:,1]\n",
    "y_pred_b = lg.predict(X_test)"
   ]
  },
  {
   "cell_type": "code",
   "execution_count": 129,
   "id": "2072d3bc",
   "metadata": {},
   "outputs": [
    {
     "data": {
      "image/png": "[encoded data removed]",
      "text/plain": [
       "<Figure size 576x432 with 2 Axes>"
      ]
     },
     "metadata": {
      "needs_background": "light"
     },
     "output_type": "display_data"
    },
    {
     "name": "stdout",
     "output_type": "stream",
     "text": [
      "Sensitivity : 4.13 % des personnes pouvant contracter un crédit sont bien classifiées\n",
      "Specificity : 99.69 % des personnes ne pouvant pas contracter de crédit sont bien classifiées\n",
      "Precision : 54.23 % des personnes pouvant obtenir un crédit qui sont correctement classifiées\n",
      "Scoring perso : 0.93\n"
     ]
    }
   ],
   "source": [
    "cm = confusion_matrix(y_test, y_pred_b)\n",
    "tn, fp, fn, tp = confusion_matrix(y_test, y_pred_b).ravel()\n",
    "sensitivity = tp / (tp + fn)\n",
    "specificity = tn / (tn + fp)\n",
    "precision = tp / (tp + fp)\n",
    "\n",
    "plt.figure(figsize=(8,6))\n",
    "sns.heatmap(cm, annot=True, fmt='d')\n",
    "plt.xlabel('Predicted values', fontsize=18)\n",
    "plt.ylabel('Actual values', fontsize=18)\n",
    "plt.yticks(ticks=[0.5,1.5], labels=['Negative', 'Positive'], rotation=0, fontsize=15)\n",
    "plt.xticks(ticks=[0.5,1.5], labels=['Negative', 'Positive'], rotation=0, fontsize=15)\n",
    "plt.tight_layout()\n",
    "plt.savefig(\"clf_matrix.png\", bbox_inches='tight', transparent=True)\n",
    "plt.show()\n",
    "print(\"Sensitivity :\", format(sensitivity * 100,\".2f\"), \"% des personnes pouvant contracter un crédit sont bien classifiées\")\n",
    "print(\"Specificity :\", format(specificity * 100,\".2f\"), \"% des personnes ne pouvant pas contracter de crédit sont bien classifiées\")\n",
    "print(\"Precision :\", format(precision * 100,\".2f\"), \"% des personnes pouvant obtenir un crédit qui sont correctement classifiées\")\n",
    "print(\"Scoring perso :\", format(scoring_perso(y_test, y_pred_b), \".2f\"))"
   ]
  },
  {
   "cell_type": "code",
   "execution_count": 128,
   "id": "59288a7d",
   "metadata": {},
   "outputs": [
    {
     "data": {
      "image/png": "[encoded data removed]",
      "text/plain": [
       "<Figure size 432x432 with 1 Axes>"
      ]
     },
     "metadata": {
      "needs_background": "light"
     },
     "output_type": "display_data"
    }
   ],
   "source": [
    "from sklearn.metrics import precision_recall_curve, PrecisionRecallDisplay\n",
    "\n",
    "precision, sensitivity, thresholds = precision_recall_curve(y_test, y_pred_p)\n",
    "\n",
    "plt.figure(figsize=(6,6))\n",
    "plt.plot(precision, sensitivity)\n",
    "plt.xlabel('Sensitivity')\n",
    "plt.ylabel('Precision')\n",
    "plt.savefig(\"clf_precision_recall.png\", bbox_inches='tight', transparent=True)\n",
    "plt.show()"
   ]
  },
  {
   "cell_type": "code",
   "execution_count": 110,
   "id": "5985f2a4",
   "metadata": {
    "scrolled": false
   },
   "outputs": [
    {
     "data": {
      "image/png": "[encoded data removed]",
      "text/plain": [
       "<Figure size 432x432 with 1 Axes>"
      ]
     },
     "metadata": {
      "needs_background": "light"
     },
     "output_type": "display_data"
    }
   ],
   "source": [
    "fpr, tpr, thresholds = roc_curve(y_test, y_pred_p)\n",
    "score = roc_auc_score(y_test, y_pred_p)\n",
    "\n",
    "plt.figure(figsize=(6,6))\n",
    "plt.plot(fpr, tpr, lw=1, alpha=0.3, label=\"ROC fold%d (AUC = %0.4f)\" %(1, score))\n",
    "plt.plot([0, 1], [0, 1], linestyle='--', lw=2, color='r', label='Luck', alpha=.8)\n",
    "plt.xlim([-0.05, 1.05])\n",
    "plt.ylim([-0.05, 1.05])\n",
    "plt.xlabel('False Positive Rate')\n",
    "plt.ylabel('True Positive Rate')\n",
    "plt.title('Classificateur ROC Curve')\n",
    "plt.legend(loc=\"lower right\")\n",
    "plt.tight_layout()\n",
    "#plt.savefig(\"clf_auc.png\", bbox_inches='tight', transparent=True)\n",
    "plt.show()"
   ]
  },
  {
   "cell_type": "code",
   "execution_count": 111,
   "id": "29f0254f",
   "metadata": {},
   "outputs": [
    {
     "data": {
      "text/html": [
       "<div>\n",
       "<style scoped>\n",
       "    .dataframe tbody tr th:only-of-type {\n",
       "        vertical-align: middle;\n",
       "    }\n",
       "\n",
       "    .dataframe tbody tr th {\n",
       "        vertical-align: top;\n",
       "    }\n",
       "\n",
       "    .dataframe thead th {\n",
       "        text-align: right;\n",
       "    }\n",
       "</style>\n",
       "<table border=\"1\" class=\"dataframe\">\n",
       "  <thead>\n",
       "    <tr style=\"text-align: right;\">\n",
       "      <th></th>\n",
       "      <th>fpr</th>\n",
       "      <th>tpr</th>\n",
       "      <th>1-fpr</th>\n",
       "      <th>tf</th>\n",
       "      <th>thresholds</th>\n",
       "    </tr>\n",
       "  </thead>\n",
       "  <tbody>\n",
       "    <tr>\n",
       "      <th>5467</th>\n",
       "      <td>0.298972</td>\n",
       "      <td>0.701108</td>\n",
       "      <td>0.701028</td>\n",
       "      <td>0.00008</td>\n",
       "      <td>0.075064</td>\n",
       "    </tr>\n",
       "  </tbody>\n",
       "</table>\n",
       "</div>"
      ],
      "text/plain": [
       "           fpr       tpr     1-fpr       tf  thresholds\n",
       "5467  0.298972  0.701108  0.701028  0.00008    0.075064"
      ]
     },
     "execution_count": 111,
     "metadata": {},
     "output_type": "execute_result"
    }
   ],
   "source": [
    "i = np.arange(len(tpr)) # index for df\n",
    "roc = pd.DataFrame({'fpr' : pd.Series(fpr, index=i),'tpr' : pd.Series(tpr, index = i), '1-fpr' : pd.Series(1-fpr, index = i), 'tf' : pd.Series(tpr - (1-fpr), index = i), 'thresholds' : pd.Series(thresholds, index = i)})\n",
    "roc.iloc[(roc.tf-0).abs().argsort()[:1]]"
   ]
  },
  {
   "cell_type": "code",
   "execution_count": 112,
   "id": "10ffd4d2",
   "metadata": {},
   "outputs": [
    {
     "data": {
      "image/png": "[encoded data removed]",
      "text/plain": [
       "<Figure size 432x288 with 1 Axes>"
      ]
     },
     "metadata": {
      "needs_background": "light"
     },
     "output_type": "display_data"
    }
   ],
   "source": [
    "# Plot tpr vs 1-fpr\n",
    "plt.plot(roc['tpr'], label='true positive rate')\n",
    "plt.plot(roc['1-fpr'], color = 'red', label=\"1 - false positive rate\")\n",
    "plt.xlabel('1-False Positive Rate')\n",
    "plt.ylabel('True Positive Rate')\n",
    "plt.title('ROC')\n",
    "plt.legend()\n",
    "plt.show()"
   ]
  },
  {
   "cell_type": "markdown",
   "id": "8c4dadf4",
   "metadata": {},
   "source": [
    "##### [sommaire](#S)"
   ]
  },
  {
   "cell_type": "markdown",
   "id": "f471aeee",
   "metadata": {},
   "source": [
    "### Recherche du treshold pertinent <a class='anchor' id='IIC2'></a>"
   ]
  },
  {
   "cell_type": "code",
   "execution_count": 113,
   "id": "54e545ab",
   "metadata": {},
   "outputs": [],
   "source": [
    "threshold = [0.1,0.2,0.3,0.4,0.5,0.6,0.7,0.8,0.9]"
   ]
  },
  {
   "cell_type": "code",
   "execution_count": 126,
   "id": "2733f54b",
   "metadata": {
    "scrolled": false
   },
   "outputs": [
    {
     "data": {
      "image/png": "[encoded data removed]",
      "text/plain": [
       "<Figure size 576x432 with 2 Axes>"
      ]
     },
     "metadata": {
      "needs_background": "light"
     },
     "output_type": "display_data"
    },
    {
     "name": "stdout",
     "output_type": "stream",
     "text": [
      "Threshold :  0.1\n",
      "Sensitivity : 59.15 % des personnes pouvant contracter un crédit sont bien classifiées\n",
      "Specificity : 78.79 % des personnes ne pouvant pas contracter de crédit sont bien classifiées\n",
      "Precision : 19.67 % des personnes pouvant obtenir un crédit qui sont correctement classifiées\n",
      "Scoring perso : -0.51\n"
     ]
    },
    {
     "data": {
      "image/png": "[encoded data removed]",
      "text/plain": [
       "<Figure size 576x432 with 2 Axes>"
      ]
     },
     "metadata": {
      "needs_background": "light"
     },
     "output_type": "display_data"
    },
    {
     "name": "stdout",
     "output_type": "stream",
     "text": [
      "Threshold :  0.2\n",
      "Sensitivity : 32.31 % des personnes pouvant contracter un crédit sont bien classifiées\n",
      "Specificity : 93.15 % des personnes ne pouvant pas contracter de crédit sont bien classifiées\n",
      "Precision : 29.29 % des personnes pouvant obtenir un crédit qui sont correctement classifiées\n",
      "Scoring perso : 0.58\n"
     ]
    },
    {
     "data": {
      "image/png": "[encoded data removed]",
      "text/plain": [
       "<Figure size 576x432 with 2 Axes>"
      ]
     },
     "metadata": {
      "needs_background": "light"
     },
     "output_type": "display_data"
    },
    {
     "name": "stdout",
     "output_type": "stream",
     "text": [
      "Threshold :  0.3\n",
      "Sensitivity : 16.86 % des personnes pouvant contracter un crédit sont bien classifiées\n",
      "Specificity : 97.46 % des personnes ne pouvant pas contracter de crédit sont bien classifiées\n",
      "Precision : 36.81 % des personnes pouvant obtenir un crédit qui sont correctement classifiées\n",
      "Scoring perso : 0.84\n"
     ]
    },
    {
     "data": {
      "image/png": "[encoded data removed]",
      "text/plain": [
       "<Figure size 576x432 with 2 Axes>"
      ]
     },
     "metadata": {
      "needs_background": "light"
     },
     "output_type": "display_data"
    },
    {
     "name": "stdout",
     "output_type": "stream",
     "text": [
      "Threshold :  0.4\n",
      "Sensitivity : 8.34 % des personnes pouvant contracter un crédit sont bien classifiées\n",
      "Specificity : 99.10 % des personnes ne pouvant pas contracter de crédit sont bien classifiées\n",
      "Precision : 44.81 % des personnes pouvant obtenir un crédit qui sont correctement classifiées\n",
      "Scoring perso : 0.91\n"
     ]
    },
    {
     "data": {
      "image/png": "[encoded data removed]",
      "text/plain": [
       "<Figure size 576x432 with 2 Axes>"
      ]
     },
     "metadata": {
      "needs_background": "light"
     },
     "output_type": "display_data"
    },
    {
     "name": "stdout",
     "output_type": "stream",
     "text": [
      "Threshold :  0.5\n",
      "Sensitivity : 4.13 % des personnes pouvant contracter un crédit sont bien classifiées\n",
      "Specificity : 99.69 % des personnes ne pouvant pas contracter de crédit sont bien classifiées\n",
      "Precision : 54.23 % des personnes pouvant obtenir un crédit qui sont correctement classifiées\n",
      "Scoring perso : 0.93\n"
     ]
    },
    {
     "data": {
      "image/png": "[encoded data removed]",
      "text/plain": [
       "<Figure size 576x432 with 2 Axes>"
      ]
     },
     "metadata": {
      "needs_background": "light"
     },
     "output_type": "display_data"
    },
    {
     "name": "stdout",
     "output_type": "stream",
     "text": [
      "Threshold :  0.6\n",
      "Sensitivity : 1.67 % des personnes pouvant contracter un crédit sont bien classifiées\n",
      "Specificity : 99.92 % des personnes ne pouvant pas contracter de crédit sont bien classifiées\n",
      "Precision : 63.85 % des personnes pouvant obtenir un crédit qui sont correctement classifiées\n",
      "Scoring perso : 0.93\n"
     ]
    },
    {
     "data": {
      "image/png": "[encoded data removed]",
      "text/plain": [
       "<Figure size 576x432 with 2 Axes>"
      ]
     },
     "metadata": {
      "needs_background": "light"
     },
     "output_type": "display_data"
    },
    {
     "name": "stdout",
     "output_type": "stream",
     "text": [
      "Threshold :  0.7\n",
      "Sensitivity : 0.58 % des personnes pouvant contracter un crédit sont bien classifiées\n",
      "Specificity : 99.98 % des personnes ne pouvant pas contracter de crédit sont bien classifiées\n",
      "Precision : 69.05 % des personnes pouvant obtenir un crédit qui sont correctement classifiées\n",
      "Scoring perso : 0.92\n"
     ]
    },
    {
     "data": {
      "image/png": "[encoded data removed]",
      "text/plain": [
       "<Figure size 576x432 with 2 Axes>"
      ]
     },
     "metadata": {
      "needs_background": "light"
     },
     "output_type": "display_data"
    },
    {
     "name": "stdout",
     "output_type": "stream",
     "text": [
      "Threshold :  0.8\n",
      "Sensitivity : 0.10 % des personnes pouvant contracter un crédit sont bien classifiées\n",
      "Specificity : 100.00 % des personnes ne pouvant pas contracter de crédit sont bien classifiées\n",
      "Precision : 83.33 % des personnes pouvant obtenir un crédit qui sont correctement classifiées\n",
      "Scoring perso : 0.92\n"
     ]
    },
    {
     "data": {
      "image/png": "[encoded data removed]",
      "text/plain": [
       "<Figure size 576x432 with 2 Axes>"
      ]
     },
     "metadata": {
      "needs_background": "light"
     },
     "output_type": "display_data"
    },
    {
     "name": "stdout",
     "output_type": "stream",
     "text": [
      "Threshold :  0.9\n",
      "Sensitivity : 0.02 % des personnes pouvant contracter un crédit sont bien classifiées\n",
      "Specificity : 100.00 % des personnes ne pouvant pas contracter de crédit sont bien classifiées\n",
      "Precision : 100.00 % des personnes pouvant obtenir un crédit qui sont correctement classifiées\n",
      "Scoring perso : 0.92\n"
     ]
    }
   ],
   "source": [
    "for i in threshold:\n",
    "    y_pred = [int(j > i) for j in y_pred_p]\n",
    "    \n",
    "    cm = confusion_matrix(y_test, y_pred)\n",
    "    tn, fp, fn, tp = confusion_matrix(y_test, y_pred).ravel()\n",
    "    sensitivity = tp / (tp + fn)\n",
    "    specificity = tn / (tn + fp)\n",
    "    precision = tp / (tp + fp)\n",
    "    \n",
    "    plt.figure(figsize=(8,6))\n",
    "    sns.heatmap(cm, annot=True, fmt='d')\n",
    "    plt.xlabel('Predicted values', fontsize=18)\n",
    "    plt.ylabel('Actual values', fontsize=18)\n",
    "    plt.yticks(ticks=[0.5,1.5], labels=['Negative', 'Positive'], rotation=0, fontsize=15)\n",
    "    plt.xticks(ticks=[0.5,1.5], labels=['Negative', 'Positive'], rotation=0, fontsize=15)\n",
    "    plt.tight_layout()\n",
    "    plt.savefig(\"clf_matrix_treeshold_{}.png\".format(i), bbox_inches='tight', transparent=True)\n",
    "    plt.show()\n",
    "    \n",
    "    print(\"Threshold : \", i)\n",
    "    print(\"Sensitivity :\", format(sensitivity * 100,\".2f\"), \"% des personnes pouvant contracter un crédit sont bien classifiées\")\n",
    "    print(\"Specificity :\", format(specificity * 100,\".2f\"), \"% des personnes ne pouvant pas contracter de crédit sont bien classifiées\")\n",
    "    print(\"Precision :\", format(precision * 100,\".2f\"), \"% des personnes pouvant obtenir un crédit qui sont correctement classifiées\")\n",
    "    print(\"Scoring perso :\", format(scoring_perso(y_test, y_pred), \".2f\"))"
   ]
  },
  {
   "cell_type": "markdown",
   "id": "27adab7a",
   "metadata": {},
   "source": [
    "##### [sommaire](#S)"
   ]
  },
  {
   "cell_type": "markdown",
   "id": "304238d6",
   "metadata": {},
   "source": [
    "## D, Analyse de l'importance des features locales <a class='anchor' id='IID'></a>"
   ]
  },
  {
   "cell_type": "markdown",
   "id": "c381001e",
   "metadata": {},
   "source": [
    "### Avec LIME <a class='anchor' id='IID1'></a>"
   ]
  },
  {
   "cell_type": "code",
   "execution_count": 53,
   "id": "520f5c94",
   "metadata": {},
   "outputs": [],
   "source": [
    "import lime\n",
    "from lime import lime_tabular\n",
    "import random"
   ]
  },
  {
   "cell_type": "code",
   "execution_count": 54,
   "id": "52536cc8",
   "metadata": {},
   "outputs": [],
   "source": [
    "cat_features = [c for c in X_train.columns if len(X_train[c].unique()) == 2]"
   ]
  },
  {
   "cell_type": "code",
   "execution_count": 55,
   "id": "1600f3d3",
   "metadata": {},
   "outputs": [
    {
     "data": {
      "text/plain": [
       "['FLAG_MOBIL',\n",
       " 'FLAG_DOCUMENT_4',\n",
       " 'FLAG_DOCUMENT_10',\n",
       " 'FLAG_DOCUMENT_12',\n",
       " 'NAME_INCOME_TYPE_Businessman',\n",
       " 'NAME_INCOME_TYPE_Student',\n",
       " 'NAME_FAMILY_STATUS_Unknown',\n",
       " 'CC_SK_DPD_MIN',\n",
       " 'CC_SK_DPD_DEF_MIN',\n",
       " 'CC_NAME_CONTRACT_STATUS_Approved_MIN',\n",
       " 'CC_NAME_CONTRACT_STATUS_Demand_MIN',\n",
       " 'CC_NAME_CONTRACT_STATUS_Refused_MIN',\n",
       " 'CC_NAME_CONTRACT_STATUS_Sentproposal_MIN',\n",
       " 'CC_NAME_CONTRACT_STATUS_MIN',\n",
       " 'CC_NAME_CONTRACT_STATUS_MAX',\n",
       " 'CC_NAME_CONTRACT_STATUS_MEAN',\n",
       " 'CC_NAME_CONTRACT_STATUS_SUM']"
      ]
     },
     "execution_count": 55,
     "metadata": {},
     "output_type": "execute_result"
    }
   ],
   "source": [
    "cat_features"
   ]
  },
  {
   "cell_type": "code",
   "execution_count": 56,
   "id": "56f41874",
   "metadata": {},
   "outputs": [],
   "source": [
    "explainer = lime_tabular.LimeTabularExplainer(training_data=X_train.values, mode='classification', \n",
    "                                              categorical_features=cat_features, feature_names=X_train.columns,\n",
    "                                              class_names=y_train.values)"
   ]
  },
  {
   "cell_type": "code",
   "execution_count": 57,
   "id": "92d8ad11",
   "metadata": {},
   "outputs": [
    {
     "name": "stdout",
     "output_type": "stream",
     "text": [
      "Prediction :  0.0\n",
      "Actual :  0.0\n",
      "426363\n"
     ]
    }
   ],
   "source": [
    "# Good prediction_1\n",
    "count = 0\n",
    "while count == 0:\n",
    "    idx = random.choice(X_test.index)\n",
    "    \n",
    "    if clf.predict(X_test[X_test.index == idx])[0] == y_test[y_test.index == idx].values[0] == 0:\n",
    "\n",
    "        print('Prediction : ', clf.predict(X_test[X_test.index == idx])[0])\n",
    "        print('Actual : ', y_test[y_test.index == idx].values[0])\n",
    "        print(idx)\n",
    "\n",
    "        explanation = explainer.explain_instance(X_test[X_test.index == idx].squeeze(axis=0), \n",
    "                                                 clf.predict_proba, num_features=len(X_train.columns))\n",
    "        count +=1"
   ]
  },
  {
   "cell_type": "code",
   "execution_count": 58,
   "id": "e2e96cd1",
   "metadata": {},
   "outputs": [],
   "source": [
    "liste_n  = explanation.as_list()\n",
    "liste_n = liste_n\n",
    "\n",
    "features = []\n",
    "values = []\n",
    "\n",
    "for i,j in liste_n:\n",
    "    features.append(i)\n",
    "    values.append(j)\n",
    "exp = pd.DataFrame(values, index=features, columns=['valeur'])\n",
    "\n",
    "exp['copie'] = exp.index\n",
    "exp[['copie', 'temp']] = exp.copie.str.rsplit('<',n=1, expand=True)\n",
    "exp[['copie', 'temp']] = exp['copie'].str.rsplit('>',n=1, expand=True)\n",
    "exp['ticks'] = exp['copie'] + \" : \" + round(exp['valeur'],4).astype(str)\n",
    "exp.drop(['temp', 'copie'], axis=1, inplace=True)\n",
    "\n",
    "exp_2 = exp.sort_values('valeur', ascending=True,key=abs)[-10:]"
   ]
  },
  {
   "cell_type": "code",
   "execution_count": 59,
   "id": "a55e81de",
   "metadata": {
    "scrolled": false
   },
   "outputs": [
    {
     "data": {
      "image/png": "[encoded data removed]",
      "text/plain": [
       "<Figure size 432x432 with 1 Axes>"
      ]
     },
     "metadata": {
      "needs_background": "light"
     },
     "output_type": "display_data"
    }
   ],
   "source": [
    "plt.figure(figsize=(6,6))\n",
    "plt.barh(exp_2.ticks, exp_2['valeur'], color=['red' if coef < 0 else 'green' for coef in exp_2['valeur']])\n",
    "plt.grid(visible=True, axis='y', alpha=0.3)\n",
    "#plt.yticks([i for i in exp.valeur])\n",
    "#plt.savefig(\"lime_pred_0.png\", bbox_inches='tight', transparent=True)\n",
    "plt.show()"
   ]
  },
  {
   "cell_type": "code",
   "execution_count": 60,
   "id": "0c33738a",
   "metadata": {},
   "outputs": [
    {
     "data": {
      "text/html": [
       "<div>\n",
       "<style scoped>\n",
       "    .dataframe tbody tr th:only-of-type {\n",
       "        vertical-align: middle;\n",
       "    }\n",
       "\n",
       "    .dataframe tbody tr th {\n",
       "        vertical-align: top;\n",
       "    }\n",
       "\n",
       "    .dataframe thead th {\n",
       "        text-align: right;\n",
       "    }\n",
       "</style>\n",
       "<table border=\"1\" class=\"dataframe\">\n",
       "  <thead>\n",
       "    <tr style=\"text-align: right;\">\n",
       "      <th></th>\n",
       "      <th>valeur</th>\n",
       "      <th>ticks</th>\n",
       "    </tr>\n",
       "  </thead>\n",
       "  <tbody>\n",
       "    <tr>\n",
       "      <th>NAME_HOUSING_TYPE_Coopapartment &gt; 0.00</th>\n",
       "      <td>-0.042814</td>\n",
       "      <td>NAME_HOUSING_TYPE_Coopapartment  : -0.0428</td>\n",
       "    </tr>\n",
       "    <tr>\n",
       "      <th>REG_REGION_NOT_LIVE_REGION &gt; 0.00</th>\n",
       "      <td>-0.010783</td>\n",
       "      <td>REG_REGION_NOT_LIVE_REGION  : -0.0108</td>\n",
       "    </tr>\n",
       "    <tr>\n",
       "      <th>ORGANIZATION_TYPE_School &gt; 0.00</th>\n",
       "      <td>-0.007576</td>\n",
       "      <td>ORGANIZATION_TYPE_School  : -0.0076</td>\n",
       "    </tr>\n",
       "    <tr>\n",
       "      <th>REG_REGION_NOT_WORK_REGION &gt; 0.00</th>\n",
       "      <td>-0.003470</td>\n",
       "      <td>REG_REGION_NOT_WORK_REGION  : -0.0035</td>\n",
       "    </tr>\n",
       "    <tr>\n",
       "      <th>ORGANIZATION_TYPE_Advertising &lt;= 0.00</th>\n",
       "      <td>-0.002567</td>\n",
       "      <td>ORGANIZATION_TYPE_Advertising  : -0.0026</td>\n",
       "    </tr>\n",
       "    <tr>\n",
       "      <th>...</th>\n",
       "      <td>...</td>\n",
       "      <td>...</td>\n",
       "    </tr>\n",
       "    <tr>\n",
       "      <th>ORGANIZATION_TYPE_Industrytype8 &lt;= 0.00</th>\n",
       "      <td>0.000000</td>\n",
       "      <td>ORGANIZATION_TYPE_Industrytype8  : 0.0</td>\n",
       "    </tr>\n",
       "    <tr>\n",
       "      <th>FLAG_DOCUMENT_10 &lt;= 0.00</th>\n",
       "      <td>0.000000</td>\n",
       "      <td>FLAG_DOCUMENT_10  : 0.0</td>\n",
       "    </tr>\n",
       "    <tr>\n",
       "      <th>NAME_FAMILY_STATUS_Singlenotmarried &lt;= 1.00</th>\n",
       "      <td>0.000000</td>\n",
       "      <td>NAME_FAMILY_STATUS_Singlenotmarried  : 0.0</td>\n",
       "    </tr>\n",
       "    <tr>\n",
       "      <th>NAME_FAMILY_STATUS_Unknown &lt;= 0.00</th>\n",
       "      <td>0.000000</td>\n",
       "      <td>NAME_FAMILY_STATUS_Unknown  : 0.0</td>\n",
       "    </tr>\n",
       "    <tr>\n",
       "      <th>FLAG_MOBIL &lt;= 0.00</th>\n",
       "      <td>0.000000</td>\n",
       "      <td>FLAG_MOBIL  : 0.0</td>\n",
       "    </tr>\n",
       "  </tbody>\n",
       "</table>\n",
       "<p>391 rows × 2 columns</p>\n",
       "</div>"
      ],
      "text/plain": [
       "                                               valeur  \\\n",
       "NAME_HOUSING_TYPE_Coopapartment > 0.00      -0.042814   \n",
       "REG_REGION_NOT_LIVE_REGION > 0.00           -0.010783   \n",
       "ORGANIZATION_TYPE_School > 0.00             -0.007576   \n",
       "REG_REGION_NOT_WORK_REGION > 0.00           -0.003470   \n",
       "ORGANIZATION_TYPE_Advertising <= 0.00       -0.002567   \n",
       "...                                               ...   \n",
       "ORGANIZATION_TYPE_Industrytype8 <= 0.00      0.000000   \n",
       "FLAG_DOCUMENT_10 <= 0.00                     0.000000   \n",
       "NAME_FAMILY_STATUS_Singlenotmarried <= 1.00  0.000000   \n",
       "NAME_FAMILY_STATUS_Unknown <= 0.00           0.000000   \n",
       "FLAG_MOBIL <= 0.00                           0.000000   \n",
       "\n",
       "                                                                                  ticks  \n",
       "NAME_HOUSING_TYPE_Coopapartment > 0.00       NAME_HOUSING_TYPE_Coopapartment  : -0.0428  \n",
       "REG_REGION_NOT_LIVE_REGION > 0.00                 REG_REGION_NOT_LIVE_REGION  : -0.0108  \n",
       "ORGANIZATION_TYPE_School > 0.00                     ORGANIZATION_TYPE_School  : -0.0076  \n",
       "REG_REGION_NOT_WORK_REGION > 0.00                 REG_REGION_NOT_WORK_REGION  : -0.0035  \n",
       "ORGANIZATION_TYPE_Advertising <= 0.00          ORGANIZATION_TYPE_Advertising  : -0.0026  \n",
       "...                                                                                 ...  \n",
       "ORGANIZATION_TYPE_Industrytype8 <= 0.00          ORGANIZATION_TYPE_Industrytype8  : 0.0  \n",
       "FLAG_DOCUMENT_10 <= 0.00                                        FLAG_DOCUMENT_10  : 0.0  \n",
       "NAME_FAMILY_STATUS_Singlenotmarried <= 1.00  NAME_FAMILY_STATUS_Singlenotmarried  : 0.0  \n",
       "NAME_FAMILY_STATUS_Unknown <= 0.00                    NAME_FAMILY_STATUS_Unknown  : 0.0  \n",
       "FLAG_MOBIL <= 0.00                                                    FLAG_MOBIL  : 0.0  \n",
       "\n",
       "[391 rows x 2 columns]"
      ]
     },
     "execution_count": 60,
     "metadata": {},
     "output_type": "execute_result"
    }
   ],
   "source": [
    "exp"
   ]
  },
  {
   "cell_type": "code",
   "execution_count": 61,
   "id": "6c593434",
   "metadata": {},
   "outputs": [
    {
     "name": "stdout",
     "output_type": "stream",
     "text": [
      "Prediction :  1.0\n",
      "Actual :  1.0\n",
      "151287\n"
     ]
    }
   ],
   "source": [
    "# Good prediction_2\n",
    "count = 0\n",
    "while count == 0:\n",
    "    idx = random.choice(X_test.index)\n",
    "    \n",
    "    if clf.predict(X_test[X_test.index == idx])[0] == y_test[y_test.index == idx].values[0] == 1:\n",
    "\n",
    "        print('Prediction : ', clf.predict(X_test[X_test.index == idx])[0])\n",
    "        print('Actual : ', y_test[y_test.index == idx].values[0])\n",
    "        print(idx)\n",
    "\n",
    "        explanation = explainer.explain_instance(X_test[X_test.index == idx].squeeze(axis=0), \n",
    "                                                 clf.predict_proba, num_features=len(X_train.columns))\n",
    "        count +=1"
   ]
  },
  {
   "cell_type": "code",
   "execution_count": 62,
   "id": "729cdf4a",
   "metadata": {},
   "outputs": [],
   "source": [
    "liste_n  = explanation.as_list()\n",
    "liste_n = liste_n\n",
    "\n",
    "features = []\n",
    "values = []\n",
    "\n",
    "for i,j in liste_n:\n",
    "    features.append(i)\n",
    "    values.append(j)\n",
    "exp = pd.DataFrame(values, index=features, columns=['valeur'])\n",
    "\n",
    "exp['copie'] = exp.index\n",
    "exp[['copie', 'temp']] = exp.copie.str.rsplit('<',n=1, expand=True)\n",
    "exp[['copie', 'temp']] = exp['copie'].str.rsplit('>',n=1, expand=True)\n",
    "exp['ticks'] = exp['copie'] + \" : \" + round(exp['valeur'],4).astype(str)\n",
    "exp.drop(['temp', 'copie'], axis=1, inplace=True)\n",
    "\n",
    "exp_2 = exp.sort_values('valeur', ascending=True,key=abs)[-10:]"
   ]
  },
  {
   "cell_type": "code",
   "execution_count": 63,
   "id": "70cd837d",
   "metadata": {},
   "outputs": [
    {
     "data": {
      "image/png": "[encoded data removed]",
      "text/plain": [
       "<Figure size 216x864 with 1 Axes>"
      ]
     },
     "metadata": {
      "needs_background": "light"
     },
     "output_type": "display_data"
    }
   ],
   "source": [
    "plt.figure(figsize=(3,12))\n",
    "plt.barh(exp_2.ticks, exp_2['valeur'], color=['red' if coef < 0 else 'green' for coef in exp_2['valeur']])\n",
    "plt.grid(visible=True, axis='y', alpha=0.3)\n",
    "#plt.yticks([i for i in exp.valeur])\n",
    "#plt.savefig(\"lime_pred_1.png\", bbox_inches='tight', transparent=True)\n",
    "plt.show()"
   ]
  },
  {
   "cell_type": "code",
   "execution_count": 64,
   "id": "614758e2",
   "metadata": {},
   "outputs": [
    {
     "name": "stdout",
     "output_type": "stream",
     "text": [
      "Prediction :  0.0\n",
      "Actual :  1.0\n",
      "344181\n"
     ]
    }
   ],
   "source": [
    "# Bad prediction\n",
    "count = 0\n",
    "while count == 0:\n",
    "    idx = random.choice(X_test.index)\n",
    "    \n",
    "    if clf.predict(X_test[X_test.index == idx])[0] != y_test[y_test.index == idx].values[0]:\n",
    "\n",
    "        print('Prediction : ', clf.predict(X_test[X_test.index == idx])[0])\n",
    "        print('Actual : ', y_test[y_test.index == idx].values[0])\n",
    "        print(idx)\n",
    "\n",
    "        explanation = explainer.explain_instance(X_test[X_test.index == idx].squeeze(axis=0), \n",
    "                                                 clf.predict_proba, num_features=len(X_train.columns))\n",
    "        count +=1"
   ]
  },
  {
   "cell_type": "code",
   "execution_count": 65,
   "id": "e1b73b6d",
   "metadata": {},
   "outputs": [],
   "source": [
    "liste_n  = explanation.as_list()\n",
    "liste_n = liste_n\n",
    "\n",
    "features = []\n",
    "values = []\n",
    "\n",
    "for i,j in liste_n:\n",
    "    features.append(i)\n",
    "    values.append(j)\n",
    "exp = pd.DataFrame(values, index=features, columns=['valeur'])\n",
    "\n",
    "exp['copie'] = exp.index\n",
    "exp[['copie', 'temp']] = exp.copie.str.rsplit('<',n=1, expand=True)\n",
    "exp[['copie', 'temp']] = exp['copie'].str.rsplit('>',n=1, expand=True)\n",
    "exp['ticks'] = exp['copie'] + \" : \" + round(exp['valeur'],4).astype(str)\n",
    "exp.drop(['temp', 'copie'], axis=1, inplace=True)\n",
    "\n",
    "exp_2 = exp.sort_values('valeur', ascending=True,key=abs)[-10:]\n"
   ]
  },
  {
   "cell_type": "code",
   "execution_count": 66,
   "id": "da567759",
   "metadata": {
    "scrolled": false
   },
   "outputs": [
    {
     "data": {
      "image/png": "[encoded data removed]",
      "text/plain": [
       "<Figure size 216x864 with 1 Axes>"
      ]
     },
     "metadata": {
      "needs_background": "light"
     },
     "output_type": "display_data"
    }
   ],
   "source": [
    "plt.figure(figsize=(3,12))\n",
    "plt.barh(exp_2.ticks, exp_2['valeur'], color=['red' if coef < 0 else 'green' for coef in exp_2['valeur']])\n",
    "plt.grid(visible=True, axis='y', alpha=0.3)\n",
    "#plt.yticks([i for i in exp.valeur])\n",
    "#plt.savefig(\"lime_pred_mistake.png\", bbox_inches='tight', transparent=True)\n",
    "plt.show()"
   ]
  },
  {
   "cell_type": "markdown",
   "id": "ec8e7606",
   "metadata": {},
   "source": [
    "##### [sommaire](#S)"
   ]
  },
  {
   "cell_type": "markdown",
   "id": "e5866a95",
   "metadata": {},
   "source": [
    "### Avec SHAP <a class='anchor' id='IID2'></a>"
   ]
  },
  {
   "cell_type": "code",
   "execution_count": 134,
   "id": "362dea44",
   "metadata": {},
   "outputs": [],
   "source": [
    "import shap\n",
    "import random"
   ]
  },
  {
   "cell_type": "code",
   "execution_count": 68,
   "id": "a89fb6ab",
   "metadata": {},
   "outputs": [],
   "source": [
    "y_train_pos = y_train[y_train > 0].index\n",
    "X_train_pos = X_train[X_train.index.isin(y_train_pos)]"
   ]
  },
  {
   "cell_type": "code",
   "execution_count": 69,
   "id": "e97b18b4",
   "metadata": {},
   "outputs": [],
   "source": [
    "explainer_sh = shap.TreeExplainer(lg, X_train)"
   ]
  },
  {
   "cell_type": "code",
   "execution_count": 70,
   "id": "73578a49",
   "metadata": {},
   "outputs": [
    {
     "name": "stderr",
     "output_type": "stream",
     "text": [
      "100%|===================| 61485/61502 [24:15<00:00]        "
     ]
    }
   ],
   "source": [
    "shap_values = explainer_sh.shap_values(X_test, check_additivity=False)"
   ]
  },
  {
   "cell_type": "code",
   "execution_count": 135,
   "id": "3faf2c51",
   "metadata": {},
   "outputs": [
    {
     "name": "stdout",
     "output_type": "stream",
     "text": [
      "Obtention du crédit (actual) : 1\n",
      "Obtention du crédit (prediction) : 1\n",
      "55747\n"
     ]
    },
    {
     "ename": "NameError",
     "evalue": "name 'plt' is not defined",
     "output_type": "error",
     "traceback": [
      "\u001b[1;31m---------------------------------------------------------------------------\u001b[0m",
      "\u001b[1;31mNameError\u001b[0m                                 Traceback (most recent call last)",
      "\u001b[1;32m~\\AppData\\Local\\Temp/ipykernel_3756/612535885.py\u001b[0m in \u001b[0;36m<module>\u001b[1;34m\u001b[0m\n\u001b[0;32m     16\u001b[0m \u001b[1;31m#        shap_values = explainer_sh.shap_values(X_test.iloc[idx])\u001b[0m\u001b[1;33m\u001b[0m\u001b[1;33m\u001b[0m\u001b[0m\n\u001b[0;32m     17\u001b[0m \u001b[1;33m\u001b[0m\u001b[0m\n\u001b[1;32m---> 18\u001b[1;33m         shap.plots._waterfall.waterfall_legacy(explainer_sh.expected_value, \n\u001b[0m\u001b[0;32m     19\u001b[0m                                                \u001b[0mshap_values\u001b[0m\u001b[1;33m[\u001b[0m\u001b[0midx\u001b[0m\u001b[1;33m]\u001b[0m\u001b[1;33m,\u001b[0m\u001b[1;33m\u001b[0m\u001b[1;33m\u001b[0m\u001b[0m\n\u001b[0;32m     20\u001b[0m                                                \u001b[0mX_test\u001b[0m\u001b[1;33m.\u001b[0m\u001b[0miloc\u001b[0m\u001b[1;33m[\u001b[0m\u001b[0midx\u001b[0m\u001b[1;33m]\u001b[0m\u001b[1;33m.\u001b[0m\u001b[0mvalues\u001b[0m\u001b[1;33m,\u001b[0m\u001b[1;33m\u001b[0m\u001b[1;33m\u001b[0m\u001b[0m\n",
      "\u001b[1;32m~\\anaconda3\\lib\\site-packages\\shap\\plots\\_waterfall.py\u001b[0m in \u001b[0;36mwaterfall_legacy\u001b[1;34m(expected_value, shap_values, features, feature_names, max_display, show)\u001b[0m\n\u001b[0;32m    335\u001b[0m     \u001b[1;31m# Turn off interactive plot\u001b[0m\u001b[1;33m\u001b[0m\u001b[1;33m\u001b[0m\u001b[0m\n\u001b[0;32m    336\u001b[0m     \u001b[1;32mif\u001b[0m \u001b[0mshow\u001b[0m \u001b[1;32mis\u001b[0m \u001b[1;32mFalse\u001b[0m\u001b[1;33m:\u001b[0m\u001b[1;33m\u001b[0m\u001b[1;33m\u001b[0m\u001b[0m\n\u001b[1;32m--> 337\u001b[1;33m         \u001b[0mplt\u001b[0m\u001b[1;33m.\u001b[0m\u001b[0mioff\u001b[0m\u001b[1;33m(\u001b[0m\u001b[1;33m)\u001b[0m\u001b[1;33m\u001b[0m\u001b[1;33m\u001b[0m\u001b[0m\n\u001b[0m\u001b[0;32m    338\u001b[0m \u001b[1;33m\u001b[0m\u001b[0m\n\u001b[0;32m    339\u001b[0m     \u001b[1;31m# support passing an explanation object\u001b[0m\u001b[1;33m\u001b[0m\u001b[1;33m\u001b[0m\u001b[0m\n",
      "\u001b[1;31mNameError\u001b[0m: name 'plt' is not defined"
     ]
    }
   ],
   "source": [
    "count = 0\n",
    "\n",
    "while count == 0:\n",
    "    \n",
    "    idx = random.randint(1,len(X_test))\n",
    "\n",
    "    actual = int(y_test.iloc[idx])\n",
    "    prediction = int(lg.predict(X_test.iloc[[idx]]))\n",
    "\n",
    "    if actual == prediction ==1 :\n",
    "\n",
    "        print('Obtention du crédit (actual) :', actual)\n",
    "        print('Obtention du crédit (prediction) :', prediction)\n",
    "        print(idx)\n",
    "\n",
    "#        shap_values = explainer_sh.shap_values(X_test.iloc[idx])\n",
    "\n",
    "        shap.plots._waterfall.waterfall_legacy(explainer_sh.expected_value, \n",
    "                                               shap_values[idx], \n",
    "                                               X_test.iloc[idx].values, \n",
    "                                               feature_names=X.columns,\n",
    "                                              max_display=20, show=False)\n",
    "        plt.savefig(\"shap_pred_1.png\", bbox_inches='tight', transparent=True)\n",
    "        plt.show()\n",
    "        count +=1"
   ]
  },
  {
   "cell_type": "code",
   "execution_count": null,
   "id": "d44cd17f",
   "metadata": {},
   "outputs": [],
   "source": [
    "print('Obtention du crédit (actual) :', actual)\n",
    "print('Obtention du crédit (prediction) :', prediction)\n",
    "print(idx)\n",
    "shap.initjs()\n",
    "shap.force_plot(explainer_sh.expected_value, shap_values[idx], \n",
    "                feature_names=X_test.columns, features=shap_values[idx])"
   ]
  },
  {
   "cell_type": "code",
   "execution_count": null,
   "id": "39e3416f",
   "metadata": {},
   "outputs": [],
   "source": [
    "shap.initjs()\n",
    "shap.force_plot(explainer_sh.expected_value, shap_values[idx-50:idx+50], \n",
    "                feature_names=X_test.columns, features=shap_values[idx-50:idx+50])"
   ]
  },
  {
   "cell_type": "code",
   "execution_count": null,
   "id": "0307a427",
   "metadata": {},
   "outputs": [],
   "source": [
    "plt.figure(figsize=(6,10))\n",
    "shap.bar_plot(shap_values[idx], feature_names=X_test.columns, max_display=20)\n",
    "plt.show()"
   ]
  },
  {
   "cell_type": "markdown",
   "id": "b0c6c9f4",
   "metadata": {},
   "source": [
    "#### Shap avec shap_value unique"
   ]
  },
  {
   "cell_type": "code",
   "execution_count": null,
   "id": "64dfb335",
   "metadata": {
    "scrolled": false
   },
   "outputs": [],
   "source": [
    "count = 0\n",
    "\n",
    "while count == 0:\n",
    "    \n",
    "    idx = random.randint(1,len(X_test))\n",
    "\n",
    "    actual = int(y_test.iloc[idx])\n",
    "    prediction = int(lg.predict(X_test.iloc[[idx]]))\n",
    "\n",
    "    if actual == prediction ==0:\n",
    "\n",
    "        print('Obtention du crédit (actual) :', actual)\n",
    "        print('Obtention du crédit (prediction) :', prediction)\n",
    "        print(idx)\n",
    "\n",
    "        shap_values_indiv = explainer_sh.shap_values(X_test.iloc[idx])\n",
    "\n",
    "        shap.plots._waterfall.waterfall_legacy(explainer_sh.expected_value, \n",
    "                                               shap_values_indiv, \n",
    "                                               X_test.iloc[idx].values, \n",
    "                                               feature_names=X.columns,\n",
    "                                              max_display=20, show=False)\n",
    "        #plt.savefig(\"shap_pred_0.png\", bbox_inches='tight', transparent=True)\n",
    "        plt.show()\n",
    "        count +=1"
   ]
  },
  {
   "cell_type": "code",
   "execution_count": null,
   "id": "41fc10e9",
   "metadata": {},
   "outputs": [],
   "source": [
    "import pickle\n",
    "\n",
    "with open('explainer_shap.pkl', 'wb') as handle:\n",
    "    pickle.dump(explainer_sh, handle)"
   ]
  },
  {
   "cell_type": "markdown",
   "id": "be03505a",
   "metadata": {},
   "source": [
    "##### [sommaire](#S)"
   ]
  },
  {
   "cell_type": "markdown",
   "id": "954a26d3",
   "metadata": {},
   "source": [
    "# III, Export du modèle de prédiction <a class='anchor' id='III'></a>"
   ]
  },
  {
   "cell_type": "markdown",
   "id": "10e2ac94",
   "metadata": {},
   "source": [
    "## A, Création d'un pipeline <a class='anchor' id='IIIA'></a>"
   ]
  },
  {
   "cell_type": "code",
   "execution_count": null,
   "id": "152d985a",
   "metadata": {},
   "outputs": [],
   "source": [
    "from imblearn import pipeline"
   ]
  },
  {
   "cell_type": "code",
   "execution_count": null,
   "id": "ff83ab91",
   "metadata": {},
   "outputs": [],
   "source": [
    "pipeline = pipeline.Pipeline([('smote', SMOTE(sampling_strategy='minority')), \n",
    "                               ('lgBmC', LGBMClassifier(**clf.best_params_))])"
   ]
  },
  {
   "cell_type": "code",
   "execution_count": null,
   "id": "0954cacc",
   "metadata": {},
   "outputs": [],
   "source": [
    "pipeline.fit(X_train, y_train)"
   ]
  },
  {
   "cell_type": "code",
   "execution_count": null,
   "id": "f579fcb5",
   "metadata": {},
   "outputs": [],
   "source": [
    "pipeline.score(X_test, y_test)"
   ]
  },
  {
   "cell_type": "code",
   "execution_count": null,
   "id": "2295ff75",
   "metadata": {},
   "outputs": [],
   "source": [
    "y_pip = pipeline.predict_proba(X_test)[:,1]"
   ]
  },
  {
   "cell_type": "code",
   "execution_count": null,
   "id": "e230793a",
   "metadata": {
    "scrolled": false
   },
   "outputs": [],
   "source": [
    "y_pred = [int(j > 0.2) for j in y_pip]\n",
    "\n",
    "cm = confusion_matrix(y_test, y_pred)\n",
    "tn, fp, fn, tp = confusion_matrix(y_test, y_pred).ravel()\n",
    "sensitivity = tp / (tp + fn)\n",
    "specificity = tn / (tn + fp)\n",
    "precision = tp / (tp + fp)\n",
    "\n",
    "plt.figure(figsize=(8,6))\n",
    "sns.heatmap(cm, annot=True, fmt='d')\n",
    "plt.xlabel('Predicted values', fontsize=18)\n",
    "plt.ylabel('Actual values', fontsize=18)\n",
    "plt.yticks(ticks=[0.5,1.5], labels=['Negative', 'Positive'], rotation=0, fontsize=15)\n",
    "plt.xticks(ticks=[0.5,1.5], labels=['Negative', 'Positive'], rotation=0, fontsize=15)\n",
    "plt.tight_layout()\n",
    "plt.show()\n",
    "\n",
    "print(\"Sensitivity :\", format(sensitivity * 100,\".2f\"), \"% des personnes pouvant contracter un crédit sont bien classifiées\")\n",
    "print(\"Specificity :\", format(specificity * 100,\".2f\"), \"% des personnes ne pouvant pas contracter de crédit sont bien classifiées\")\n",
    "print(\"Precision :\", format(precision * 100,\".2f\"), \"% des personnes pouvant obtenir un crédit qui sont correctement classifiées\")\n",
    "print(\"Scoring perso :\", format(scoring_perso(y_test, y_pred), \".2f\"))"
   ]
  },
  {
   "cell_type": "markdown",
   "id": "21ea6215",
   "metadata": {},
   "source": [
    "##### [sommaire](#S)"
   ]
  },
  {
   "cell_type": "markdown",
   "id": "0d9df7fe",
   "metadata": {},
   "source": [
    "## B, Export avec ML Models <a class='anchor' id='IIIB'></a>"
   ]
  },
  {
   "cell_type": "code",
   "execution_count": null,
   "id": "d8949f3e",
   "metadata": {},
   "outputs": [],
   "source": [
    "from mlflow.models.signature import infer_signature"
   ]
  },
  {
   "cell_type": "code",
   "execution_count": null,
   "id": "6fa5701c",
   "metadata": {},
   "outputs": [],
   "source": [
    "signature = infer_signature(X_train, y_train)"
   ]
  },
  {
   "cell_type": "code",
   "execution_count": null,
   "id": "8553ca32",
   "metadata": {},
   "outputs": [],
   "source": [
    "import mlflow.sklearn"
   ]
  },
  {
   "cell_type": "code",
   "execution_count": null,
   "id": "e3a3d5d3",
   "metadata": {},
   "outputs": [],
   "source": [
    "mlflow.sklearn.save_model(pipeline, 'mlflow_model', signature=signature)"
   ]
  },
  {
   "cell_type": "code",
   "execution_count": null,
   "id": "04692076",
   "metadata": {},
   "outputs": [],
   "source": [
    "with open('mlflow_model/model.pkl', 'rb') as f:\n",
    "    x = pickle.load(f)"
   ]
  },
  {
   "cell_type": "code",
   "execution_count": null,
   "id": "66351d77",
   "metadata": {},
   "outputs": [],
   "source": []
  },
  {
   "cell_type": "code",
   "execution_count": null,
   "id": "5c56ddee",
   "metadata": {},
   "outputs": [],
   "source": []
  },
  {
   "cell_type": "code",
   "execution_count": null,
   "id": "65c41acd",
   "metadata": {},
   "outputs": [],
   "source": [
    "# Pipeline et modèle similaire\n",
    "ind = random.choice(y_test.index)\n",
    "\n",
    "print(pipeline.predict_proba(X_test[X_test.index == ind]))\n",
    "print(lg.predict_proba(X_test[X_test.index == ind]))\n",
    "print(x.predict_proba(X_test[X_test.index == ind]))"
   ]
  },
  {
   "cell_type": "code",
   "execution_count": null,
   "id": "122ec149",
   "metadata": {},
   "outputs": [],
   "source": [
    "clf.best_params_"
   ]
  },
  {
   "cell_type": "code",
   "execution_count": null,
   "id": "dbd1cb28",
   "metadata": {},
   "outputs": [],
   "source": [
    "\"\"\"\"\n",
    "\n",
    "Entrée pour le dashboard ==> ID client\n",
    "\n",
    "Création du dashboard :\n",
    "- API (backend), Flasks ou FAST API (flask reco)\n",
    "- APP (frontend), Dash ou Streamlite (str reco)\n",
    "\n",
    "Installer docker pour lier front et back end\n",
    "\n",
    "Faire tourner en local\n",
    "\n",
    "Déployer sur le web avec Heroku\n",
    "\n",
    "\"\"\"\""
   ]
  },
  {
   "cell_type": "code",
   "execution_count": null,
   "id": "6c5f34a7",
   "metadata": {},
   "outputs": [],
   "source": []
  },
  {
   "cell_type": "markdown",
   "id": "f3a9628e",
   "metadata": {},
   "source": [
    "##### fin de page <a class='anchor' id='fdp'></a>"
   ]
  },
  {
   "cell_type": "markdown",
   "id": "e7b3dcf4",
   "metadata": {},
   "source": [
    "##### [sommaire](#S)"
   ]
  }
 ],
 "metadata": {
  "kernelspec": {
   "display_name": "Python 3 (ipykernel)",
   "language": "python",
   "name": "python3"
  },
  "language_info": {
   "codemirror_mode": {
    "name": "ipython",
    "version": 3
   },
   "file_extension": ".py",
   "mimetype": "text/x-python",
   "name": "python",
   "nbconvert_exporter": "python",
   "pygments_lexer": "ipython3",
   "version": "3.9.7"
  }
 },
 "nbformat": 4,
 "nbformat_minor": 5
}
