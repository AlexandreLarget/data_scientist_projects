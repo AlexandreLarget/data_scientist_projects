{
 "cells": [
  {
   "cell_type": "code",
   "execution_count": 5,
   "metadata": {},
   "outputs": [],
   "source": [
    "import pandas as pd\n",
    "import numpy as np\n",
    "import matplotlib.pyplot as plt\n",
    "import seaborn as sns"
   ]
  },
  {
   "cell_type": "code",
   "execution_count": 145,
   "metadata": {},
   "outputs": [
    {
     "name": "stderr",
     "output_type": "stream",
     "text": [
      "C:\\Users\\Alex\\anaconda3\\lib\\site-packages\\IPython\\core\\interactiveshell.py:3146: DtypeWarning: Columns (0,8,13,27,28,29,31,52,55,64) have mixed types.Specify dtype option on import or set low_memory=False.\n",
      "  has_raised = await self.run_ast_nodes(code_ast.body, cell_name,\n"
     ]
    }
   ],
   "source": [
    "df = pd.read_csv(\"en.openfoodfacts.org.products.csv\", encoding='utf-8', sep='\\t', parse_dates=True, infer_datetime_format=True)"
   ]
  },
  {
   "cell_type": "code",
   "execution_count": 146,
   "metadata": {},
   "outputs": [
    {
     "data": {
      "text/html": [
       "<div>\n",
       "<style scoped>\n",
       "    .dataframe tbody tr th:only-of-type {\n",
       "        vertical-align: middle;\n",
       "    }\n",
       "\n",
       "    .dataframe tbody tr th {\n",
       "        vertical-align: top;\n",
       "    }\n",
       "\n",
       "    .dataframe thead th {\n",
       "        text-align: right;\n",
       "    }\n",
       "</style>\n",
       "<table border=\"1\" class=\"dataframe\">\n",
       "  <thead>\n",
       "    <tr style=\"text-align: right;\">\n",
       "      <th></th>\n",
       "      <th>code</th>\n",
       "      <th>url</th>\n",
       "      <th>creator</th>\n",
       "      <th>created_t</th>\n",
       "      <th>created_datetime</th>\n",
       "      <th>last_modified_t</th>\n",
       "      <th>last_modified_datetime</th>\n",
       "      <th>product_name</th>\n",
       "      <th>abbreviated_product_name</th>\n",
       "      <th>generic_name</th>\n",
       "      <th>...</th>\n",
       "      <th>carbon-footprint-from-meat-or-fish_100g</th>\n",
       "      <th>nutrition-score-fr_100g</th>\n",
       "      <th>nutrition-score-uk_100g</th>\n",
       "      <th>glycemic-index_100g</th>\n",
       "      <th>water-hardness_100g</th>\n",
       "      <th>choline_100g</th>\n",
       "      <th>phylloquinone_100g</th>\n",
       "      <th>beta-glucan_100g</th>\n",
       "      <th>inositol_100g</th>\n",
       "      <th>carnitine_100g</th>\n",
       "    </tr>\n",
       "  </thead>\n",
       "  <tbody>\n",
       "    <tr>\n",
       "      <th>0</th>\n",
       "      <td>00000000000000225</td>\n",
       "      <td>http://world-en.openfoodfacts.org/product/0000...</td>\n",
       "      <td>nutrinet-sante</td>\n",
       "      <td>1623855208</td>\n",
       "      <td>2021-06-16T14:53:28Z</td>\n",
       "      <td>1623855209</td>\n",
       "      <td>2021-06-16T14:53:29Z</td>\n",
       "      <td>jeunes pousses</td>\n",
       "      <td>NaN</td>\n",
       "      <td>NaN</td>\n",
       "      <td>...</td>\n",
       "      <td>NaN</td>\n",
       "      <td>NaN</td>\n",
       "      <td>NaN</td>\n",
       "      <td>NaN</td>\n",
       "      <td>NaN</td>\n",
       "      <td>NaN</td>\n",
       "      <td>NaN</td>\n",
       "      <td>NaN</td>\n",
       "      <td>NaN</td>\n",
       "      <td>NaN</td>\n",
       "    </tr>\n",
       "    <tr>\n",
       "      <th>1</th>\n",
       "      <td>0000000000017</td>\n",
       "      <td>http://world-en.openfoodfacts.org/product/0000...</td>\n",
       "      <td>kiliweb</td>\n",
       "      <td>1529059080</td>\n",
       "      <td>2018-06-15T10:38:00Z</td>\n",
       "      <td>1561463718</td>\n",
       "      <td>2019-06-25T11:55:18Z</td>\n",
       "      <td>Vitória crackers</td>\n",
       "      <td>NaN</td>\n",
       "      <td>NaN</td>\n",
       "      <td>...</td>\n",
       "      <td>NaN</td>\n",
       "      <td>NaN</td>\n",
       "      <td>NaN</td>\n",
       "      <td>NaN</td>\n",
       "      <td>NaN</td>\n",
       "      <td>NaN</td>\n",
       "      <td>NaN</td>\n",
       "      <td>NaN</td>\n",
       "      <td>NaN</td>\n",
       "      <td>NaN</td>\n",
       "    </tr>\n",
       "    <tr>\n",
       "      <th>2</th>\n",
       "      <td>0000000000031</td>\n",
       "      <td>http://world-en.openfoodfacts.org/product/0000...</td>\n",
       "      <td>isagoofy</td>\n",
       "      <td>1539464774</td>\n",
       "      <td>2018-10-13T21:06:14Z</td>\n",
       "      <td>1539464817</td>\n",
       "      <td>2018-10-13T21:06:57Z</td>\n",
       "      <td>Cacao</td>\n",
       "      <td>NaN</td>\n",
       "      <td>NaN</td>\n",
       "      <td>...</td>\n",
       "      <td>NaN</td>\n",
       "      <td>NaN</td>\n",
       "      <td>NaN</td>\n",
       "      <td>NaN</td>\n",
       "      <td>NaN</td>\n",
       "      <td>NaN</td>\n",
       "      <td>NaN</td>\n",
       "      <td>NaN</td>\n",
       "      <td>NaN</td>\n",
       "      <td>NaN</td>\n",
       "    </tr>\n",
       "    <tr>\n",
       "      <th>3</th>\n",
       "      <td>000000000003327986</td>\n",
       "      <td>http://world-en.openfoodfacts.org/product/0000...</td>\n",
       "      <td>kiliweb</td>\n",
       "      <td>1574175736</td>\n",
       "      <td>2019-11-19T15:02:16Z</td>\n",
       "      <td>1624390765</td>\n",
       "      <td>2021-06-22T19:39:25Z</td>\n",
       "      <td>Filetes de pollo empanado</td>\n",
       "      <td>NaN</td>\n",
       "      <td>NaN</td>\n",
       "      <td>...</td>\n",
       "      <td>NaN</td>\n",
       "      <td>NaN</td>\n",
       "      <td>NaN</td>\n",
       "      <td>NaN</td>\n",
       "      <td>NaN</td>\n",
       "      <td>NaN</td>\n",
       "      <td>NaN</td>\n",
       "      <td>NaN</td>\n",
       "      <td>NaN</td>\n",
       "      <td>NaN</td>\n",
       "    </tr>\n",
       "    <tr>\n",
       "      <th>4</th>\n",
       "      <td>000000000004622327</td>\n",
       "      <td>http://world-en.openfoodfacts.org/product/0000...</td>\n",
       "      <td>kiliweb</td>\n",
       "      <td>1619501895</td>\n",
       "      <td>2021-04-27T05:38:15Z</td>\n",
       "      <td>1619501897</td>\n",
       "      <td>2021-04-27T05:38:17Z</td>\n",
       "      <td>Hamburguesas de ternera 100%</td>\n",
       "      <td>NaN</td>\n",
       "      <td>NaN</td>\n",
       "      <td>...</td>\n",
       "      <td>NaN</td>\n",
       "      <td>NaN</td>\n",
       "      <td>NaN</td>\n",
       "      <td>NaN</td>\n",
       "      <td>NaN</td>\n",
       "      <td>NaN</td>\n",
       "      <td>NaN</td>\n",
       "      <td>NaN</td>\n",
       "      <td>NaN</td>\n",
       "      <td>NaN</td>\n",
       "    </tr>\n",
       "  </tbody>\n",
       "</table>\n",
       "<p>5 rows × 186 columns</p>\n",
       "</div>"
      ],
      "text/plain": [
       "                 code                                                url  \\\n",
       "0   00000000000000225  http://world-en.openfoodfacts.org/product/0000...   \n",
       "1       0000000000017  http://world-en.openfoodfacts.org/product/0000...   \n",
       "2       0000000000031  http://world-en.openfoodfacts.org/product/0000...   \n",
       "3  000000000003327986  http://world-en.openfoodfacts.org/product/0000...   \n",
       "4  000000000004622327  http://world-en.openfoodfacts.org/product/0000...   \n",
       "\n",
       "          creator   created_t      created_datetime  last_modified_t  \\\n",
       "0  nutrinet-sante  1623855208  2021-06-16T14:53:28Z       1623855209   \n",
       "1         kiliweb  1529059080  2018-06-15T10:38:00Z       1561463718   \n",
       "2        isagoofy  1539464774  2018-10-13T21:06:14Z       1539464817   \n",
       "3         kiliweb  1574175736  2019-11-19T15:02:16Z       1624390765   \n",
       "4         kiliweb  1619501895  2021-04-27T05:38:15Z       1619501897   \n",
       "\n",
       "  last_modified_datetime                  product_name  \\\n",
       "0   2021-06-16T14:53:29Z                jeunes pousses   \n",
       "1   2019-06-25T11:55:18Z              Vitória crackers   \n",
       "2   2018-10-13T21:06:57Z                         Cacao   \n",
       "3   2021-06-22T19:39:25Z     Filetes de pollo empanado   \n",
       "4   2021-04-27T05:38:17Z  Hamburguesas de ternera 100%   \n",
       "\n",
       "  abbreviated_product_name generic_name  ...  \\\n",
       "0                      NaN          NaN  ...   \n",
       "1                      NaN          NaN  ...   \n",
       "2                      NaN          NaN  ...   \n",
       "3                      NaN          NaN  ...   \n",
       "4                      NaN          NaN  ...   \n",
       "\n",
       "  carbon-footprint-from-meat-or-fish_100g nutrition-score-fr_100g  \\\n",
       "0                                     NaN                     NaN   \n",
       "1                                     NaN                     NaN   \n",
       "2                                     NaN                     NaN   \n",
       "3                                     NaN                     NaN   \n",
       "4                                     NaN                     NaN   \n",
       "\n",
       "  nutrition-score-uk_100g glycemic-index_100g water-hardness_100g  \\\n",
       "0                     NaN                 NaN                 NaN   \n",
       "1                     NaN                 NaN                 NaN   \n",
       "2                     NaN                 NaN                 NaN   \n",
       "3                     NaN                 NaN                 NaN   \n",
       "4                     NaN                 NaN                 NaN   \n",
       "\n",
       "  choline_100g phylloquinone_100g beta-glucan_100g inositol_100g  \\\n",
       "0          NaN                NaN              NaN           NaN   \n",
       "1          NaN                NaN              NaN           NaN   \n",
       "2          NaN                NaN              NaN           NaN   \n",
       "3          NaN                NaN              NaN           NaN   \n",
       "4          NaN                NaN              NaN           NaN   \n",
       "\n",
       "  carnitine_100g  \n",
       "0            NaN  \n",
       "1            NaN  \n",
       "2            NaN  \n",
       "3            NaN  \n",
       "4            NaN  \n",
       "\n",
       "[5 rows x 186 columns]"
      ]
     },
     "execution_count": 146,
     "metadata": {},
     "output_type": "execute_result"
    }
   ],
   "source": [
    "df.head()"
   ]
  },
  {
   "cell_type": "code",
   "execution_count": 147,
   "metadata": {},
   "outputs": [
    {
     "data": {
      "text/plain": [
       "(1890337, 186)"
      ]
     },
     "execution_count": 147,
     "metadata": {},
     "output_type": "execute_result"
    }
   ],
   "source": [
    "df.shape"
   ]
  },
  {
   "cell_type": "code",
   "execution_count": 148,
   "metadata": {},
   "outputs": [],
   "source": [
    "name = []\n",
    "types = []\n",
    "na_values = []\n",
    "for c in df.columns:\n",
    "    name.append(c)\n",
    "    types.append(df[c].dtypes)\n",
    "    na_values.append(df[c].isna().sum())\n",
    "data = {'name' : name, 'types' : types, 'na_values' : na_values}"
   ]
  },
  {
   "cell_type": "code",
   "execution_count": 149,
   "metadata": {},
   "outputs": [],
   "source": [
    "data = pd.DataFrame(data)"
   ]
  },
  {
   "cell_type": "code",
   "execution_count": 150,
   "metadata": {},
   "outputs": [
    {
     "data": {
      "text/html": [
       "<div>\n",
       "<style scoped>\n",
       "    .dataframe tbody tr th:only-of-type {\n",
       "        vertical-align: middle;\n",
       "    }\n",
       "\n",
       "    .dataframe tbody tr th {\n",
       "        vertical-align: top;\n",
       "    }\n",
       "\n",
       "    .dataframe thead th {\n",
       "        text-align: right;\n",
       "    }\n",
       "</style>\n",
       "<table border=\"1\" class=\"dataframe\">\n",
       "  <thead>\n",
       "    <tr style=\"text-align: right;\">\n",
       "      <th></th>\n",
       "      <th>name</th>\n",
       "      <th>types</th>\n",
       "      <th>na_values</th>\n",
       "    </tr>\n",
       "  </thead>\n",
       "  <tbody>\n",
       "    <tr>\n",
       "      <th>0</th>\n",
       "      <td>code</td>\n",
       "      <td>object</td>\n",
       "      <td>0</td>\n",
       "    </tr>\n",
       "    <tr>\n",
       "      <th>1</th>\n",
       "      <td>url</td>\n",
       "      <td>object</td>\n",
       "      <td>0</td>\n",
       "    </tr>\n",
       "    <tr>\n",
       "      <th>2</th>\n",
       "      <td>creator</td>\n",
       "      <td>object</td>\n",
       "      <td>4</td>\n",
       "    </tr>\n",
       "    <tr>\n",
       "      <th>3</th>\n",
       "      <td>created_t</td>\n",
       "      <td>int64</td>\n",
       "      <td>0</td>\n",
       "    </tr>\n",
       "    <tr>\n",
       "      <th>4</th>\n",
       "      <td>created_datetime</td>\n",
       "      <td>object</td>\n",
       "      <td>0</td>\n",
       "    </tr>\n",
       "  </tbody>\n",
       "</table>\n",
       "</div>"
      ],
      "text/plain": [
       "               name   types  na_values\n",
       "0              code  object          0\n",
       "1               url  object          0\n",
       "2           creator  object          4\n",
       "3         created_t   int64          0\n",
       "4  created_datetime  object          0"
      ]
     },
     "execution_count": 150,
     "metadata": {},
     "output_type": "execute_result"
    }
   ],
   "source": [
    "data.head()"
   ]
  },
  {
   "cell_type": "code",
   "execution_count": 151,
   "metadata": {
    "scrolled": true
   },
   "outputs": [
    {
     "data": {
      "text/html": [
       "<div>\n",
       "<style scoped>\n",
       "    .dataframe tbody tr th:only-of-type {\n",
       "        vertical-align: middle;\n",
       "    }\n",
       "\n",
       "    .dataframe tbody tr th {\n",
       "        vertical-align: top;\n",
       "    }\n",
       "\n",
       "    .dataframe thead th {\n",
       "        text-align: right;\n",
       "    }\n",
       "</style>\n",
       "<table border=\"1\" class=\"dataframe\">\n",
       "  <thead>\n",
       "    <tr style=\"text-align: right;\">\n",
       "      <th></th>\n",
       "      <th>na_values</th>\n",
       "    </tr>\n",
       "  </thead>\n",
       "  <tbody>\n",
       "    <tr>\n",
       "      <th>count</th>\n",
       "      <td>1.860000e+02</td>\n",
       "    </tr>\n",
       "    <tr>\n",
       "      <th>mean</th>\n",
       "      <td>1.506917e+06</td>\n",
       "    </tr>\n",
       "    <tr>\n",
       "      <th>std</th>\n",
       "      <td>6.089869e+05</td>\n",
       "    </tr>\n",
       "    <tr>\n",
       "      <th>min</th>\n",
       "      <td>0.000000e+00</td>\n",
       "    </tr>\n",
       "    <tr>\n",
       "      <th>25%</th>\n",
       "      <td>1.403583e+06</td>\n",
       "    </tr>\n",
       "    <tr>\n",
       "      <th>50%</th>\n",
       "      <td>1.875806e+06</td>\n",
       "    </tr>\n",
       "    <tr>\n",
       "      <th>75%</th>\n",
       "      <td>1.890189e+06</td>\n",
       "    </tr>\n",
       "    <tr>\n",
       "      <th>max</th>\n",
       "      <td>1.890337e+06</td>\n",
       "    </tr>\n",
       "  </tbody>\n",
       "</table>\n",
       "</div>"
      ],
      "text/plain": [
       "          na_values\n",
       "count  1.860000e+02\n",
       "mean   1.506917e+06\n",
       "std    6.089869e+05\n",
       "min    0.000000e+00\n",
       "25%    1.403583e+06\n",
       "50%    1.875806e+06\n",
       "75%    1.890189e+06\n",
       "max    1.890337e+06"
      ]
     },
     "execution_count": 151,
     "metadata": {},
     "output_type": "execute_result"
    }
   ],
   "source": [
    "data.describe()"
   ]
  },
  {
   "cell_type": "code",
   "execution_count": 152,
   "metadata": {},
   "outputs": [
    {
     "name": "stdout",
     "output_type": "stream",
     "text": [
      "<class 'pandas.core.frame.DataFrame'>\n",
      "RangeIndex: 186 entries, 0 to 185\n",
      "Data columns (total 3 columns):\n",
      " #   Column     Non-Null Count  Dtype \n",
      "---  ------     --------------  ----- \n",
      " 0   name       186 non-null    object\n",
      " 1   types      186 non-null    object\n",
      " 2   na_values  186 non-null    int64 \n",
      "dtypes: int64(1), object(2)\n",
      "memory usage: 4.5+ KB\n"
     ]
    }
   ],
   "source": [
    "data.info()"
   ]
  },
  {
   "cell_type": "code",
   "execution_count": 153,
   "metadata": {},
   "outputs": [
    {
     "data": {
      "image/png": "[encoded data removed]",
      "text/plain": [
       "<Figure size 576x360 with 1 Axes>"
      ]
     },
     "metadata": {
      "needs_background": "light"
     },
     "output_type": "display_data"
    }
   ],
   "source": [
    "plt.figure(figsize=(8,5))\n",
    "plt.boxplot(data.na_values, widths=0.8)\n",
    "plt.title(\"Boîte à moustache des données manquantes du jeu de données\", pad=15)\n",
    "plt.show()"
   ]
  },
  {
   "cell_type": "code",
   "execution_count": 154,
   "metadata": {},
   "outputs": [
    {
     "name": "stdout",
     "output_type": "stream",
     "text": [
      "79.72 %, soit le nombre de données manquantes dans le dataframe\n"
     ]
    }
   ],
   "source": [
    "na = (df.isna().sum().sum()) / (df.shape[0] * df.shape[1])\n",
    "print(round(na*100,2),'%, soit le nombre de données manquantes dans le dataframe')"
   ]
  },
  {
   "cell_type": "markdown",
   "metadata": {},
   "source": [
    "Avec près de 80% de données manquantes, le jeu de donnée apparait de piètre qualité.<br/>\n",
    "Cependant, en fonction de notre problématique, nous n'allons pas avoir besoin de toutes les données présentées par Open food fact.<br/>\n",
    "Aussi après avoir défini notre problématique, nous allons nettoyer les données et voir si nous avons une qualité restante suffisante pour procéder à une analyse pertinente."
   ]
  },
  {
   "cell_type": "markdown",
   "metadata": {},
   "source": [
    "L'idée est de créé une application qui permets de trouver par mots clef les produits que l'on souhaite classé dans l'ordre de leur nutri-score.<br/>\n",
    "En complément et si les données le permettent, une recherche par image pourra être disponible."
   ]
  },
  {
   "cell_type": "code",
   "execution_count": null,
   "metadata": {},
   "outputs": [],
   "source": []
  },
  {
   "cell_type": "markdown",
   "metadata": {},
   "source": [
    "# Notebook de nettoyage\n",
    "\n",
    "# Sommaire <a class='anchor' id='S'></a>\n",
    "\n",
    "## [I, Sélection des données en fonction de la problématique](#I)\n",
    "\n",
    "### [A, Données pour le public français et avec des noms de produits](#IA)\n",
    "### [B, Sélection des indicateurs pertinents pour l'application](#IB)\n",
    "\n",
    "## [II, Prise en charge des outliers](#II)\n",
    "\n",
    "## [III, Réduction du nombre de données incomplètes](#III)\n",
    "\n",
    "### [A, Par suppression](#IIIA)\n",
    "### [B, Par regression](#IIIB)\n",
    "### [C, Par classification](#IIIC)\n",
    "### [D, Comparaison](#IIID)"
   ]
  },
  {
   "cell_type": "code",
   "execution_count": null,
   "metadata": {},
   "outputs": [],
   "source": []
  },
  {
   "cell_type": "markdown",
   "metadata": {},
   "source": [
    "## I, Sélection des données en fonction de la problématique <a class='anchor' id='I'></a>"
   ]
  },
  {
   "cell_type": "markdown",
   "metadata": {},
   "source": [
    "### A, Données pour le public français et avec des noms de produits <a class='anchor' id='IA'></a>"
   ]
  },
  {
   "cell_type": "markdown",
   "metadata": {},
   "source": [
    "L'application commandée l'est par \"Santé publique France\", cela nous amène à penser qu'elle vise un public vivant en France et francophone. <br/>\n",
    "De cela, nous décidons donc d'écarter les produits non vendus en France ainsi que les colonnes en langue étrangère.<br/>\n",
    "<br/><br/>\n",
    "Parallèlement notre application va fonctionner avec les noms des produits. Aussi nous écarterons les lignes pour lesquelles cette données n'est pas renseignée.\n"
   ]
  },
  {
   "cell_type": "code",
   "execution_count": 155,
   "metadata": {},
   "outputs": [
    {
     "name": "stdout",
     "output_type": "stream",
     "text": [
      "countries\n",
      "5690\n",
      "countries_tags\n",
      "5695\n",
      "countries_en\n",
      "5695\n"
     ]
    }
   ],
   "source": [
    "for c in df.columns:\n",
    "    if 'countr' in c:\n",
    "        print(c)\n",
    "        print(df[c].isna().sum())"
   ]
  },
  {
   "cell_type": "code",
   "execution_count": 156,
   "metadata": {},
   "outputs": [],
   "source": [
    "df = df[(df.countries.str.contains('France', case=False)) | (df.countries_tags.str.contains('France', case=False)) | (df.countries_en.str.contains('France', case=False))]"
   ]
  },
  {
   "cell_type": "code",
   "execution_count": 157,
   "metadata": {},
   "outputs": [],
   "source": [
    "df = df[~df.product_name.isna()]"
   ]
  },
  {
   "cell_type": "code",
   "execution_count": 158,
   "metadata": {},
   "outputs": [
    {
     "data": {
      "text/plain": [
       "(800080, 186)"
      ]
     },
     "execution_count": 158,
     "metadata": {},
     "output_type": "execute_result"
    }
   ],
   "source": [
    "df.shape"
   ]
  },
  {
   "cell_type": "markdown",
   "metadata": {},
   "source": [
    "On se retrouve avec un dataframe de 800,080 lignes et 186 colonnes.<br/>\n",
    "Parmis ces colonnes, regardons s'il y en a qui ont très peu de données (moins de 5%)"
   ]
  },
  {
   "cell_type": "code",
   "execution_count": 159,
   "metadata": {},
   "outputs": [],
   "source": [
    "coef = 800080 - (800080*0.05)"
   ]
  },
  {
   "cell_type": "code",
   "execution_count": 160,
   "metadata": {},
   "outputs": [],
   "source": [
    "name = []\n",
    "na_values = []\n",
    "for c in df.columns:\n",
    "    name.append(c)\n",
    "    na_values.append(df[c].isna().sum())\n",
    "data = {'name' : name, 'na_values' : na_values}"
   ]
  },
  {
   "cell_type": "code",
   "execution_count": 161,
   "metadata": {},
   "outputs": [],
   "source": [
    "data = pd.DataFrame(data)"
   ]
  },
  {
   "cell_type": "code",
   "execution_count": 162,
   "metadata": {},
   "outputs": [],
   "source": [
    "col = []\n",
    "for v in data[data.na_values > coef].name:\n",
    "    col.append(v)"
   ]
  },
  {
   "cell_type": "code",
   "execution_count": 163,
   "metadata": {},
   "outputs": [],
   "source": [
    "df = df.loc[:,~df.columns.isin(col)]"
   ]
  },
  {
   "cell_type": "code",
   "execution_count": 164,
   "metadata": {},
   "outputs": [],
   "source": [
    "data = data.loc[~data.name.isin(col),:]"
   ]
  },
  {
   "cell_type": "code",
   "execution_count": 165,
   "metadata": {
    "scrolled": true
   },
   "outputs": [
    {
     "data": {
      "text/plain": [
       "(800080, 76)"
      ]
     },
     "execution_count": 165,
     "metadata": {},
     "output_type": "execute_result"
    }
   ],
   "source": [
    "df.shape"
   ]
  },
  {
   "cell_type": "markdown",
   "metadata": {},
   "source": [
    "# Coupure chargement rapide"
   ]
  },
  {
   "cell_type": "code",
   "execution_count": 166,
   "metadata": {},
   "outputs": [],
   "source": [
    "#df.to_csv('df.csv')"
   ]
  },
  {
   "cell_type": "code",
   "execution_count": 167,
   "metadata": {},
   "outputs": [
    {
     "name": "stderr",
     "output_type": "stream",
     "text": [
      "C:\\Users\\Alex\\anaconda3\\lib\\site-packages\\IPython\\core\\interactiveshell.py:3146: DtypeWarning: Columns (1) have mixed types.Specify dtype option on import or set low_memory=False.\n",
      "  has_raised = await self.run_ast_nodes(code_ast.body, cell_name,\n"
     ]
    }
   ],
   "source": [
    "df = pd.read_csv('df.csv')"
   ]
  },
  {
   "cell_type": "code",
   "execution_count": 168,
   "metadata": {},
   "outputs": [
    {
     "data": {
      "image/png": "[encoded data removed]",
      "text/plain": [
       "<Figure size 576x360 with 1 Axes>"
      ]
     },
     "metadata": {
      "needs_background": "light"
     },
     "output_type": "display_data"
    }
   ],
   "source": [
    "plt.figure(figsize=(8,5))\n",
    "plt.boxplot(data.na_values, widths=0.8)\n",
    "plt.title(\"Boîte à moustache des données manquantes du jeu de données\", pad=15)\n",
    "plt.show()"
   ]
  },
  {
   "cell_type": "code",
   "execution_count": 169,
   "metadata": {
    "scrolled": true
   },
   "outputs": [
    {
     "data": {
      "text/html": [
       "<div>\n",
       "<style scoped>\n",
       "    .dataframe tbody tr th:only-of-type {\n",
       "        vertical-align: middle;\n",
       "    }\n",
       "\n",
       "    .dataframe tbody tr th {\n",
       "        vertical-align: top;\n",
       "    }\n",
       "\n",
       "    .dataframe thead th {\n",
       "        text-align: right;\n",
       "    }\n",
       "</style>\n",
       "<table border=\"1\" class=\"dataframe\">\n",
       "  <thead>\n",
       "    <tr style=\"text-align: right;\">\n",
       "      <th></th>\n",
       "      <th>na_values</th>\n",
       "    </tr>\n",
       "  </thead>\n",
       "  <tbody>\n",
       "    <tr>\n",
       "      <th>count</th>\n",
       "      <td>76.000000</td>\n",
       "    </tr>\n",
       "    <tr>\n",
       "      <th>mean</th>\n",
       "      <td>400210.802632</td>\n",
       "    </tr>\n",
       "    <tr>\n",
       "      <th>std</th>\n",
       "      <td>278946.799999</td>\n",
       "    </tr>\n",
       "    <tr>\n",
       "      <th>min</th>\n",
       "      <td>0.000000</td>\n",
       "    </tr>\n",
       "    <tr>\n",
       "      <th>25%</th>\n",
       "      <td>162807.500000</td>\n",
       "    </tr>\n",
       "    <tr>\n",
       "      <th>50%</th>\n",
       "      <td>461577.000000</td>\n",
       "    </tr>\n",
       "    <tr>\n",
       "      <th>75%</th>\n",
       "      <td>669782.000000</td>\n",
       "    </tr>\n",
       "    <tr>\n",
       "      <th>max</th>\n",
       "      <td>749970.000000</td>\n",
       "    </tr>\n",
       "  </tbody>\n",
       "</table>\n",
       "</div>"
      ],
      "text/plain": [
       "           na_values\n",
       "count      76.000000\n",
       "mean   400210.802632\n",
       "std    278946.799999\n",
       "min         0.000000\n",
       "25%    162807.500000\n",
       "50%    461577.000000\n",
       "75%    669782.000000\n",
       "max    749970.000000"
      ]
     },
     "execution_count": 169,
     "metadata": {},
     "output_type": "execute_result"
    }
   ],
   "source": [
    "data.describe()"
   ]
  },
  {
   "cell_type": "code",
   "execution_count": 170,
   "metadata": {},
   "outputs": [
    {
     "data": {
      "text/plain": [
       "49.37172029550292"
      ]
     },
     "execution_count": 170,
     "metadata": {},
     "output_type": "execute_result"
    }
   ],
   "source": [
    "((df.isna().sum().sum()) / (df.shape[0] * df.shape[1]))*100"
   ]
  },
  {
   "cell_type": "markdown",
   "metadata": {},
   "source": [
    "Après ce premier nettoyage, nous nous retrouvons avec un dataframe 800,080 lignes et 135 colonnes.<br/>\n",
    "Les données manquantes représentent encore 50% des données totales.<br/><br/>\n",
    "Nous allons nous interresser aux intitulés des colonnes pour affiner encore notre selection."
   ]
  },
  {
   "cell_type": "markdown",
   "metadata": {},
   "source": [
    "##### [sommaire](#S) "
   ]
  },
  {
   "cell_type": "markdown",
   "metadata": {},
   "source": [
    "### B, Sélection des indicateurs pertinents pour l'application <a class='anchor' id='IB'></a>"
   ]
  },
  {
   "cell_type": "code",
   "execution_count": 171,
   "metadata": {
    "scrolled": false
   },
   "outputs": [
    {
     "name": "stdout",
     "output_type": "stream",
     "text": [
      "Name :  Unnamed: 0 /  Na values :  0\n",
      "Name :  code /  Na values :  0\n",
      "Name :  url /  Na values :  0\n",
      "Name :  creator /  Na values :  1\n",
      "Name :  created_t /  Na values :  0\n",
      "Name :  created_datetime /  Na values :  0\n",
      "Name :  last_modified_t /  Na values :  0\n",
      "Name :  last_modified_datetime /  Na values :  0\n",
      "Name :  product_name /  Na values :  0\n",
      "Name :  generic_name /  Na values :  720938\n",
      "Name :  quantity /  Na values :  536666\n",
      "Name :  packaging /  Na values :  621382\n",
      "Name :  packaging_tags /  Na values :  621389\n",
      "Name :  brands /  Na values :  371615\n",
      "Name :  brands_tags /  Na values :  371650\n",
      "Name :  categories /  Na values :  418454\n",
      "Name :  categories_tags /  Na values :  418454\n",
      "Name :  categories_en /  Na values :  418454\n",
      "Name :  origins /  Na values :  749899\n",
      "Name :  origins_tags /  Na values :  749970\n",
      "Name :  origins_en /  Na values :  749970\n",
      "Name :  manufacturing_places /  Na values :  727874\n",
      "Name :  manufacturing_places_tags /  Na values :  727914\n",
      "Name :  labels /  Na values :  549181\n",
      "Name :  labels_tags /  Na values :  549179\n",
      "Name :  labels_en /  Na values :  549179\n",
      "Name :  emb_codes /  Na values :  711630\n",
      "Name :  emb_codes_tags /  Na values :  711649\n",
      "Name :  first_packaging_code_geo /  Na values :  730874\n",
      "Name :  cities_tags /  Na values :  725640\n",
      "Name :  purchase_places /  Na values :  704111\n",
      "Name :  stores /  Na values :  651710\n",
      "Name :  countries /  Na values :  0\n",
      "Name :  countries_tags /  Na values :  0\n",
      "Name :  countries_en /  Na values :  0\n",
      "Name :  ingredients_text /  Na values :  553480\n",
      "Name :  allergens /  Na values :  710534\n",
      "Name :  traces /  Na values :  737327\n",
      "Name :  traces_tags /  Na values :  721023\n",
      "Name :  traces_en /  Na values :  721023\n",
      "Name :  serving_size /  Na values :  713172\n",
      "Name :  serving_quantity /  Na values :  718163\n",
      "Name :  additives_n /  Na values :  553479\n",
      "Name :  additives_tags /  Na values :  669782\n",
      "Name :  additives_en /  Na values :  669782\n",
      "Name :  ingredients_from_palm_oil_n /  Na values :  553479\n",
      "Name :  ingredients_that_may_be_from_palm_oil_n /  Na values :  553479\n",
      "Name :  nutriscore_score /  Na values :  504704\n",
      "Name :  nutriscore_grade /  Na values :  504704\n",
      "Name :  nova_group /  Na values :  592182\n",
      "Name :  pnns_groups_1 /  Na values :  2\n",
      "Name :  pnns_groups_2 /  Na values :  0\n",
      "Name :  states /  Na values :  0\n",
      "Name :  states_tags /  Na values :  0\n",
      "Name :  states_en /  Na values :  0\n",
      "Name :  ecoscore_score_fr /  Na values :  528147\n",
      "Name :  ecoscore_grade_fr /  Na values :  528147\n",
      "Name :  main_category /  Na values :  418454\n",
      "Name :  main_category_en /  Na values :  418454\n",
      "Name :  image_url /  Na values :  70213\n",
      "Name :  image_small_url /  Na values :  70213\n",
      "Name :  image_ingredients_url /  Na values :  306189\n",
      "Name :  image_ingredients_small_url /  Na values :  306189\n",
      "Name :  image_nutrition_url /  Na values :  388776\n",
      "Name :  image_nutrition_small_url /  Na values :  388776\n",
      "Name :  energy-kj_100g /  Na values :  724383\n",
      "Name :  energy-kcal_100g /  Na values :  187502\n",
      "Name :  energy_100g /  Na values :  160988\n",
      "Name :  fat_100g /  Na values :  166887\n",
      "Name :  saturated-fat_100g /  Na values :  163414\n",
      "Name :  carbohydrates_100g /  Na values :  166955\n",
      "Name :  sugars_100g /  Na values :  164040\n",
      "Name :  fiber_100g /  Na values :  659095\n",
      "Name :  proteins_100g /  Na values :  165052\n",
      "Name :  salt_100g /  Na values :  182674\n",
      "Name :  sodium_100g /  Na values :  182675\n",
      "Name :  nutrition-score-fr_100g /  Na values :  504700\n"
     ]
    }
   ],
   "source": [
    "for c in df.columns:\n",
    "    print(\"Name : \", c, \"/  Na values : \", df[c].isna().sum())"
   ]
  },
  {
   "cell_type": "markdown",
   "metadata": {},
   "source": [
    "Le nutriscore est calculé pr rapport à la composition nutritionnelle de 100g des produits. <br/>\n",
    "Il inclut les facteurs nutritionnels à limiter : énergie (kj/100g), acides gras saturés (g/100g), sucres simples (g/100g),  et le sel (mg/100g), et des facteurs à favoriser : fibres (g/100g), protéines (g/100g), fruits et légumes, légumineuses et fruits à coque (g/100g).<br/><br/>\n",
    "Nous allons isoler ces colonnes et celles nécessaires au référencement des produits."
   ]
  },
  {
   "cell_type": "markdown",
   "metadata": {},
   "source": [
    "Dans un premier temps, nous allons comparer des colonnes similaires pour voir si nous pouvons réduire les données manquantes"
   ]
  },
  {
   "cell_type": "markdown",
   "metadata": {},
   "source": [
    "#### Le sel et le sodium"
   ]
  },
  {
   "cell_type": "code",
   "execution_count": 172,
   "metadata": {},
   "outputs": [
    {
     "data": {
      "text/html": [
       "<div>\n",
       "<style scoped>\n",
       "    .dataframe tbody tr th:only-of-type {\n",
       "        vertical-align: middle;\n",
       "    }\n",
       "\n",
       "    .dataframe tbody tr th {\n",
       "        vertical-align: top;\n",
       "    }\n",
       "\n",
       "    .dataframe thead th {\n",
       "        text-align: right;\n",
       "    }\n",
       "</style>\n",
       "<table border=\"1\" class=\"dataframe\">\n",
       "  <thead>\n",
       "    <tr style=\"text-align: right;\">\n",
       "      <th></th>\n",
       "      <th>Unnamed: 0</th>\n",
       "      <th>code</th>\n",
       "      <th>url</th>\n",
       "      <th>creator</th>\n",
       "      <th>created_t</th>\n",
       "      <th>created_datetime</th>\n",
       "      <th>last_modified_t</th>\n",
       "      <th>last_modified_datetime</th>\n",
       "      <th>product_name</th>\n",
       "      <th>generic_name</th>\n",
       "      <th>...</th>\n",
       "      <th>energy_100g</th>\n",
       "      <th>fat_100g</th>\n",
       "      <th>saturated-fat_100g</th>\n",
       "      <th>carbohydrates_100g</th>\n",
       "      <th>sugars_100g</th>\n",
       "      <th>fiber_100g</th>\n",
       "      <th>proteins_100g</th>\n",
       "      <th>salt_100g</th>\n",
       "      <th>sodium_100g</th>\n",
       "      <th>nutrition-score-fr_100g</th>\n",
       "    </tr>\n",
       "  </thead>\n",
       "  <tbody>\n",
       "  </tbody>\n",
       "</table>\n",
       "<p>0 rows × 77 columns</p>\n",
       "</div>"
      ],
      "text/plain": [
       "Empty DataFrame\n",
       "Columns: [Unnamed: 0, code, url, creator, created_t, created_datetime, last_modified_t, last_modified_datetime, product_name, generic_name, quantity, packaging, packaging_tags, brands, brands_tags, categories, categories_tags, categories_en, origins, origins_tags, origins_en, manufacturing_places, manufacturing_places_tags, labels, labels_tags, labels_en, emb_codes, emb_codes_tags, first_packaging_code_geo, cities_tags, purchase_places, stores, countries, countries_tags, countries_en, ingredients_text, allergens, traces, traces_tags, traces_en, serving_size, serving_quantity, additives_n, additives_tags, additives_en, ingredients_from_palm_oil_n, ingredients_that_may_be_from_palm_oil_n, nutriscore_score, nutriscore_grade, nova_group, pnns_groups_1, pnns_groups_2, states, states_tags, states_en, ecoscore_score_fr, ecoscore_grade_fr, main_category, main_category_en, image_url, image_small_url, image_ingredients_url, image_ingredients_small_url, image_nutrition_url, image_nutrition_small_url, energy-kj_100g, energy-kcal_100g, energy_100g, fat_100g, saturated-fat_100g, carbohydrates_100g, sugars_100g, fiber_100g, proteins_100g, salt_100g, sodium_100g, nutrition-score-fr_100g]\n",
       "Index: []\n",
       "\n",
       "[0 rows x 77 columns]"
      ]
     },
     "execution_count": 172,
     "metadata": {},
     "output_type": "execute_result"
    }
   ],
   "source": [
    "df[(df.salt_100g.isna()) & (~df.sodium_100g.isna())]"
   ]
  },
  {
   "cell_type": "code",
   "execution_count": 173,
   "metadata": {},
   "outputs": [
    {
     "data": {
      "text/html": [
       "<div>\n",
       "<style scoped>\n",
       "    .dataframe tbody tr th:only-of-type {\n",
       "        vertical-align: middle;\n",
       "    }\n",
       "\n",
       "    .dataframe tbody tr th {\n",
       "        vertical-align: top;\n",
       "    }\n",
       "\n",
       "    .dataframe thead th {\n",
       "        text-align: right;\n",
       "    }\n",
       "</style>\n",
       "<table border=\"1\" class=\"dataframe\">\n",
       "  <thead>\n",
       "    <tr style=\"text-align: right;\">\n",
       "      <th></th>\n",
       "      <th>Unnamed: 0</th>\n",
       "      <th>code</th>\n",
       "      <th>url</th>\n",
       "      <th>creator</th>\n",
       "      <th>created_t</th>\n",
       "      <th>created_datetime</th>\n",
       "      <th>last_modified_t</th>\n",
       "      <th>last_modified_datetime</th>\n",
       "      <th>product_name</th>\n",
       "      <th>generic_name</th>\n",
       "      <th>...</th>\n",
       "      <th>energy_100g</th>\n",
       "      <th>fat_100g</th>\n",
       "      <th>saturated-fat_100g</th>\n",
       "      <th>carbohydrates_100g</th>\n",
       "      <th>sugars_100g</th>\n",
       "      <th>fiber_100g</th>\n",
       "      <th>proteins_100g</th>\n",
       "      <th>salt_100g</th>\n",
       "      <th>sodium_100g</th>\n",
       "      <th>nutrition-score-fr_100g</th>\n",
       "    </tr>\n",
       "  </thead>\n",
       "  <tbody>\n",
       "    <tr>\n",
       "      <th>514549</th>\n",
       "      <td>1039679</td>\n",
       "      <td>3760148290905</td>\n",
       "      <td>http://world-en.openfoodfacts.org/product/3760...</td>\n",
       "      <td>minouche</td>\n",
       "      <td>1339022065</td>\n",
       "      <td>2012-06-06T22:34:25Z</td>\n",
       "      <td>1623091462</td>\n",
       "      <td>2021-06-07T18:44:22Z</td>\n",
       "      <td>Bar sauvage 80 g</td>\n",
       "      <td>Rillette de bar sauvage</td>\n",
       "      <td>...</td>\n",
       "      <td>NaN</td>\n",
       "      <td>NaN</td>\n",
       "      <td>NaN</td>\n",
       "      <td>NaN</td>\n",
       "      <td>NaN</td>\n",
       "      <td>NaN</td>\n",
       "      <td>NaN</td>\n",
       "      <td>0.0</td>\n",
       "      <td>NaN</td>\n",
       "      <td>NaN</td>\n",
       "    </tr>\n",
       "  </tbody>\n",
       "</table>\n",
       "<p>1 rows × 77 columns</p>\n",
       "</div>"
      ],
      "text/plain": [
       "        Unnamed: 0           code  \\\n",
       "514549     1039679  3760148290905   \n",
       "\n",
       "                                                      url   creator  \\\n",
       "514549  http://world-en.openfoodfacts.org/product/3760...  minouche   \n",
       "\n",
       "         created_t      created_datetime  last_modified_t  \\\n",
       "514549  1339022065  2012-06-06T22:34:25Z       1623091462   \n",
       "\n",
       "       last_modified_datetime      product_name             generic_name  ...  \\\n",
       "514549   2021-06-07T18:44:22Z  Bar sauvage 80 g  Rillette de bar sauvage  ...   \n",
       "\n",
       "       energy_100g fat_100g saturated-fat_100g carbohydrates_100g sugars_100g  \\\n",
       "514549         NaN      NaN                NaN                NaN         NaN   \n",
       "\n",
       "       fiber_100g proteins_100g salt_100g sodium_100g nutrition-score-fr_100g  \n",
       "514549        NaN           NaN       0.0         NaN                     NaN  \n",
       "\n",
       "[1 rows x 77 columns]"
      ]
     },
     "execution_count": 173,
     "metadata": {},
     "output_type": "execute_result"
    }
   ],
   "source": [
    "df[(~df.salt_100g.isna()) & (df.sodium_100g.isna())]"
   ]
  },
  {
   "cell_type": "markdown",
   "metadata": {},
   "source": [
    "Nous garderons ici la colonne sel au détriment de la colonne sodium."
   ]
  },
  {
   "cell_type": "markdown",
   "metadata": {},
   "source": [
    "#### L'energie en k-j et k-cal"
   ]
  },
  {
   "cell_type": "code",
   "execution_count": 174,
   "metadata": {},
   "outputs": [
    {
     "data": {
      "text/plain": [
       "(563245, 77)"
      ]
     },
     "execution_count": 174,
     "metadata": {},
     "output_type": "execute_result"
    }
   ],
   "source": [
    "df[(df['energy-kj_100g'].isna()) & (~df['energy-kcal_100g'].isna())].shape"
   ]
  },
  {
   "cell_type": "code",
   "execution_count": 175,
   "metadata": {
    "scrolled": true
   },
   "outputs": [
    {
     "data": {
      "text/plain": [
       "(26364, 77)"
      ]
     },
     "execution_count": 175,
     "metadata": {},
     "output_type": "execute_result"
    }
   ],
   "source": [
    "df[(~df['energy-kj_100g'].isna()) & (df['energy-kcal_100g'].isna())].shape"
   ]
  },
  {
   "cell_type": "code",
   "execution_count": 176,
   "metadata": {},
   "outputs": [],
   "source": [
    "energie = []\n",
    "for i in range(0, df.shape[0]):\n",
    "    if np.isnan(df['energy-kj_100g'][i]):\n",
    "        energie.append((df['energy-kcal_100g'][i])*4.1868)\n",
    "    else:\n",
    "        energie.append(df['energy-kj_100g'][i])\n",
    "df['energy-kj_100g'] = energie"
   ]
  },
  {
   "cell_type": "markdown",
   "metadata": {},
   "source": [
    "Nous allons garder la colonne energy-kj que nous avons complété avec les données de la colonne energy-kcal."
   ]
  },
  {
   "cell_type": "markdown",
   "metadata": {},
   "source": [
    "#### Les graisses"
   ]
  },
  {
   "cell_type": "code",
   "execution_count": 177,
   "metadata": {},
   "outputs": [
    {
     "data": {
      "text/plain": [
       "(1947, 77)"
      ]
     },
     "execution_count": 177,
     "metadata": {},
     "output_type": "execute_result"
    }
   ],
   "source": [
    "df[(df.fat_100g.isna()) & (~df['saturated-fat_100g'].isna()) & (df['saturated-fat_100g'] != 0)].shape"
   ]
  },
  {
   "cell_type": "code",
   "execution_count": 178,
   "metadata": {},
   "outputs": [
    {
     "data": {
      "text/plain": [
       "(2689, 77)"
      ]
     },
     "execution_count": 178,
     "metadata": {},
     "output_type": "execute_result"
    }
   ],
   "source": [
    "df[(~df.fat_100g.isna()) & (df['saturated-fat_100g'].isna())].shape"
   ]
  },
  {
   "cell_type": "markdown",
   "metadata": {},
   "source": [
    "La donnée qui nous intéresse est celle concernant la graisse saturée.<br/>\n",
    "La graisse générale (fat) ne nous indique pas si c'est de la graisse saturée. Néanmoins, il y a peut-être un lien entre les deux données.<br/>\n",
    "Donc pour l'instant nous allons garder les deux."
   ]
  },
  {
   "cell_type": "markdown",
   "metadata": {},
   "source": [
    "#### Les sucres"
   ]
  },
  {
   "cell_type": "code",
   "execution_count": 179,
   "metadata": {},
   "outputs": [
    {
     "data": {
      "text/plain": [
       "(4806, 77)"
      ]
     },
     "execution_count": 179,
     "metadata": {},
     "output_type": "execute_result"
    }
   ],
   "source": [
    "df[(df['carbohydrates_100g'].isna()) & (~df['sugars_100g'].isna())].shape"
   ]
  },
  {
   "cell_type": "code",
   "execution_count": 180,
   "metadata": {},
   "outputs": [
    {
     "data": {
      "text/plain": [
       "(1891, 77)"
      ]
     },
     "execution_count": 180,
     "metadata": {},
     "output_type": "execute_result"
    }
   ],
   "source": [
    "df[(~df['carbohydrates_100g'].isna()) & (df['sugars_100g'].isna())].shape"
   ]
  },
  {
   "cell_type": "markdown",
   "metadata": {},
   "source": [
    "Comme pour les graisses. Le sucre est un type de carbohydrate. Il ne peut nous donner directement le taux présent dans le produit concerné mais il doit y avoir une correlation."
   ]
  },
  {
   "cell_type": "markdown",
   "metadata": {},
   "source": [
    "#### Les groupes"
   ]
  },
  {
   "cell_type": "code",
   "execution_count": 181,
   "metadata": {},
   "outputs": [
    {
     "data": {
      "text/plain": [
       "array(['unknown', 'Fat and sauces', 'Composite foods', 'Sugary snacks',\n",
       "       'Fruits and vegetables', 'Fish Meat Eggs', 'Beverages',\n",
       "       'Milk and dairy products', 'Cereals and potatoes', 'Salty snacks',\n",
       "       'Alcoholic beverages', 'sugary-snacks', nan], dtype=object)"
      ]
     },
     "execution_count": 181,
     "metadata": {},
     "output_type": "execute_result"
    }
   ],
   "source": [
    "df.pnns_groups_1.unique()"
   ]
  },
  {
   "cell_type": "code",
   "execution_count": 182,
   "metadata": {},
   "outputs": [
    {
     "data": {
      "text/plain": [
       "array(['unknown', 'Dressings and sauces', 'One-dish meals',\n",
       "       'Biscuits and cakes', 'Fruits', 'Meat', 'Sweetened beverages',\n",
       "       'Cheese', 'Bread', 'Fish and seafood', 'Sweets',\n",
       "       'Salty and fatty products', 'Fruit juices', 'Dried fruits', 'Fats',\n",
       "       'Dairy desserts', 'Milk and yogurt', 'Pizza pies and quiches',\n",
       "       'Legumes', 'Unsweetened beverages', 'Cereals',\n",
       "       'Alcoholic beverages', 'Nuts', 'Appetizers', 'Pastries',\n",
       "       'Processed meat', 'Vegetables', 'Breakfast cereals', 'Sandwiches',\n",
       "       'Ice cream', 'Soups', 'Teas and herbal teas and coffees',\n",
       "       'Chocolate products', 'Potatoes',\n",
       "       'Artificially sweetened beverages', 'Eggs',\n",
       "       'Plant-based milk substitutes', 'Offals',\n",
       "       'Waters and flavored waters', 'Fruit nectars', 'pastries'],\n",
       "      dtype=object)"
      ]
     },
     "execution_count": 182,
     "metadata": {},
     "output_type": "execute_result"
    }
   ],
   "source": [
    "df.pnns_groups_2.unique()"
   ]
  },
  {
   "cell_type": "code",
   "execution_count": 183,
   "metadata": {
    "scrolled": true
   },
   "outputs": [
    {
     "data": {
      "text/html": [
       "<div>\n",
       "<style scoped>\n",
       "    .dataframe tbody tr th:only-of-type {\n",
       "        vertical-align: middle;\n",
       "    }\n",
       "\n",
       "    .dataframe tbody tr th {\n",
       "        vertical-align: top;\n",
       "    }\n",
       "\n",
       "    .dataframe thead th {\n",
       "        text-align: right;\n",
       "    }\n",
       "</style>\n",
       "<table border=\"1\" class=\"dataframe\">\n",
       "  <thead>\n",
       "    <tr style=\"text-align: right;\">\n",
       "      <th></th>\n",
       "      <th>Unnamed: 0</th>\n",
       "      <th>code</th>\n",
       "      <th>url</th>\n",
       "      <th>creator</th>\n",
       "      <th>created_t</th>\n",
       "      <th>created_datetime</th>\n",
       "      <th>last_modified_t</th>\n",
       "      <th>last_modified_datetime</th>\n",
       "      <th>product_name</th>\n",
       "      <th>generic_name</th>\n",
       "      <th>...</th>\n",
       "      <th>energy_100g</th>\n",
       "      <th>fat_100g</th>\n",
       "      <th>saturated-fat_100g</th>\n",
       "      <th>carbohydrates_100g</th>\n",
       "      <th>sugars_100g</th>\n",
       "      <th>fiber_100g</th>\n",
       "      <th>proteins_100g</th>\n",
       "      <th>salt_100g</th>\n",
       "      <th>sodium_100g</th>\n",
       "      <th>nutrition-score-fr_100g</th>\n",
       "    </tr>\n",
       "  </thead>\n",
       "  <tbody>\n",
       "    <tr>\n",
       "      <th>550490</th>\n",
       "      <td>1077100</td>\n",
       "      <td>3770008983205</td>\n",
       "      <td>http://world-en.openfoodfacts.org/product/3770...</td>\n",
       "      <td>r-x</td>\n",
       "      <td>1614201389</td>\n",
       "      <td>2021-02-24T21:16:29Z</td>\n",
       "      <td>1614242412</td>\n",
       "      <td>2021-02-25T08:40:12Z</td>\n",
       "      <td>REMYX VODKA Aquatique</td>\n",
       "      <td>Vodka</td>\n",
       "      <td>...</td>\n",
       "      <td>NaN</td>\n",
       "      <td>NaN</td>\n",
       "      <td>NaN</td>\n",
       "      <td>NaN</td>\n",
       "      <td>NaN</td>\n",
       "      <td>NaN</td>\n",
       "      <td>NaN</td>\n",
       "      <td>NaN</td>\n",
       "      <td>NaN</td>\n",
       "      <td>NaN</td>\n",
       "    </tr>\n",
       "    <tr>\n",
       "      <th>695805</th>\n",
       "      <td>1497124</td>\n",
       "      <td>7898912925060</td>\n",
       "      <td>http://world-en.openfoodfacts.org/product/7898...</td>\n",
       "      <td>openfoodfacts-contributors</td>\n",
       "      <td>1568814193</td>\n",
       "      <td>2019-09-18T13:43:13Z</td>\n",
       "      <td>1571767211</td>\n",
       "      <td>2019-10-22T18:00:11Z</td>\n",
       "      <td>Vodga</td>\n",
       "      <td>NaN</td>\n",
       "      <td>...</td>\n",
       "      <td>NaN</td>\n",
       "      <td>NaN</td>\n",
       "      <td>NaN</td>\n",
       "      <td>NaN</td>\n",
       "      <td>NaN</td>\n",
       "      <td>NaN</td>\n",
       "      <td>NaN</td>\n",
       "      <td>NaN</td>\n",
       "      <td>NaN</td>\n",
       "      <td>NaN</td>\n",
       "    </tr>\n",
       "  </tbody>\n",
       "</table>\n",
       "<p>2 rows × 77 columns</p>\n",
       "</div>"
      ],
      "text/plain": [
       "        Unnamed: 0           code  \\\n",
       "550490     1077100  3770008983205   \n",
       "695805     1497124  7898912925060   \n",
       "\n",
       "                                                      url  \\\n",
       "550490  http://world-en.openfoodfacts.org/product/3770...   \n",
       "695805  http://world-en.openfoodfacts.org/product/7898...   \n",
       "\n",
       "                           creator   created_t      created_datetime  \\\n",
       "550490                         r-x  1614201389  2021-02-24T21:16:29Z   \n",
       "695805  openfoodfacts-contributors  1568814193  2019-09-18T13:43:13Z   \n",
       "\n",
       "        last_modified_t last_modified_datetime           product_name  \\\n",
       "550490       1614242412   2021-02-25T08:40:12Z  REMYX VODKA Aquatique   \n",
       "695805       1571767211   2019-10-22T18:00:11Z                  Vodga   \n",
       "\n",
       "       generic_name  ... energy_100g fat_100g saturated-fat_100g  \\\n",
       "550490        Vodka  ...         NaN      NaN                NaN   \n",
       "695805          NaN  ...         NaN      NaN                NaN   \n",
       "\n",
       "       carbohydrates_100g sugars_100g fiber_100g proteins_100g salt_100g  \\\n",
       "550490                NaN         NaN        NaN           NaN       NaN   \n",
       "695805                NaN         NaN        NaN           NaN       NaN   \n",
       "\n",
       "       sodium_100g nutrition-score-fr_100g  \n",
       "550490         NaN                     NaN  \n",
       "695805         NaN                     NaN  \n",
       "\n",
       "[2 rows x 77 columns]"
      ]
     },
     "execution_count": 183,
     "metadata": {},
     "output_type": "execute_result"
    }
   ],
   "source": [
    "df[(df['pnns_groups_1'].isna()) & (~df['pnns_groups_2'].isna())]"
   ]
  },
  {
   "cell_type": "code",
   "execution_count": 184,
   "metadata": {
    "scrolled": true
   },
   "outputs": [
    {
     "data": {
      "text/plain": [
       "(0, 77)"
      ]
     },
     "execution_count": 184,
     "metadata": {},
     "output_type": "execute_result"
    }
   ],
   "source": [
    "df[(~df['pnns_groups_1'].isna()) & (df['pnns_groups_2'].isna())].shape"
   ]
  },
  {
   "cell_type": "markdown",
   "metadata": {},
   "source": [
    "#### Les groupes"
   ]
  },
  {
   "cell_type": "code",
   "execution_count": 185,
   "metadata": {},
   "outputs": [
    {
     "data": {
      "text/plain": [
       "(0, 77)"
      ]
     },
     "execution_count": 185,
     "metadata": {},
     "output_type": "execute_result"
    }
   ],
   "source": [
    "df[(~df['nutriscore_score'].isna()) & (df['nutrition-score-fr_100g'].isna())].shape"
   ]
  },
  {
   "cell_type": "code",
   "execution_count": 186,
   "metadata": {},
   "outputs": [
    {
     "data": {
      "text/plain": [
       "(4, 77)"
      ]
     },
     "execution_count": 186,
     "metadata": {},
     "output_type": "execute_result"
    }
   ],
   "source": [
    "df[(df['nutriscore_score'].isna()) & (~df['nutrition-score-fr_100g'].isna())].shape"
   ]
  },
  {
   "cell_type": "markdown",
   "metadata": {},
   "source": [
    "#### Selection des colonnes"
   ]
  },
  {
   "cell_type": "code",
   "execution_count": 187,
   "metadata": {},
   "outputs": [],
   "source": [
    "liste_col = ['product_name', 'brands','categories', 'additives_n','pnns_groups_1', 'pnns_groups_2', 'ecoscore_score_fr', \n",
    "             'image_url', 'energy-kj_100g','fat_100g', 'saturated-fat_100g', 'carbohydrates_100g', 'sugars_100g', \n",
    "             'fiber_100g', 'proteins_100g', 'salt_100g', 'nutrition-score-fr_100g', 'nutriscore_grade']"
   ]
  },
  {
   "cell_type": "code",
   "execution_count": 188,
   "metadata": {},
   "outputs": [],
   "source": [
    "df = df.loc[:,liste_col]"
   ]
  },
  {
   "cell_type": "code",
   "execution_count": 189,
   "metadata": {},
   "outputs": [],
   "source": [
    "#df.to_csv('df2.csv')"
   ]
  },
  {
   "cell_type": "markdown",
   "metadata": {},
   "source": [
    "# Sauvegarde rapide"
   ]
  },
  {
   "cell_type": "code",
   "execution_count": 82,
   "metadata": {},
   "outputs": [],
   "source": [
    "df = pd.read_csv('df2.csv')"
   ]
  },
  {
   "cell_type": "code",
   "execution_count": 83,
   "metadata": {},
   "outputs": [
    {
     "data": {
      "text/plain": [
       "Unnamed: 0                      0\n",
       "product_name                    0\n",
       "brands                     371615\n",
       "categories                 418454\n",
       "additives_n                553479\n",
       "pnns_groups_1                   2\n",
       "pnns_groups_2                   0\n",
       "ecoscore_score_fr          528147\n",
       "image_url                   70213\n",
       "energy-kj_100g             161138\n",
       "fat_100g                   166887\n",
       "saturated-fat_100g         163414\n",
       "carbohydrates_100g         166955\n",
       "sugars_100g                164040\n",
       "fiber_100g                 659095\n",
       "proteins_100g              165052\n",
       "salt_100g                  182674\n",
       "nutrition-score-fr_100g    504700\n",
       "nutriscore_grade           504704\n",
       "dtype: int64"
      ]
     },
     "execution_count": 83,
     "metadata": {},
     "output_type": "execute_result"
    }
   ],
   "source": [
    "df.isna().sum()"
   ]
  },
  {
   "cell_type": "markdown",
   "metadata": {},
   "source": [
    "On décide maintenant de supprimer les lignes pour lesquelles aucunes de données clefs sont présentes."
   ]
  },
  {
   "cell_type": "code",
   "execution_count": 84,
   "metadata": {},
   "outputs": [],
   "source": [
    "del_df = df[(df['energy-kj_100g'].isna()) & (df['saturated-fat_100g'].isna()) & (df['carbohydrates_100g'].isna()) &\n",
    "  (df['fiber_100g'].isna()) & (df['proteins_100g'].isna()) & (df['salt_100g'].isna()) & \n",
    "   (df['nutrition-score-fr_100g'].isna())].index"
   ]
  },
  {
   "cell_type": "code",
   "execution_count": 85,
   "metadata": {},
   "outputs": [],
   "source": [
    "df = df.drop(index=del_df)"
   ]
  },
  {
   "cell_type": "code",
   "execution_count": 86,
   "metadata": {},
   "outputs": [],
   "source": [
    "df.reset_index(inplace=True, drop=True)"
   ]
  },
  {
   "cell_type": "markdown",
   "metadata": {},
   "source": [
    "#### Doublons"
   ]
  },
  {
   "cell_type": "code",
   "execution_count": 87,
   "metadata": {},
   "outputs": [],
   "source": [
    "df.product_name = df.product_name.str.lower()\n",
    "df.brands = df.brands.str.lower()"
   ]
  },
  {
   "cell_type": "code",
   "execution_count": 88,
   "metadata": {},
   "outputs": [],
   "source": [
    "duplicated = df[(df.duplicated(subset=['product_name', 'brands'])) & (~df.brands.isna())]"
   ]
  },
  {
   "cell_type": "code",
   "execution_count": 89,
   "metadata": {},
   "outputs": [
    {
     "data": {
      "text/plain": [
       "(37482, 19)"
      ]
     },
     "execution_count": 89,
     "metadata": {},
     "output_type": "execute_result"
    }
   ],
   "source": [
    "duplicated.shape"
   ]
  },
  {
   "cell_type": "code",
   "execution_count": 90,
   "metadata": {},
   "outputs": [],
   "source": [
    "df = df.drop(index=duplicated.index)"
   ]
  },
  {
   "cell_type": "code",
   "execution_count": 91,
   "metadata": {},
   "outputs": [],
   "source": [
    "duplicated.reset_index(inplace=True, drop=True)"
   ]
  },
  {
   "cell_type": "code",
   "execution_count": 92,
   "metadata": {},
   "outputs": [],
   "source": [
    "duplicated = duplicated.loc[duplicated.notnull().sum(1).groupby([duplicated.product_name, duplicated.brands]).idxmax()]"
   ]
  },
  {
   "cell_type": "code",
   "execution_count": 93,
   "metadata": {},
   "outputs": [],
   "source": [
    "df = df.append(duplicated)"
   ]
  },
  {
   "cell_type": "code",
   "execution_count": 94,
   "metadata": {},
   "outputs": [],
   "source": [
    "df.reset_index(inplace=True, drop=True)"
   ]
  },
  {
   "cell_type": "code",
   "execution_count": 95,
   "metadata": {},
   "outputs": [
    {
     "data": {
      "text/plain": [
       "(634416, 19)"
      ]
     },
     "execution_count": 95,
     "metadata": {},
     "output_type": "execute_result"
    }
   ],
   "source": [
    "df.shape"
   ]
  },
  {
   "cell_type": "code",
   "execution_count": 96,
   "metadata": {
    "scrolled": true
   },
   "outputs": [
    {
     "name": "stdout",
     "output_type": "stream",
     "text": [
      "name :  Unnamed: 0 / number na : 0 / % na : 0.0\n",
      "name :  product_name / number na : 0 / % na : 0.0\n",
      "name :  brands / number na : 282734 / % na : 45.0\n",
      "name :  categories / number na : 321447 / % na : 51.0\n",
      "name :  additives_n / number na : 413456 / % na : 65.0\n",
      "name :  pnns_groups_1 / number na : 0 / % na : 0.0\n",
      "name :  pnns_groups_2 / number na : 0 / % na : 0.0\n",
      "name :  ecoscore_score_fr / number na : 413241 / % na : 65.0\n",
      "name :  image_url / number na : 47879 / % na : 8.0\n",
      "name :  energy-kj_100g / number na : 13226 / % na : 2.0\n",
      "name :  fat_100g / number na : 19075 / % na : 3.0\n",
      "name :  saturated-fat_100g / number na : 15376 / % na : 2.0\n",
      "name :  carbohydrates_100g / number na : 18918 / % na : 3.0\n",
      "name :  sugars_100g / number na : 16139 / % na : 3.0\n",
      "name :  fiber_100g / number na : 496585 / % na : 78.0\n",
      "name :  proteins_100g / number na : 17079 / % na : 3.0\n",
      "name :  salt_100g / number na : 34404 / % na : 5.0\n",
      "name :  nutrition-score-fr_100g / number na : 350426 / % na : 55.0\n",
      "name :  nutriscore_grade / number na : 350430 / % na : 55.0\n"
     ]
    }
   ],
   "source": [
    "for c in df.columns:\n",
    "    print('name : ',c, '/ number na :', df[c].isna().sum(), '/ % na :', round(((df[c].isna().sum())/df.shape[0])*100,0))"
   ]
  },
  {
   "cell_type": "code",
   "execution_count": 97,
   "metadata": {},
   "outputs": [
    {
     "data": {
      "text/plain": [
       "23.315392257977166"
      ]
     },
     "execution_count": 97,
     "metadata": {},
     "output_type": "execute_result"
    }
   ],
   "source": [
    "(df.isna().sum().sum() / (df.shape[0]*df.shape[1]) )*100"
   ]
  },
  {
   "cell_type": "code",
   "execution_count": 98,
   "metadata": {
    "scrolled": true
   },
   "outputs": [
    {
     "data": {
      "text/plain": [
       "13.714275047909805"
      ]
     },
     "execution_count": 98,
     "metadata": {},
     "output_type": "execute_result"
    }
   ],
   "source": [
    "(df.drop(['additives_n', 'ecoscore_score_fr', 'image_url', 'brands'], axis=1).isna().sum().sum() / (df.shape[0]*df.shape[1]-4) )*100"
   ]
  },
  {
   "cell_type": "markdown",
   "metadata": {},
   "source": [
    "On se retrouve avec un jeu de données ayant 22% de données incomplètes. <br/>\n",
    "Ce chiffre tombe à 11% si ont écarte les variables non essentielles."
   ]
  },
  {
   "cell_type": "markdown",
   "metadata": {},
   "source": [
    "##### [Sommaire](#S)"
   ]
  },
  {
   "cell_type": "markdown",
   "metadata": {},
   "source": [
    "## II, Prise en charge des outliers <a class='anchor' id='II'></a>"
   ]
  },
  {
   "cell_type": "code",
   "execution_count": 99,
   "metadata": {
    "scrolled": false
   },
   "outputs": [
    {
     "data": {
      "text/html": [
       "<div>\n",
       "<style scoped>\n",
       "    .dataframe tbody tr th:only-of-type {\n",
       "        vertical-align: middle;\n",
       "    }\n",
       "\n",
       "    .dataframe tbody tr th {\n",
       "        vertical-align: top;\n",
       "    }\n",
       "\n",
       "    .dataframe thead th {\n",
       "        text-align: right;\n",
       "    }\n",
       "</style>\n",
       "<table border=\"1\" class=\"dataframe\">\n",
       "  <thead>\n",
       "    <tr style=\"text-align: right;\">\n",
       "      <th></th>\n",
       "      <th>Unnamed: 0</th>\n",
       "      <th>additives_n</th>\n",
       "      <th>ecoscore_score_fr</th>\n",
       "      <th>energy-kj_100g</th>\n",
       "      <th>fat_100g</th>\n",
       "      <th>saturated-fat_100g</th>\n",
       "      <th>carbohydrates_100g</th>\n",
       "      <th>sugars_100g</th>\n",
       "      <th>fiber_100g</th>\n",
       "      <th>proteins_100g</th>\n",
       "      <th>salt_100g</th>\n",
       "      <th>nutrition-score-fr_100g</th>\n",
       "    </tr>\n",
       "  </thead>\n",
       "  <tbody>\n",
       "    <tr>\n",
       "      <th>count</th>\n",
       "      <td>634416.000000</td>\n",
       "      <td>220960.000000</td>\n",
       "      <td>221175.000000</td>\n",
       "      <td>6.211900e+05</td>\n",
       "      <td>615341.000000</td>\n",
       "      <td>619040.000000</td>\n",
       "      <td>615498.000000</td>\n",
       "      <td>618277.000000</td>\n",
       "      <td>137831.000000</td>\n",
       "      <td>617337.000000</td>\n",
       "      <td>600012.000000</td>\n",
       "      <td>283990.000000</td>\n",
       "    </tr>\n",
       "    <tr>\n",
       "      <th>mean</th>\n",
       "      <td>408578.100038</td>\n",
       "      <td>1.693623</td>\n",
       "      <td>43.521903</td>\n",
       "      <td>1.173071e+03</td>\n",
       "      <td>14.201047</td>\n",
       "      <td>5.382074</td>\n",
       "      <td>27.672196</td>\n",
       "      <td>13.814499</td>\n",
       "      <td>3.036433</td>\n",
       "      <td>8.858184</td>\n",
       "      <td>1.279682</td>\n",
       "      <td>9.519927</td>\n",
       "    </tr>\n",
       "    <tr>\n",
       "      <th>std</th>\n",
       "      <td>229731.279203</td>\n",
       "      <td>2.409563</td>\n",
       "      <td>27.179889</td>\n",
       "      <td>1.028995e+04</td>\n",
       "      <td>40.923927</td>\n",
       "      <td>8.372364</td>\n",
       "      <td>246.265923</td>\n",
       "      <td>39.743870</td>\n",
       "      <td>5.089594</td>\n",
       "      <td>93.421831</td>\n",
       "      <td>18.831216</td>\n",
       "      <td>8.757635</td>\n",
       "    </tr>\n",
       "    <tr>\n",
       "      <th>min</th>\n",
       "      <td>1.000000</td>\n",
       "      <td>0.000000</td>\n",
       "      <td>-28.000000</td>\n",
       "      <td>0.000000e+00</td>\n",
       "      <td>0.000000</td>\n",
       "      <td>0.000000</td>\n",
       "      <td>-1.000000</td>\n",
       "      <td>-1.000000</td>\n",
       "      <td>0.000000</td>\n",
       "      <td>0.000000</td>\n",
       "      <td>0.000000</td>\n",
       "      <td>-15.000000</td>\n",
       "    </tr>\n",
       "    <tr>\n",
       "      <th>25%</th>\n",
       "      <td>215266.750000</td>\n",
       "      <td>0.000000</td>\n",
       "      <td>24.000000</td>\n",
       "      <td>4.647348e+02</td>\n",
       "      <td>1.000000</td>\n",
       "      <td>0.200000</td>\n",
       "      <td>2.800000</td>\n",
       "      <td>0.600000</td>\n",
       "      <td>0.100000</td>\n",
       "      <td>1.400000</td>\n",
       "      <td>0.050000</td>\n",
       "      <td>2.000000</td>\n",
       "    </tr>\n",
       "    <tr>\n",
       "      <th>50%</th>\n",
       "      <td>406917.500000</td>\n",
       "      <td>1.000000</td>\n",
       "      <td>39.000000</td>\n",
       "      <td>1.101128e+03</td>\n",
       "      <td>8.000000</td>\n",
       "      <td>2.000000</td>\n",
       "      <td>14.000000</td>\n",
       "      <td>3.500000</td>\n",
       "      <td>1.700000</td>\n",
       "      <td>6.100000</td>\n",
       "      <td>0.510000</td>\n",
       "      <td>10.000000</td>\n",
       "    </tr>\n",
       "    <tr>\n",
       "      <th>75%</th>\n",
       "      <td>612218.250000</td>\n",
       "      <td>3.000000</td>\n",
       "      <td>66.000000</td>\n",
       "      <td>1.674720e+03</td>\n",
       "      <td>22.000000</td>\n",
       "      <td>8.000000</td>\n",
       "      <td>52.100000</td>\n",
       "      <td>20.000000</td>\n",
       "      <td>3.700000</td>\n",
       "      <td>12.500000</td>\n",
       "      <td>1.300000</td>\n",
       "      <td>16.000000</td>\n",
       "    </tr>\n",
       "    <tr>\n",
       "      <th>max</th>\n",
       "      <td>800078.000000</td>\n",
       "      <td>30.000000</td>\n",
       "      <td>125.000000</td>\n",
       "      <td>8.010000e+06</td>\n",
       "      <td>29000.000000</td>\n",
       "      <td>2000.000000</td>\n",
       "      <td>192000.000000</td>\n",
       "      <td>27000.000000</td>\n",
       "      <td>100.000000</td>\n",
       "      <td>73000.000000</td>\n",
       "      <td>14000.000000</td>\n",
       "      <td>40.000000</td>\n",
       "    </tr>\n",
       "  </tbody>\n",
       "</table>\n",
       "</div>"
      ],
      "text/plain": [
       "          Unnamed: 0    additives_n  ecoscore_score_fr  energy-kj_100g  \\\n",
       "count  634416.000000  220960.000000      221175.000000    6.211900e+05   \n",
       "mean   408578.100038       1.693623          43.521903    1.173071e+03   \n",
       "std    229731.279203       2.409563          27.179889    1.028995e+04   \n",
       "min         1.000000       0.000000         -28.000000    0.000000e+00   \n",
       "25%    215266.750000       0.000000          24.000000    4.647348e+02   \n",
       "50%    406917.500000       1.000000          39.000000    1.101128e+03   \n",
       "75%    612218.250000       3.000000          66.000000    1.674720e+03   \n",
       "max    800078.000000      30.000000         125.000000    8.010000e+06   \n",
       "\n",
       "            fat_100g  saturated-fat_100g  carbohydrates_100g    sugars_100g  \\\n",
       "count  615341.000000       619040.000000       615498.000000  618277.000000   \n",
       "mean       14.201047            5.382074           27.672196      13.814499   \n",
       "std        40.923927            8.372364          246.265923      39.743870   \n",
       "min         0.000000            0.000000           -1.000000      -1.000000   \n",
       "25%         1.000000            0.200000            2.800000       0.600000   \n",
       "50%         8.000000            2.000000           14.000000       3.500000   \n",
       "75%        22.000000            8.000000           52.100000      20.000000   \n",
       "max     29000.000000         2000.000000       192000.000000   27000.000000   \n",
       "\n",
       "          fiber_100g  proteins_100g      salt_100g  nutrition-score-fr_100g  \n",
       "count  137831.000000  617337.000000  600012.000000            283990.000000  \n",
       "mean        3.036433       8.858184       1.279682                 9.519927  \n",
       "std         5.089594      93.421831      18.831216                 8.757635  \n",
       "min         0.000000       0.000000       0.000000               -15.000000  \n",
       "25%         0.100000       1.400000       0.050000                 2.000000  \n",
       "50%         1.700000       6.100000       0.510000                10.000000  \n",
       "75%         3.700000      12.500000       1.300000                16.000000  \n",
       "max       100.000000   73000.000000   14000.000000                40.000000  "
      ]
     },
     "execution_count": 99,
     "metadata": {},
     "output_type": "execute_result"
    }
   ],
   "source": [
    "df.describe()"
   ]
  },
  {
   "cell_type": "markdown",
   "metadata": {},
   "source": [
    "#### Les 100 grammes"
   ]
  },
  {
   "cell_type": "markdown",
   "metadata": {},
   "source": [
    "Tout d'abord, nous allons nous intéresser aux produits qui ont plus de 100g d'un nutriment par 100g du même nutriment."
   ]
  },
  {
   "cell_type": "code",
   "execution_count": 100,
   "metadata": {},
   "outputs": [
    {
     "data": {
      "text/plain": [
       "(40, 19)"
      ]
     },
     "execution_count": 100,
     "metadata": {},
     "output_type": "execute_result"
    }
   ],
   "source": [
    "df[(df.fat_100g > 100) |(df['saturated-fat_100g'] > 100) |  (df['carbohydrates_100g'] > 100) | \n",
    "   (df['sugars_100g'] > 100) | (df['fiber_100g'] > 100) | (df['proteins_100g'] > 100) | (df['salt_100g'] > 100)].shape     "
   ]
  },
  {
   "cell_type": "markdown",
   "metadata": {},
   "source": [
    "Cela concerne 40 produits, ce qui est vraiment marginal. Aussi, nous décidons de les supprimer."
   ]
  },
  {
   "cell_type": "code",
   "execution_count": 101,
   "metadata": {},
   "outputs": [],
   "source": [
    "del_p = df[(df.fat_100g > 100) |(df['saturated-fat_100g'] > 100) |  (df['carbohydrates_100g'] > 100) | \n",
    "   (df['sugars_100g'] > 100) | (df['fiber_100g'] > 100) | (df['proteins_100g'] > 100) | (df['salt_100g'] > 100)].index     "
   ]
  },
  {
   "cell_type": "code",
   "execution_count": 102,
   "metadata": {},
   "outputs": [],
   "source": [
    "df.drop(index=del_p, inplace=True)"
   ]
  },
  {
   "cell_type": "markdown",
   "metadata": {},
   "source": [
    "#### Les valeurs négatives"
   ]
  },
  {
   "cell_type": "code",
   "execution_count": 103,
   "metadata": {},
   "outputs": [],
   "source": [
    "del_p = df[(df.fat_100g < 0) |(df['saturated-fat_100g'] < 0) |  (df['carbohydrates_100g'] < 0) | \n",
    "   (df['sugars_100g'] < 0) | (df['fiber_100g'] < 0) | (df['proteins_100g'] < 0) | (df['salt_100g'] < 0)].index"
   ]
  },
  {
   "cell_type": "code",
   "execution_count": 104,
   "metadata": {},
   "outputs": [],
   "source": [
    "df.drop(index=del_p, inplace=True)"
   ]
  },
  {
   "cell_type": "markdown",
   "metadata": {},
   "source": [
    "#### Les k-joules"
   ]
  },
  {
   "cell_type": "markdown",
   "metadata": {},
   "source": [
    "Ensuite, nous allons nous intéresser aux kj pour 100g.<br/>\n",
    "Les aliments les plus caloriques sont les huiles (à égalité) qui contiennent 900 cal / 100g ce qui fait 3766kj pour 100g."
   ]
  },
  {
   "cell_type": "code",
   "execution_count": 105,
   "metadata": {},
   "outputs": [
    {
     "data": {
      "image/png": "[encoded data removed]",
      "text/plain": [
       "<Figure size 432x288 with 1 Axes>"
      ]
     },
     "metadata": {
      "needs_background": "light"
     },
     "output_type": "display_data"
    }
   ],
   "source": [
    "sns.boxplot(x='energy-kj_100g', data=df)\n",
    "plt.title(\"Boite à moustache de l'énergie\")\n",
    "plt.show()"
   ]
  },
  {
   "cell_type": "code",
   "execution_count": 106,
   "metadata": {},
   "outputs": [
    {
     "data": {
      "text/plain": [
       "(5058, 19)"
      ]
     },
     "execution_count": 106,
     "metadata": {},
     "output_type": "execute_result"
    }
   ],
   "source": [
    "df[df['energy-kj_100g'] > 3766].shape"
   ]
  },
  {
   "cell_type": "markdown",
   "metadata": {},
   "source": [
    "Ici, nous pouvons considérer que nous sommes en face d'une valeur abérante. Nous décidons de les supprimer."
   ]
  },
  {
   "cell_type": "code",
   "execution_count": 107,
   "metadata": {},
   "outputs": [],
   "source": [
    "df.drop(index = df[df['energy-kj_100g'] > 3766].index, inplace=True)"
   ]
  },
  {
   "cell_type": "markdown",
   "metadata": {},
   "source": [
    "#### Les fibres"
   ]
  },
  {
   "cell_type": "markdown",
   "metadata": {},
   "source": [
    "Ensuite, les aliments contenant le plus de fibre sont les pruneaux et les amande avec 16g pour 100g.<br/>\n",
    "Aussi, toutes les valeurs supérieures peuvent être considérées comme éronnées."
   ]
  },
  {
   "cell_type": "code",
   "execution_count": 108,
   "metadata": {},
   "outputs": [
    {
     "data": {
      "text/plain": [
       "(1740, 19)"
      ]
     },
     "execution_count": 108,
     "metadata": {},
     "output_type": "execute_result"
    }
   ],
   "source": [
    "df[df.fiber_100g > 20].shape"
   ]
  },
  {
   "cell_type": "code",
   "execution_count": 109,
   "metadata": {},
   "outputs": [],
   "source": [
    "df.drop(index=df[df.fiber_100g > 20].index, inplace=True)"
   ]
  },
  {
   "cell_type": "markdown",
   "metadata": {},
   "source": [
    "#### Les protéines"
   ]
  },
  {
   "cell_type": "markdown",
   "metadata": {},
   "source": [
    "Les produits ayant le plus de protéine sont les gélatine alimentaires avec 88g de protéine par 100g.<br/>\n",
    "Aussi, toute veleure supérieur sera considérée comme abérante."
   ]
  },
  {
   "cell_type": "code",
   "execution_count": 110,
   "metadata": {},
   "outputs": [
    {
     "data": {
      "text/plain": [
       "(245, 19)"
      ]
     },
     "execution_count": 110,
     "metadata": {},
     "output_type": "execute_result"
    }
   ],
   "source": [
    "df[df.proteins_100g > 88].shape"
   ]
  },
  {
   "cell_type": "code",
   "execution_count": 111,
   "metadata": {},
   "outputs": [],
   "source": [
    "df.drop(index=df[df.proteins_100g > 88].index, inplace=True)"
   ]
  },
  {
   "cell_type": "markdown",
   "metadata": {},
   "source": [
    "#### Données restantes"
   ]
  },
  {
   "cell_type": "code",
   "execution_count": 112,
   "metadata": {},
   "outputs": [
    {
     "data": {
      "text/html": [
       "<div>\n",
       "<style scoped>\n",
       "    .dataframe tbody tr th:only-of-type {\n",
       "        vertical-align: middle;\n",
       "    }\n",
       "\n",
       "    .dataframe tbody tr th {\n",
       "        vertical-align: top;\n",
       "    }\n",
       "\n",
       "    .dataframe thead th {\n",
       "        text-align: right;\n",
       "    }\n",
       "</style>\n",
       "<table border=\"1\" class=\"dataframe\">\n",
       "  <thead>\n",
       "    <tr style=\"text-align: right;\">\n",
       "      <th></th>\n",
       "      <th>Unnamed: 0</th>\n",
       "      <th>additives_n</th>\n",
       "      <th>ecoscore_score_fr</th>\n",
       "      <th>energy-kj_100g</th>\n",
       "      <th>fat_100g</th>\n",
       "      <th>saturated-fat_100g</th>\n",
       "      <th>carbohydrates_100g</th>\n",
       "      <th>sugars_100g</th>\n",
       "      <th>fiber_100g</th>\n",
       "      <th>proteins_100g</th>\n",
       "      <th>salt_100g</th>\n",
       "      <th>nutrition-score-fr_100g</th>\n",
       "    </tr>\n",
       "  </thead>\n",
       "  <tbody>\n",
       "    <tr>\n",
       "      <th>count</th>\n",
       "      <td>627332.000000</td>\n",
       "      <td>218447.00000</td>\n",
       "      <td>218352.000000</td>\n",
       "      <td>614117.000000</td>\n",
       "      <td>608303.000000</td>\n",
       "      <td>612006.000000</td>\n",
       "      <td>608477.000000</td>\n",
       "      <td>611265.000000</td>\n",
       "      <td>135415.000000</td>\n",
       "      <td>610289.000000</td>\n",
       "      <td>593425.000000</td>\n",
       "      <td>280461.000000</td>\n",
       "    </tr>\n",
       "    <tr>\n",
       "      <th>mean</th>\n",
       "      <td>408125.191981</td>\n",
       "      <td>1.70456</td>\n",
       "      <td>43.617027</td>\n",
       "      <td>1130.976322</td>\n",
       "      <td>13.761018</td>\n",
       "      <td>5.310458</td>\n",
       "      <td>27.477490</td>\n",
       "      <td>13.847750</td>\n",
       "      <td>2.642424</td>\n",
       "      <td>8.712154</td>\n",
       "      <td>1.250791</td>\n",
       "      <td>9.531001</td>\n",
       "    </tr>\n",
       "    <tr>\n",
       "      <th>std</th>\n",
       "      <td>229770.120549</td>\n",
       "      <td>2.41299</td>\n",
       "      <td>27.218889</td>\n",
       "      <td>771.608444</td>\n",
       "      <td>16.522212</td>\n",
       "      <td>7.749275</td>\n",
       "      <td>27.734446</td>\n",
       "      <td>20.065139</td>\n",
       "      <td>3.219653</td>\n",
       "      <td>9.643253</td>\n",
       "      <td>4.300289</td>\n",
       "      <td>8.760526</td>\n",
       "    </tr>\n",
       "    <tr>\n",
       "      <th>min</th>\n",
       "      <td>1.000000</td>\n",
       "      <td>0.00000</td>\n",
       "      <td>-28.000000</td>\n",
       "      <td>0.000000</td>\n",
       "      <td>0.000000</td>\n",
       "      <td>0.000000</td>\n",
       "      <td>0.000000</td>\n",
       "      <td>0.000000</td>\n",
       "      <td>0.000000</td>\n",
       "      <td>0.000000</td>\n",
       "      <td>0.000000</td>\n",
       "      <td>-15.000000</td>\n",
       "    </tr>\n",
       "    <tr>\n",
       "      <th>25%</th>\n",
       "      <td>214619.500000</td>\n",
       "      <td>0.00000</td>\n",
       "      <td>24.000000</td>\n",
       "      <td>460.548000</td>\n",
       "      <td>1.000000</td>\n",
       "      <td>0.200000</td>\n",
       "      <td>2.900000</td>\n",
       "      <td>0.700000</td>\n",
       "      <td>0.100000</td>\n",
       "      <td>1.500000</td>\n",
       "      <td>0.060000</td>\n",
       "      <td>2.000000</td>\n",
       "    </tr>\n",
       "    <tr>\n",
       "      <th>50%</th>\n",
       "      <td>406425.500000</td>\n",
       "      <td>1.00000</td>\n",
       "      <td>39.000000</td>\n",
       "      <td>1088.568000</td>\n",
       "      <td>7.900000</td>\n",
       "      <td>2.000000</td>\n",
       "      <td>14.400000</td>\n",
       "      <td>3.600000</td>\n",
       "      <td>1.600000</td>\n",
       "      <td>6.100000</td>\n",
       "      <td>0.529000</td>\n",
       "      <td>10.000000</td>\n",
       "    </tr>\n",
       "    <tr>\n",
       "      <th>75%</th>\n",
       "      <td>611842.250000</td>\n",
       "      <td>3.00000</td>\n",
       "      <td>66.000000</td>\n",
       "      <td>1666.346400</td>\n",
       "      <td>22.000000</td>\n",
       "      <td>7.800000</td>\n",
       "      <td>52.400000</td>\n",
       "      <td>20.000000</td>\n",
       "      <td>3.600000</td>\n",
       "      <td>12.437500</td>\n",
       "      <td>1.300000</td>\n",
       "      <td>16.000000</td>\n",
       "    </tr>\n",
       "    <tr>\n",
       "      <th>max</th>\n",
       "      <td>800078.000000</td>\n",
       "      <td>30.00000</td>\n",
       "      <td>125.000000</td>\n",
       "      <td>3766.000000</td>\n",
       "      <td>100.000000</td>\n",
       "      <td>100.000000</td>\n",
       "      <td>100.000000</td>\n",
       "      <td>100.000000</td>\n",
       "      <td>20.000000</td>\n",
       "      <td>88.000000</td>\n",
       "      <td>100.000000</td>\n",
       "      <td>40.000000</td>\n",
       "    </tr>\n",
       "  </tbody>\n",
       "</table>\n",
       "</div>"
      ],
      "text/plain": [
       "          Unnamed: 0   additives_n  ecoscore_score_fr  energy-kj_100g  \\\n",
       "count  627332.000000  218447.00000      218352.000000   614117.000000   \n",
       "mean   408125.191981       1.70456          43.617027     1130.976322   \n",
       "std    229770.120549       2.41299          27.218889      771.608444   \n",
       "min         1.000000       0.00000         -28.000000        0.000000   \n",
       "25%    214619.500000       0.00000          24.000000      460.548000   \n",
       "50%    406425.500000       1.00000          39.000000     1088.568000   \n",
       "75%    611842.250000       3.00000          66.000000     1666.346400   \n",
       "max    800078.000000      30.00000         125.000000     3766.000000   \n",
       "\n",
       "            fat_100g  saturated-fat_100g  carbohydrates_100g    sugars_100g  \\\n",
       "count  608303.000000       612006.000000       608477.000000  611265.000000   \n",
       "mean       13.761018            5.310458           27.477490      13.847750   \n",
       "std        16.522212            7.749275           27.734446      20.065139   \n",
       "min         0.000000            0.000000            0.000000       0.000000   \n",
       "25%         1.000000            0.200000            2.900000       0.700000   \n",
       "50%         7.900000            2.000000           14.400000       3.600000   \n",
       "75%        22.000000            7.800000           52.400000      20.000000   \n",
       "max       100.000000          100.000000          100.000000     100.000000   \n",
       "\n",
       "          fiber_100g  proteins_100g      salt_100g  nutrition-score-fr_100g  \n",
       "count  135415.000000  610289.000000  593425.000000            280461.000000  \n",
       "mean        2.642424       8.712154       1.250791                 9.531001  \n",
       "std         3.219653       9.643253       4.300289                 8.760526  \n",
       "min         0.000000       0.000000       0.000000               -15.000000  \n",
       "25%         0.100000       1.500000       0.060000                 2.000000  \n",
       "50%         1.600000       6.100000       0.529000                10.000000  \n",
       "75%         3.600000      12.437500       1.300000                16.000000  \n",
       "max        20.000000      88.000000     100.000000                40.000000  "
      ]
     },
     "execution_count": 112,
     "metadata": {},
     "output_type": "execute_result"
    }
   ],
   "source": [
    "df.describe()"
   ]
  },
  {
   "cell_type": "code",
   "execution_count": 113,
   "metadata": {
    "scrolled": false
   },
   "outputs": [
    {
     "data": {
      "image/png": "[encoded data removed]",
      "text/plain": [
       "<Figure size 1080x216 with 1 Axes>"
      ]
     },
     "metadata": {
      "needs_background": "light"
     },
     "output_type": "display_data"
    },
    {
     "data": {
      "image/png": "[encoded data removed]",
      "text/plain": [
       "<Figure size 1080x216 with 1 Axes>"
      ]
     },
     "metadata": {
      "needs_background": "light"
     },
     "output_type": "display_data"
    },
    {
     "data": {
      "image/png": "[encoded data removed]",
      "text/plain": [
       "<Figure size 1080x216 with 1 Axes>"
      ]
     },
     "metadata": {
      "needs_background": "light"
     },
     "output_type": "display_data"
    },
    {
     "data": {
      "image/png": "[encoded data removed]",
      "text/plain": [
       "<Figure size 1080x216 with 1 Axes>"
      ]
     },
     "metadata": {
      "needs_background": "light"
     },
     "output_type": "display_data"
    },
    {
     "data": {
      "image/png": "[encoded data removed]",
      "text/plain": [
       "<Figure size 1080x216 with 1 Axes>"
      ]
     },
     "metadata": {
      "needs_background": "light"
     },
     "output_type": "display_data"
    },
    {
     "data": {
      "image/png": "[encoded data removed]",
      "text/plain": [
       "<Figure size 1080x216 with 1 Axes>"
      ]
     },
     "metadata": {
      "needs_background": "light"
     },
     "output_type": "display_data"
    },
    {
     "data": {
      "image/png": "[encoded data removed]",
      "text/plain": [
       "<Figure size 1080x216 with 1 Axes>"
      ]
     },
     "metadata": {
      "needs_background": "light"
     },
     "output_type": "display_data"
    },
    {
     "data": {
      "image/png": "[encoded data removed]",
      "text/plain": [
       "<Figure size 1080x216 with 1 Axes>"
      ]
     },
     "metadata": {
      "needs_background": "light"
     },
     "output_type": "display_data"
    },
    {
     "data": {
      "image/png": "[encoded data removed]",
      "text/plain": [
       "<Figure size 1080x216 with 1 Axes>"
      ]
     },
     "metadata": {
      "needs_background": "light"
     },
     "output_type": "display_data"
    },
    {
     "data": {
      "image/png": "[encoded data removed]",
      "text/plain": [
       "<Figure size 1080x216 with 1 Axes>"
      ]
     },
     "metadata": {
      "needs_background": "light"
     },
     "output_type": "display_data"
    },
    {
     "data": {
      "image/png": "[encoded data removed]",
      "text/plain": [
       "<Figure size 1080x216 with 1 Axes>"
      ]
     },
     "metadata": {
      "needs_background": "light"
     },
     "output_type": "display_data"
    }
   ],
   "source": [
    "for c in df.columns:\n",
    "    if df[c].dtypes == 'float':\n",
    "        plt.figure(figsize=(15,3))\n",
    "        sns.boxplot(x=c, data=df)\n",
    "        plt.vlines(df[c].mean(),ymin=-0.4, ymax=0.4, color='red', alpha=0.5)\n",
    "        plt.title(c)\n",
    "        plt.show()"
   ]
  },
  {
   "cell_type": "code",
   "execution_count": 114,
   "metadata": {
    "scrolled": false
   },
   "outputs": [
    {
     "name": "stdout",
     "output_type": "stream",
     "text": [
      "                                             product_name  additives_n\n",
      "100636                                         confiserie         30.0\n",
      "100631                          escalope extra fine dinde         30.0\n",
      "100637                       confiserie sans marque 188 g         30.0\n",
      "321968                                   fraisier 8 parts         28.0\n",
      "104936                                        confiseries         28.0\n",
      "571727                                       rainbow cake         26.0\n",
      "153864  assortiment de fruits secs, pâte d'amande et p...         26.0\n",
      "171211                                    framboisier x 2         26.0\n",
      "581663                                la rosquita serrana         25.0\n",
      "340947                                       hot dogs x 2         25.0\n",
      "------------------------------------------------------------------------------------------\n",
      "                                          product_name  ecoscore_score_fr\n",
      "250346                   24g 20st infusion sommeil mbp              125.0\n",
      "250349                   50g infusion sommeil vrac mbp              125.0\n",
      "379044                          infusion bio digestion              125.0\n",
      "427369                                   joie de vivre              125.0\n",
      "250345                              infusion digestion              125.0\n",
      "595161  elephant tisane bio verveine menthe 20 sachets              125.0\n",
      "250348                  50g infusio digestion vrac mbp              125.0\n",
      "293835                  24g 20s infusion digestion mbp              125.0\n",
      "250344          monoprix bio origines - infusion detox              125.0\n",
      "250347                     50g infusion detox vrac mbp              125.0\n",
      "------------------------------------------------------------------------------------------\n",
      "                              product_name  energy-kj_100g\n",
      "131793                   graisse de canard       3766.0000\n",
      "494232           huile de palme biologique       3766.0000\n",
      "132921                              mycryo       3766.0000\n",
      "234234            huile de coco vierge bio       3765.0000\n",
      "623042            huile de coco vierge bio       3765.0000\n",
      "275133  huile olive chateau estoublon 75cl       3763.9332\n",
      "275164          huile d‘olive vierge extra       3763.9332\n",
      "457869                       huile de coco       3763.9332\n",
      "457637     tropical sun virgin coconut oil       3763.9332\n",
      "403047                huile d'olive vierge       3763.9332\n",
      "------------------------------------------------------------------------------------------\n",
      "                                         product_name  fat_100g\n",
      "396907       crubio beurre de cacao cru et biologique     100.0\n",
      "575418                     huile d’olive extra vierge     100.0\n",
      "575412                                  huile d’olive     100.0\n",
      "575413                      aceite oliva virgen extra     100.0\n",
      "575414                                  huile d'olive     100.0\n",
      "575415                     huile d'olive vierge extra     100.0\n",
      "575416  aceite de oliva virgen extra cosecha temprana     100.0\n",
      "575417                                  huile d'olive     100.0\n",
      "575450           oli verge extra 250 cc vidre olibaza     100.0\n",
      "469720                       olives noires naturelles     100.0\n",
      "------------------------------------------------------------------------------------------\n",
      "                             product_name  saturated-fat_100g\n",
      "60058                   frites & fritures               100.0\n",
      "37143         pain au chocolat pur beurre               100.0\n",
      "435929                              sucre               100.0\n",
      "275328        1000 sacs panini kf blc imp               100.0\n",
      "10640    maison orphée virgin coconut oil               100.0\n",
      "394801       huile vierge de noix de coco               100.0\n",
      "534741                 curcuma e cannella               100.0\n",
      "10424          miel pur (crémeux naturel)               100.0\n",
      "182959  graisse végétale spéciale friture               100.0\n",
      "45986                 beurre de cacahuete               100.0\n",
      "------------------------------------------------------------------------------------------\n",
      "                      product_name  carbohydrates_100g\n",
      "468080                caster sugar               100.0\n",
      "592662    sauce dessert au caramel               100.0\n",
      "147355                  pure canne               100.0\n",
      "49573               sucre d'érable               100.0\n",
      "147354                 sucre glace               100.0\n",
      "412534  jus d’oranges pressées bio               100.0\n",
      "105471   dosette de sucre en pudre               100.0\n",
      "412557            miel du périgord               100.0\n",
      "11354                   whirly pop               100.0\n",
      "351829                 sucre candy               100.0\n",
      "------------------------------------------------------------------------------------------\n",
      "                            product_name  sugars_100g\n",
      "611923                        jila mints        100.0\n",
      "358923                        sucre roux        100.0\n",
      "155518                       sucre blanc        100.0\n",
      "444714                    sucre christal        100.0\n",
      "444690                     azucar zucker        100.0\n",
      "155517                             sucre        100.0\n",
      "155516  1kg st sucre cristal saint louis        100.0\n",
      "155513                       sucre glace        100.0\n",
      "238606             stevia sucre de canne        100.0\n",
      "238600                      pure via mix        100.0\n",
      "------------------------------------------------------------------------------------------\n",
      "                                             product_name  fiber_100g\n",
      "160052                                  cèpes déshydratés        20.0\n",
      "414533                                    tagliatelle bio        20.0\n",
      "49635                                                 bar        20.0\n",
      "147904                             boisson nutritionnelle        20.0\n",
      "205254                            lentilles vertes du puy        20.0\n",
      "111045                                filets de crocodile        20.0\n",
      "379233                                         mix salade        20.0\n",
      "5607                        large flake nutritional yeast        20.0\n",
      "485816                                            amande         20.0\n",
      "485821  chips de pommes enrobées de chocolat noir newtree        20.0\n",
      "------------------------------------------------------------------------------------------\n",
      "                           product_name  proteins_100g\n",
      "499466      iso whey zero (caffe latte)           88.0\n",
      "300988                         iso whey           88.0\n",
      "499467             iso whey zero coffee           88.0\n",
      "361241                  my iso whey pro           88.0\n",
      "499429                    iso whey zéro           88.0\n",
      "489750       isoxp whey protein isolate           88.0\n",
      "466839                    vegan protein           88.0\n",
      "499430                    iso whey zero           88.0\n",
      "489770           100 whey hydro isolate           88.0\n",
      "315979  gélatine alimentaire 9 feuilles           88.0\n",
      "------------------------------------------------------------------------------------------\n",
      "                        product_name  salt_100g\n",
      "325001                       sel fin      100.0\n",
      "233406      fleur de sel de guérande      100.0\n",
      "556609           salt, pepe sardegna      100.0\n",
      "274540                  1kg sel gros      100.0\n",
      "564996         sal costa, sal marina      100.0\n",
      "382183                  fleur de sel      100.0\n",
      "394363           sel de truffe noire      100.0\n",
      "56781           menu couscous calais      100.0\n",
      "51425   crepe au gel hidroalcoolique      100.0\n",
      "547465                   sale marino      100.0\n",
      "------------------------------------------------------------------------------------------\n",
      "                             product_name  nutrition-score-fr_100g\n",
      "112840       granulowany napój herbaciany                     40.0\n",
      "606161           matcha latte - green tea                     40.0\n",
      "268738              chocolat dessert lait                     37.0\n",
      "447744                        milk domior                     37.0\n",
      "376408      chocolat au lait fleur de sel                     37.0\n",
      "376398  bouchées de chocolat au lait coco                     37.0\n",
      "376377     ho ho ho calendrier de l'avent                     37.0\n",
      "503289                   crème à tartiner                     37.0\n",
      "256742                 chocolat lait coco                     37.0\n",
      "12843                                klik                     37.0\n",
      "------------------------------------------------------------------------------------------\n"
     ]
    }
   ],
   "source": [
    "for c in df.columns:\n",
    "    if df[c].dtypes == 'float':\n",
    "        print(df.loc[:,['product_name', c]].sort_values(c, ascending=False).head(10))\n",
    "        print('------------------------------------------------------------------------------------------')"
   ]
  },
  {
   "cell_type": "code",
   "execution_count": 115,
   "metadata": {},
   "outputs": [],
   "source": [
    "df.reset_index(inplace=True, drop=True)"
   ]
  },
  {
   "cell_type": "code",
   "execution_count": 116,
   "metadata": {},
   "outputs": [
    {
     "data": {
      "text/plain": [
       "(627332, 19)"
      ]
     },
     "execution_count": 116,
     "metadata": {},
     "output_type": "execute_result"
    }
   ],
   "source": [
    "df.shape"
   ]
  },
  {
   "cell_type": "code",
   "execution_count": 117,
   "metadata": {},
   "outputs": [
    {
     "data": {
      "text/plain": [
       "Unnamed: 0                      0\n",
       "product_name                    0\n",
       "brands                     279571\n",
       "categories                 318432\n",
       "additives_n                408885\n",
       "pnns_groups_1                   0\n",
       "pnns_groups_2                   0\n",
       "ecoscore_score_fr          408980\n",
       "image_url                   47207\n",
       "energy-kj_100g              13215\n",
       "fat_100g                    19029\n",
       "saturated-fat_100g          15326\n",
       "carbohydrates_100g          18855\n",
       "sugars_100g                 16067\n",
       "fiber_100g                 491917\n",
       "proteins_100g               17043\n",
       "salt_100g                   33907\n",
       "nutrition-score-fr_100g    346871\n",
       "nutriscore_grade           346875\n",
       "dtype: int64"
      ]
     },
     "execution_count": 117,
     "metadata": {},
     "output_type": "execute_result"
    }
   ],
   "source": [
    "df.isna().sum()"
   ]
  },
  {
   "cell_type": "code",
   "execution_count": 118,
   "metadata": {},
   "outputs": [
    {
     "name": "stdout",
     "output_type": "stream",
     "text": [
      "name :  Unnamed: 0 / number na : 0 / % na : 0.0\n",
      "name :  product_name / number na : 0 / % na : 0.0\n",
      "name :  brands / number na : 279571 / % na : 45.0\n",
      "name :  categories / number na : 318432 / % na : 51.0\n",
      "name :  additives_n / number na : 408885 / % na : 65.0\n",
      "name :  pnns_groups_1 / number na : 0 / % na : 0.0\n",
      "name :  pnns_groups_2 / number na : 0 / % na : 0.0\n",
      "name :  ecoscore_score_fr / number na : 408980 / % na : 65.0\n",
      "name :  image_url / number na : 47207 / % na : 8.0\n",
      "name :  energy-kj_100g / number na : 13215 / % na : 2.0\n",
      "name :  fat_100g / number na : 19029 / % na : 3.0\n",
      "name :  saturated-fat_100g / number na : 15326 / % na : 2.0\n",
      "name :  carbohydrates_100g / number na : 18855 / % na : 3.0\n",
      "name :  sugars_100g / number na : 16067 / % na : 3.0\n",
      "name :  fiber_100g / number na : 491917 / % na : 78.0\n",
      "name :  proteins_100g / number na : 17043 / % na : 3.0\n",
      "name :  salt_100g / number na : 33907 / % na : 5.0\n",
      "name :  nutrition-score-fr_100g / number na : 346871 / % na : 55.0\n",
      "name :  nutriscore_grade / number na : 346875 / % na : 55.0\n"
     ]
    }
   ],
   "source": [
    "for c in df.columns:\n",
    "    print('name : ',c, '/ number na :', df[c].isna().sum(), '/ % na :', round(((df[c].isna().sum())/df.shape[0])*100,0))"
   ]
  },
  {
   "cell_type": "code",
   "execution_count": 119,
   "metadata": {},
   "outputs": [
    {
     "data": {
      "text/plain": [
       "23.341791318757767"
      ]
     },
     "execution_count": 119,
     "metadata": {},
     "output_type": "execute_result"
    }
   ],
   "source": [
    "(df.isna().sum().sum() / (df.shape[0]*df.shape[1]) )*100"
   ]
  },
  {
   "cell_type": "code",
   "execution_count": 120,
   "metadata": {},
   "outputs": [
    {
     "data": {
      "text/plain": [
       "13.738528692614938"
      ]
     },
     "execution_count": 120,
     "metadata": {},
     "output_type": "execute_result"
    }
   ],
   "source": [
    "(df.drop(['additives_n', 'ecoscore_score_fr', 'image_url', 'brands'], axis=1).isna().sum().sum() / (df.shape[0]*df.shape[1]-4) )*100"
   ]
  },
  {
   "cell_type": "code",
   "execution_count": null,
   "metadata": {},
   "outputs": [],
   "source": []
  },
  {
   "cell_type": "markdown",
   "metadata": {},
   "source": [
    "##### [sommaire](#S)"
   ]
  },
  {
   "cell_type": "markdown",
   "metadata": {},
   "source": [
    "## III, Réduction du nombre de données incomplètes <a class='anchor' id='III'></a>"
   ]
  },
  {
   "cell_type": "markdown",
   "metadata": {},
   "source": [
    "Notre principal problème concerne la colonne nutriscore qui est vide à 55%.<br/><br/>\n",
    "Deux approches sont possibles : <br/>\n",
    "-la suppression pure et simple des lignes n'ayant pas de nutriscore<br/>\n",
    "-le comblement des données manquantes. Soit par un algorithme de regression, en cherchant le nutriscore, soit par un algorithme de classification en cherchant le nutri groupe. Dans les deux cas, nous nous servirons des données nutritionnelles, relativement complètes, pour entraîner nos modèles."
   ]
  },
  {
   "cell_type": "markdown",
   "metadata": {},
   "source": [
    "### A, Par suppression <a class='anchor' id='IIIA'></a>"
   ]
  },
  {
   "cell_type": "code",
   "execution_count": 121,
   "metadata": {},
   "outputs": [],
   "source": [
    "df1 = df"
   ]
  },
  {
   "cell_type": "code",
   "execution_count": 122,
   "metadata": {},
   "outputs": [],
   "source": [
    "df1 = df1[~df1['nutrition-score-fr_100g'].isna()]"
   ]
  },
  {
   "cell_type": "code",
   "execution_count": 123,
   "metadata": {},
   "outputs": [
    {
     "data": {
      "text/plain": [
       "(280461, 19)"
      ]
     },
     "execution_count": 123,
     "metadata": {},
     "output_type": "execute_result"
    }
   ],
   "source": [
    "df1.shape"
   ]
  },
  {
   "cell_type": "code",
   "execution_count": 124,
   "metadata": {
    "scrolled": false
   },
   "outputs": [
    {
     "data": {
      "text/plain": [
       "Unnamed: 0                      0\n",
       "product_name                    0\n",
       "brands                      63305\n",
       "categories                      0\n",
       "additives_n                116659\n",
       "pnns_groups_1                   0\n",
       "pnns_groups_2                   0\n",
       "ecoscore_score_fr           81185\n",
       "image_url                   14090\n",
       "energy-kj_100g                521\n",
       "fat_100g                      474\n",
       "saturated-fat_100g            473\n",
       "carbohydrates_100g            571\n",
       "sugars_100g                   474\n",
       "fiber_100g                 180147\n",
       "proteins_100g                 471\n",
       "salt_100g                     410\n",
       "nutrition-score-fr_100g         0\n",
       "nutriscore_grade                4\n",
       "dtype: int64"
      ]
     },
     "execution_count": 124,
     "metadata": {},
     "output_type": "execute_result"
    }
   ],
   "source": [
    "df1.isna().sum()"
   ]
  },
  {
   "cell_type": "code",
   "execution_count": 125,
   "metadata": {},
   "outputs": [
    {
     "data": {
      "text/plain": [
       "0.08609584332862492"
      ]
     },
     "execution_count": 125,
     "metadata": {},
     "output_type": "execute_result"
    }
   ],
   "source": [
    "df1.isna().sum().sum() / (df1.shape[0] * df.shape[1])"
   ]
  },
  {
   "cell_type": "code",
   "execution_count": 126,
   "metadata": {
    "scrolled": true
   },
   "outputs": [
    {
     "name": "stderr",
     "output_type": "stream",
     "text": [
      "C:\\Users\\Alex\\anaconda3\\lib\\site-packages\\pandas\\core\\frame.py:4296: SettingWithCopyWarning: \n",
      "A value is trying to be set on a copy of a slice from a DataFrame\n",
      "\n",
      "See the caveats in the documentation: https://pandas.pydata.org/pandas-docs/stable/user_guide/indexing.html#returning-a-view-versus-a-copy\n",
      "  return super().rename(\n"
     ]
    }
   ],
   "source": [
    "df1.rename(columns={'nutrition-score-fr_100g': 'nutriscore', 'nutriscore_grade': 'nutrigrade' }, inplace=True)"
   ]
  },
  {
   "cell_type": "code",
   "execution_count": 127,
   "metadata": {},
   "outputs": [],
   "source": [
    "df1 = df1.drop(['additives_n', 'ecoscore_score_fr', 'Unnamed: 0'], axis=1)"
   ]
  },
  {
   "cell_type": "code",
   "execution_count": 128,
   "metadata": {},
   "outputs": [],
   "source": [
    "#df1.to_csv('def_short.csv')"
   ]
  },
  {
   "cell_type": "markdown",
   "metadata": {},
   "source": [
    "La première méthode nous donne un jeu de données de 280462 lignes et 19 colonnes avec 9% de données manquantes.\n"
   ]
  },
  {
   "cell_type": "markdown",
   "metadata": {},
   "source": [
    "### B, Par regression <a class='anchor' id='IIIB'></a>"
   ]
  },
  {
   "cell_type": "markdown",
   "metadata": {},
   "source": [
    "Pour les regression, nous allons essayer de voir la correlation de chaque variable numérique avec la variable nutriscore."
   ]
  },
  {
   "cell_type": "code",
   "execution_count": 129,
   "metadata": {},
   "outputs": [],
   "source": [
    "nutri = ['energy-kj_100g', 'fat_100g', 'saturated-fat_100g', 'carbohydrates_100g', 'sugars_100g', 'proteins_100g', 'salt_100g', 'nutrition-score-fr_100g']"
   ]
  },
  {
   "cell_type": "code",
   "execution_count": 130,
   "metadata": {
    "scrolled": false
   },
   "outputs": [
    {
     "name": "stdout",
     "output_type": "stream",
     "text": [
      "energy-kj_100g\n",
      "                         nutrition-score-fr_100g  energy-kj_100g\n",
      "nutrition-score-fr_100g                 1.000000        0.579182\n",
      "energy-kj_100g                          0.579182        1.000000\n",
      "-------------------------------------------------------\n",
      "fat_100g\n",
      "                         nutrition-score-fr_100g  fat_100g\n",
      "nutrition-score-fr_100g                   1.0000    0.5045\n",
      "fat_100g                                  0.5045    1.0000\n",
      "-------------------------------------------------------\n",
      "saturated-fat_100g\n",
      "                         nutrition-score-fr_100g  saturated-fat_100g\n",
      "nutrition-score-fr_100g                 1.000000            0.584797\n",
      "saturated-fat_100g                      0.584797            1.000000\n",
      "-------------------------------------------------------\n",
      "carbohydrates_100g\n",
      "                         nutrition-score-fr_100g  carbohydrates_100g\n",
      "nutrition-score-fr_100g                 1.000000            0.216604\n",
      "carbohydrates_100g                      0.216604            1.000000\n",
      "-------------------------------------------------------\n",
      "sugars_100g\n",
      "                         nutrition-score-fr_100g  sugars_100g\n",
      "nutrition-score-fr_100g                 1.000000     0.380878\n",
      "sugars_100g                             0.380878     1.000000\n",
      "-------------------------------------------------------\n",
      "proteins_100g\n",
      "                         nutrition-score-fr_100g  proteins_100g\n",
      "nutrition-score-fr_100g                 1.000000       0.085813\n",
      "proteins_100g                           0.085813       1.000000\n",
      "-------------------------------------------------------\n",
      "salt_100g\n",
      "                         nutrition-score-fr_100g  salt_100g\n",
      "nutrition-score-fr_100g                 1.000000   0.183238\n",
      "salt_100g                               0.183238   1.000000\n",
      "-------------------------------------------------------\n",
      "nutrition-score-fr_100g\n",
      "                         nutrition-score-fr_100g  nutrition-score-fr_100g\n",
      "nutrition-score-fr_100g                      1.0                      1.0\n",
      "nutrition-score-fr_100g                      1.0                      1.0\n",
      "-------------------------------------------------------\n"
     ]
    }
   ],
   "source": [
    "for c in nutri:\n",
    "    if df[c].dtypes == 'float':\n",
    "        dft = df.loc[:,['nutrition-score-fr_100g', c]]\n",
    "        dft.dropna(inplace=True)\n",
    "        matrix = dft.corr(method='pearson')\n",
    "        print(c)\n",
    "        print(matrix)\n",
    "        print('-------------------------------------------------------')"
   ]
  },
  {
   "cell_type": "markdown",
   "metadata": {},
   "source": [
    "Dans un premier temps nous allons créer un jeu de donnée sans valeurs nulles que nous allons subdiviser en jeu d'entrainement et jeu de test afin d'exercer notre modèle. "
   ]
  },
  {
   "cell_type": "code",
   "execution_count": 131,
   "metadata": {},
   "outputs": [],
   "source": [
    "nutri.append('nutriscore_grade')"
   ]
  },
  {
   "cell_type": "code",
   "execution_count": 132,
   "metadata": {},
   "outputs": [],
   "source": [
    "reg_df = df.loc[:,nutri]"
   ]
  },
  {
   "cell_type": "code",
   "execution_count": 133,
   "metadata": {},
   "outputs": [],
   "source": [
    "reg_df.dropna(inplace=True)"
   ]
  },
  {
   "cell_type": "code",
   "execution_count": 134,
   "metadata": {},
   "outputs": [],
   "source": [
    "X = reg_df.iloc[:,:-2].values\n",
    "y = reg_df['nutrition-score-fr_100g'].values"
   ]
  },
  {
   "cell_type": "code",
   "execution_count": 135,
   "metadata": {},
   "outputs": [],
   "source": [
    "from sklearn.model_selection import train_test_split"
   ]
  },
  {
   "cell_type": "code",
   "execution_count": 136,
   "metadata": {},
   "outputs": [],
   "source": [
    "rand_n = np.random.randint(15)"
   ]
  },
  {
   "cell_type": "code",
   "execution_count": 137,
   "metadata": {},
   "outputs": [],
   "source": [
    "X_train, X_test, y_train, y_test = train_test_split(X, y, test_size=0.2, random_state=rand_n)"
   ]
  },
  {
   "cell_type": "markdown",
   "metadata": {},
   "source": [
    "Nous allons essayer une regression linéaire et une regression KNN"
   ]
  },
  {
   "cell_type": "markdown",
   "metadata": {},
   "source": [
    "#### Regression linéaire"
   ]
  },
  {
   "cell_type": "code",
   "execution_count": 138,
   "metadata": {},
   "outputs": [],
   "source": [
    "from sklearn.linear_model import LinearRegression"
   ]
  },
  {
   "cell_type": "code",
   "execution_count": 139,
   "metadata": {},
   "outputs": [],
   "source": [
    "reg = LinearRegression()"
   ]
  },
  {
   "cell_type": "code",
   "execution_count": 140,
   "metadata": {},
   "outputs": [
    {
     "data": {
      "text/plain": [
       "LinearRegression()"
      ]
     },
     "execution_count": 140,
     "metadata": {},
     "output_type": "execute_result"
    }
   ],
   "source": [
    "reg.fit(X_train, y_train)"
   ]
  },
  {
   "cell_type": "code",
   "execution_count": 141,
   "metadata": {},
   "outputs": [],
   "source": [
    "y_pred = reg.predict(X_test)"
   ]
  },
  {
   "cell_type": "code",
   "execution_count": 142,
   "metadata": {},
   "outputs": [
    {
     "data": {
      "text/plain": [
       "0.5738120751619129"
      ]
     },
     "execution_count": 142,
     "metadata": {},
     "output_type": "execute_result"
    }
   ],
   "source": [
    "reg.score(X_test, y_test)"
   ]
  },
  {
   "cell_type": "code",
   "execution_count": 143,
   "metadata": {},
   "outputs": [],
   "source": [
    "from sklearn import metrics"
   ]
  },
  {
   "cell_type": "code",
   "execution_count": 144,
   "metadata": {},
   "outputs": [
    {
     "data": {
      "text/plain": [
       "5.721816728186446"
      ]
     },
     "execution_count": 144,
     "metadata": {},
     "output_type": "execute_result"
    }
   ],
   "source": [
    "#RMSE\n",
    "rmse = np.sqrt(metrics.mean_squared_error(y_test, y_pred))\n",
    "rmse"
   ]
  },
  {
   "cell_type": "code",
   "execution_count": 145,
   "metadata": {},
   "outputs": [
    {
     "data": {
      "text/plain": [
       "0.11003493708050857"
      ]
     },
     "execution_count": 145,
     "metadata": {},
     "output_type": "execute_result"
    }
   ],
   "source": [
    "rmse / (y_test.max() - y_test.min())"
   ]
  },
  {
   "cell_type": "code",
   "execution_count": 146,
   "metadata": {},
   "outputs": [],
   "source": [
    "df_pred = pd.DataFrame(list(zip(y_test, y_pred)), columns=['y_test', 'y_pred'])"
   ]
  },
  {
   "cell_type": "code",
   "execution_count": 147,
   "metadata": {},
   "outputs": [],
   "source": [
    "df_pred['diff'] = df_pred.y_test - df_pred.y_pred"
   ]
  },
  {
   "cell_type": "code",
   "execution_count": 148,
   "metadata": {
    "scrolled": false
   },
   "outputs": [
    {
     "data": {
      "text/html": [
       "<div>\n",
       "<style scoped>\n",
       "    .dataframe tbody tr th:only-of-type {\n",
       "        vertical-align: middle;\n",
       "    }\n",
       "\n",
       "    .dataframe tbody tr th {\n",
       "        vertical-align: top;\n",
       "    }\n",
       "\n",
       "    .dataframe thead th {\n",
       "        text-align: right;\n",
       "    }\n",
       "</style>\n",
       "<table border=\"1\" class=\"dataframe\">\n",
       "  <thead>\n",
       "    <tr style=\"text-align: right;\">\n",
       "      <th></th>\n",
       "      <th>y_test</th>\n",
       "      <th>y_pred</th>\n",
       "      <th>diff</th>\n",
       "    </tr>\n",
       "  </thead>\n",
       "  <tbody>\n",
       "    <tr>\n",
       "      <th>54302</th>\n",
       "      <td>19.0</td>\n",
       "      <td>98.882789</td>\n",
       "      <td>-79.882789</td>\n",
       "    </tr>\n",
       "    <tr>\n",
       "      <th>43426</th>\n",
       "      <td>10.0</td>\n",
       "      <td>81.947938</td>\n",
       "      <td>-71.947938</td>\n",
       "    </tr>\n",
       "    <tr>\n",
       "      <th>34784</th>\n",
       "      <td>10.0</td>\n",
       "      <td>80.324387</td>\n",
       "      <td>-70.324387</td>\n",
       "    </tr>\n",
       "    <tr>\n",
       "      <th>36705</th>\n",
       "      <td>27.0</td>\n",
       "      <td>95.406889</td>\n",
       "      <td>-68.406889</td>\n",
       "    </tr>\n",
       "    <tr>\n",
       "      <th>23730</th>\n",
       "      <td>13.0</td>\n",
       "      <td>78.082201</td>\n",
       "      <td>-65.082201</td>\n",
       "    </tr>\n",
       "    <tr>\n",
       "      <th>...</th>\n",
       "      <td>...</td>\n",
       "      <td>...</td>\n",
       "      <td>...</td>\n",
       "    </tr>\n",
       "    <tr>\n",
       "      <th>40196</th>\n",
       "      <td>28.0</td>\n",
       "      <td>7.664951</td>\n",
       "      <td>20.335049</td>\n",
       "    </tr>\n",
       "    <tr>\n",
       "      <th>54982</th>\n",
       "      <td>30.0</td>\n",
       "      <td>8.802739</td>\n",
       "      <td>21.197261</td>\n",
       "    </tr>\n",
       "    <tr>\n",
       "      <th>51791</th>\n",
       "      <td>29.0</td>\n",
       "      <td>7.177038</td>\n",
       "      <td>21.822962</td>\n",
       "    </tr>\n",
       "    <tr>\n",
       "      <th>19390</th>\n",
       "      <td>24.0</td>\n",
       "      <td>1.834842</td>\n",
       "      <td>22.165158</td>\n",
       "    </tr>\n",
       "    <tr>\n",
       "      <th>15940</th>\n",
       "      <td>25.0</td>\n",
       "      <td>1.573336</td>\n",
       "      <td>23.426664</td>\n",
       "    </tr>\n",
       "  </tbody>\n",
       "</table>\n",
       "<p>55951 rows × 3 columns</p>\n",
       "</div>"
      ],
      "text/plain": [
       "       y_test     y_pred       diff\n",
       "54302    19.0  98.882789 -79.882789\n",
       "43426    10.0  81.947938 -71.947938\n",
       "34784    10.0  80.324387 -70.324387\n",
       "36705    27.0  95.406889 -68.406889\n",
       "23730    13.0  78.082201 -65.082201\n",
       "...       ...        ...        ...\n",
       "40196    28.0   7.664951  20.335049\n",
       "54982    30.0   8.802739  21.197261\n",
       "51791    29.0   7.177038  21.822962\n",
       "19390    24.0   1.834842  22.165158\n",
       "15940    25.0   1.573336  23.426664\n",
       "\n",
       "[55951 rows x 3 columns]"
      ]
     },
     "execution_count": 148,
     "metadata": {},
     "output_type": "execute_result"
    }
   ],
   "source": [
    "df_pred.sort_values(by='diff')"
   ]
  },
  {
   "cell_type": "markdown",
   "metadata": {},
   "source": [
    "#### Regression KNN"
   ]
  },
  {
   "cell_type": "code",
   "execution_count": 149,
   "metadata": {},
   "outputs": [],
   "source": [
    "from sklearn.neighbors import KNeighborsClassifier, KNeighborsRegressor"
   ]
  },
  {
   "cell_type": "code",
   "execution_count": 150,
   "metadata": {},
   "outputs": [],
   "source": [
    "knnR = KNeighborsRegressor()"
   ]
  },
  {
   "cell_type": "code",
   "execution_count": 151,
   "metadata": {},
   "outputs": [
    {
     "data": {
      "text/plain": [
       "KNeighborsRegressor()"
      ]
     },
     "execution_count": 151,
     "metadata": {},
     "output_type": "execute_result"
    }
   ],
   "source": [
    "knnR.fit(X_train, y_train)"
   ]
  },
  {
   "cell_type": "code",
   "execution_count": 152,
   "metadata": {},
   "outputs": [],
   "source": [
    "y_pred_K = knnR.predict(X_test)"
   ]
  },
  {
   "cell_type": "code",
   "execution_count": 153,
   "metadata": {},
   "outputs": [],
   "source": [
    "df_pred['pred_knnR'] = y_pred_K"
   ]
  },
  {
   "cell_type": "code",
   "execution_count": 154,
   "metadata": {},
   "outputs": [],
   "source": [
    "df_pred['diffK'] = df_pred.y_pred - df_pred.pred_knnR"
   ]
  },
  {
   "cell_type": "code",
   "execution_count": 155,
   "metadata": {
    "scrolled": true
   },
   "outputs": [
    {
     "data": {
      "text/html": [
       "<div>\n",
       "<style scoped>\n",
       "    .dataframe tbody tr th:only-of-type {\n",
       "        vertical-align: middle;\n",
       "    }\n",
       "\n",
       "    .dataframe tbody tr th {\n",
       "        vertical-align: top;\n",
       "    }\n",
       "\n",
       "    .dataframe thead th {\n",
       "        text-align: right;\n",
       "    }\n",
       "</style>\n",
       "<table border=\"1\" class=\"dataframe\">\n",
       "  <thead>\n",
       "    <tr style=\"text-align: right;\">\n",
       "      <th></th>\n",
       "      <th>y_test</th>\n",
       "      <th>y_pred</th>\n",
       "      <th>diff</th>\n",
       "      <th>pred_knnR</th>\n",
       "      <th>diffK</th>\n",
       "    </tr>\n",
       "  </thead>\n",
       "  <tbody>\n",
       "    <tr>\n",
       "      <th>count</th>\n",
       "      <td>55951.000000</td>\n",
       "      <td>55951.000000</td>\n",
       "      <td>55951.000000</td>\n",
       "      <td>55951.000000</td>\n",
       "      <td>55951.000000</td>\n",
       "    </tr>\n",
       "    <tr>\n",
       "      <th>mean</th>\n",
       "      <td>9.531840</td>\n",
       "      <td>9.515814</td>\n",
       "      <td>0.016027</td>\n",
       "      <td>9.453275</td>\n",
       "      <td>0.062539</td>\n",
       "    </tr>\n",
       "    <tr>\n",
       "      <th>std</th>\n",
       "      <td>8.764704</td>\n",
       "      <td>6.620686</td>\n",
       "      <td>5.721845</td>\n",
       "      <td>8.258204</td>\n",
       "      <td>5.128233</td>\n",
       "    </tr>\n",
       "    <tr>\n",
       "      <th>min</th>\n",
       "      <td>-15.000000</td>\n",
       "      <td>-2.658122</td>\n",
       "      <td>-79.882789</td>\n",
       "      <td>-11.000000</td>\n",
       "      <td>-14.952926</td>\n",
       "    </tr>\n",
       "    <tr>\n",
       "      <th>25%</th>\n",
       "      <td>2.000000</td>\n",
       "      <td>4.168450</td>\n",
       "      <td>-3.692914</td>\n",
       "      <td>2.400000</td>\n",
       "      <td>-3.754840</td>\n",
       "    </tr>\n",
       "    <tr>\n",
       "      <th>50%</th>\n",
       "      <td>10.000000</td>\n",
       "      <td>7.935736</td>\n",
       "      <td>-0.225562</td>\n",
       "      <td>9.400000</td>\n",
       "      <td>0.255951</td>\n",
       "    </tr>\n",
       "    <tr>\n",
       "      <th>75%</th>\n",
       "      <td>16.000000</td>\n",
       "      <td>13.767010</td>\n",
       "      <td>4.410586</td>\n",
       "      <td>15.600000</td>\n",
       "      <td>3.283946</td>\n",
       "    </tr>\n",
       "    <tr>\n",
       "      <th>max</th>\n",
       "      <td>37.000000</td>\n",
       "      <td>98.882789</td>\n",
       "      <td>23.426664</td>\n",
       "      <td>31.000000</td>\n",
       "      <td>76.682789</td>\n",
       "    </tr>\n",
       "  </tbody>\n",
       "</table>\n",
       "</div>"
      ],
      "text/plain": [
       "             y_test        y_pred          diff     pred_knnR         diffK\n",
       "count  55951.000000  55951.000000  55951.000000  55951.000000  55951.000000\n",
       "mean       9.531840      9.515814      0.016027      9.453275      0.062539\n",
       "std        8.764704      6.620686      5.721845      8.258204      5.128233\n",
       "min      -15.000000     -2.658122    -79.882789    -11.000000    -14.952926\n",
       "25%        2.000000      4.168450     -3.692914      2.400000     -3.754840\n",
       "50%       10.000000      7.935736     -0.225562      9.400000      0.255951\n",
       "75%       16.000000     13.767010      4.410586     15.600000      3.283946\n",
       "max       37.000000     98.882789     23.426664     31.000000     76.682789"
      ]
     },
     "execution_count": 155,
     "metadata": {},
     "output_type": "execute_result"
    }
   ],
   "source": [
    "df_pred.describe()"
   ]
  },
  {
   "cell_type": "code",
   "execution_count": 156,
   "metadata": {},
   "outputs": [
    {
     "data": {
      "text/plain": [
       "0.8411737620097692"
      ]
     },
     "execution_count": 156,
     "metadata": {},
     "output_type": "execute_result"
    }
   ],
   "source": [
    "knnR.score(X_test, y_test)"
   ]
  },
  {
   "cell_type": "code",
   "execution_count": 157,
   "metadata": {},
   "outputs": [
    {
     "data": {
      "image/png": "[encoded data removed]",
      "text/plain": [
       "<Figure size 432x288 with 1 Axes>"
      ]
     },
     "metadata": {
      "needs_background": "light"
     },
     "output_type": "display_data"
    }
   ],
   "source": [
    "sns.boxplot(x='diffK', data=df_pred)\n",
    "plt.show()"
   ]
  },
  {
   "cell_type": "code",
   "execution_count": 158,
   "metadata": {},
   "outputs": [
    {
     "data": {
      "image/png": "[encoded data removed]",
      "text/plain": [
       "<Figure size 432x288 with 1 Axes>"
      ]
     },
     "metadata": {
      "needs_background": "light"
     },
     "output_type": "display_data"
    }
   ],
   "source": [
    "sns.boxplot(x='diff', data=df_pred)\n",
    "plt.show()"
   ]
  },
  {
   "cell_type": "code",
   "execution_count": null,
   "metadata": {},
   "outputs": [],
   "source": []
  },
  {
   "cell_type": "markdown",
   "metadata": {},
   "source": [
    "### C, Par classification <a class='anchor' id='IIIC'></a>"
   ]
  },
  {
   "cell_type": "code",
   "execution_count": 159,
   "metadata": {},
   "outputs": [],
   "source": [
    "knn = KNeighborsClassifier(n_neighbors=5)"
   ]
  },
  {
   "cell_type": "code",
   "execution_count": 160,
   "metadata": {},
   "outputs": [],
   "source": [
    "y = reg_df['nutriscore_grade'].values"
   ]
  },
  {
   "cell_type": "code",
   "execution_count": 161,
   "metadata": {},
   "outputs": [],
   "source": [
    "X_train, X_test, y_train, y_test = train_test_split(X, y, test_size=0.2, random_state=rand_n)"
   ]
  },
  {
   "cell_type": "code",
   "execution_count": 162,
   "metadata": {},
   "outputs": [
    {
     "data": {
      "text/plain": [
       "KNeighborsClassifier()"
      ]
     },
     "execution_count": 162,
     "metadata": {},
     "output_type": "execute_result"
    }
   ],
   "source": [
    "knn.fit(X_train, y_train)"
   ]
  },
  {
   "cell_type": "code",
   "execution_count": 163,
   "metadata": {},
   "outputs": [
    {
     "data": {
      "text/plain": [
       "0.2807635252274312"
      ]
     },
     "execution_count": 163,
     "metadata": {},
     "output_type": "execute_result"
    }
   ],
   "source": [
    "error = 1 - knn.score(X_test, y_test)\n",
    "error"
   ]
  },
  {
   "cell_type": "code",
   "execution_count": 164,
   "metadata": {},
   "outputs": [],
   "source": [
    "y_pred = knn.predict(X_test)"
   ]
  },
  {
   "cell_type": "code",
   "execution_count": null,
   "metadata": {},
   "outputs": [],
   "source": []
  },
  {
   "cell_type": "code",
   "execution_count": null,
   "metadata": {},
   "outputs": [],
   "source": []
  },
  {
   "cell_type": "markdown",
   "metadata": {},
   "source": [
    "### D, Comparaison <a class='anchor' id='IIID'></a>"
   ]
  },
  {
   "cell_type": "code",
   "execution_count": 165,
   "metadata": {},
   "outputs": [],
   "source": [
    "verif = pd.DataFrame(X_test, columns=nutri[:-2])"
   ]
  },
  {
   "cell_type": "code",
   "execution_count": 166,
   "metadata": {},
   "outputs": [],
   "source": [
    "y_conv = []\n",
    "for v in y_pred_K:\n",
    "    if v < 0:\n",
    "        y_conv.append('a')\n",
    "    elif v < 3:\n",
    "        y_conv.append('b')\n",
    "    elif v < 11 :\n",
    "        y_conv.append('c')\n",
    "    elif v < 19 :\n",
    "        y_conv.append('d')\n",
    "    else :\n",
    "        y_conv.append('e')"
   ]
  },
  {
   "cell_type": "code",
   "execution_count": 167,
   "metadata": {},
   "outputs": [],
   "source": [
    "verif['y_pred_R'] = y_conv\n",
    "verif['y_pred_C'] = y_pred\n",
    "verif['y_test'] = y_test"
   ]
  },
  {
   "cell_type": "code",
   "execution_count": 168,
   "metadata": {},
   "outputs": [
    {
     "data": {
      "text/html": [
       "<div>\n",
       "<style scoped>\n",
       "    .dataframe tbody tr th:only-of-type {\n",
       "        vertical-align: middle;\n",
       "    }\n",
       "\n",
       "    .dataframe tbody tr th {\n",
       "        vertical-align: top;\n",
       "    }\n",
       "\n",
       "    .dataframe thead th {\n",
       "        text-align: right;\n",
       "    }\n",
       "</style>\n",
       "<table border=\"1\" class=\"dataframe\">\n",
       "  <thead>\n",
       "    <tr style=\"text-align: right;\">\n",
       "      <th></th>\n",
       "      <th>energy-kj_100g</th>\n",
       "      <th>fat_100g</th>\n",
       "      <th>saturated-fat_100g</th>\n",
       "      <th>carbohydrates_100g</th>\n",
       "      <th>sugars_100g</th>\n",
       "      <th>proteins_100g</th>\n",
       "      <th>salt_100g</th>\n",
       "      <th>y_pred_R</th>\n",
       "      <th>y_pred_C</th>\n",
       "      <th>y_test</th>\n",
       "    </tr>\n",
       "  </thead>\n",
       "  <tbody>\n",
       "    <tr>\n",
       "      <th>0</th>\n",
       "      <td>1578.4236</td>\n",
       "      <td>29.0</td>\n",
       "      <td>19.5</td>\n",
       "      <td>2.0</td>\n",
       "      <td>2.0</td>\n",
       "      <td>27.0</td>\n",
       "      <td>0.900</td>\n",
       "      <td>d</td>\n",
       "      <td>d</td>\n",
       "      <td>d</td>\n",
       "    </tr>\n",
       "    <tr>\n",
       "      <th>1</th>\n",
       "      <td>1955.2356</td>\n",
       "      <td>17.5</td>\n",
       "      <td>10.0</td>\n",
       "      <td>68.6</td>\n",
       "      <td>36.3</td>\n",
       "      <td>6.7</td>\n",
       "      <td>0.520</td>\n",
       "      <td>e</td>\n",
       "      <td>e</td>\n",
       "      <td>e</td>\n",
       "    </tr>\n",
       "    <tr>\n",
       "      <th>2</th>\n",
       "      <td>180.0324</td>\n",
       "      <td>0.5</td>\n",
       "      <td>0.1</td>\n",
       "      <td>10.0</td>\n",
       "      <td>10.0</td>\n",
       "      <td>0.5</td>\n",
       "      <td>0.010</td>\n",
       "      <td>c</td>\n",
       "      <td>c</td>\n",
       "      <td>c</td>\n",
       "    </tr>\n",
       "    <tr>\n",
       "      <th>3</th>\n",
       "      <td>1339.7760</td>\n",
       "      <td>0.0</td>\n",
       "      <td>0.0</td>\n",
       "      <td>75.0</td>\n",
       "      <td>0.0</td>\n",
       "      <td>0.8</td>\n",
       "      <td>0.000</td>\n",
       "      <td>c</td>\n",
       "      <td>c</td>\n",
       "      <td>c</td>\n",
       "    </tr>\n",
       "    <tr>\n",
       "      <th>4</th>\n",
       "      <td>1256.0000</td>\n",
       "      <td>18.8</td>\n",
       "      <td>6.9</td>\n",
       "      <td>16.4</td>\n",
       "      <td>3.3</td>\n",
       "      <td>16.6</td>\n",
       "      <td>0.632</td>\n",
       "      <td>d</td>\n",
       "      <td>d</td>\n",
       "      <td>d</td>\n",
       "    </tr>\n",
       "  </tbody>\n",
       "</table>\n",
       "</div>"
      ],
      "text/plain": [
       "   energy-kj_100g  fat_100g  saturated-fat_100g  carbohydrates_100g  \\\n",
       "0       1578.4236      29.0                19.5                 2.0   \n",
       "1       1955.2356      17.5                10.0                68.6   \n",
       "2        180.0324       0.5                 0.1                10.0   \n",
       "3       1339.7760       0.0                 0.0                75.0   \n",
       "4       1256.0000      18.8                 6.9                16.4   \n",
       "\n",
       "   sugars_100g  proteins_100g  salt_100g y_pred_R y_pred_C y_test  \n",
       "0          2.0           27.0      0.900        d        d      d  \n",
       "1         36.3            6.7      0.520        e        e      e  \n",
       "2         10.0            0.5      0.010        c        c      c  \n",
       "3          0.0            0.8      0.000        c        c      c  \n",
       "4          3.3           16.6      0.632        d        d      d  "
      ]
     },
     "execution_count": 168,
     "metadata": {},
     "output_type": "execute_result"
    }
   ],
   "source": [
    "verif.head()"
   ]
  },
  {
   "cell_type": "code",
   "execution_count": null,
   "metadata": {},
   "outputs": [],
   "source": []
  },
  {
   "cell_type": "code",
   "execution_count": 169,
   "metadata": {},
   "outputs": [],
   "source": [
    "cf_matrix_R = metrics.confusion_matrix(verif.y_test.values, verif.y_pred_R.values, normalize='true')\n",
    "cf_matrix_C = metrics.confusion_matrix(verif.y_test.values, verif.y_pred_C.values, normalize='true')"
   ]
  },
  {
   "cell_type": "code",
   "execution_count": null,
   "metadata": {},
   "outputs": [],
   "source": []
  },
  {
   "cell_type": "code",
   "execution_count": 170,
   "metadata": {},
   "outputs": [
    {
     "data": {
      "text/plain": [
       "array([[6.74811782e-01, 2.14898957e-01, 9.94584599e-02, 1.08308017e-02,\n",
       "        0.00000000e+00],\n",
       "       [1.90922680e-01, 5.54966707e-01, 2.32232640e-01, 2.14703085e-02,\n",
       "        4.07664085e-04],\n",
       "       [3.29435019e-02, 1.74600560e-01, 6.83742382e-01, 1.06078076e-01,\n",
       "        2.63548015e-03],\n",
       "       [5.82941876e-03, 1.56205784e-02, 2.29384798e-01, 7.04114551e-01,\n",
       "        4.50506537e-02],\n",
       "       [5.35236396e-03, 9.45584300e-03, 7.90365745e-02, 2.06512043e-01,\n",
       "        6.99643176e-01]])"
      ]
     },
     "execution_count": 170,
     "metadata": {},
     "output_type": "execute_result"
    }
   ],
   "source": [
    "cf_matrix_R"
   ]
  },
  {
   "cell_type": "code",
   "execution_count": 171,
   "metadata": {},
   "outputs": [
    {
     "data": {
      "image/png": "[encoded data removed]",
      "text/plain": [
       "<Figure size 432x288 with 2 Axes>"
      ]
     },
     "metadata": {
      "needs_background": "light"
     },
     "output_type": "display_data"
    }
   ],
   "source": [
    "sns.heatmap(cf_matrix_R, annot=True, xticklabels=['a', 'b', 'c', 'd', 'e'], yticklabels=['a', 'b', 'c', 'd', 'e'])\n",
    "plt.savefig(\"matrice_correlation_regression_nombre.png\", bbox_inches='tight', transparent=True)\n",
    "plt.show()"
   ]
  },
  {
   "cell_type": "code",
   "execution_count": 172,
   "metadata": {},
   "outputs": [
    {
     "data": {
      "image/png": "[encoded data removed]",
      "text/plain": [
       "<Figure size 432x288 with 2 Axes>"
      ]
     },
     "metadata": {
      "needs_background": "light"
     },
     "output_type": "display_data"
    }
   ],
   "source": [
    "sns.heatmap(cf_matrix_R/np.sum(cf_matrix_R), annot=True, fmt='.1%', cmap='Blues',xticklabels=['a', 'b', 'c', 'd', 'e'], yticklabels=['a', 'b', 'c', 'd', 'e'])\n",
    "plt.savefig(\"matrice_correlation_regression_%.png\", bbox_inches='tight', transparent=True)\n",
    "plt.show()"
   ]
  },
  {
   "cell_type": "code",
   "execution_count": null,
   "metadata": {},
   "outputs": [],
   "source": []
  },
  {
   "cell_type": "code",
   "execution_count": 173,
   "metadata": {},
   "outputs": [
    {
     "data": {
      "image/png": "[encoded data removed]",
      "text/plain": [
       "<Figure size 432x288 with 2 Axes>"
      ]
     },
     "metadata": {
      "needs_background": "light"
     },
     "output_type": "display_data"
    }
   ],
   "source": [
    "sns.heatmap(cf_matrix_C, annot=True,xticklabels=['a', 'b', 'c', 'd', 'e'], yticklabels=['a', 'b', 'c', 'd', 'e'])\n",
    "plt.savefig(\"matrice_correlation_classification_nombre.png\", bbox_inches='tight', transparent=True)\n",
    "plt.show()"
   ]
  },
  {
   "cell_type": "code",
   "execution_count": 174,
   "metadata": {},
   "outputs": [
    {
     "data": {
      "image/png": "[encoded data removed]",
      "text/plain": [
       "<Figure size 432x288 with 2 Axes>"
      ]
     },
     "metadata": {
      "needs_background": "light"
     },
     "output_type": "display_data"
    }
   ],
   "source": [
    "sns.heatmap(cf_matrix_C/np.sum(cf_matrix_C), annot=True, fmt='.1%', cmap='Blues',xticklabels=['a', 'b', 'c', 'd', 'e'], yticklabels=['a', 'b', 'c', 'd', 'e'])\n",
    "plt.savefig(\"matrice_correlation_classification_%.png\", bbox_inches='tight', transparent=True)\n",
    "plt.show()"
   ]
  },
  {
   "cell_type": "markdown",
   "metadata": {},
   "source": [
    "La première méthode, par suppression, est celle qui produit les données les plus fiables. <br/>\n",
    "Néanmoins, le jeu de donnée final contient 2 fois  moins de références que pour les autres méthodes.\n",
    "\n",
    "Il apparaît que les deux méthodes (par regression et par classification) donnent des résultats comparables.<br/>\n",
    "Néanmoins, la méthode par classification est celle qui a les meilleurs résultats. Aussi, nous allons nous en servir pour remplir le jeu de données."
   ]
  },
  {
   "cell_type": "code",
   "execution_count": 175,
   "metadata": {},
   "outputs": [],
   "source": [
    "cf_matrix = metrics.confusion_matrix(verif.y_pred_R.values, verif.y_pred_C.values)"
   ]
  },
  {
   "cell_type": "code",
   "execution_count": 176,
   "metadata": {},
   "outputs": [
    {
     "name": "stdout",
     "output_type": "stream",
     "text": [
      "78.0 % soit le taux de corrélation entre la regression et la classification KNN\n"
     ]
    }
   ],
   "source": [
    "verif = 0\n",
    "for n in range(0, len(cf_matrix)):\n",
    "    verif += cf_matrix[n,n]\n",
    "verif = verif / cf_matrix.sum()\n",
    "print(round(verif*100,0), \"% soit le taux de corrélation entre la regression et la classification KNN\")"
   ]
  },
  {
   "cell_type": "code",
   "execution_count": 177,
   "metadata": {},
   "outputs": [
    {
     "data": {
      "text/plain": [
       "['energy-kj_100g',\n",
       " 'fat_100g',\n",
       " 'saturated-fat_100g',\n",
       " 'carbohydrates_100g',\n",
       " 'sugars_100g',\n",
       " 'proteins_100g',\n",
       " 'salt_100g']"
      ]
     },
     "execution_count": 177,
     "metadata": {},
     "output_type": "execute_result"
    }
   ],
   "source": [
    "nutri_values = nutri[:-2]\n",
    "nutri_values"
   ]
  },
  {
   "cell_type": "code",
   "execution_count": 178,
   "metadata": {},
   "outputs": [],
   "source": [
    "df1 = df.dropna(subset=nutri_values)"
   ]
  },
  {
   "cell_type": "code",
   "execution_count": 179,
   "metadata": {},
   "outputs": [],
   "source": [
    "df1.reset_index(inplace=True, drop=True)"
   ]
  },
  {
   "cell_type": "code",
   "execution_count": 180,
   "metadata": {},
   "outputs": [],
   "source": [
    "df2 = df1.loc[:,nutri]"
   ]
  },
  {
   "cell_type": "code",
   "execution_count": 181,
   "metadata": {},
   "outputs": [],
   "source": [
    "X = df2.iloc[:,:-2].values"
   ]
  },
  {
   "cell_type": "code",
   "execution_count": 182,
   "metadata": {},
   "outputs": [],
   "source": [
    "df2['nutriscore_pred'] = knnR.predict(X)\n",
    "df2['nutrigrad_pred'] = knn.predict(X)"
   ]
  },
  {
   "cell_type": "code",
   "execution_count": 183,
   "metadata": {},
   "outputs": [
    {
     "data": {
      "text/plain": [
       "(579131, 11)"
      ]
     },
     "execution_count": 183,
     "metadata": {},
     "output_type": "execute_result"
    }
   ],
   "source": [
    "df2.shape"
   ]
  },
  {
   "cell_type": "code",
   "execution_count": 184,
   "metadata": {},
   "outputs": [
    {
     "data": {
      "text/plain": [
       "(627332, 19)"
      ]
     },
     "execution_count": 184,
     "metadata": {},
     "output_type": "execute_result"
    }
   ],
   "source": [
    "df.shape"
   ]
  },
  {
   "cell_type": "code",
   "execution_count": 185,
   "metadata": {
    "scrolled": true
   },
   "outputs": [
    {
     "data": {
      "text/html": [
       "<div>\n",
       "<style scoped>\n",
       "    .dataframe tbody tr th:only-of-type {\n",
       "        vertical-align: middle;\n",
       "    }\n",
       "\n",
       "    .dataframe tbody tr th {\n",
       "        vertical-align: top;\n",
       "    }\n",
       "\n",
       "    .dataframe thead th {\n",
       "        text-align: right;\n",
       "    }\n",
       "</style>\n",
       "<table border=\"1\" class=\"dataframe\">\n",
       "  <thead>\n",
       "    <tr style=\"text-align: right;\">\n",
       "      <th></th>\n",
       "      <th>energy-kj_100g</th>\n",
       "      <th>fat_100g</th>\n",
       "      <th>saturated-fat_100g</th>\n",
       "      <th>carbohydrates_100g</th>\n",
       "      <th>sugars_100g</th>\n",
       "      <th>proteins_100g</th>\n",
       "      <th>salt_100g</th>\n",
       "      <th>nutrition-score-fr_100g</th>\n",
       "      <th>nutriscore_grade</th>\n",
       "      <th>nutriscore_pred</th>\n",
       "      <th>nutrigrad_pred</th>\n",
       "    </tr>\n",
       "  </thead>\n",
       "  <tbody>\n",
       "    <tr>\n",
       "      <th>0</th>\n",
       "      <td>1570.0500</td>\n",
       "      <td>7.0</td>\n",
       "      <td>3.08</td>\n",
       "      <td>70.1</td>\n",
       "      <td>15.0</td>\n",
       "      <td>7.8</td>\n",
       "      <td>1.40</td>\n",
       "      <td>NaN</td>\n",
       "      <td>NaN</td>\n",
       "      <td>-1.4</td>\n",
       "      <td>a</td>\n",
       "    </tr>\n",
       "    <tr>\n",
       "      <th>1</th>\n",
       "      <td>936.0000</td>\n",
       "      <td>8.2</td>\n",
       "      <td>2.20</td>\n",
       "      <td>29.0</td>\n",
       "      <td>22.0</td>\n",
       "      <td>5.1</td>\n",
       "      <td>4.60</td>\n",
       "      <td>18.0</td>\n",
       "      <td>d</td>\n",
       "      <td>12.2</td>\n",
       "      <td>d</td>\n",
       "    </tr>\n",
       "    <tr>\n",
       "      <th>2</th>\n",
       "      <td>87.9228</td>\n",
       "      <td>0.0</td>\n",
       "      <td>0.00</td>\n",
       "      <td>4.8</td>\n",
       "      <td>0.4</td>\n",
       "      <td>0.2</td>\n",
       "      <td>2.04</td>\n",
       "      <td>NaN</td>\n",
       "      <td>NaN</td>\n",
       "      <td>6.0</td>\n",
       "      <td>c</td>\n",
       "    </tr>\n",
       "    <tr>\n",
       "      <th>3</th>\n",
       "      <td>251.2080</td>\n",
       "      <td>3.0</td>\n",
       "      <td>1.00</td>\n",
       "      <td>10.0</td>\n",
       "      <td>3.0</td>\n",
       "      <td>2.0</td>\n",
       "      <td>1.15</td>\n",
       "      <td>NaN</td>\n",
       "      <td>NaN</td>\n",
       "      <td>3.2</td>\n",
       "      <td>b</td>\n",
       "    </tr>\n",
       "    <tr>\n",
       "      <th>4</th>\n",
       "      <td>263.7684</td>\n",
       "      <td>0.0</td>\n",
       "      <td>0.00</td>\n",
       "      <td>15.5</td>\n",
       "      <td>15.5</td>\n",
       "      <td>0.2</td>\n",
       "      <td>0.00</td>\n",
       "      <td>NaN</td>\n",
       "      <td>NaN</td>\n",
       "      <td>13.0</td>\n",
       "      <td>d</td>\n",
       "    </tr>\n",
       "  </tbody>\n",
       "</table>\n",
       "</div>"
      ],
      "text/plain": [
       "   energy-kj_100g  fat_100g  saturated-fat_100g  carbohydrates_100g  \\\n",
       "0       1570.0500       7.0                3.08                70.1   \n",
       "1        936.0000       8.2                2.20                29.0   \n",
       "2         87.9228       0.0                0.00                 4.8   \n",
       "3        251.2080       3.0                1.00                10.0   \n",
       "4        263.7684       0.0                0.00                15.5   \n",
       "\n",
       "   sugars_100g  proteins_100g  salt_100g  nutrition-score-fr_100g  \\\n",
       "0         15.0            7.8       1.40                      NaN   \n",
       "1         22.0            5.1       4.60                     18.0   \n",
       "2          0.4            0.2       2.04                      NaN   \n",
       "3          3.0            2.0       1.15                      NaN   \n",
       "4         15.5            0.2       0.00                      NaN   \n",
       "\n",
       "  nutriscore_grade  nutriscore_pred nutrigrad_pred  \n",
       "0              NaN             -1.4              a  \n",
       "1                d             12.2              d  \n",
       "2              NaN              6.0              c  \n",
       "3              NaN              3.2              b  \n",
       "4              NaN             13.0              d  "
      ]
     },
     "execution_count": 185,
     "metadata": {},
     "output_type": "execute_result"
    }
   ],
   "source": [
    "df2.head()"
   ]
  },
  {
   "cell_type": "code",
   "execution_count": 186,
   "metadata": {},
   "outputs": [],
   "source": [
    "nutriscore = []\n",
    "for r in range(0, df2.shape[0]):\n",
    "    if np.isnan(df2['nutrition-score-fr_100g'][r]):\n",
    "        nutriscore.append(df2.nutriscore_pred[r])\n",
    "    else :\n",
    "        nutriscore.append(df2['nutrition-score-fr_100g'][r])"
   ]
  },
  {
   "cell_type": "code",
   "execution_count": 187,
   "metadata": {},
   "outputs": [],
   "source": [
    "nutrigrade = []\n",
    "for r in range(0, df2.shape[0]):\n",
    "    if str(df2['nutriscore_grade'][r]) == 'nan':\n",
    "        nutrigrade.append(df2.nutrigrad_pred[r])\n",
    "    else :\n",
    "        nutrigrade.append(df2['nutriscore_grade'][r])"
   ]
  },
  {
   "cell_type": "code",
   "execution_count": 188,
   "metadata": {},
   "outputs": [],
   "source": [
    "df_def = df1.loc[:,['product_name', 'brands', 'categories', 'pnns_groups_1', 'pnns_groups_2', 'image_url', 'energy-kj_100g', 'fat_100g', 'saturated-fat_100g', 'carbohydrates_100g', 'sugars_100g', 'fiber_100g', 'proteins_100g', 'salt_100g']]"
   ]
  },
  {
   "cell_type": "code",
   "execution_count": 189,
   "metadata": {},
   "outputs": [],
   "source": [
    "df_def['nutriscore'] = nutriscore\n",
    "df_def['nutrigrade'] = nutrigrade"
   ]
  },
  {
   "cell_type": "code",
   "execution_count": 190,
   "metadata": {},
   "outputs": [
    {
     "data": {
      "text/html": [
       "<div>\n",
       "<style scoped>\n",
       "    .dataframe tbody tr th:only-of-type {\n",
       "        vertical-align: middle;\n",
       "    }\n",
       "\n",
       "    .dataframe tbody tr th {\n",
       "        vertical-align: top;\n",
       "    }\n",
       "\n",
       "    .dataframe thead th {\n",
       "        text-align: right;\n",
       "    }\n",
       "</style>\n",
       "<table border=\"1\" class=\"dataframe\">\n",
       "  <thead>\n",
       "    <tr style=\"text-align: right;\">\n",
       "      <th></th>\n",
       "      <th>product_name</th>\n",
       "      <th>brands</th>\n",
       "      <th>categories</th>\n",
       "      <th>pnns_groups_1</th>\n",
       "      <th>pnns_groups_2</th>\n",
       "      <th>image_url</th>\n",
       "      <th>energy-kj_100g</th>\n",
       "      <th>fat_100g</th>\n",
       "      <th>saturated-fat_100g</th>\n",
       "      <th>carbohydrates_100g</th>\n",
       "      <th>sugars_100g</th>\n",
       "      <th>fiber_100g</th>\n",
       "      <th>proteins_100g</th>\n",
       "      <th>salt_100g</th>\n",
       "      <th>nutriscore</th>\n",
       "      <th>nutrigrade</th>\n",
       "    </tr>\n",
       "  </thead>\n",
       "  <tbody>\n",
       "    <tr>\n",
       "      <th>0</th>\n",
       "      <td>vitória crackers</td>\n",
       "      <td>NaN</td>\n",
       "      <td>NaN</td>\n",
       "      <td>unknown</td>\n",
       "      <td>unknown</td>\n",
       "      <td>https://images.openfoodfacts.org/images/produc...</td>\n",
       "      <td>1570.0500</td>\n",
       "      <td>7.0</td>\n",
       "      <td>3.08</td>\n",
       "      <td>70.1</td>\n",
       "      <td>15.0</td>\n",
       "      <td>NaN</td>\n",
       "      <td>7.8</td>\n",
       "      <td>1.40</td>\n",
       "      <td>-1.4</td>\n",
       "      <td>a</td>\n",
       "    </tr>\n",
       "    <tr>\n",
       "      <th>1</th>\n",
       "      <td>moutarde au moût de raisin</td>\n",
       "      <td>courte paille</td>\n",
       "      <td>Epicerie, Condiments, Sauces, Moutardes</td>\n",
       "      <td>Fat and sauces</td>\n",
       "      <td>Dressings and sauces</td>\n",
       "      <td>https://images.openfoodfacts.org/images/produc...</td>\n",
       "      <td>936.0000</td>\n",
       "      <td>8.2</td>\n",
       "      <td>2.20</td>\n",
       "      <td>29.0</td>\n",
       "      <td>22.0</td>\n",
       "      <td>0.0</td>\n",
       "      <td>5.1</td>\n",
       "      <td>4.60</td>\n",
       "      <td>18.0</td>\n",
       "      <td>d</td>\n",
       "    </tr>\n",
       "    <tr>\n",
       "      <th>2</th>\n",
       "      <td>sauce sweety chili 0%</td>\n",
       "      <td>NaN</td>\n",
       "      <td>NaN</td>\n",
       "      <td>unknown</td>\n",
       "      <td>unknown</td>\n",
       "      <td>https://images.openfoodfacts.org/images/produc...</td>\n",
       "      <td>87.9228</td>\n",
       "      <td>0.0</td>\n",
       "      <td>0.00</td>\n",
       "      <td>4.8</td>\n",
       "      <td>0.4</td>\n",
       "      <td>NaN</td>\n",
       "      <td>0.2</td>\n",
       "      <td>2.04</td>\n",
       "      <td>6.0</td>\n",
       "      <td>c</td>\n",
       "    </tr>\n",
       "    <tr>\n",
       "      <th>3</th>\n",
       "      <td>mini coco</td>\n",
       "      <td>NaN</td>\n",
       "      <td>NaN</td>\n",
       "      <td>unknown</td>\n",
       "      <td>unknown</td>\n",
       "      <td>https://images.openfoodfacts.org/images/produc...</td>\n",
       "      <td>251.2080</td>\n",
       "      <td>3.0</td>\n",
       "      <td>1.00</td>\n",
       "      <td>10.0</td>\n",
       "      <td>3.0</td>\n",
       "      <td>NaN</td>\n",
       "      <td>2.0</td>\n",
       "      <td>1.15</td>\n",
       "      <td>3.2</td>\n",
       "      <td>b</td>\n",
       "    </tr>\n",
       "    <tr>\n",
       "      <th>4</th>\n",
       "      <td>pur jus de pomme</td>\n",
       "      <td>NaN</td>\n",
       "      <td>NaN</td>\n",
       "      <td>unknown</td>\n",
       "      <td>unknown</td>\n",
       "      <td>https://images.openfoodfacts.org/images/produc...</td>\n",
       "      <td>263.7684</td>\n",
       "      <td>0.0</td>\n",
       "      <td>0.00</td>\n",
       "      <td>15.5</td>\n",
       "      <td>15.5</td>\n",
       "      <td>NaN</td>\n",
       "      <td>0.2</td>\n",
       "      <td>0.00</td>\n",
       "      <td>13.0</td>\n",
       "      <td>d</td>\n",
       "    </tr>\n",
       "  </tbody>\n",
       "</table>\n",
       "</div>"
      ],
      "text/plain": [
       "                   product_name         brands  \\\n",
       "0              vitória crackers            NaN   \n",
       "1   moutarde au moût de raisin   courte paille   \n",
       "2         sauce sweety chili 0%            NaN   \n",
       "3                     mini coco            NaN   \n",
       "4              pur jus de pomme            NaN   \n",
       "\n",
       "                                categories   pnns_groups_1  \\\n",
       "0                                      NaN         unknown   \n",
       "1  Epicerie, Condiments, Sauces, Moutardes  Fat and sauces   \n",
       "2                                      NaN         unknown   \n",
       "3                                      NaN         unknown   \n",
       "4                                      NaN         unknown   \n",
       "\n",
       "          pnns_groups_2                                          image_url  \\\n",
       "0               unknown  https://images.openfoodfacts.org/images/produc...   \n",
       "1  Dressings and sauces  https://images.openfoodfacts.org/images/produc...   \n",
       "2               unknown  https://images.openfoodfacts.org/images/produc...   \n",
       "3               unknown  https://images.openfoodfacts.org/images/produc...   \n",
       "4               unknown  https://images.openfoodfacts.org/images/produc...   \n",
       "\n",
       "   energy-kj_100g  fat_100g  saturated-fat_100g  carbohydrates_100g  \\\n",
       "0       1570.0500       7.0                3.08                70.1   \n",
       "1        936.0000       8.2                2.20                29.0   \n",
       "2         87.9228       0.0                0.00                 4.8   \n",
       "3        251.2080       3.0                1.00                10.0   \n",
       "4        263.7684       0.0                0.00                15.5   \n",
       "\n",
       "   sugars_100g  fiber_100g  proteins_100g  salt_100g  nutriscore nutrigrade  \n",
       "0         15.0         NaN            7.8       1.40        -1.4          a  \n",
       "1         22.0         0.0            5.1       4.60        18.0          d  \n",
       "2          0.4         NaN            0.2       2.04         6.0          c  \n",
       "3          3.0         NaN            2.0       1.15         3.2          b  \n",
       "4         15.5         NaN            0.2       0.00        13.0          d  "
      ]
     },
     "execution_count": 190,
     "metadata": {},
     "output_type": "execute_result"
    }
   ],
   "source": [
    "df_def.head()"
   ]
  },
  {
   "cell_type": "code",
   "execution_count": 191,
   "metadata": {},
   "outputs": [
    {
     "data": {
      "text/plain": [
       "(579131, 16)"
      ]
     },
     "execution_count": 191,
     "metadata": {},
     "output_type": "execute_result"
    }
   ],
   "source": [
    "df_def.shape"
   ]
  },
  {
   "cell_type": "code",
   "execution_count": 192,
   "metadata": {},
   "outputs": [
    {
     "data": {
      "text/plain": [
       "product_name               0\n",
       "brands                248175\n",
       "categories            285463\n",
       "pnns_groups_1              0\n",
       "pnns_groups_2              0\n",
       "image_url              41734\n",
       "energy-kj_100g             0\n",
       "fat_100g                   0\n",
       "saturated-fat_100g         0\n",
       "carbohydrates_100g         0\n",
       "sugars_100g                0\n",
       "fiber_100g            447514\n",
       "proteins_100g              0\n",
       "salt_100g                  0\n",
       "nutriscore                 0\n",
       "nutrigrade                 0\n",
       "dtype: int64"
      ]
     },
     "execution_count": 192,
     "metadata": {},
     "output_type": "execute_result"
    }
   ],
   "source": [
    "df_def.isna().sum()"
   ]
  },
  {
   "cell_type": "code",
   "execution_count": 193,
   "metadata": {},
   "outputs": [],
   "source": [
    "df_def.to_csv('df_def.csv')"
   ]
  },
  {
   "cell_type": "code",
   "execution_count": 194,
   "metadata": {},
   "outputs": [],
   "source": [
    "df_def = pd.read_csv('df_def.csv', index_col=0)"
   ]
  },
  {
   "cell_type": "code",
   "execution_count": 195,
   "metadata": {},
   "outputs": [],
   "source": [
    "y_nutri = []\n",
    "for v in df_def.nutriscore:\n",
    "    if v < 0:\n",
    "        y_nutri.append('a')\n",
    "    elif v < 3:\n",
    "        y_nutri.append('b')\n",
    "    elif v < 11 :\n",
    "        y_nutri.append('c')\n",
    "    elif v < 19 :\n",
    "        y_nutri.append('d')\n",
    "    else :\n",
    "        y_nutri.append('e')"
   ]
  },
  {
   "cell_type": "code",
   "execution_count": 196,
   "metadata": {},
   "outputs": [],
   "source": [
    "cf_matrix = metrics.confusion_matrix(df_def.nutrigrade.values, y_nutri)"
   ]
  },
  {
   "cell_type": "code",
   "execution_count": 197,
   "metadata": {
    "scrolled": true
   },
   "outputs": [
    {
     "data": {
      "image/png": "[encoded data removed]",
      "text/plain": [
       "<Figure size 432x288 with 2 Axes>"
      ]
     },
     "metadata": {
      "needs_background": "light"
     },
     "output_type": "display_data"
    }
   ],
   "source": [
    "sns.heatmap(cf_matrix, annot=True, xticklabels=['a', 'b', 'c', 'd', 'e'], yticklabels=['a', 'b', 'c', 'd', 'e'], fmt='d')\n",
    "plt.savefig(\"matrice_correlation_nutriscore_nutrigrade_nombre.png\", bbox_inches='tight', transparent=True)\n",
    "plt.show()"
   ]
  },
  {
   "cell_type": "code",
   "execution_count": 198,
   "metadata": {},
   "outputs": [
    {
     "data": {
      "image/png": "[encoded data removed]",
      "text/plain": [
       "<Figure size 432x288 with 2 Axes>"
      ]
     },
     "metadata": {
      "needs_background": "light"
     },
     "output_type": "display_data"
    }
   ],
   "source": [
    "sns.heatmap(cf_matrix/np.sum(cf_matrix), annot=True, fmt='.1%', cmap='Blues',xticklabels=['a', 'b', 'c', 'd', 'e'], yticklabels=['a', 'b', 'c', 'd', 'e'])\n",
    "plt.savefig(\"matrice_correlation_nutriscore_nutrigrade_%.png\", bbox_inches='tight', transparent=True)\n",
    "plt.show()"
   ]
  },
  {
   "cell_type": "code",
   "execution_count": null,
   "metadata": {
    "scrolled": true
   },
   "outputs": [],
   "source": []
  },
  {
   "cell_type": "code",
   "execution_count": 199,
   "metadata": {
    "scrolled": true
   },
   "outputs": [
    {
     "name": "stdout",
     "output_type": "stream",
     "text": [
      "85.0 % soit le taux de corrélation entre le nutriscore et le nutrigrade\n"
     ]
    }
   ],
   "source": [
    "verif = 0\n",
    "for n in range(0, len(cf_matrix)):\n",
    "    verif += cf_matrix[n,n]\n",
    "verif = verif / cf_matrix.sum()\n",
    "print(round(verif*100,0), \"% soit le taux de corrélation entre le nutriscore et le nutrigrade\")"
   ]
  },
  {
   "cell_type": "code",
   "execution_count": 200,
   "metadata": {
    "scrolled": false
   },
   "outputs": [
    {
     "data": {
      "text/html": [
       "<div>\n",
       "<style scoped>\n",
       "    .dataframe tbody tr th:only-of-type {\n",
       "        vertical-align: middle;\n",
       "    }\n",
       "\n",
       "    .dataframe tbody tr th {\n",
       "        vertical-align: top;\n",
       "    }\n",
       "\n",
       "    .dataframe thead th {\n",
       "        text-align: right;\n",
       "    }\n",
       "</style>\n",
       "<table border=\"1\" class=\"dataframe\">\n",
       "  <thead>\n",
       "    <tr style=\"text-align: right;\">\n",
       "      <th></th>\n",
       "      <th>product_name</th>\n",
       "      <th>brands</th>\n",
       "      <th>categories</th>\n",
       "      <th>pnns_groups_1</th>\n",
       "      <th>pnns_groups_2</th>\n",
       "      <th>image_url</th>\n",
       "      <th>energy-kj_100g</th>\n",
       "      <th>fat_100g</th>\n",
       "      <th>saturated-fat_100g</th>\n",
       "      <th>carbohydrates_100g</th>\n",
       "      <th>sugars_100g</th>\n",
       "      <th>fiber_100g</th>\n",
       "      <th>proteins_100g</th>\n",
       "      <th>salt_100g</th>\n",
       "      <th>nutriscore</th>\n",
       "      <th>nutrigrade</th>\n",
       "    </tr>\n",
       "  </thead>\n",
       "  <tbody>\n",
       "    <tr>\n",
       "      <th>0</th>\n",
       "      <td>vitória crackers</td>\n",
       "      <td>NaN</td>\n",
       "      <td>NaN</td>\n",
       "      <td>unknown</td>\n",
       "      <td>unknown</td>\n",
       "      <td>https://images.openfoodfacts.org/images/produc...</td>\n",
       "      <td>1570.0500</td>\n",
       "      <td>7.0</td>\n",
       "      <td>3.08</td>\n",
       "      <td>70.1</td>\n",
       "      <td>15.0</td>\n",
       "      <td>NaN</td>\n",
       "      <td>7.8</td>\n",
       "      <td>1.40</td>\n",
       "      <td>-1.4</td>\n",
       "      <td>a</td>\n",
       "    </tr>\n",
       "    <tr>\n",
       "      <th>1</th>\n",
       "      <td>moutarde au moût de raisin</td>\n",
       "      <td>courte paille</td>\n",
       "      <td>Epicerie, Condiments, Sauces, Moutardes</td>\n",
       "      <td>Fat and sauces</td>\n",
       "      <td>Dressings and sauces</td>\n",
       "      <td>https://images.openfoodfacts.org/images/produc...</td>\n",
       "      <td>936.0000</td>\n",
       "      <td>8.2</td>\n",
       "      <td>2.20</td>\n",
       "      <td>29.0</td>\n",
       "      <td>22.0</td>\n",
       "      <td>0.0</td>\n",
       "      <td>5.1</td>\n",
       "      <td>4.60</td>\n",
       "      <td>18.0</td>\n",
       "      <td>d</td>\n",
       "    </tr>\n",
       "    <tr>\n",
       "      <th>2</th>\n",
       "      <td>sauce sweety chili 0%</td>\n",
       "      <td>NaN</td>\n",
       "      <td>NaN</td>\n",
       "      <td>unknown</td>\n",
       "      <td>unknown</td>\n",
       "      <td>https://images.openfoodfacts.org/images/produc...</td>\n",
       "      <td>87.9228</td>\n",
       "      <td>0.0</td>\n",
       "      <td>0.00</td>\n",
       "      <td>4.8</td>\n",
       "      <td>0.4</td>\n",
       "      <td>NaN</td>\n",
       "      <td>0.2</td>\n",
       "      <td>2.04</td>\n",
       "      <td>6.0</td>\n",
       "      <td>c</td>\n",
       "    </tr>\n",
       "    <tr>\n",
       "      <th>3</th>\n",
       "      <td>mini coco</td>\n",
       "      <td>NaN</td>\n",
       "      <td>NaN</td>\n",
       "      <td>unknown</td>\n",
       "      <td>unknown</td>\n",
       "      <td>https://images.openfoodfacts.org/images/produc...</td>\n",
       "      <td>251.2080</td>\n",
       "      <td>3.0</td>\n",
       "      <td>1.00</td>\n",
       "      <td>10.0</td>\n",
       "      <td>3.0</td>\n",
       "      <td>NaN</td>\n",
       "      <td>2.0</td>\n",
       "      <td>1.15</td>\n",
       "      <td>3.2</td>\n",
       "      <td>b</td>\n",
       "    </tr>\n",
       "    <tr>\n",
       "      <th>4</th>\n",
       "      <td>pur jus de pomme</td>\n",
       "      <td>NaN</td>\n",
       "      <td>NaN</td>\n",
       "      <td>unknown</td>\n",
       "      <td>unknown</td>\n",
       "      <td>https://images.openfoodfacts.org/images/produc...</td>\n",
       "      <td>263.7684</td>\n",
       "      <td>0.0</td>\n",
       "      <td>0.00</td>\n",
       "      <td>15.5</td>\n",
       "      <td>15.5</td>\n",
       "      <td>NaN</td>\n",
       "      <td>0.2</td>\n",
       "      <td>0.00</td>\n",
       "      <td>13.0</td>\n",
       "      <td>d</td>\n",
       "    </tr>\n",
       "  </tbody>\n",
       "</table>\n",
       "</div>"
      ],
      "text/plain": [
       "                   product_name         brands  \\\n",
       "0              vitória crackers            NaN   \n",
       "1   moutarde au moût de raisin   courte paille   \n",
       "2         sauce sweety chili 0%            NaN   \n",
       "3                     mini coco            NaN   \n",
       "4              pur jus de pomme            NaN   \n",
       "\n",
       "                                categories   pnns_groups_1  \\\n",
       "0                                      NaN         unknown   \n",
       "1  Epicerie, Condiments, Sauces, Moutardes  Fat and sauces   \n",
       "2                                      NaN         unknown   \n",
       "3                                      NaN         unknown   \n",
       "4                                      NaN         unknown   \n",
       "\n",
       "          pnns_groups_2                                          image_url  \\\n",
       "0               unknown  https://images.openfoodfacts.org/images/produc...   \n",
       "1  Dressings and sauces  https://images.openfoodfacts.org/images/produc...   \n",
       "2               unknown  https://images.openfoodfacts.org/images/produc...   \n",
       "3               unknown  https://images.openfoodfacts.org/images/produc...   \n",
       "4               unknown  https://images.openfoodfacts.org/images/produc...   \n",
       "\n",
       "   energy-kj_100g  fat_100g  saturated-fat_100g  carbohydrates_100g  \\\n",
       "0       1570.0500       7.0                3.08                70.1   \n",
       "1        936.0000       8.2                2.20                29.0   \n",
       "2         87.9228       0.0                0.00                 4.8   \n",
       "3        251.2080       3.0                1.00                10.0   \n",
       "4        263.7684       0.0                0.00                15.5   \n",
       "\n",
       "   sugars_100g  fiber_100g  proteins_100g  salt_100g  nutriscore nutrigrade  \n",
       "0         15.0         NaN            7.8       1.40        -1.4          a  \n",
       "1         22.0         0.0            5.1       4.60        18.0          d  \n",
       "2          0.4         NaN            0.2       2.04         6.0          c  \n",
       "3          3.0         NaN            2.0       1.15         3.2          b  \n",
       "4         15.5         NaN            0.2       0.00        13.0          d  "
      ]
     },
     "execution_count": 200,
     "metadata": {},
     "output_type": "execute_result"
    }
   ],
   "source": [
    "df_def.head()"
   ]
  },
  {
   "cell_type": "code",
   "execution_count": 201,
   "metadata": {},
   "outputs": [
    {
     "data": {
      "text/plain": [
       "Index(['product_name', 'brands', 'categories', 'pnns_groups_1',\n",
       "       'pnns_groups_2', 'image_url', 'energy-kj_100g', 'fat_100g',\n",
       "       'saturated-fat_100g', 'carbohydrates_100g', 'sugars_100g', 'fiber_100g',\n",
       "       'proteins_100g', 'salt_100g', 'nutriscore', 'nutrigrade'],\n",
       "      dtype='object')"
      ]
     },
     "execution_count": 201,
     "metadata": {},
     "output_type": "execute_result"
    }
   ],
   "source": [
    "df_def.columns"
   ]
  },
  {
   "cell_type": "code",
   "execution_count": 202,
   "metadata": {
    "scrolled": true
   },
   "outputs": [
    {
     "data": {
      "text/plain": [
       "product_name               0\n",
       "brands                248175\n",
       "categories            285463\n",
       "pnns_groups_1              0\n",
       "pnns_groups_2              0\n",
       "image_url              41734\n",
       "energy-kj_100g             0\n",
       "fat_100g                   0\n",
       "saturated-fat_100g         0\n",
       "carbohydrates_100g         0\n",
       "sugars_100g                0\n",
       "fiber_100g            447514\n",
       "proteins_100g              0\n",
       "salt_100g                  0\n",
       "nutriscore                 0\n",
       "nutrigrade                 0\n",
       "dtype: int64"
      ]
     },
     "execution_count": 202,
     "metadata": {},
     "output_type": "execute_result"
    }
   ],
   "source": [
    "df_def.isna().sum()"
   ]
  },
  {
   "cell_type": "code",
   "execution_count": 203,
   "metadata": {},
   "outputs": [
    {
     "data": {
      "text/plain": [
       "11.04"
      ]
     },
     "execution_count": 203,
     "metadata": {},
     "output_type": "execute_result"
    }
   ],
   "source": [
    "round((df_def.isna().sum().sum() / (df_def.shape[0] * df_def.shape[1]))*100,2)"
   ]
  },
  {
   "cell_type": "code",
   "execution_count": 204,
   "metadata": {},
   "outputs": [
    {
     "data": {
      "text/html": [
       "<div>\n",
       "<style scoped>\n",
       "    .dataframe tbody tr th:only-of-type {\n",
       "        vertical-align: middle;\n",
       "    }\n",
       "\n",
       "    .dataframe tbody tr th {\n",
       "        vertical-align: top;\n",
       "    }\n",
       "\n",
       "    .dataframe thead th {\n",
       "        text-align: right;\n",
       "    }\n",
       "</style>\n",
       "<table border=\"1\" class=\"dataframe\">\n",
       "  <thead>\n",
       "    <tr style=\"text-align: right;\">\n",
       "      <th></th>\n",
       "      <th>product_name</th>\n",
       "      <th>brands</th>\n",
       "      <th>categories</th>\n",
       "      <th>pnns_groups_1</th>\n",
       "      <th>pnns_groups_2</th>\n",
       "      <th>image_url</th>\n",
       "      <th>energy-kj_100g</th>\n",
       "      <th>fat_100g</th>\n",
       "      <th>saturated-fat_100g</th>\n",
       "      <th>carbohydrates_100g</th>\n",
       "      <th>sugars_100g</th>\n",
       "      <th>fiber_100g</th>\n",
       "      <th>proteins_100g</th>\n",
       "      <th>salt_100g</th>\n",
       "      <th>nutriscore</th>\n",
       "      <th>nutrigrade</th>\n",
       "    </tr>\n",
       "  </thead>\n",
       "  <tbody>\n",
       "  </tbody>\n",
       "</table>\n",
       "</div>"
      ],
      "text/plain": [
       "Empty DataFrame\n",
       "Columns: [product_name, brands, categories, pnns_groups_1, pnns_groups_2, image_url, energy-kj_100g, fat_100g, saturated-fat_100g, carbohydrates_100g, sugars_100g, fiber_100g, proteins_100g, salt_100g, nutriscore, nutrigrade]\n",
       "Index: []"
      ]
     },
     "execution_count": 204,
     "metadata": {},
     "output_type": "execute_result"
    }
   ],
   "source": [
    "df_def[df_def.carbohydrates_100g < 0]"
   ]
  },
  {
   "cell_type": "code",
   "execution_count": null,
   "metadata": {},
   "outputs": [],
   "source": []
  },
  {
   "cell_type": "markdown",
   "metadata": {},
   "source": [
    "##### [sommaire](#S)"
   ]
  }
 ],
 "metadata": {
  "kernelspec": {
   "display_name": "Python 3",
   "language": "python",
   "name": "python3"
  },
  "language_info": {
   "codemirror_mode": {
    "name": "ipython",
    "version": 3
   },
   "file_extension": ".py",
   "mimetype": "text/x-python",
   "name": "python",
   "nbconvert_exporter": "python",
   "pygments_lexer": "ipython3",
   "version": "3.8.5"
  }
 },
 "nbformat": 4,
 "nbformat_minor": 4
}
